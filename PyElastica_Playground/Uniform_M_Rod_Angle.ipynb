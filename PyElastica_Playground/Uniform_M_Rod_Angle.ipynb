{
 "cells": [
  {
   "cell_type": "code",
   "execution_count": 2,
   "metadata": {},
   "outputs": [],
   "source": [
    "%reload_ext autoreload\n",
    "%autoreload 2\n",
    "import numpy as np\n",
    "import matplotlib.pyplot as plt\n",
    "from IPython.display import Video\n",
    "from elastica.modules import BaseSystemCollection, Constraints, Forcing, Damping \n",
    "\n",
    "from elastica.rod.cosserat_rod import CosseratRod \n",
    "from elastica.dissipation import AnalyticalLinearDamper\n",
    "from elastica.boundary_conditions import OneEndFixedBC\n",
    "from elastica.external_forces import EndpointForces, GravityForces \n",
    "from elastica import Connections\n",
    "from elastica import FixedJoint\n",
    "from elastica.callback_functions import CallBackBaseClass\n",
    "from elastica.timestepper import integrate, PositionVerlet\n",
    "from elastica import CallBacks\n",
    "\n",
    "from elastica.timestepper.symplectic_steppers import PositionVerlet\n",
    "from collections import defaultdict\n",
    "from magneto_pyelastica import *"
   ]
  },
  {
   "cell_type": "code",
   "execution_count": 3,
   "metadata": {},
   "outputs": [
    {
     "name": "stderr",
     "output_type": "stream",
     "text": [
      "100%|██████████| 35714/35714 [00:01<00:00, 20087.60it/s]\n"
     ]
    },
    {
     "name": "stdout",
     "output_type": "stream",
     "text": [
      "Final time of simulation is :  5.000000000001456\n"
     ]
    },
    {
     "name": "stderr",
     "output_type": "stream",
     "text": [
      "100%|██████████| 35714/35714 [00:01<00:00, 19683.10it/s]\n"
     ]
    },
    {
     "name": "stdout",
     "output_type": "stream",
     "text": [
      "Final time of simulation is :  5.000000000001456\n"
     ]
    },
    {
     "name": "stderr",
     "output_type": "stream",
     "text": [
      "100%|██████████| 35714/35714 [00:01<00:00, 20070.14it/s]\n"
     ]
    },
    {
     "name": "stdout",
     "output_type": "stream",
     "text": [
      "Final time of simulation is :  5.000000000001456\n"
     ]
    },
    {
     "name": "stderr",
     "output_type": "stream",
     "text": [
      "100%|██████████| 35714/35714 [00:01<00:00, 20353.27it/s]\n"
     ]
    },
    {
     "name": "stdout",
     "output_type": "stream",
     "text": [
      "Final time of simulation is :  5.000000000001456\n"
     ]
    },
    {
     "name": "stderr",
     "output_type": "stream",
     "text": [
      "100%|██████████| 35714/35714 [00:01<00:00, 20052.27it/s]\n"
     ]
    },
    {
     "name": "stdout",
     "output_type": "stream",
     "text": [
      "Final time of simulation is :  5.000000000001456\n"
     ]
    },
    {
     "name": "stderr",
     "output_type": "stream",
     "text": [
      "100%|██████████| 35714/35714 [00:01<00:00, 20467.89it/s]\n"
     ]
    },
    {
     "name": "stdout",
     "output_type": "stream",
     "text": [
      "Final time of simulation is :  5.000000000001456\n"
     ]
    },
    {
     "name": "stderr",
     "output_type": "stream",
     "text": [
      "100%|██████████| 35714/35714 [00:01<00:00, 20384.19it/s]\n"
     ]
    },
    {
     "name": "stdout",
     "output_type": "stream",
     "text": [
      "Final time of simulation is :  5.000000000001456\n"
     ]
    },
    {
     "name": "stderr",
     "output_type": "stream",
     "text": [
      "100%|██████████| 35714/35714 [00:01<00:00, 20475.59it/s]\n"
     ]
    },
    {
     "name": "stdout",
     "output_type": "stream",
     "text": [
      "Final time of simulation is :  5.000000000001456\n"
     ]
    },
    {
     "name": "stderr",
     "output_type": "stream",
     "text": [
      "100%|██████████| 35714/35714 [00:01<00:00, 20219.71it/s]\n"
     ]
    },
    {
     "name": "stdout",
     "output_type": "stream",
     "text": [
      "Final time of simulation is :  5.000000000001456\n"
     ]
    },
    {
     "name": "stderr",
     "output_type": "stream",
     "text": [
      "100%|██████████| 35714/35714 [00:01<00:00, 20406.28it/s]\n"
     ]
    },
    {
     "name": "stdout",
     "output_type": "stream",
     "text": [
      "Final time of simulation is :  5.000000000001456\n"
     ]
    },
    {
     "name": "stderr",
     "output_type": "stream",
     "text": [
      "100%|██████████| 35714/35714 [00:01<00:00, 20248.13it/s]\n"
     ]
    },
    {
     "name": "stdout",
     "output_type": "stream",
     "text": [
      "Final time of simulation is :  5.000000000001456\n"
     ]
    },
    {
     "name": "stderr",
     "output_type": "stream",
     "text": [
      "100%|██████████| 35714/35714 [00:01<00:00, 20403.02it/s]\n"
     ]
    },
    {
     "name": "stdout",
     "output_type": "stream",
     "text": [
      "Final time of simulation is :  5.000000000001456\n"
     ]
    },
    {
     "name": "stderr",
     "output_type": "stream",
     "text": [
      "100%|██████████| 35714/35714 [00:01<00:00, 20439.22it/s]\n"
     ]
    },
    {
     "name": "stdout",
     "output_type": "stream",
     "text": [
      "Final time of simulation is :  5.000000000001456\n"
     ]
    },
    {
     "name": "stderr",
     "output_type": "stream",
     "text": [
      "100%|██████████| 35714/35714 [00:01<00:00, 19960.00it/s]\n"
     ]
    },
    {
     "name": "stdout",
     "output_type": "stream",
     "text": [
      "Final time of simulation is :  5.000000000001456\n"
     ]
    },
    {
     "name": "stderr",
     "output_type": "stream",
     "text": [
      "100%|██████████| 35714/35714 [00:01<00:00, 20307.22it/s]\n"
     ]
    },
    {
     "name": "stdout",
     "output_type": "stream",
     "text": [
      "Final time of simulation is :  5.000000000001456\n"
     ]
    },
    {
     "name": "stderr",
     "output_type": "stream",
     "text": [
      "100%|██████████| 35714/35714 [00:01<00:00, 20306.31it/s]\n"
     ]
    },
    {
     "name": "stdout",
     "output_type": "stream",
     "text": [
      "Final time of simulation is :  5.000000000001456\n"
     ]
    },
    {
     "name": "stderr",
     "output_type": "stream",
     "text": [
      "100%|██████████| 35714/35714 [00:01<00:00, 20207.45it/s]\n"
     ]
    },
    {
     "name": "stdout",
     "output_type": "stream",
     "text": [
      "Final time of simulation is :  5.000000000001456\n"
     ]
    },
    {
     "name": "stderr",
     "output_type": "stream",
     "text": [
      "100%|██████████| 35714/35714 [00:01<00:00, 20398.68it/s]\n"
     ]
    },
    {
     "name": "stdout",
     "output_type": "stream",
     "text": [
      "Final time of simulation is :  5.000000000001456\n"
     ]
    },
    {
     "name": "stderr",
     "output_type": "stream",
     "text": [
      "100%|██████████| 35714/35714 [00:01<00:00, 20332.08it/s]\n"
     ]
    },
    {
     "name": "stdout",
     "output_type": "stream",
     "text": [
      "Final time of simulation is :  5.000000000001456\n"
     ]
    },
    {
     "name": "stderr",
     "output_type": "stream",
     "text": [
      "100%|██████████| 35714/35714 [00:01<00:00, 20383.34it/s]\n"
     ]
    },
    {
     "name": "stdout",
     "output_type": "stream",
     "text": [
      "Final time of simulation is :  5.000000000001456\n"
     ]
    },
    {
     "name": "stderr",
     "output_type": "stream",
     "text": [
      "100%|██████████| 35714/35714 [00:01<00:00, 20284.12it/s]\n"
     ]
    },
    {
     "name": "stdout",
     "output_type": "stream",
     "text": [
      "Final time of simulation is :  5.000000000001456\n"
     ]
    },
    {
     "name": "stderr",
     "output_type": "stream",
     "text": [
      "100%|██████████| 35714/35714 [00:01<00:00, 20100.19it/s]\n"
     ]
    },
    {
     "name": "stdout",
     "output_type": "stream",
     "text": [
      "Final time of simulation is :  5.000000000001456\n"
     ]
    },
    {
     "name": "stderr",
     "output_type": "stream",
     "text": [
      "100%|██████████| 35714/35714 [00:01<00:00, 20065.46it/s]\n"
     ]
    },
    {
     "name": "stdout",
     "output_type": "stream",
     "text": [
      "Final time of simulation is :  5.000000000001456\n"
     ]
    },
    {
     "name": "stderr",
     "output_type": "stream",
     "text": [
      "100%|██████████| 35714/35714 [00:01<00:00, 20254.18it/s]\n"
     ]
    },
    {
     "name": "stdout",
     "output_type": "stream",
     "text": [
      "Final time of simulation is :  5.000000000001456\n"
     ]
    },
    {
     "name": "stderr",
     "output_type": "stream",
     "text": [
      "100%|██████████| 35714/35714 [00:01<00:00, 20227.75it/s]\n"
     ]
    },
    {
     "name": "stdout",
     "output_type": "stream",
     "text": [
      "Final time of simulation is :  5.000000000001456\n"
     ]
    },
    {
     "name": "stderr",
     "output_type": "stream",
     "text": [
      "100%|██████████| 35714/35714 [00:01<00:00, 20299.72it/s]\n"
     ]
    },
    {
     "name": "stdout",
     "output_type": "stream",
     "text": [
      "Final time of simulation is :  5.000000000001456\n"
     ]
    },
    {
     "name": "stderr",
     "output_type": "stream",
     "text": [
      "100%|██████████| 35714/35714 [00:01<00:00, 20157.71it/s]\n"
     ]
    },
    {
     "name": "stdout",
     "output_type": "stream",
     "text": [
      "Final time of simulation is :  5.000000000001456\n"
     ]
    },
    {
     "name": "stderr",
     "output_type": "stream",
     "text": [
      "100%|██████████| 35714/35714 [00:01<00:00, 20310.94it/s]\n"
     ]
    },
    {
     "name": "stdout",
     "output_type": "stream",
     "text": [
      "Final time of simulation is :  5.000000000001456\n"
     ]
    },
    {
     "name": "stderr",
     "output_type": "stream",
     "text": [
      "100%|██████████| 35714/35714 [00:01<00:00, 18493.23it/s]\n"
     ]
    },
    {
     "name": "stdout",
     "output_type": "stream",
     "text": [
      "Final time of simulation is :  5.000000000001456\n"
     ]
    },
    {
     "name": "stderr",
     "output_type": "stream",
     "text": [
      "100%|██████████| 35714/35714 [00:01<00:00, 19209.18it/s]\n"
     ]
    },
    {
     "name": "stdout",
     "output_type": "stream",
     "text": [
      "Final time of simulation is :  5.000000000001456\n"
     ]
    },
    {
     "name": "stderr",
     "output_type": "stream",
     "text": [
      "100%|██████████| 35714/35714 [00:01<00:00, 19201.17it/s]\n"
     ]
    },
    {
     "name": "stdout",
     "output_type": "stream",
     "text": [
      "Final time of simulation is :  5.000000000001456\n"
     ]
    },
    {
     "name": "stderr",
     "output_type": "stream",
     "text": [
      "100%|██████████| 35714/35714 [00:01<00:00, 18935.95it/s]\n"
     ]
    },
    {
     "name": "stdout",
     "output_type": "stream",
     "text": [
      "Final time of simulation is :  5.000000000001456\n"
     ]
    },
    {
     "name": "stderr",
     "output_type": "stream",
     "text": [
      "100%|██████████| 35714/35714 [00:01<00:00, 19335.17it/s]\n"
     ]
    },
    {
     "name": "stdout",
     "output_type": "stream",
     "text": [
      "Final time of simulation is :  5.000000000001456\n"
     ]
    },
    {
     "name": "stderr",
     "output_type": "stream",
     "text": [
      "100%|██████████| 35714/35714 [00:01<00:00, 19178.00it/s]\n"
     ]
    },
    {
     "name": "stdout",
     "output_type": "stream",
     "text": [
      "Final time of simulation is :  5.000000000001456\n"
     ]
    },
    {
     "name": "stderr",
     "output_type": "stream",
     "text": [
      "100%|██████████| 35714/35714 [00:01<00:00, 19205.24it/s]\n"
     ]
    },
    {
     "name": "stdout",
     "output_type": "stream",
     "text": [
      "Final time of simulation is :  5.000000000001456\n"
     ]
    },
    {
     "name": "stderr",
     "output_type": "stream",
     "text": [
      "100%|██████████| 35714/35714 [00:01<00:00, 18950.44it/s]\n"
     ]
    },
    {
     "name": "stdout",
     "output_type": "stream",
     "text": [
      "Final time of simulation is :  5.000000000001456\n"
     ]
    },
    {
     "name": "stderr",
     "output_type": "stream",
     "text": [
      "100%|██████████| 35714/35714 [00:01<00:00, 19351.01it/s]\n"
     ]
    },
    {
     "name": "stdout",
     "output_type": "stream",
     "text": [
      "Final time of simulation is :  5.000000000001456\n"
     ]
    },
    {
     "name": "stderr",
     "output_type": "stream",
     "text": [
      "100%|██████████| 35714/35714 [00:01<00:00, 19637.79it/s]\n"
     ]
    },
    {
     "name": "stdout",
     "output_type": "stream",
     "text": [
      "Final time of simulation is :  5.000000000001456\n"
     ]
    },
    {
     "name": "stderr",
     "output_type": "stream",
     "text": [
      "100%|██████████| 35714/35714 [00:01<00:00, 19238.10it/s]\n"
     ]
    },
    {
     "name": "stdout",
     "output_type": "stream",
     "text": [
      "Final time of simulation is :  5.000000000001456\n"
     ]
    },
    {
     "name": "stderr",
     "output_type": "stream",
     "text": [
      "100%|██████████| 35714/35714 [00:01<00:00, 19215.35it/s]\n"
     ]
    },
    {
     "name": "stdout",
     "output_type": "stream",
     "text": [
      "Final time of simulation is :  5.000000000001456\n"
     ]
    },
    {
     "name": "stderr",
     "output_type": "stream",
     "text": [
      "100%|██████████| 35714/35714 [00:01<00:00, 19039.74it/s]\n"
     ]
    },
    {
     "name": "stdout",
     "output_type": "stream",
     "text": [
      "Final time of simulation is :  5.000000000001456\n"
     ]
    },
    {
     "name": "stderr",
     "output_type": "stream",
     "text": [
      "100%|██████████| 35714/35714 [00:01<00:00, 19435.00it/s]\n"
     ]
    },
    {
     "name": "stdout",
     "output_type": "stream",
     "text": [
      "Final time of simulation is :  5.000000000001456\n"
     ]
    },
    {
     "name": "stderr",
     "output_type": "stream",
     "text": [
      "100%|██████████| 35714/35714 [00:01<00:00, 19099.78it/s]\n"
     ]
    },
    {
     "name": "stdout",
     "output_type": "stream",
     "text": [
      "Final time of simulation is :  5.000000000001456\n"
     ]
    },
    {
     "name": "stderr",
     "output_type": "stream",
     "text": [
      "100%|██████████| 35714/35714 [00:01<00:00, 18889.52it/s]\n"
     ]
    },
    {
     "name": "stdout",
     "output_type": "stream",
     "text": [
      "Final time of simulation is :  5.000000000001456\n"
     ]
    },
    {
     "name": "stderr",
     "output_type": "stream",
     "text": [
      "100%|██████████| 35714/35714 [00:01<00:00, 19159.95it/s]\n"
     ]
    },
    {
     "name": "stdout",
     "output_type": "stream",
     "text": [
      "Final time of simulation is :  5.000000000001456\n"
     ]
    },
    {
     "name": "stderr",
     "output_type": "stream",
     "text": [
      "100%|██████████| 35714/35714 [00:01<00:00, 18572.49it/s]\n"
     ]
    },
    {
     "name": "stdout",
     "output_type": "stream",
     "text": [
      "Final time of simulation is :  5.000000000001456\n"
     ]
    },
    {
     "name": "stderr",
     "output_type": "stream",
     "text": [
      "100%|██████████| 35714/35714 [00:01<00:00, 18527.78it/s]\n"
     ]
    },
    {
     "name": "stdout",
     "output_type": "stream",
     "text": [
      "Final time of simulation is :  5.000000000001456\n"
     ]
    },
    {
     "name": "stderr",
     "output_type": "stream",
     "text": [
      "100%|██████████| 35714/35714 [00:02<00:00, 17357.93it/s]\n"
     ]
    },
    {
     "name": "stdout",
     "output_type": "stream",
     "text": [
      "Final time of simulation is :  5.000000000001456\n"
     ]
    },
    {
     "name": "stderr",
     "output_type": "stream",
     "text": [
      "100%|██████████| 35714/35714 [00:01<00:00, 18852.29it/s]\n"
     ]
    },
    {
     "name": "stdout",
     "output_type": "stream",
     "text": [
      "Final time of simulation is :  5.000000000001456\n"
     ]
    },
    {
     "name": "stderr",
     "output_type": "stream",
     "text": [
      "100%|██████████| 35714/35714 [00:01<00:00, 19396.61it/s]\n"
     ]
    },
    {
     "name": "stdout",
     "output_type": "stream",
     "text": [
      "Final time of simulation is :  5.000000000001456\n"
     ]
    },
    {
     "name": "stderr",
     "output_type": "stream",
     "text": [
      "100%|██████████| 35714/35714 [00:01<00:00, 19033.39it/s]\n"
     ]
    },
    {
     "name": "stdout",
     "output_type": "stream",
     "text": [
      "Final time of simulation is :  5.000000000001456\n"
     ]
    },
    {
     "name": "stderr",
     "output_type": "stream",
     "text": [
      "100%|██████████| 35714/35714 [00:02<00:00, 16237.99it/s]\n"
     ]
    },
    {
     "name": "stdout",
     "output_type": "stream",
     "text": [
      "Final time of simulation is :  5.000000000001456\n"
     ]
    },
    {
     "name": "stderr",
     "output_type": "stream",
     "text": [
      "100%|██████████| 35714/35714 [00:02<00:00, 16745.14it/s]\n"
     ]
    },
    {
     "name": "stdout",
     "output_type": "stream",
     "text": [
      "Final time of simulation is :  5.000000000001456\n"
     ]
    },
    {
     "name": "stderr",
     "output_type": "stream",
     "text": [
      "100%|██████████| 35714/35714 [00:01<00:00, 19153.05it/s]\n"
     ]
    },
    {
     "name": "stdout",
     "output_type": "stream",
     "text": [
      "Final time of simulation is :  5.000000000001456\n"
     ]
    },
    {
     "name": "stderr",
     "output_type": "stream",
     "text": [
      "100%|██████████| 35714/35714 [00:01<00:00, 18551.61it/s]\n"
     ]
    },
    {
     "name": "stdout",
     "output_type": "stream",
     "text": [
      "Final time of simulation is :  5.000000000001456\n"
     ]
    },
    {
     "name": "stderr",
     "output_type": "stream",
     "text": [
      "100%|██████████| 35714/35714 [00:01<00:00, 18907.45it/s]\n"
     ]
    },
    {
     "name": "stdout",
     "output_type": "stream",
     "text": [
      "Final time of simulation is :  5.000000000001456\n"
     ]
    },
    {
     "name": "stderr",
     "output_type": "stream",
     "text": [
      "100%|██████████| 35714/35714 [00:02<00:00, 16768.34it/s]\n"
     ]
    },
    {
     "name": "stdout",
     "output_type": "stream",
     "text": [
      "Final time of simulation is :  5.000000000001456\n"
     ]
    },
    {
     "name": "stderr",
     "output_type": "stream",
     "text": [
      "100%|██████████| 35714/35714 [00:01<00:00, 18095.65it/s]\n"
     ]
    },
    {
     "name": "stdout",
     "output_type": "stream",
     "text": [
      "Final time of simulation is :  5.000000000001456\n"
     ]
    },
    {
     "name": "stderr",
     "output_type": "stream",
     "text": [
      "100%|██████████| 35714/35714 [00:02<00:00, 15256.30it/s]\n"
     ]
    },
    {
     "name": "stdout",
     "output_type": "stream",
     "text": [
      "Final time of simulation is :  5.000000000001456\n"
     ]
    },
    {
     "name": "stderr",
     "output_type": "stream",
     "text": [
      "100%|██████████| 35714/35714 [00:01<00:00, 18497.67it/s]\n"
     ]
    },
    {
     "name": "stdout",
     "output_type": "stream",
     "text": [
      "Final time of simulation is :  5.000000000001456\n"
     ]
    },
    {
     "name": "stderr",
     "output_type": "stream",
     "text": [
      "100%|██████████| 35714/35714 [00:01<00:00, 19520.36it/s]\n"
     ]
    },
    {
     "name": "stdout",
     "output_type": "stream",
     "text": [
      "Final time of simulation is :  5.000000000001456\n"
     ]
    },
    {
     "name": "stderr",
     "output_type": "stream",
     "text": [
      "100%|██████████| 35714/35714 [00:01<00:00, 19604.30it/s]\n"
     ]
    },
    {
     "name": "stdout",
     "output_type": "stream",
     "text": [
      "Final time of simulation is :  5.000000000001456\n"
     ]
    },
    {
     "name": "stderr",
     "output_type": "stream",
     "text": [
      "100%|██████████| 35714/35714 [00:01<00:00, 18776.74it/s]\n"
     ]
    },
    {
     "name": "stdout",
     "output_type": "stream",
     "text": [
      "Final time of simulation is :  5.000000000001456\n"
     ]
    },
    {
     "name": "stderr",
     "output_type": "stream",
     "text": [
      "100%|██████████| 35714/35714 [00:01<00:00, 19279.86it/s]\n"
     ]
    },
    {
     "name": "stdout",
     "output_type": "stream",
     "text": [
      "Final time of simulation is :  5.000000000001456\n"
     ]
    },
    {
     "name": "stderr",
     "output_type": "stream",
     "text": [
      "100%|██████████| 35714/35714 [00:01<00:00, 19306.89it/s]\n"
     ]
    },
    {
     "name": "stdout",
     "output_type": "stream",
     "text": [
      "Final time of simulation is :  5.000000000001456\n"
     ]
    },
    {
     "name": "stderr",
     "output_type": "stream",
     "text": [
      "100%|██████████| 35714/35714 [00:01<00:00, 18126.12it/s]\n"
     ]
    },
    {
     "name": "stdout",
     "output_type": "stream",
     "text": [
      "Final time of simulation is :  5.000000000001456\n"
     ]
    },
    {
     "name": "stderr",
     "output_type": "stream",
     "text": [
      "100%|██████████| 35714/35714 [00:01<00:00, 18224.92it/s]\n"
     ]
    },
    {
     "name": "stdout",
     "output_type": "stream",
     "text": [
      "Final time of simulation is :  5.000000000001456\n"
     ]
    },
    {
     "name": "stderr",
     "output_type": "stream",
     "text": [
      "100%|██████████| 35714/35714 [00:01<00:00, 17947.61it/s]\n"
     ]
    },
    {
     "name": "stdout",
     "output_type": "stream",
     "text": [
      "Final time of simulation is :  5.000000000001456\n"
     ]
    },
    {
     "name": "stderr",
     "output_type": "stream",
     "text": [
      "100%|██████████| 35714/35714 [00:01<00:00, 18619.96it/s]\n"
     ]
    },
    {
     "name": "stdout",
     "output_type": "stream",
     "text": [
      "Final time of simulation is :  5.000000000001456\n"
     ]
    },
    {
     "name": "stderr",
     "output_type": "stream",
     "text": [
      "100%|██████████| 35714/35714 [00:01<00:00, 18807.53it/s]\n"
     ]
    },
    {
     "name": "stdout",
     "output_type": "stream",
     "text": [
      "Final time of simulation is :  5.000000000001456\n"
     ]
    },
    {
     "name": "stderr",
     "output_type": "stream",
     "text": [
      "100%|██████████| 35714/35714 [00:01<00:00, 19009.00it/s]\n"
     ]
    },
    {
     "name": "stdout",
     "output_type": "stream",
     "text": [
      "Final time of simulation is :  5.000000000001456\n"
     ]
    },
    {
     "name": "stderr",
     "output_type": "stream",
     "text": [
      "100%|██████████| 35714/35714 [00:01<00:00, 19062.91it/s]\n"
     ]
    },
    {
     "name": "stdout",
     "output_type": "stream",
     "text": [
      "Final time of simulation is :  5.000000000001456\n"
     ]
    },
    {
     "name": "stderr",
     "output_type": "stream",
     "text": [
      "100%|██████████| 35714/35714 [00:01<00:00, 18619.48it/s]\n"
     ]
    },
    {
     "name": "stdout",
     "output_type": "stream",
     "text": [
      "Final time of simulation is :  5.000000000001456\n"
     ]
    },
    {
     "name": "stderr",
     "output_type": "stream",
     "text": [
      "100%|██████████| 35714/35714 [00:02<00:00, 17509.66it/s]\n"
     ]
    },
    {
     "name": "stdout",
     "output_type": "stream",
     "text": [
      "Final time of simulation is :  5.000000000001456\n"
     ]
    },
    {
     "name": "stderr",
     "output_type": "stream",
     "text": [
      "100%|██████████| 35714/35714 [00:01<00:00, 18547.74it/s]\n"
     ]
    },
    {
     "name": "stdout",
     "output_type": "stream",
     "text": [
      "Final time of simulation is :  5.000000000001456\n"
     ]
    },
    {
     "name": "stderr",
     "output_type": "stream",
     "text": [
      "100%|██████████| 35714/35714 [00:01<00:00, 18515.35it/s]\n"
     ]
    },
    {
     "name": "stdout",
     "output_type": "stream",
     "text": [
      "Final time of simulation is :  5.000000000001456\n"
     ]
    },
    {
     "name": "stderr",
     "output_type": "stream",
     "text": [
      "100%|██████████| 35714/35714 [00:01<00:00, 18009.41it/s]\n"
     ]
    },
    {
     "name": "stdout",
     "output_type": "stream",
     "text": [
      "Final time of simulation is :  5.000000000001456\n"
     ]
    },
    {
     "name": "stderr",
     "output_type": "stream",
     "text": [
      "100%|██████████| 35714/35714 [00:02<00:00, 14223.05it/s]\n"
     ]
    },
    {
     "name": "stdout",
     "output_type": "stream",
     "text": [
      "Final time of simulation is :  5.000000000001456\n"
     ]
    },
    {
     "name": "stderr",
     "output_type": "stream",
     "text": [
      "100%|██████████| 35714/35714 [00:01<00:00, 18505.89it/s]\n"
     ]
    },
    {
     "name": "stdout",
     "output_type": "stream",
     "text": [
      "Final time of simulation is :  5.000000000001456\n"
     ]
    },
    {
     "name": "stderr",
     "output_type": "stream",
     "text": [
      "100%|██████████| 35714/35714 [00:02<00:00, 17557.57it/s]\n"
     ]
    },
    {
     "name": "stdout",
     "output_type": "stream",
     "text": [
      "Final time of simulation is :  5.000000000001456\n"
     ]
    },
    {
     "name": "stderr",
     "output_type": "stream",
     "text": [
      "100%|██████████| 35714/35714 [00:01<00:00, 18067.80it/s]\n"
     ]
    },
    {
     "name": "stdout",
     "output_type": "stream",
     "text": [
      "Final time of simulation is :  5.000000000001456\n"
     ]
    },
    {
     "name": "stderr",
     "output_type": "stream",
     "text": [
      "100%|██████████| 35714/35714 [00:01<00:00, 18231.31it/s]\n"
     ]
    },
    {
     "name": "stdout",
     "output_type": "stream",
     "text": [
      "Final time of simulation is :  5.000000000001456\n"
     ]
    },
    {
     "name": "stderr",
     "output_type": "stream",
     "text": [
      "100%|██████████| 35714/35714 [00:01<00:00, 18044.80it/s]\n"
     ]
    },
    {
     "name": "stdout",
     "output_type": "stream",
     "text": [
      "Final time of simulation is :  5.000000000001456\n"
     ]
    },
    {
     "name": "stderr",
     "output_type": "stream",
     "text": [
      "100%|██████████| 35714/35714 [00:01<00:00, 19027.61it/s]\n"
     ]
    },
    {
     "name": "stdout",
     "output_type": "stream",
     "text": [
      "Final time of simulation is :  5.000000000001456\n"
     ]
    },
    {
     "name": "stderr",
     "output_type": "stream",
     "text": [
      "100%|██████████| 35714/35714 [00:01<00:00, 19153.57it/s]\n"
     ]
    },
    {
     "name": "stdout",
     "output_type": "stream",
     "text": [
      "Final time of simulation is :  5.000000000001456\n"
     ]
    },
    {
     "name": "stderr",
     "output_type": "stream",
     "text": [
      "100%|██████████| 35714/35714 [00:01<00:00, 18366.77it/s]\n"
     ]
    },
    {
     "name": "stdout",
     "output_type": "stream",
     "text": [
      "Final time of simulation is :  5.000000000001456\n"
     ]
    },
    {
     "name": "stderr",
     "output_type": "stream",
     "text": [
      "100%|██████████| 35714/35714 [00:02<00:00, 17639.53it/s]\n"
     ]
    },
    {
     "name": "stdout",
     "output_type": "stream",
     "text": [
      "Final time of simulation is :  5.000000000001456\n"
     ]
    },
    {
     "name": "stderr",
     "output_type": "stream",
     "text": [
      "100%|██████████| 35714/35714 [00:01<00:00, 18675.25it/s]\n"
     ]
    },
    {
     "name": "stdout",
     "output_type": "stream",
     "text": [
      "Final time of simulation is :  5.000000000001456\n"
     ]
    },
    {
     "name": "stderr",
     "output_type": "stream",
     "text": [
      "100%|██████████| 35714/35714 [00:01<00:00, 18503.93it/s]\n"
     ]
    },
    {
     "name": "stdout",
     "output_type": "stream",
     "text": [
      "Final time of simulation is :  5.000000000001456\n"
     ]
    },
    {
     "name": "stderr",
     "output_type": "stream",
     "text": [
      "100%|██████████| 35714/35714 [00:02<00:00, 17703.02it/s]"
     ]
    },
    {
     "name": "stdout",
     "output_type": "stream",
     "text": [
      "Final time of simulation is :  5.000000000001456\n"
     ]
    },
    {
     "name": "stderr",
     "output_type": "stream",
     "text": [
      "\n"
     ]
    }
   ],
   "source": [
    "m_size = 30\n",
    "r_size = 3\n",
    "microscope_size = 10\n",
    "small_scope_size =10\n",
    "magnetic_amplitudes =np.concatenate( (np.linspace(0,1,small_scope_size,endpoint=False),np.linspace(1,10,small_scope_size,endpoint=False),np.linspace(10,100,m_size-small_scope_size-microscope_size)),axis=0) #mT\n",
    "length_diameter_ratio = np.linspace(10,20,3)\n",
    "delta_div_L = np.zeros((r_size,m_size))\n",
    "angles = np.zeros_like(delta_div_L)\n",
    "for i in range(r_size):\n",
    "    for j in range(m_size):\n",
    "        #------simulator-------\n",
    "        class UniformMRodSimulator(BaseSystemCollection, Constraints, Forcing, Damping, CallBacks):\n",
    "            pass\n",
    "        Uniform_M_Rod_Sim = UniformMRodSimulator()\n",
    "\n",
    "        #------mmGS unit-------\n",
    "        density = 2.273  #mg/mm^3 \n",
    "        base_radius = 0.3 #mm \n",
    "        base_length = length_diameter_ratio[i] * base_radius * 2 #mm \n",
    "        scale_E = 1e-3 #scale down Young's modulus\n",
    "        E = 1.4e9 * scale_E #Young's modulus\n",
    "        shear_modulus = E/3 # shear modulus\n",
    "\n",
    "\n",
    "        dt = 1.4e-4 # time step\n",
    "        nu = 5\n",
    "        endtime = 5\n",
    "\n",
    "        #------rod definition----\n",
    "        n_elem = 40\n",
    "        start = np.zeros((3,))\n",
    "        direction = np.array([0.0,1.0,0.0])\n",
    "        normal = np.array([1.0,0.0,0.0])\n",
    "\n",
    "        Uniform_M_Rod = CosseratRod.straight_rod(n_elem, start, direction, normal, base_length, base_radius, density, youngs_modulus=E, shear_modulus=shear_modulus)\n",
    "        Uniform_M_Rod_Sim.append(Uniform_M_Rod)\n",
    "\n",
    "        #------magnetic properties------\n",
    "        magnetization_density = 1.28e5 *1e-3 #A/mm\n",
    "        magnetization_direction = np.ones(n_elem) * direction.reshape(3,1) \n",
    "\n",
    "        magnetic_amplitude = magnetic_amplitudes[j]* 1e3 * scale_E #mg*mm^2 / (A*s^2)\n",
    "        magnetic_angle = np.pi /2\n",
    "        magnetic_field = magnetic_amplitude * np.array([0.0, np.cos(magnetic_angle), np.sin(magnetic_angle)]) \n",
    "        magnetic_field_object = ConstantMagneticField(\n",
    "            magnetic_field, ramp_interval= 0.15, start_time = 0, end_time = 5\n",
    "        )\n",
    "\n",
    "        #------constraints-------\n",
    "        Uniform_M_Rod_Sim.constrain(Uniform_M_Rod).using(\n",
    "            OneEndFixedBC, constrained_position_idx = (0,), constrained_director_idx = (0,)\n",
    "        )\n",
    "\n",
    "        #------forcing-----------\n",
    "        Uniform_M_Rod_Sim.add_forcing_to(Uniform_M_Rod).using(\n",
    "            MagneticForces, \n",
    "            external_magnetic_field = magnetic_field_object,\n",
    "            magnetization_density = magnetization_density,\n",
    "            magnetization_direction = magnetization_direction,\n",
    "            rod_volume = Uniform_M_Rod.volume,\n",
    "            rod_director_collection = Uniform_M_Rod.director_collection\n",
    "        )\n",
    "\n",
    "        #------damping-----------\n",
    "        Uniform_M_Rod_Sim.dampen(Uniform_M_Rod).using(\n",
    "            AnalyticalLinearDamper, damping_constant = nu, time_step = dt\n",
    "        )\n",
    "\n",
    "        #-----callback-----------\n",
    "        class UniformMagneticRodCallBack(CallBackBaseClass):\n",
    "            def __int__(self, step_skip:int, callback_params:dict):\n",
    "                super().__init__()\n",
    "                self.step_skip = step_skip\n",
    "                self.callback_params = callback_params\n",
    "            def make_callback(self, system, time, current_step: int):\n",
    "                if current_step % self.step_skip == 0:\n",
    "                    self.callback_params[\"time\"].append(time)\n",
    "                    self.callback_params[\"position\"].append(system.position_collection.copy())\n",
    "                    self.callback_params[\"velocity\"].append(system.velocity_collection.copy())\n",
    "                return \n",
    "\n",
    "        #------time integration---\n",
    "        Uniform_M_Rod_Sim.finalize()\n",
    "        timestepper = PositionVerlet()\n",
    "        final_time = endtime\n",
    "        total_steps = int(final_time / dt)\n",
    "        integrate(timestepper, Uniform_M_Rod_Sim, final_time, total_steps)\n",
    "        angles[i,j] = np.arctan(Uniform_M_Rod.tangents[-1,-1]/Uniform_M_Rod.tangents[1,-1]) /np.pi * 180\n",
    "        delta_div_L[i,j] = Uniform_M_Rod.position_collection[-1,-1] / base_length\n",
    "        \n",
    "\n",
    "\n"
   ]
  },
  {
   "cell_type": "code",
   "execution_count": 4,
   "metadata": {},
   "outputs": [],
   "source": [
    "small_scope_size =10"
   ]
  },
  {
   "cell_type": "code",
   "execution_count": 6,
   "metadata": {},
   "outputs": [
    {
     "data": {
      "image/png": "[encoded data removed]",
      "text/plain": [
       "<Figure size 800x1400 with 2 Axes>"
      ]
     },
     "metadata": {},
     "output_type": "display_data"
    }
   ],
   "source": [
    "\n",
    "fig = plt.figure(figsize=(8,14))\n",
    "ax = fig.add_subplot(211)\n",
    "plt.title(\"Deformation Angles Under Uniform Magnetic Field\")\n",
    "plt.xlabel(\"MB/G\")\n",
    "plt.ylabel(\"Bending Angles(deg)\")\n",
    "x = 1e-3*magnetic_amplitudes*magnetization_density/(shear_modulus*scale_E)\n",
    "for i in range(r_size):\n",
    "    ax.plot(\n",
    "        x,angles[i],\n",
    "        'o-',\n",
    "        label = f\"L/D = {length_diameter_ratio[i]:.0f}\"\n",
    "    )\n",
    "ax.set_ylim(0,90)\n",
    "ax.set_xlim(0,25e-3)\n",
    "ax.ticklabel_format(style=\"sci\",scilimits=(-3,-3),axis=\"x\")\n",
    "ax.legend(prop ={\"size\":18}, loc = \"lower right\")\n",
    "\n",
    "ax2 = fig.add_subplot(212)\n",
    "plt.title(\"Deflection Under Uniform Magnetic Field\")\n",
    "plt.xlabel(\"MB/G\")\n",
    "plt.ylabel(\"$\\delta$ / L\")\n",
    "for i in range(r_size):\n",
    "    ax2.plot(\n",
    "        x[:small_scope_size], delta_div_L[i,:small_scope_size],\n",
    "        'o',\n",
    "        label = f\"L/D = {length_diameter_ratio[i]:.0f}\",\n",
    "    )\n",
    "    ax2.plot(\n",
    "        x[:small_scope_size], 16/9*x[:small_scope_size]*length_diameter_ratio[i]**2\n",
    "    )\n",
    "ax2.set_xlim(0,3e-4)\n",
    "ax2.ticklabel_format(style=\"sci\",scilimits=(-3,-3),axis=\"x\")\n",
    "ax2.ticklabel_format(style=\"sci\",scilimits=(-2,-2),axis=\"y\")\n",
    "ax2.legend(prop ={\"size\":18}, loc = \"upper left\")\n",
    "plt.show()"
   ]
  },
  {
   "cell_type": "code",
   "execution_count": 39,
   "metadata": {},
   "outputs": [
    {
     "data": {
      "text/plain": [
       "2"
      ]
     },
     "execution_count": 39,
     "metadata": {},
     "output_type": "execute_result"
    }
   ],
   "source": [
    "5//2"
   ]
  },
  {
   "cell_type": "code",
   "execution_count": null,
   "metadata": {},
   "outputs": [],
   "source": []
  }
 ],
 "metadata": {
  "kernelspec": {
   "display_name": "Qubot",
   "language": "python",
   "name": "python3"
  },
  "language_info": {
   "codemirror_mode": {
    "name": "ipython",
    "version": 3
   },
   "file_extension": ".py",
   "mimetype": "text/x-python",
   "name": "python",
   "nbconvert_exporter": "python",
   "pygments_lexer": "ipython3",
   "version": "3.10.13"
  }
 },
 "nbformat": 4,
 "nbformat_minor": 2
}

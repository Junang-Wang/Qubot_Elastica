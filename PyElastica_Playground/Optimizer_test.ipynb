{
 "cells": [
  {
   "cell_type": "code",
   "execution_count": 1,
   "metadata": {},
   "outputs": [
    {
     "name": "stdout",
     "output_type": "stream",
     "text": [
      "\n",
      "The optimal value is 9.063118911643306\n",
      "A solution x is\n",
      "[ 0.99074089  1.59660042 -1.25436095 -0.54917709 -0.09104013 -0.24366265\n",
      " -2.60062036  0.86514129 -2.24678093 -0.30518933]\n",
      "A dual solution corresponding to the inequality constraints is\n",
      "[0.         3.45434164 0.         0.         0.         0.\n",
      " 0.         0.         0.         0.         1.72202135 0.\n",
      " 0.         0.34588447 2.5678154 ]\n"
     ]
    }
   ],
   "source": [
    "import cvxpy as cp\n",
    "import numpy as np\n",
    "\n",
    "# Generate a random non-trivial quadratic program.\n",
    "m = 15\n",
    "n = 10\n",
    "p = 5\n",
    "np.random.seed(1)\n",
    "P = np.random.randn(n, n)\n",
    "P = P.T @ P\n",
    "P = np.diag(np.random.randn(n))\n",
    "P = np.eye(n)\n",
    "q = np.random.randn(n)\n",
    "G = np.random.randn(m, n)\n",
    "h = G @ np.random.randn(n)\n",
    "A = np.random.randn(p, n)\n",
    "b = np.random.randn(p)\n",
    "\n",
    "# Define and solve the CVXPY problem.\n",
    "x = cp.Variable(n)\n",
    "prob = cp.Problem(cp.Minimize((1/2)*cp.quad_form(x, P) ),\n",
    "                 [G @ x <= h,\n",
    "                  A @ x == b])\n",
    "prob.solve()\n",
    "\n",
    "# Print result.\n",
    "print(\"\\nThe optimal value is\", prob.value)\n",
    "print(\"A solution x is\")\n",
    "print(x.value)\n",
    "print(\"A dual solution corresponding to the inequality constraints is\")\n",
    "print(prob.constraints[0].dual_value)\n"
   ]
  },
  {
   "cell_type": "code",
   "execution_count": 17,
   "metadata": {},
   "outputs": [
    {
     "name": "stdout",
     "output_type": "stream",
     "text": [
      "['CLARABEL', 'CVXOPT', 'ECOS', 'ECOS_BB', 'GLPK', 'GLPK_MI', 'OSQP', 'SCIPY', 'SCS']\n"
     ]
    }
   ],
   "source": [
    "print(cp.installed_solvers())"
   ]
  },
  {
   "cell_type": "code",
   "execution_count": 16,
   "metadata": {},
   "outputs": [
    {
     "data": {
      "text/plain": [
       " message: Optimization terminated successfully\n",
       " success: True\n",
       "  status: 0\n",
       "     fun: 9.063118911643233\n",
       "       x: [ 9.907e-01  1.597e+00 -1.254e+00 -5.492e-01 -9.104e-02\n",
       "           -2.437e-01 -2.601e+00  8.651e-01 -2.247e+00 -3.052e-01]\n",
       "     nit: 2\n",
       "     jac: [ 9.907e-01  1.597e+00 -1.254e+00 -5.492e-01 -9.104e-02\n",
       "           -2.437e-01 -2.601e+00  8.651e-01 -2.247e+00 -3.052e-01]\n",
       "    nfev: 23\n",
       "    njev: 2"
      ]
     },
     "execution_count": 16,
     "metadata": {},
     "output_type": "execute_result"
    }
   ],
   "source": [
    "import scipy \n",
    "x0 = np.random.randn(n)\n",
    "func = lambda x: 1/2*x.T @ P @ x \n",
    "cons = ({'type': 'ineq', 'fun': lambda x:  - G @ x + h},\n",
    "        {'type': 'eq', 'fun': lambda x: A @ x - b },\n",
    "        )\n",
    "scipy.optimize.minimize(func, x0, constraints=cons)"
   ]
  },
  {
   "cell_type": "code",
   "execution_count": 1,
   "metadata": {},
   "outputs": [
    {
     "name": "stdout",
     "output_type": "stream",
     "text": [
      "(25,) (1,)\n",
      "Hstack(var6, [1. 2. 3.])\n",
      "Vstack(var1, [[1.]])\n",
      "(5, 5)\n",
      "7.0 [[0.]\n",
      " [0.]\n",
      " [0.]\n",
      " [0.]\n",
      " [0.]]\n"
     ]
    }
   ],
   "source": [
    "import numpy as np\n",
    "import scipy\n",
    "def func(x,a):\n",
    "    cost = a@cp.vstack([(x**2).reshape((-1,1),'C'),np.ones((1,1))])\n",
    "    return cost \n",
    "\n",
    "\n",
    "a = np.array([1,2,3,4,5,7])\n",
    "x0 = np.array([2,3,4,5,6])\n",
    "# print(a@x0)\n",
    "fun = lambda x: func(x,a)\n",
    "# cons = ({'type':'ineq','fun': lambda x: x})\n",
    "# scipy.optimize.minimize(fun,x0, constraints=cons)\n",
    "\n",
    "#-----------------cxvpy--------\n",
    "import cvxpy as cp \n",
    "xx = cp.Variable((5,1))\n",
    "print(cp.vec(xx@xx.T).shape,xx[0].shape)\n",
    "xxx = cp.Variable(5)\n",
    "print(cp.hstack((xxx,np.array([1,2,3]))))\n",
    "print(cp.vstack([xx,np.ones((1,1))]))\n",
    "print(cp.outer(xxx,xxx).shape)\n",
    "prob = cp.Problem(cp.Minimize(fun(xx)), [xx>=0])\n",
    "prob.solve()\n",
    "print(prob.value,xx.value)"
   ]
  },
  {
   "cell_type": "code",
   "execution_count": 3,
   "metadata": {},
   "outputs": [
    {
     "name": "stdout",
     "output_type": "stream",
     "text": [
      "[0] [3] 4\n",
      "{'a': 1}\n",
      "[[0 1 2]\n",
      " [3 4 5]\n",
      " [0 0 0]]\n"
     ]
    }
   ],
   "source": [
    "A = np.arange(9).reshape(3,3)\n",
    "idx = np.where((A[1][1:]>3) & (A[1][1:]<5))[0]\n",
    "print(idx, A[1,idx],A[1,1])\n",
    "B = {}\n",
    "B['a'] =1 \n",
    "print(B)\n",
    "A[2] =0\n",
    "print(A)"
   ]
  },
  {
   "cell_type": "code",
   "execution_count": 26,
   "metadata": {},
   "outputs": [
    {
     "name": "stdout",
     "output_type": "stream",
     "text": [
      "0\n"
     ]
    }
   ],
   "source": [
    "A = np.intersect1d(np.array([1,2]),np.array([4]))\n",
    "print(A.size)"
   ]
  },
  {
   "cell_type": "code",
   "execution_count": 14,
   "metadata": {},
   "outputs": [
    {
     "name": "stdout",
     "output_type": "stream",
     "text": [
      "(3, 3)\n",
      "[0 1 0]\n",
      "[ 4. 24. 42.]\n"
     ]
    }
   ],
   "source": [
    "A = np.arange(9).reshape(3,3)\n",
    "BB = 2*A\n",
    "\n",
    "print(A.shape)\n",
    "B = np.array([True, False, True])\n",
    "print(1-np.asarray(B))\n",
    "BB[0][B] = A[0][~B]\n",
    "print(BB@np.ones(3))\n"
   ]
  },
  {
   "cell_type": "code",
   "execution_count": null,
   "metadata": {},
   "outputs": [],
   "source": []
  }
 ],
 "metadata": {
  "kernelspec": {
   "display_name": "Qubot",
   "language": "python",
   "name": "python3"
  },
  "language_info": {
   "codemirror_mode": {
    "name": "ipython",
    "version": 3
   },
   "file_extension": ".py",
   "mimetype": "text/x-python",
   "name": "python",
   "nbconvert_exporter": "python",
   "pygments_lexer": "ipython3",
   "version": "3.10.13"
  }
 },
 "nbformat": 4,
 "nbformat_minor": 2
}

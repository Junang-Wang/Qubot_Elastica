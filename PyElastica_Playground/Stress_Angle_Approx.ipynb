{
 "cells": [
  {
   "cell_type": "code",
   "execution_count": 1,
   "metadata": {},
   "outputs": [],
   "source": [
    "import numpy as np\n",
    "import matplotlib.pyplot as plt\n",
    "from IPython import display\n",
    "# Import modules\n",
    "from elastica.modules import BaseSystemCollection, Constraints, Forcing, Damping\n",
    "\n",
    "# Import Cosserat Rod Class\n",
    "from elastica.rod.cosserat_rod import CosseratRod\n",
    "\n",
    "# Import Damping Class\n",
    "from elastica.dissipation import AnalyticalLinearDamper\n",
    "\n",
    "# Import Boundary Condition Classes\n",
    "from elastica.boundary_conditions import OneEndFixedRod, FreeRod\n",
    "from elastica.external_forces import EndpointForces \n",
    "from elastica.external_forces import GravityForces\n",
    "\n",
    "# Import Timestepping Functions\n",
    "from elastica.timestepper.symplectic_steppers import PositionVerlet \n",
    "from elastica.timestepper import extend_stepper_interface\n",
    "from elastica.timestepper import integrate \n",
    "\n",
    "from analytical_result import analytical_result"
   ]
  },
  {
   "cell_type": "code",
   "execution_count": 8,
   "metadata": {},
   "outputs": [
    {
     "name": "stdout",
     "output_type": "stream",
     "text": [
      "One end of the rod is now fixed in place\n",
      "Forces added to the rod\n",
      "System finalized\n"
     ]
    },
    {
     "name": "stderr",
     "output_type": "stream",
     "text": [
      "100%|██████████| 399999/399999 [00:22<00:00, 17909.95it/s]\n"
     ]
    },
    {
     "name": "stdout",
     "output_type": "stream",
     "text": [
      "Final time of simulation is :  4.000000000002014\n",
      "One end of the rod is now fixed in place\n",
      "Forces added to the rod\n",
      "System finalized\n"
     ]
    },
    {
     "name": "stderr",
     "output_type": "stream",
     "text": [
      "100%|██████████| 399999/399999 [00:22<00:00, 17506.00it/s]\n"
     ]
    },
    {
     "name": "stdout",
     "output_type": "stream",
     "text": [
      "Final time of simulation is :  4.000000000002014\n",
      "One end of the rod is now fixed in place\n",
      "Forces added to the rod\n",
      "System finalized\n"
     ]
    },
    {
     "name": "stderr",
     "output_type": "stream",
     "text": [
      "100%|██████████| 399999/399999 [00:22<00:00, 17602.92it/s]\n"
     ]
    },
    {
     "name": "stdout",
     "output_type": "stream",
     "text": [
      "Final time of simulation is :  4.000000000002014\n",
      "One end of the rod is now fixed in place\n",
      "Forces added to the rod\n",
      "System finalized\n"
     ]
    },
    {
     "name": "stderr",
     "output_type": "stream",
     "text": [
      "100%|██████████| 399999/399999 [00:23<00:00, 16958.47it/s]\n"
     ]
    },
    {
     "name": "stdout",
     "output_type": "stream",
     "text": [
      "Final time of simulation is :  4.000000000002014\n",
      "One end of the rod is now fixed in place\n",
      "Forces added to the rod\n",
      "System finalized\n"
     ]
    },
    {
     "name": "stderr",
     "output_type": "stream",
     "text": [
      "100%|██████████| 399999/399999 [00:23<00:00, 17160.84it/s]\n"
     ]
    },
    {
     "name": "stdout",
     "output_type": "stream",
     "text": [
      "Final time of simulation is :  4.000000000002014\n",
      "One end of the rod is now fixed in place\n",
      "Forces added to the rod\n",
      "System finalized\n"
     ]
    },
    {
     "name": "stderr",
     "output_type": "stream",
     "text": [
      "100%|██████████| 399999/399999 [00:23<00:00, 16897.18it/s]\n"
     ]
    },
    {
     "name": "stdout",
     "output_type": "stream",
     "text": [
      "Final time of simulation is :  4.000000000002014\n",
      "One end of the rod is now fixed in place\n",
      "Forces added to the rod\n",
      "System finalized\n"
     ]
    },
    {
     "name": "stderr",
     "output_type": "stream",
     "text": [
      "100%|██████████| 399999/399999 [00:23<00:00, 16945.11it/s]\n"
     ]
    },
    {
     "name": "stdout",
     "output_type": "stream",
     "text": [
      "Final time of simulation is :  4.000000000002014\n",
      "One end of the rod is now fixed in place\n",
      "Forces added to the rod\n",
      "System finalized\n"
     ]
    },
    {
     "name": "stderr",
     "output_type": "stream",
     "text": [
      "100%|██████████| 399999/399999 [00:23<00:00, 17068.02it/s]\n"
     ]
    },
    {
     "name": "stdout",
     "output_type": "stream",
     "text": [
      "Final time of simulation is :  4.000000000002014\n",
      "One end of the rod is now fixed in place\n",
      "Forces added to the rod\n",
      "System finalized\n"
     ]
    },
    {
     "name": "stderr",
     "output_type": "stream",
     "text": [
      "100%|██████████| 399999/399999 [00:23<00:00, 17144.94it/s]\n"
     ]
    },
    {
     "name": "stdout",
     "output_type": "stream",
     "text": [
      "Final time of simulation is :  4.000000000002014\n",
      "One end of the rod is now fixed in place\n",
      "Forces added to the rod\n",
      "System finalized\n"
     ]
    },
    {
     "name": "stderr",
     "output_type": "stream",
     "text": [
      "100%|██████████| 399999/399999 [00:23<00:00, 16878.48it/s]"
     ]
    },
    {
     "name": "stdout",
     "output_type": "stream",
     "text": [
      "Final time of simulation is :  4.000000000002014\n"
     ]
    },
    {
     "name": "stderr",
     "output_type": "stream",
     "text": [
      "\n"
     ]
    }
   ],
   "source": [
    "%matplotlib inline\n",
    "loops = 10\n",
    "softer_angle = np.zeros(loops)\n",
    "stiffer_angle = np.zeros(loops)\n",
    "analytical_softer_angle = np.zeros(loops)\n",
    "analytical_stiffer_angle = np.zeros(loops)\n",
    "end_force_zs = np.linspace(1e5,1e8,loops)\n",
    "for i in range(loops):\n",
    "    class PendulumSimulator(BaseSystemCollection, Constraints, Forcing, Damping):\n",
    "        pass \n",
    "\n",
    "    Pendulum_Sim = PendulumSimulator()\n",
    "\n",
    "    # Create Rod \n",
    "    n_elem = 40\n",
    "    #--------------mGS Unit-----------------\n",
    "    # density = 1200* 1e-6 * 1000000 #mGS\n",
    "    # gravitational_acc = -9.80665e0 * 1e3 /1000000 #mGS\n",
    "    # base_length = 10 #mGS \n",
    "    # base_radius = 1 #mGS\n",
    "    # E = 1.2e9\n",
    "    #--------------CGS Unit------------------\n",
    "    # density = 2273* 1e-3   #g/cm^3\n",
    "    # gravitational_acc = -9.80665e0 * 1e2  #cm/s^2\n",
    "    # base_length = 0.3 # cm\n",
    "    # base_radius = 0.06 # cm\n",
    "    # E = 1.4e6* 10 # g/(cm*s)\n",
    "    #--------------SI Unit------------------\n",
    "    # density = 1200 * 1000000 #SI\n",
    "    # gravitational_acc = -9.80665e0  /1000000 #SI\n",
    "    # base_length = 10e-3 #SI \n",
    "    # base_radius = 1e-3 #SI\n",
    "    # E = 1.2e9 #SI\n",
    "    #--------------mmGS Unit------------------\n",
    "    density = 2.273 # mg/mm^3\n",
    "    gravitational_acc = -9.80665e3  #mm/s^2\n",
    "    base_length = 6 #mm \n",
    "    base_radius = 0.3 #mm\n",
    "    E_scale = 1e-4\n",
    "    E = 1.4e9*E_scale # mg/(mm*s^2)\n",
    "\n",
    "\n",
    "    dl = base_length / n_elem \n",
    "    # dt = 0.002 * dl \n",
    "    dt = 1.0e-5\n",
    "    nu = 1500 #damping constant\n",
    "    shear_modulus = E / (3.0)\n",
    "\n",
    "    start = np.array([0.0,0.0,0.0])\n",
    "    direction = np.array([0.0, 1.0, 0.0])\n",
    "    normal = np.array([1.0, 0.0, 0.0])\n",
    "    base_area = np.pi * base_radius**2\n",
    "    # base_area = base_radius*np.sqrt(3)/3\n",
    "\n",
    "    origin_force = np.array([0.0, 0.0, 0.0])\n",
    "    end_force = E_scale*np.array([0.0, 0.0, -end_force_zs[i]])\n",
    "    ramp_up_time = 0.1\n",
    "\n",
    "    softer_rod = CosseratRod.straight_rod(\n",
    "        n_elem,\n",
    "        start,\n",
    "        direction,\n",
    "        normal,\n",
    "        base_length,\n",
    "        base_radius,\n",
    "        density,\n",
    "        youngs_modulus=E,\n",
    "        shear_modulus = shear_modulus,\n",
    "    )\n",
    "\n",
    "    stiffer_rod = CosseratRod.straight_rod(\n",
    "        n_elem,\n",
    "        start,\n",
    "        direction,\n",
    "        normal,\n",
    "        base_length,\n",
    "        base_radius,\n",
    "        density,\n",
    "        youngs_modulus = E*10,\n",
    "        shear_modulus = shear_modulus*10,\n",
    "    )\n",
    "\n",
    "\n",
    "    Pendulum_Sim.append(softer_rod)\n",
    "    Pendulum_Sim.append(stiffer_rod)\n",
    "    Pendulum_Sim.dampen(softer_rod).using(\n",
    "        AnalyticalLinearDamper,\n",
    "        damping_constant = nu,\n",
    "        time_step = dt,\n",
    "    )\n",
    "    Pendulum_Sim.dampen(stiffer_rod).using(\n",
    "        AnalyticalLinearDamper,\n",
    "        damping_constant = nu,\n",
    "        time_step = dt,\n",
    "    )\n",
    "\n",
    "    Pendulum_Sim.constrain(softer_rod).using(\n",
    "        OneEndFixedRod,constrained_position_idx = (0,), constrained_director_idx= (0,)\n",
    "    )\n",
    "    Pendulum_Sim.constrain(stiffer_rod).using(\n",
    "        OneEndFixedRod,constrained_position_idx = (0,), constrained_director_idx= (0,)\n",
    "    )\n",
    "    print(\"One end of the rod is now fixed in place\")\n",
    "\n",
    "    # Pendulum_Sim.add_forcing_to(softer_rod).using(\n",
    "    #     GravityForces, acc_gravity = np.array([0.0,0.0,gravitational_acc]) \n",
    "    # )\n",
    "    # Pendulum_Sim.add_forcing_to(stiffer_rod).using(\n",
    "    #     GravityForces, acc_gravity = np.array([0.0,0.0,gravitational_acc]) \n",
    "    # )\n",
    "\n",
    "    Pendulum_Sim.add_forcing_to(softer_rod).using(\n",
    "        EndpointForces, origin_force, end_force, ramp_up_time = ramp_up_time\n",
    "    )\n",
    "    Pendulum_Sim.add_forcing_to(stiffer_rod).using(\n",
    "        EndpointForces, origin_force, end_force, ramp_up_time=ramp_up_time\n",
    "    )\n",
    "    print(\"Forces added to the rod\")\n",
    "\n",
    "    Pendulum_Sim.finalize()\n",
    "    print(\"System finalized\")\n",
    "\n",
    "    #----------------------------time integration----------------------------------\n",
    "    final_time = 4\n",
    "    total_steps = int(final_time / dt)\n",
    "    timestepper = PositionVerlet()\n",
    "    integrate(timestepper, Pendulum_Sim, final_time, total_steps)\n",
    "\n",
    "    softer_angle[i] = np.arctan(-softer_rod.position_collection[2,-1] / softer_rod.position_collection[1,-1]) / (2*np.pi) * 360\n",
    "    stiffer_angle[i] = np.arctan(-stiffer_rod.position_collection[2,-1] / stiffer_rod.position_collection[1,-1]) / (2*np.pi) * 360\n",
    "\n",
    "    analytical_softer_position = analytical_result(softer_rod, end_force, shearing=False, n_elem=500)\n",
    "    analytical_stiffer_position = analytical_result(stiffer_rod, end_force, shearing=False, n_elem=500)\n",
    "    analytical_softer_angle[i] = np.arctan(-analytical_softer_position[1][-1]/analytical_softer_position[0][-1])/ (2*np.pi) * 360\n",
    "    analytical_stiffer_angle[i] = np.arctan(-analytical_stiffer_position[1][-1]/analytical_stiffer_position[0][-1]) / (2*np.pi) * 360"
   ]
  },
  {
   "cell_type": "code",
   "execution_count": 18,
   "metadata": {},
   "outputs": [
    {
     "data": {
      "text/plain": [
       "array([ 0.77192422, 56.46837186, 71.59123296, 77.47153489, 80.53098076,\n",
       "       82.39656901, 83.65055813, 84.55055338, 85.22760295, 85.75528277])"
      ]
     },
     "execution_count": 18,
     "metadata": {},
     "output_type": "execute_result"
    }
   ],
   "source": [
    "np.arctan(4*end_force_zs*E_scale*base_length**2/(30*E*base_radius**4*np.pi))/np.pi*180"
   ]
  },
  {
   "cell_type": "code",
   "execution_count": 9,
   "metadata": {},
   "outputs": [
    {
     "name": "stdout",
     "output_type": "stream",
     "text": [
      "[ 0.77192422 56.46837186 71.59123296 77.47153489 80.53098076 82.39656901\n",
      " 83.65055813 84.55055338 85.22760295 85.75528277] [ 0.20538368 21.67904932 37.98047996 49.31030069 57.2012045  62.81368555\n",
      " 66.89679467 69.93147276 72.2331573  74.01344784]\n"
     ]
    }
   ],
   "source": [
    "print(analytical_stiffer_angle, stiffer_angle)"
   ]
  },
  {
   "cell_type": "code",
   "execution_count": 10,
   "metadata": {},
   "outputs": [
    {
     "name": "stdout",
     "output_type": "stream",
     "text": [
      "[ 7.67349868 86.20866832 88.09375299 88.72700591 89.04447062 89.2352073\n",
      " 89.36247009 89.45342275 89.52166466 89.57475781] [ 0.28590149 26.78331696 42.71750224 53.32414952 60.92019424 66.5895655\n",
      " 70.9230465  74.28476108 76.92213715 79.01218645]\n"
     ]
    }
   ],
   "source": [
    "print(analytical_softer_angle,softer_angle)"
   ]
  },
  {
   "cell_type": "code",
   "execution_count": null,
   "metadata": {},
   "outputs": [],
   "source": []
  },
  {
   "cell_type": "code",
   "execution_count": 18,
   "metadata": {},
   "outputs": [
    {
     "data": {
      "image/png": "[encoded data removed]",
      "text/plain": [
       "<Figure size 750x600 with 1 Axes>"
      ]
     },
     "metadata": {},
     "output_type": "display_data"
    }
   ],
   "source": [
    "%matplotlib inline\n",
    "# update the plot every 0.1 second\n",
    "fig = plt.figure(figsize=(5,4), frameon=True, dpi=150)\n",
    "ax = fig.add_subplot(111)\n",
    "ax.plot(\n",
    "    end_force_zs*1e-9,\n",
    "    softer_angle,\n",
    "    \"ro\",\n",
    "    label = \"softer rod\"\n",
    ")\n",
    "ax.plot(\n",
    "    end_force_zs*1e-9,\n",
    "    stiffer_angle,\n",
    "    \"bo\",\n",
    "    label = \"stiffer rod\"\n",
    ")\n",
    "ax.plot(\n",
    "    end_force_zs*1e-9,\n",
    "    analytical_softer_angle,\n",
    "    \"k-\",\n",
    "    label = \"analytical softer rod\"\n",
    ")\n",
    "ax.plot(\n",
    "    end_force_zs*1e-9,\n",
    "    analytical_stiffer_angle,\n",
    "    \"k--\",\n",
    "    label = \"analytical_stiffer rod\"\n",
    ")\n",
    "ax.legend(prop={\"size\":12}, loc=\"lower right\")\n",
    "ax.set_ylabel(\"Banding Angle\", fontsize=12)\n",
    "ax.set_xlabel(\"End Force(N)\", fontsize=12)\n",
    "ax.set_title(\"Stress and Angle\")\n",
    "plt.savefig('Stress_Angle_Approx_4.jpg')\n",
    "plt.show()\n",
    "plt.close()"
   ]
  },
  {
   "cell_type": "code",
   "execution_count": null,
   "metadata": {},
   "outputs": [],
   "source": []
  }
 ],
 "metadata": {
  "kernelspec": {
   "display_name": "Qubot",
   "language": "python",
   "name": "python3"
  },
  "language_info": {
   "codemirror_mode": {
    "name": "ipython",
    "version": 3
   },
   "file_extension": ".py",
   "mimetype": "text/x-python",
   "name": "python",
   "nbconvert_exporter": "python",
   "pygments_lexer": "ipython3",
   "version": "3.10.13"
  },
  "orig_nbformat": 4
 },
 "nbformat": 4,
 "nbformat_minor": 2
}

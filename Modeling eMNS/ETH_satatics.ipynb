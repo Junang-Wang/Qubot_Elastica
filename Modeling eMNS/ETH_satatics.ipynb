{
 "cells": [
  {
   "cell_type": "markdown",
   "metadata": {},
   "source": [
    "Statistical errors of CNN models"
   ]
  },
  {
   "cell_type": "markdown",
   "metadata": {
    "slideshow": {
     "slide_type": "notes"
    }
   },
   "source": [
    "#read current\n",
    "#load model and calculate out put od model\n",
    "#plot 3d error of Bfield"
   ]
  },
  {
   "cell_type": "code",
   "execution_count": 20,
   "metadata": {},
   "outputs": [
    {
     "name": "stdout",
     "output_type": "stream",
     "text": [
      "Good to go\n"
     ]
    }
   ],
   "source": [
    "%reload_ext autoreload\n",
    "%autoreload 2\n",
    "import numpy as np\n",
    "import torch\n",
    "import torch.nn.functional as F\n",
    "if torch.cuda.device_count():\n",
    "    device = 'cuda'\n",
    "    map_location = 'cuda:0'\n",
    "    print('Good to go')\n",
    "else:\n",
    "    device = 'cpu'\n",
    "    map_location = torch.device('cpu')\n",
    "    print('Using cpu')\n",
    "    \n",
    "from Neural_network import Generative_net, ResidualEMNSBlock_3d, BigBlock, weight_init, eMNS_Dataset"
   ]
  },
  {
   "cell_type": "markdown",
   "metadata": {},
   "source": []
  },
  {
   "cell_type": "code",
   "execution_count": 21,
   "metadata": {},
   "outputs": [
    {
     "data": {
      "text/plain": [
       "Generative_net_test(\n",
       "  (proj): Linear(in_features=8, out_features=4096, bias=True)\n",
       "  (conv1): Conv3d(64, 64, kernel_size=(3, 3, 3), stride=(1, 1, 1), padding=same)\n",
       "  (conv2): Conv3d(64, 64, kernel_size=(3, 3, 3), stride=(1, 1, 1), padding=same)\n",
       "  (conv3): Conv3d(64, 64, kernel_size=(3, 3, 3), stride=(1, 1, 1), padding=same)\n",
       "  (conv4): Conv3d(64, 64, kernel_size=(3, 3, 3), stride=(1, 1, 1), padding=same)\n",
       "  (conv5): Conv3d(64, 64, kernel_size=(3, 3, 3), stride=(1, 1, 1), padding=same)\n",
       "  (conv6): Conv3d(64, 64, kernel_size=(3, 3, 3), stride=(1, 1, 1), padding=same)\n",
       "  (conv7): Conv3d(64, 64, kernel_size=(3, 3, 3), stride=(1, 1, 1), padding=same)\n",
       "  (conv8): Conv3d(64, 64, kernel_size=(3, 3, 3), stride=(1, 1, 1), padding=same)\n",
       "  (conv9): Conv3d(64, 64, kernel_size=(3, 3, 3), stride=(1, 1, 1), padding=same)\n",
       "  (conv10): Conv3d(64, 64, kernel_size=(3, 3, 3), stride=(1, 1, 1), padding=same)\n",
       "  (conv11): Conv3d(64, 64, kernel_size=(3, 3, 3), stride=(1, 1, 1), padding=same)\n",
       "  (conv12): Conv3d(64, 64, kernel_size=(3, 3, 3), stride=(1, 1, 1), padding=same)\n",
       "  (upsample1): Upsample(scale_factor=2.0, mode='nearest')\n",
       "  (upsample2): Upsample(scale_factor=2.0, mode='nearest')\n",
       "  (convout): Conv3d(64, 3, kernel_size=(3, 3, 3), stride=(1, 1, 1), padding=same)\n",
       ")"
      ]
     },
     "execution_count": 21,
     "metadata": {},
     "output_type": "execute_result"
    }
   ],
   "source": [
    "#load saved  model\n",
    "from Neural_network import Generative_net,Generative_net_test, ResidualEMNSBlock_3d, BigBlock, weight_init, eMNS_Dataset\n",
    "\n",
    "num_input = 8\n",
    "output_shape = (3,16,16,16)\n",
    "SB_args = (64,64,4,1) # (Cin, Cout, num_repeat, num_block)\n",
    "BB_args = (2,3) # (scale_factor, num_block)\n",
    "SB_block = ResidualEMNSBlock_3d \n",
    "BB_block = BigBlock\n",
    "DF = False # whether using divergence free model\n",
    "\n",
    "Generative_network = Generative_net_test(SB_args, BB_args, SB_block, BB_block, num_input=num_input, output_shape= output_shape)\n",
    "Generative_network = torch.load('EMS_CNN_ETH.pt', map_location=map_location)\n",
    "Generative_network.eval()\n",
    "Generative_network.to(device)"
   ]
  },
  {
   "cell_type": "code",
   "execution_count": 22,
   "metadata": {},
   "outputs": [],
   "source": [
    "from ReadData import ReadETHFolder, ReadETHFile\n",
    "foldername=\"./ETH_Data/v/\"\n",
    "currentname = \"./ETH_Data/\"+\"currents_3787.h5\"\n",
    "file_num = 1300\n",
    "data_shape = (16,16,16,3)\n",
    "Bfield = torch.tensor(ReadETHFolder(foldername,file_num, data_shape)).permute(0,4,1,2,3)\n",
    "current = torch.tensor(ReadETHFile(currentname))\n",
    "current = current[0:Bfield.shape[0],:]"
   ]
  },
  {
   "cell_type": "code",
   "execution_count": null,
   "metadata": {},
   "outputs": [],
   "source": [
    "# position = data[:,0:3,2:18,2:18,2:18]\n",
    "# Bfield = data[:,3:,2:18,2:18,2:18]\n",
    "#data normalization\n",
    "min_current=torch.load(\"./normalize_data/cnn_min_current_ETH.pt\")\n",
    "max_current=torch.load(\"./normalize_data/cnn_max_current_ETH.pt\")\n",
    "min_Bfield=torch.load(\"./normalize_data/cnn_min_Bfield_ETH.pt\")\n",
    "max_Bfield=torch.load(\"./normalize_data/cnn_max_Bfield_ETH.pt\")\n",
    "\n",
    "dimB = Bfield.shape\n",
    "dimc = current.shape\n",
    "print(min_current.shape)\n",
    "print(min_Bfield.shape)\n",
    "\n",
    "minB=min_Bfield.expand(3,int(Bfield.numel()/3)).reshape(3,dimB[0],dimB[2],dimB[3],dimB[4]).transpose(0,1)\n",
    "maxB=max_Bfield.expand(3,int(Bfield.numel()/3)).reshape(3,dimB[0],dimB[2],dimB[3],dimB[4]).transpose(0,1)\n",
    "\n",
    "ave_current=0.5*(max_current.expand(dimc[0],dimc[1])+min_current.expand(dimc[0],dimc[1]))\n",
    "diff_current=0.5*(max_current.expand(dimc[0],dimc[1])-min_current.expand(dimc[0],dimc[1]))\n",
    "\n",
    "current_norm = (current-ave_current)/diff_current\n",
    "Bfield_norm = (Bfield-(minB+maxB)*0.5)/(0.5*(maxB-minB))\n",
    "\n",
    "print(current_norm.shape)\n",
    "print(Bfield_norm.shape)\n"
   ]
  },
  {
   "cell_type": "code",
   "execution_count": 23,
   "metadata": {},
   "outputs": [
    {
     "name": "stdout",
     "output_type": "stream",
     "text": [
      "16\n",
      "current shape: torch.Size([1300, 8]) current device: cpu\n",
      "Bfied;: torch.Size([1300, 3, 16, 16, 16]) current device: cpu\n"
     ]
    }
   ],
   "source": [
    "num_samples, num_current_input = current.shape\n",
    "_, dimension, grid_x, grid_y, grid_z = Bfield.shape\n",
    "grid_space = grid_x*grid_y*grid_z\n",
    "print(grid_x)\n",
    "print(\"current shape:\",current.shape,\"current device:\",current.device)\n",
    "print(\"Bfied;:\",Bfield.shape,\"current device:\",Bfield.device)"
   ]
  },
  {
   "cell_type": "code",
   "execution_count": 25,
   "metadata": {},
   "outputs": [],
   "source": [
    "#calculate estimated normalized Bfield value of CNN \n",
    "train_file_num=1000\n",
    "B_est_norm=torch.zeros(num_samples,dimension,grid_x,grid_y,grid_z)\n",
    "for i in range (0,num_samples):\n",
    "    input=current_norm[i,:].to(device).reshape(1,8)\n",
    "    b = input.float()\n",
    "    B_est_norm[i]=Generative_network(b)\n",
    "\n",
    "B_est=B_est_norm*(0.5*(maxB-minB))+0.5*(maxB+minB)\n",
    "#calculate rmse \n",
    "mse_test = F.mse_loss(B_est[train_file_num:,:],Bfield[train_file_num:,:],reduction='sum')\n",
    "rmse_test = torch.sqrt(mse_test/(1300-train_file_num)/grid_space/3)\n",
    "\n",
    "mse_train = F.mse_loss(B_est[0:train_file_num,:],Bfield[0:train_file_num,:],reduction='sum')\n",
    "rmse_train = torch.sqrt(mse_train/train_file_num/grid_space/3)\n",
    "\n",
    "\n",
    "B_est=B_est.cpu().detach().numpy()\n",
    "B_est_norm=B_est_norm.cpu().detach().numpy()\n",
    "Bfield_norm=Bfield_norm.detach().numpy()\n",
    "current_norm=current_norm.detach().numpy()\n",
    "Bfield=Bfield.cpu().detach().numpy()\n"
   ]
  },
  {
   "cell_type": "code",
   "execution_count": 29,
   "metadata": {},
   "outputs": [
    {
     "name": "stdout",
     "output_type": "stream",
     "text": [
      "(1300, 3, 16, 16, 16)\n",
      "rmse_train=0.99mT\n",
      "rmse_test=1.21mT\n",
      "(1300, 3, 16, 16, 16)\n",
      "(1300, 3, 16, 16, 16)\n",
      "(1300, 3, 16, 16, 16)\n"
     ]
    }
   ],
   "source": [
    "print(B_est_norm.shape)\n",
    "print(f'rmse_train={rmse_train*1000:.2f}mT')\n",
    "print(f'rmse_test={rmse_test*1000:.2f}mT')\n",
    "Bdiff_norm=(B_est_norm-Bfield_norm)\n",
    "print(Bdiff_norm.shape)\n",
    "Error_CNN = Bdiff_norm/np.absolute(Bfield_norm)*100\n",
    "print(B_est.shape)\n",
    "print(Bfield.shape)"
   ]
  },
  {
   "cell_type": "code",
   "execution_count": 34,
   "metadata": {},
   "outputs": [
    {
     "name": "stdout",
     "output_type": "stream",
     "text": [
      "tensor(0.0014, dtype=torch.float64)\n",
      "tensor(0.0042, dtype=torch.float64)\n",
      "torch.Size([1300, 8])\n"
     ]
    },
    {
     "data": {
      "image/png": "[encoded data removed]",
      "text/plain": [
       "<Figure size 640x480 with 12 Axes>"
      ]
     },
     "metadata": {},
     "output_type": "display_data"
    },
    {
     "name": "stdout",
     "output_type": "stream",
     "text": [
      "example RMSE: tensor(0.0003, dtype=torch.float64)\n",
      "my RMSE: 0.0003252070670131307\n"
     ]
    },
    {
     "data": {
      "text/plain": [
       "<Figure size 640x480 with 0 Axes>"
      ]
     },
     "metadata": {},
     "output_type": "display_data"
    },
    {
     "data": {
      "image/png": "[encoded data removed]",
      "text/plain": [
       "<Figure size 640x480 with 6 Axes>"
      ]
     },
     "metadata": {},
     "output_type": "display_data"
    },
    {
     "data": {
      "image/png": "[encoded data removed]",
      "text/plain": [
       "<Figure size 640x480 with 1 Axes>"
      ]
     },
     "metadata": {},
     "output_type": "display_data"
    }
   ],
   "source": [
    "import matplotlib.pyplot as plt\n",
    "import numpy as np\n",
    "import torch.nn.functional as F\n",
    "loss_norm = F.l1_loss(torch.tensor(B_est_norm),torch.tensor(Bfield_norm))\n",
    "\n",
    "mse_norm = F.mse_loss(torch.tensor(B_est_norm),torch.tensor(Bfield_norm),reduction='sum')\n",
    "rmse_norm = torch.sqrt(mse_norm/num_samples/grid_space)\n",
    "\n",
    "print(loss_norm)\n",
    "print(rmse_norm)\n",
    "current_index = 1200\n",
    "print(current.shape)\n",
    "\n",
    "z_plane_index= 11\n",
    "# fig, ax = plt.subplots(3, 2)\n",
    "# fig.tight_layout(h_pad=2)\n",
    "fig = plt.figure()\n",
    "vmin=[0,-12,-2]\n",
    "vmax=[15 , 5, 22]\n",
    "MSE_temp = 0\n",
    "my_error = 0\n",
    "\n",
    "ylables=['Bx(mT)','By(mT)','Bz(mT)']\n",
    "# fig.tight_layout(pad=0.4, w_pad=0, h_pad=0)\n",
    "for i in range(1,4):\n",
    "    B_est_temp = B_est[current_index,i-1,:,:,z_plane_index]\n",
    "    # B_est_temp = B_est[current_index,i-1,:,:,:]\n",
    "    plt.subplot(3,2,2*i-1)\n",
    "    plt.imshow(B_est_temp*1000)    \n",
    "    plt.colorbar()\n",
    "    plt.ylabel(ylables[i-1])\n",
    "    Bfield_temp = Bfield[current_index,i-1,:,:,z_plane_index]\n",
    "    # Bfield_temp = Bfield[current_index,i-1,:,:,:]*1000\n",
    "    plt.subplot(3,2,2*i)\n",
    "    plt.imshow(Bfield_temp*1000)\n",
    "    plt.colorbar()\n",
    "    # print('B_est_temp:',B_est_temp)\n",
    "    # print('Bfield_temp:',Bfield_temp)\n",
    "    MSE_temp += F.mse_loss(torch.tensor(B_est_temp),torch.tensor(Bfield_temp),reduction='sum')\n",
    "    my_error += np.sum((B_est_temp-Bfield_temp)**2)\n",
    "\n",
    "plt.show()\n",
    "RMSE_temp = torch.sqrt(MSE_temp/grid_x/grid_y)\n",
    "RMSE_my = np.sqrt(my_error/grid_x/grid_y)\n",
    "print('example RMSE:',RMSE_temp)\n",
    "print('my RMSE:', RMSE_my)\n",
    "from pylab import *\n",
    "subplots_adjust(left=0.0,bottom=0.0,top=1,right=1)\n",
    "fig, ax = plt.subplots(3, 1)\n",
    "fig.tight_layout()\n",
    "\n",
    "for i in range(1,4):\n",
    "    plt.subplot(3,1,i)\n",
    "    plt.imshow(Error_CNN[current_index,i-1,:,:,z_plane_index])    \n",
    "    plt.colorbar(fraction=0.04)    \n",
    "\n",
    "plt.show()\n",
    "\n",
    "plt.hist(Error_CNN[current_index,:,:,:,z_plane_index].reshape(-1),bins=50,range=[-0.5e2,0.5e2])\n",
    "plt.title(\"histogram\") \n",
    "plt.show()"
   ]
  },
  {
   "cell_type": "code",
   "execution_count": null,
   "metadata": {},
   "outputs": [],
   "source": [
    "a=np.array([[1,2,3],[4,5,6],[7,8,9]])\n",
    "print(a)\n",
    "a=a[0:2,:]\n",
    "print(a)\n",
    "print(a.shape)\n",
    "\n",
    "\n"
   ]
  }
 ],
 "metadata": {
  "kernelspec": {
   "display_name": "Python 3",
   "language": "python",
   "name": "python3"
  },
  "language_info": {
   "codemirror_mode": {
    "name": "ipython",
    "version": 3
   },
   "file_extension": ".py",
   "mimetype": "text/x-python",
   "name": "python",
   "nbconvert_exporter": "python",
   "pygments_lexer": "ipython3",
   "version": "3.12.1"
  }
 },
 "nbformat": 4,
 "nbformat_minor": 2
}

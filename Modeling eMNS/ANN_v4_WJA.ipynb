{
 "cells": [
  {
   "cell_type": "markdown",
   "metadata": {},
   "source": [
    "### This jupyter notebook employs a fully connective neural network(FC) or its alias artificial neural network (ANN) to learn the mapping between input current configuration between output magnetic field "
   ]
  },
  {
   "cell_type": "code",
   "execution_count": 1,
   "metadata": {},
   "outputs": [
    {
     "name": "stdout",
     "output_type": "stream",
     "text": [
      "Using cpu\n"
     ]
    },
    {
     "name": "stderr",
     "output_type": "stream",
     "text": [
      "/home/qubot/.pyenv/versions/3.10.13/lib/python3.10/site-packages/torch/cuda/__init__.py:628: UserWarning: Can't initialize NVML\n",
      "  warnings.warn(\"Can't initialize NVML\")\n"
     ]
    }
   ],
   "source": [
    "%reload_ext autoreload\n",
    "%autoreload 2\n",
    "import numpy as np\n",
    "import torch\n",
    "from early_stopping import EarlyStopping\n",
    "\n",
    "if torch.cuda.device_count():\n",
    "    device = 'cuda'\n",
    "    use_gpu = True\n",
    "    print('Good to go')\n",
    "else:\n",
    "    device = 'cpu'\n",
    "    use_gpu = False\n",
    "    print('Using cpu')"
   ]
  },
  {
   "cell_type": "code",
   "execution_count": 21,
   "metadata": {},
   "outputs": [
    {
     "name": "stdout",
     "output_type": "stream",
     "text": [
      "torch.Size([1460, 21, 21, 21, 18])\n",
      "torch.Size([1000, 6, 6, 6, 15])\n",
      "position shape torch.Size([216000, 15])\n",
      "Bfield shape torch.Size([216000, 3])\n"
     ]
    }
   ],
   "source": [
    "from ReadData import ReadCurrentAndField \n",
    "import glob\n",
    "import os \n",
    "\n",
    "# print(os.getcwd())\n",
    "foldername=\"./Data/\"\n",
    "filepattern = \"MagneticField[0-9]*.txt\"\n",
    "#data = ReadFolder(foldername,filepattern)\n",
    "load_file_num = 1460\n",
    "train_file_num = 1000\n",
    "grid_size = 21\n",
    "data = ReadCurrentAndField (foldername,filepattern, load_file_num)\n",
    "\n",
    "\n",
    "data=data.reshape(load_file_num,grid_size,grid_size,grid_size,18)\n",
    "mask = torch.cat((torch.ones(1,1,1,1,12),1e3*torch.ones(1,1,1,1,6)), dim=4)\n",
    "# position unit mm, B field unit mT, Current unit Ampere\n",
    "data = mask*data\n",
    "\n",
    "sparsity = 4\n",
    "\n",
    "Current_position =data[:train_file_num,0::sparsity,0::sparsity,0::sparsity,:15].reshape(-1,15) # position unit mm\n",
    "Bfield = data[:train_file_num,0::sparsity,0::sparsity,0::sparsity,15:].reshape(-1,3) # B field unit mT\n",
    "\n",
    "print(data.shape)\n",
    "print(data[:train_file_num,0::sparsity,0::sparsity,0::sparsity,:15].shape)\n",
    "print('position shape', Current_position.shape)\n",
    "print('Bfield shape', Bfield.shape)\n"
   ]
  },
  {
   "cell_type": "code",
   "execution_count": 31,
   "metadata": {},
   "outputs": [
    {
     "data": {
      "text/html": [
       "<div class=\"tuneStatus\">\n",
       "  <div style=\"display: flex;flex-direction: row\">\n",
       "    <div style=\"display: flex;flex-direction: column;\">\n",
       "      <h3>Tune Status</h3>\n",
       "      <table>\n",
       "<tbody>\n",
       "<tr><td>Current time:</td><td>2024-04-17 11:37:35</td></tr>\n",
       "<tr><td>Running for: </td><td>00:03:47.83        </td></tr>\n",
       "<tr><td>Memory:      </td><td>10.5/31.0 GiB      </td></tr>\n",
       "</tbody>\n",
       "</table>\n",
       "    </div>\n",
       "    <div class=\"vDivider\"></div>\n",
       "    <div class=\"systemInfo\">\n",
       "      <h3>System Info</h3>\n",
       "      Using FIFO scheduling algorithm.<br>Logical resource usage: 2.0/16 CPUs, 0/0 GPUs\n",
       "    </div>\n",
       "    \n",
       "  </div>\n",
       "  <div class=\"hDivider\"></div>\n",
       "  <div class=\"trialStatus\">\n",
       "    <h3>Trial Status</h3>\n",
       "    <table>\n",
       "<thead>\n",
       "<tr><th>Trial name              </th><th>status    </th><th>loc                </th><th style=\"text-align: right;\">  iter</th><th style=\"text-align: right;\">  total time (s)</th><th style=\"text-align: right;\">  rmse_val</th><th style=\"text-align: right;\">  rmse_train</th><th style=\"text-align: right;\">     loss</th></tr>\n",
       "</thead>\n",
       "<tbody>\n",
       "<tr><td>TorchTrainer_4cabe_00000</td><td>TERMINATED</td><td>192.168.8.117:15281</td><td style=\"text-align: right;\">    50</td><td style=\"text-align: right;\">         62.1354</td><td style=\"text-align: right;\">  0.907986</td><td style=\"text-align: right;\">    0.887553</td><td style=\"text-align: right;\">0.0109996</td></tr>\n",
       "</tbody>\n",
       "</table>\n",
       "  </div>\n",
       "</div>\n",
       "<style>\n",
       ".tuneStatus {\n",
       "  color: var(--jp-ui-font-color1);\n",
       "}\n",
       ".tuneStatus .systemInfo {\n",
       "  display: flex;\n",
       "  flex-direction: column;\n",
       "}\n",
       ".tuneStatus td {\n",
       "  white-space: nowrap;\n",
       "}\n",
       ".tuneStatus .trialStatus {\n",
       "  display: flex;\n",
       "  flex-direction: column;\n",
       "}\n",
       ".tuneStatus h3 {\n",
       "  font-weight: bold;\n",
       "}\n",
       ".tuneStatus .hDivider {\n",
       "  border-bottom-width: var(--jp-border-width);\n",
       "  border-bottom-color: var(--jp-border-color0);\n",
       "  border-bottom-style: solid;\n",
       "}\n",
       ".tuneStatus .vDivider {\n",
       "  border-left-width: var(--jp-border-width);\n",
       "  border-left-color: var(--jp-border-color0);\n",
       "  border-left-style: solid;\n",
       "  margin: 0.5em 1em 0.5em 1em;\n",
       "}\n",
       "</style>\n"
      ],
      "text/plain": [
       "<IPython.core.display.HTML object>"
      ]
     },
     "metadata": {},
     "output_type": "display_data"
    },
    {
     "name": "stderr",
     "output_type": "stream",
     "text": [
      "\u001b[36m(TorchTrainer pid=15281)\u001b[0m Started distributed worker processes: \n",
      "\u001b[36m(TorchTrainer pid=15281)\u001b[0m - (ip=192.168.8.117, pid=15332) world_rank=0, local_rank=0, node_rank=0\n",
      "\u001b[36m(RayTrainWorker pid=15332)\u001b[0m Setting up process group for: env:// [rank=0, world_size=1]\n"
     ]
    },
    {
     "name": "stdout",
     "output_type": "stream",
     "text": [
      "\u001b[36m(RayTrainWorker pid=15332)\u001b[0m Epoch 0, Iteration 1519, loss = 0.0328\n",
      "\u001b[36m(RayTrainWorker pid=15332)\u001b[0m Got rmse 2.63161563873291\n",
      "\u001b[36m(RayTrainWorker pid=15332)\u001b[0m Got rmse 2.60054087638855\n",
      "\u001b[36m(RayTrainWorker pid=15332)\u001b[0m \n"
     ]
    },
    {
     "name": "stderr",
     "output_type": "stream",
     "text": [
      "\u001b[36m(RayTrainWorker pid=15332)\u001b[0m Checkpoint successfully created at: Checkpoint(filesystem=local, path=/home/qubot/ray_results/EMS_ANN_v2/TorchTrainer_4cabe_00000_0_2024-04-17_11-33-47/checkpoint_000000)\n"
     ]
    },
    {
     "name": "stdout",
     "output_type": "stream",
     "text": [
      "\u001b[36m(RayTrainWorker pid=15332)\u001b[0m Epoch 1, Iteration 3038, loss = 0.0247\n",
      "\u001b[36m(RayTrainWorker pid=15332)\u001b[0m Got rmse 2.2107324600219727\n"
     ]
    },
    {
     "name": "stderr",
     "output_type": "stream",
     "text": [
      "2024-04-17 11:34:05,704\tWARNING util.py:202 -- The `callbacks.on_trial_result` operation took 2.150 s, which may be a performance bottleneck.\n",
      "2024-04-17 11:34:05,705\tWARNING util.py:202 -- The `process_trial_result` operation took 2.152 s, which may be a performance bottleneck.\n",
      "2024-04-17 11:34:05,706\tWARNING util.py:202 -- Processing trial results took 2.152 s, which may be a performance bottleneck. Please consider reporting results less frequently to Ray Tune.\n",
      "2024-04-17 11:34:05,707\tWARNING util.py:202 -- The `process_trial_result` operation took 2.154 s, which may be a performance bottleneck.\n"
     ]
    },
    {
     "name": "stdout",
     "output_type": "stream",
     "text": [
      "\u001b[36m(RayTrainWorker pid=15332)\u001b[0m Got rmse 2.190490961074829\n",
      "\u001b[36m(RayTrainWorker pid=15332)\u001b[0m \n",
      "\u001b[36m(RayTrainWorker pid=15332)\u001b[0m Epoch 2, Iteration 4557, loss = 0.0244\n",
      "\u001b[36m(RayTrainWorker pid=15332)\u001b[0m Got rmse 1.9824398756027222\n"
     ]
    },
    {
     "name": "stderr",
     "output_type": "stream",
     "text": [
      "2024-04-17 11:34:08,876\tWARNING util.py:202 -- The `callbacks.on_trial_result` operation took 2.228 s, which may be a performance bottleneck.\n",
      "2024-04-17 11:34:08,878\tWARNING util.py:202 -- The `process_trial_result` operation took 2.230 s, which may be a performance bottleneck.\n",
      "2024-04-17 11:34:08,878\tWARNING util.py:202 -- Processing trial results took 2.231 s, which may be a performance bottleneck. Please consider reporting results less frequently to Ray Tune.\n",
      "2024-04-17 11:34:08,878\tWARNING util.py:202 -- The `process_trial_result` operation took 2.231 s, which may be a performance bottleneck.\n"
     ]
    },
    {
     "name": "stdout",
     "output_type": "stream",
     "text": [
      "\u001b[36m(RayTrainWorker pid=15332)\u001b[0m Got rmse 1.9600518941879272\n",
      "\u001b[36m(RayTrainWorker pid=15332)\u001b[0m \n",
      "\u001b[36m(RayTrainWorker pid=15332)\u001b[0m Epoch 3, Iteration 6076, loss = 0.0206\n",
      "\u001b[36m(RayTrainWorker pid=15332)\u001b[0m Got rmse 1.8751111030578613\n"
     ]
    },
    {
     "name": "stderr",
     "output_type": "stream",
     "text": [
      "2024-04-17 11:34:11,918\tWARNING util.py:202 -- The `callbacks.on_trial_result` operation took 2.254 s, which may be a performance bottleneck.\n",
      "2024-04-17 11:34:11,920\tWARNING util.py:202 -- The `process_trial_result` operation took 2.257 s, which may be a performance bottleneck.\n",
      "2024-04-17 11:34:11,921\tWARNING util.py:202 -- Processing trial results took 2.257 s, which may be a performance bottleneck. Please consider reporting results less frequently to Ray Tune.\n",
      "2024-04-17 11:34:11,921\tWARNING util.py:202 -- The `process_trial_result` operation took 2.258 s, which may be a performance bottleneck.\n"
     ]
    },
    {
     "name": "stdout",
     "output_type": "stream",
     "text": [
      "\u001b[36m(RayTrainWorker pid=15332)\u001b[0m Got rmse 1.8549933433532715\n",
      "\u001b[36m(RayTrainWorker pid=15332)\u001b[0m \n",
      "\u001b[36m(RayTrainWorker pid=15332)\u001b[0m Epoch 4, Iteration 7595, loss = 0.0208\n",
      "\u001b[36m(RayTrainWorker pid=15332)\u001b[0m Got rmse 1.7588845491409302\n"
     ]
    },
    {
     "name": "stderr",
     "output_type": "stream",
     "text": [
      "2024-04-17 11:34:15,257\tWARNING util.py:202 -- The `callbacks.on_trial_result` operation took 2.522 s, which may be a performance bottleneck.\n",
      "2024-04-17 11:34:15,258\tWARNING util.py:202 -- The `process_trial_result` operation took 2.523 s, which may be a performance bottleneck.\n",
      "2024-04-17 11:34:15,259\tWARNING util.py:202 -- Processing trial results took 2.524 s, which may be a performance bottleneck. Please consider reporting results less frequently to Ray Tune.\n",
      "2024-04-17 11:34:15,260\tWARNING util.py:202 -- The `process_trial_result` operation took 2.525 s, which may be a performance bottleneck.\n"
     ]
    },
    {
     "name": "stdout",
     "output_type": "stream",
     "text": [
      "\u001b[36m(RayTrainWorker pid=15332)\u001b[0m Got rmse 1.74070143699646\n",
      "\u001b[36m(RayTrainWorker pid=15332)\u001b[0m \n",
      "\u001b[36m(RayTrainWorker pid=15332)\u001b[0m Epoch 5, Iteration 9114, loss = 0.0197\n"
     ]
    },
    {
     "name": "stderr",
     "output_type": "stream",
     "text": [
      "2024-04-17 11:34:19,337\tWARNING util.py:202 -- The `callbacks.on_trial_result` operation took 2.936 s, which may be a performance bottleneck.\n",
      "2024-04-17 11:34:19,340\tWARNING util.py:202 -- The `process_trial_result` operation took 2.939 s, which may be a performance bottleneck.\n",
      "2024-04-17 11:34:19,341\tWARNING util.py:202 -- Processing trial results took 2.940 s, which may be a performance bottleneck. Please consider reporting results less frequently to Ray Tune.\n",
      "2024-04-17 11:34:19,341\tWARNING util.py:202 -- The `process_trial_result` operation took 2.940 s, which may be a performance bottleneck.\n"
     ]
    },
    {
     "name": "stdout",
     "output_type": "stream",
     "text": [
      "\u001b[36m(RayTrainWorker pid=15332)\u001b[0m Got rmse 1.641997218132019\n",
      "\u001b[36m(RayTrainWorker pid=15332)\u001b[0m Got rmse 1.6234818696975708\n",
      "\u001b[36m(RayTrainWorker pid=15332)\u001b[0m \n",
      "\u001b[36m(RayTrainWorker pid=15332)\u001b[0m Epoch 6, Iteration 10633, loss = 0.0188\n",
      "\u001b[36m(RayTrainWorker pid=15332)\u001b[0m Got rmse 1.5795526504516602\n"
     ]
    },
    {
     "name": "stderr",
     "output_type": "stream",
     "text": [
      "2024-04-17 11:34:24,005\tWARNING util.py:202 -- The `callbacks.on_trial_result` operation took 2.743 s, which may be a performance bottleneck.\n",
      "2024-04-17 11:34:24,007\tWARNING util.py:202 -- The `process_trial_result` operation took 2.746 s, which may be a performance bottleneck.\n",
      "2024-04-17 11:34:24,008\tWARNING util.py:202 -- Processing trial results took 2.746 s, which may be a performance bottleneck. Please consider reporting results less frequently to Ray Tune.\n",
      "2024-04-17 11:34:24,008\tWARNING util.py:202 -- The `process_trial_result` operation took 2.747 s, which may be a performance bottleneck.\n"
     ]
    },
    {
     "name": "stdout",
     "output_type": "stream",
     "text": [
      "\u001b[36m(RayTrainWorker pid=15332)\u001b[0m Got rmse 1.5659908056259155\n",
      "\u001b[36m(RayTrainWorker pid=15332)\u001b[0m \n",
      "\u001b[36m(RayTrainWorker pid=15332)\u001b[0m Epoch 7, Iteration 12152, loss = 0.0180\n",
      "\u001b[36m(RayTrainWorker pid=15332)\u001b[0m Got rmse 1.5685328245162964\n"
     ]
    },
    {
     "name": "stderr",
     "output_type": "stream",
     "text": [
      "2024-04-17 11:34:28,609\tWARNING util.py:202 -- The `callbacks.on_trial_result` operation took 2.814 s, which may be a performance bottleneck.\n",
      "2024-04-17 11:34:28,612\tWARNING util.py:202 -- The `process_trial_result` operation took 2.818 s, which may be a performance bottleneck.\n",
      "2024-04-17 11:34:28,613\tWARNING util.py:202 -- Processing trial results took 2.818 s, which may be a performance bottleneck. Please consider reporting results less frequently to Ray Tune.\n",
      "2024-04-17 11:34:28,613\tWARNING util.py:202 -- The `process_trial_result` operation took 2.819 s, which may be a performance bottleneck.\n"
     ]
    },
    {
     "name": "stdout",
     "output_type": "stream",
     "text": [
      "\u001b[36m(RayTrainWorker pid=15332)\u001b[0m Got rmse 1.5541913509368896\n",
      "\u001b[36m(RayTrainWorker pid=15332)\u001b[0m \n",
      "\u001b[36m(RayTrainWorker pid=15332)\u001b[0m Epoch 8, Iteration 13671, loss = 0.0173\n",
      "\u001b[36m(RayTrainWorker pid=15332)\u001b[0m Got rmse 1.4726506471633911\n"
     ]
    },
    {
     "name": "stderr",
     "output_type": "stream",
     "text": [
      "2024-04-17 11:34:32,764\tWARNING util.py:202 -- The `callbacks.on_trial_result` operation took 3.114 s, which may be a performance bottleneck.\n",
      "2024-04-17 11:34:32,765\tWARNING util.py:202 -- The `process_trial_result` operation took 3.116 s, which may be a performance bottleneck.\n",
      "2024-04-17 11:34:32,766\tWARNING util.py:202 -- Processing trial results took 3.116 s, which may be a performance bottleneck. Please consider reporting results less frequently to Ray Tune.\n",
      "2024-04-17 11:34:32,766\tWARNING util.py:202 -- The `process_trial_result` operation took 3.117 s, which may be a performance bottleneck.\n"
     ]
    },
    {
     "name": "stdout",
     "output_type": "stream",
     "text": [
      "\u001b[36m(RayTrainWorker pid=15332)\u001b[0m Got rmse 1.4535202980041504\n",
      "\u001b[36m(RayTrainWorker pid=15332)\u001b[0m \n",
      "\u001b[36m(RayTrainWorker pid=15332)\u001b[0m Epoch 9, Iteration 15190, loss = 0.0158\n",
      "\u001b[36m(RayTrainWorker pid=15332)\u001b[0m Got rmse 1.4468318223953247\n"
     ]
    },
    {
     "name": "stderr",
     "output_type": "stream",
     "text": [
      "2024-04-17 11:34:37,432\tWARNING util.py:202 -- The `callbacks.on_trial_result` operation took 2.784 s, which may be a performance bottleneck.\n",
      "2024-04-17 11:34:37,436\tWARNING util.py:202 -- The `process_trial_result` operation took 2.787 s, which may be a performance bottleneck.\n",
      "2024-04-17 11:34:37,436\tWARNING util.py:202 -- Processing trial results took 2.788 s, which may be a performance bottleneck. Please consider reporting results less frequently to Ray Tune.\n",
      "2024-04-17 11:34:37,437\tWARNING util.py:202 -- The `process_trial_result` operation took 2.789 s, which may be a performance bottleneck.\n"
     ]
    },
    {
     "name": "stdout",
     "output_type": "stream",
     "text": [
      "\u001b[36m(RayTrainWorker pid=15332)\u001b[0m Got rmse 1.4309923648834229\n",
      "\u001b[36m(RayTrainWorker pid=15332)\u001b[0m \n",
      "\u001b[36m(RayTrainWorker pid=15332)\u001b[0m Epoch 10, Iteration 16709, loss = 0.0165\n",
      "\u001b[36m(RayTrainWorker pid=15332)\u001b[0m Got rmse 1.398536205291748\n"
     ]
    },
    {
     "name": "stderr",
     "output_type": "stream",
     "text": [
      "2024-04-17 11:34:41,307\tWARNING util.py:202 -- The `callbacks.on_trial_result` operation took 2.869 s, which may be a performance bottleneck.\n",
      "2024-04-17 11:34:41,309\tWARNING util.py:202 -- The `process_trial_result` operation took 2.871 s, which may be a performance bottleneck.\n",
      "2024-04-17 11:34:41,311\tWARNING util.py:202 -- Processing trial results took 2.873 s, which may be a performance bottleneck. Please consider reporting results less frequently to Ray Tune.\n",
      "2024-04-17 11:34:41,312\tWARNING util.py:202 -- The `process_trial_result` operation took 2.874 s, which may be a performance bottleneck.\n"
     ]
    },
    {
     "name": "stdout",
     "output_type": "stream",
     "text": [
      "\u001b[36m(RayTrainWorker pid=15332)\u001b[0m Got rmse 1.3799011707305908\n",
      "\u001b[36m(RayTrainWorker pid=15332)\u001b[0m \n",
      "\u001b[36m(RayTrainWorker pid=15332)\u001b[0m Epoch 11, Iteration 18228, loss = 0.0161\n",
      "\u001b[36m(RayTrainWorker pid=15332)\u001b[0m Got rmse 1.3849904537200928\n"
     ]
    },
    {
     "name": "stderr",
     "output_type": "stream",
     "text": [
      "2024-04-17 11:34:45,054\tWARNING util.py:202 -- The `callbacks.on_trial_result` operation took 2.721 s, which may be a performance bottleneck.\n",
      "2024-04-17 11:34:45,057\tWARNING util.py:202 -- The `process_trial_result` operation took 2.724 s, which may be a performance bottleneck.\n",
      "2024-04-17 11:34:45,057\tWARNING util.py:202 -- Processing trial results took 2.724 s, which may be a performance bottleneck. Please consider reporting results less frequently to Ray Tune.\n",
      "2024-04-17 11:34:45,058\tWARNING util.py:202 -- The `process_trial_result` operation took 2.725 s, which may be a performance bottleneck.\n"
     ]
    },
    {
     "name": "stdout",
     "output_type": "stream",
     "text": [
      "\u001b[36m(RayTrainWorker pid=15332)\u001b[0m Got rmse 1.3684196472167969\n",
      "\u001b[36m(RayTrainWorker pid=15332)\u001b[0m \n",
      "\u001b[36m(RayTrainWorker pid=15332)\u001b[0m Epoch 12, Iteration 19747, loss = 0.0164\n",
      "\u001b[36m(RayTrainWorker pid=15332)\u001b[0m Got rmse 1.330987811088562\n"
     ]
    },
    {
     "name": "stderr",
     "output_type": "stream",
     "text": [
      "2024-04-17 11:34:49,572\tWARNING util.py:202 -- The `callbacks.on_trial_result` operation took 2.762 s, which may be a performance bottleneck.\n",
      "2024-04-17 11:34:49,574\tWARNING util.py:202 -- The `process_trial_result` operation took 2.764 s, which may be a performance bottleneck.\n",
      "2024-04-17 11:34:49,575\tWARNING util.py:202 -- Processing trial results took 2.766 s, which may be a performance bottleneck. Please consider reporting results less frequently to Ray Tune.\n",
      "2024-04-17 11:34:49,575\tWARNING util.py:202 -- The `process_trial_result` operation took 2.766 s, which may be a performance bottleneck.\n"
     ]
    },
    {
     "name": "stdout",
     "output_type": "stream",
     "text": [
      "\u001b[36m(RayTrainWorker pid=15332)\u001b[0m Got rmse 1.3134077787399292\n",
      "\u001b[36m(RayTrainWorker pid=15332)\u001b[0m \n",
      "\u001b[36m(RayTrainWorker pid=15332)\u001b[0m Epoch 13, Iteration 21266, loss = 0.0153\n",
      "\u001b[36m(RayTrainWorker pid=15332)\u001b[0m Got rmse 1.3349957466125488\n"
     ]
    },
    {
     "name": "stderr",
     "output_type": "stream",
     "text": [
      "2024-04-17 11:34:53,388\tWARNING util.py:202 -- The `callbacks.on_trial_result` operation took 2.820 s, which may be a performance bottleneck.\n",
      "2024-04-17 11:34:53,392\tWARNING util.py:202 -- The `process_trial_result` operation took 2.824 s, which may be a performance bottleneck.\n",
      "2024-04-17 11:34:53,392\tWARNING util.py:202 -- Processing trial results took 2.824 s, which may be a performance bottleneck. Please consider reporting results less frequently to Ray Tune.\n",
      "2024-04-17 11:34:53,393\tWARNING util.py:202 -- The `process_trial_result` operation took 2.825 s, which may be a performance bottleneck.\n"
     ]
    },
    {
     "name": "stdout",
     "output_type": "stream",
     "text": [
      "\u001b[36m(RayTrainWorker pid=15332)\u001b[0m Got rmse 1.3200269937515259\n",
      "\u001b[36m(RayTrainWorker pid=15332)\u001b[0m \n",
      "\u001b[36m(RayTrainWorker pid=15332)\u001b[0m Epoch 14, Iteration 22785, loss = 0.0159\n",
      "\u001b[36m(RayTrainWorker pid=15332)\u001b[0m Got rmse 1.272779107093811\n"
     ]
    },
    {
     "name": "stderr",
     "output_type": "stream",
     "text": [
      "2024-04-17 11:34:58,094\tWARNING util.py:202 -- The `callbacks.on_trial_result` operation took 2.938 s, which may be a performance bottleneck.\n",
      "2024-04-17 11:34:58,096\tWARNING util.py:202 -- The `process_trial_result` operation took 2.940 s, which may be a performance bottleneck.\n",
      "2024-04-17 11:34:58,097\tWARNING util.py:202 -- Processing trial results took 2.941 s, which may be a performance bottleneck. Please consider reporting results less frequently to Ray Tune.\n",
      "2024-04-17 11:34:58,098\tWARNING util.py:202 -- The `process_trial_result` operation took 2.942 s, which may be a performance bottleneck.\n"
     ]
    },
    {
     "name": "stdout",
     "output_type": "stream",
     "text": [
      "\u001b[36m(RayTrainWorker pid=15332)\u001b[0m Got rmse 1.2543731927871704\n",
      "\u001b[36m(RayTrainWorker pid=15332)\u001b[0m \n",
      "\u001b[36m(RayTrainWorker pid=15332)\u001b[0m Epoch 15, Iteration 24304, loss = 0.0158\n",
      "\u001b[36m(RayTrainWorker pid=15332)\u001b[0m Got rmse 1.2368675470352173\n"
     ]
    },
    {
     "name": "stderr",
     "output_type": "stream",
     "text": [
      "2024-04-17 11:35:01,957\tWARNING util.py:202 -- The `callbacks.on_trial_result` operation took 2.783 s, which may be a performance bottleneck.\n",
      "2024-04-17 11:35:01,962\tWARNING util.py:202 -- The `process_trial_result` operation took 2.787 s, which may be a performance bottleneck.\n",
      "2024-04-17 11:35:01,962\tWARNING util.py:202 -- Processing trial results took 2.788 s, which may be a performance bottleneck. Please consider reporting results less frequently to Ray Tune.\n",
      "2024-04-17 11:35:01,963\tWARNING util.py:202 -- The `process_trial_result` operation took 2.788 s, which may be a performance bottleneck.\n"
     ]
    },
    {
     "name": "stdout",
     "output_type": "stream",
     "text": [
      "\u001b[36m(RayTrainWorker pid=15332)\u001b[0m Got rmse 1.218932032585144\n",
      "\u001b[36m(RayTrainWorker pid=15332)\u001b[0m \n",
      "\u001b[36m(RayTrainWorker pid=15332)\u001b[0m Epoch 16, Iteration 25823, loss = 0.0147\n",
      "\u001b[36m(RayTrainWorker pid=15332)\u001b[0m Got rmse 1.2113920450210571\n"
     ]
    },
    {
     "name": "stderr",
     "output_type": "stream",
     "text": [
      "2024-04-17 11:35:05,867\tWARNING util.py:202 -- The `callbacks.on_trial_result` operation took 2.866 s, which may be a performance bottleneck.\n",
      "2024-04-17 11:35:05,869\tWARNING util.py:202 -- The `process_trial_result` operation took 2.868 s, which may be a performance bottleneck.\n",
      "2024-04-17 11:35:05,869\tWARNING util.py:202 -- Processing trial results took 2.869 s, which may be a performance bottleneck. Please consider reporting results less frequently to Ray Tune.\n",
      "2024-04-17 11:35:05,870\tWARNING util.py:202 -- The `process_trial_result` operation took 2.869 s, which may be a performance bottleneck.\n"
     ]
    },
    {
     "name": "stdout",
     "output_type": "stream",
     "text": [
      "\u001b[36m(RayTrainWorker pid=15332)\u001b[0m Got rmse 1.192396879196167\n",
      "\u001b[36m(RayTrainWorker pid=15332)\u001b[0m \n",
      "\u001b[36m(RayTrainWorker pid=15332)\u001b[0m Epoch 17, Iteration 27342, loss = 0.0145\n",
      "\u001b[36m(RayTrainWorker pid=15332)\u001b[0m Got rmse 1.1913535594940186\n"
     ]
    },
    {
     "name": "stderr",
     "output_type": "stream",
     "text": [
      "2024-04-17 11:35:10,697\tWARNING util.py:202 -- The `callbacks.on_trial_result` operation took 2.878 s, which may be a performance bottleneck.\n",
      "2024-04-17 11:35:10,701\tWARNING util.py:202 -- The `process_trial_result` operation took 2.882 s, which may be a performance bottleneck.\n",
      "2024-04-17 11:35:10,701\tWARNING util.py:202 -- Processing trial results took 2.883 s, which may be a performance bottleneck. Please consider reporting results less frequently to Ray Tune.\n",
      "2024-04-17 11:35:10,701\tWARNING util.py:202 -- The `process_trial_result` operation took 2.883 s, which may be a performance bottleneck.\n"
     ]
    },
    {
     "name": "stdout",
     "output_type": "stream",
     "text": [
      "\u001b[36m(RayTrainWorker pid=15332)\u001b[0m Got rmse 1.1710481643676758\n",
      "\u001b[36m(RayTrainWorker pid=15332)\u001b[0m \n",
      "\u001b[36m(RayTrainWorker pid=15332)\u001b[0m Epoch 18, Iteration 28861, loss = 0.0139\n",
      "\u001b[36m(RayTrainWorker pid=15332)\u001b[0m Got rmse 1.1717244386672974\n"
     ]
    },
    {
     "name": "stderr",
     "output_type": "stream",
     "text": [
      "2024-04-17 11:35:14,709\tWARNING util.py:202 -- The `callbacks.on_trial_result` operation took 2.915 s, which may be a performance bottleneck.\n",
      "2024-04-17 11:35:14,711\tWARNING util.py:202 -- The `process_trial_result` operation took 2.917 s, which may be a performance bottleneck.\n",
      "2024-04-17 11:35:14,712\tWARNING util.py:202 -- Processing trial results took 2.918 s, which may be a performance bottleneck. Please consider reporting results less frequently to Ray Tune.\n",
      "2024-04-17 11:35:14,713\tWARNING util.py:202 -- The `process_trial_result` operation took 2.919 s, which may be a performance bottleneck.\n"
     ]
    },
    {
     "name": "stdout",
     "output_type": "stream",
     "text": [
      "\u001b[36m(RayTrainWorker pid=15332)\u001b[0m Got rmse 1.1537137031555176\n",
      "\u001b[36m(RayTrainWorker pid=15332)\u001b[0m \n",
      "\u001b[36m(RayTrainWorker pid=15332)\u001b[0m Epoch 19, Iteration 30380, loss = 0.0130\n",
      "\u001b[36m(RayTrainWorker pid=15332)\u001b[0m Got rmse 1.1744405031204224\n"
     ]
    },
    {
     "name": "stderr",
     "output_type": "stream",
     "text": [
      "2024-04-17 11:35:18,621\tWARNING util.py:202 -- The `callbacks.on_trial_result` operation took 2.843 s, which may be a performance bottleneck.\n",
      "2024-04-17 11:35:18,624\tWARNING util.py:202 -- The `process_trial_result` operation took 2.847 s, which may be a performance bottleneck.\n",
      "2024-04-17 11:35:18,625\tWARNING util.py:202 -- Processing trial results took 2.847 s, which may be a performance bottleneck. Please consider reporting results less frequently to Ray Tune.\n",
      "2024-04-17 11:35:18,625\tWARNING util.py:202 -- The `process_trial_result` operation took 2.848 s, which may be a performance bottleneck.\n"
     ]
    },
    {
     "name": "stdout",
     "output_type": "stream",
     "text": [
      "\u001b[36m(RayTrainWorker pid=15332)\u001b[0m Got rmse 1.1551413536071777\n",
      "\u001b[36m(RayTrainWorker pid=15332)\u001b[0m \n",
      "\u001b[36m(RayTrainWorker pid=15332)\u001b[0m Epoch 20, Iteration 31899, loss = 0.0139\n",
      "\u001b[36m(RayTrainWorker pid=15332)\u001b[0m Got rmse 1.1730337142944336\n"
     ]
    },
    {
     "name": "stderr",
     "output_type": "stream",
     "text": [
      "2024-04-17 11:35:23,132\tWARNING util.py:202 -- The `callbacks.on_trial_result` operation took 2.710 s, which may be a performance bottleneck.\n",
      "2024-04-17 11:35:23,134\tWARNING util.py:202 -- The `process_trial_result` operation took 2.713 s, which may be a performance bottleneck.\n",
      "2024-04-17 11:35:23,135\tWARNING util.py:202 -- Processing trial results took 2.714 s, which may be a performance bottleneck. Please consider reporting results less frequently to Ray Tune.\n",
      "2024-04-17 11:35:23,136\tWARNING util.py:202 -- The `process_trial_result` operation took 2.714 s, which may be a performance bottleneck.\n"
     ]
    },
    {
     "name": "stdout",
     "output_type": "stream",
     "text": [
      "\u001b[36m(RayTrainWorker pid=15332)\u001b[0m Got rmse 1.1546437740325928\n",
      "\u001b[36m(RayTrainWorker pid=15332)\u001b[0m \n",
      "\u001b[36m(RayTrainWorker pid=15332)\u001b[0m Epoch 21, Iteration 33418, loss = 0.0123\n",
      "\u001b[36m(RayTrainWorker pid=15332)\u001b[0m Got rmse 1.1171144247055054\n"
     ]
    },
    {
     "name": "stderr",
     "output_type": "stream",
     "text": [
      "2024-04-17 11:35:26,849\tWARNING util.py:202 -- The `callbacks.on_trial_result` operation took 2.666 s, which may be a performance bottleneck.\n",
      "2024-04-17 11:35:26,852\tWARNING util.py:202 -- The `process_trial_result` operation took 2.670 s, which may be a performance bottleneck.\n",
      "2024-04-17 11:35:26,853\tWARNING util.py:202 -- Processing trial results took 2.670 s, which may be a performance bottleneck. Please consider reporting results less frequently to Ray Tune.\n",
      "2024-04-17 11:35:26,854\tWARNING util.py:202 -- The `process_trial_result` operation took 2.672 s, which may be a performance bottleneck.\n"
     ]
    },
    {
     "name": "stdout",
     "output_type": "stream",
     "text": [
      "\u001b[36m(RayTrainWorker pid=15332)\u001b[0m Got rmse 1.095345377922058\n",
      "\u001b[36m(RayTrainWorker pid=15332)\u001b[0m \n",
      "\u001b[36m(RayTrainWorker pid=15332)\u001b[0m Epoch 22, Iteration 34937, loss = 0.0127\n",
      "\u001b[36m(RayTrainWorker pid=15332)\u001b[0m Got rmse 1.1286557912826538\n"
     ]
    },
    {
     "name": "stderr",
     "output_type": "stream",
     "text": [
      "2024-04-17 11:35:31,481\tWARNING util.py:202 -- The `callbacks.on_trial_result` operation took 2.851 s, which may be a performance bottleneck.\n",
      "2024-04-17 11:35:31,482\tWARNING util.py:202 -- The `process_trial_result` operation took 2.852 s, which may be a performance bottleneck.\n",
      "2024-04-17 11:35:31,483\tWARNING util.py:202 -- Processing trial results took 2.853 s, which may be a performance bottleneck. Please consider reporting results less frequently to Ray Tune.\n",
      "2024-04-17 11:35:31,485\tWARNING util.py:202 -- The `process_trial_result` operation took 2.855 s, which may be a performance bottleneck.\n"
     ]
    },
    {
     "name": "stdout",
     "output_type": "stream",
     "text": [
      "\u001b[36m(RayTrainWorker pid=15332)\u001b[0m Got rmse 1.1093008518218994\n",
      "\u001b[36m(RayTrainWorker pid=15332)\u001b[0m \n",
      "\u001b[36m(RayTrainWorker pid=15332)\u001b[0m Epoch 23, Iteration 36456, loss = 0.0115\n",
      "\u001b[36m(RayTrainWorker pid=15332)\u001b[0m Got rmse 1.0847066640853882\n"
     ]
    },
    {
     "name": "stderr",
     "output_type": "stream",
     "text": [
      "2024-04-17 11:35:35,271\tWARNING util.py:202 -- The `callbacks.on_trial_result` operation took 2.736 s, which may be a performance bottleneck.\n",
      "2024-04-17 11:35:35,274\tWARNING util.py:202 -- The `process_trial_result` operation took 2.739 s, which may be a performance bottleneck.\n",
      "2024-04-17 11:35:35,275\tWARNING util.py:202 -- Processing trial results took 2.740 s, which may be a performance bottleneck. Please consider reporting results less frequently to Ray Tune.\n",
      "2024-04-17 11:35:35,276\tWARNING util.py:202 -- The `process_trial_result` operation took 2.741 s, which may be a performance bottleneck.\n"
     ]
    },
    {
     "name": "stdout",
     "output_type": "stream",
     "text": [
      "\u001b[36m(RayTrainWorker pid=15332)\u001b[0m Got rmse 1.065204381942749\n",
      "\u001b[36m(RayTrainWorker pid=15332)\u001b[0m \n",
      "\u001b[36m(RayTrainWorker pid=15332)\u001b[0m Epoch 24, Iteration 37975, loss = 0.0116\n",
      "\u001b[36m(RayTrainWorker pid=15332)\u001b[0m Got rmse 1.0554742813110352\n"
     ]
    },
    {
     "name": "stderr",
     "output_type": "stream",
     "text": [
      "2024-04-17 11:35:39,119\tWARNING util.py:202 -- The `callbacks.on_trial_result` operation took 2.760 s, which may be a performance bottleneck.\n",
      "2024-04-17 11:35:39,121\tWARNING util.py:202 -- The `process_trial_result` operation took 2.762 s, which may be a performance bottleneck.\n",
      "2024-04-17 11:35:39,122\tWARNING util.py:202 -- Processing trial results took 2.763 s, which may be a performance bottleneck. Please consider reporting results less frequently to Ray Tune.\n",
      "2024-04-17 11:35:39,123\tWARNING util.py:202 -- The `process_trial_result` operation took 2.764 s, which may be a performance bottleneck.\n"
     ]
    },
    {
     "name": "stdout",
     "output_type": "stream",
     "text": [
      "\u001b[36m(RayTrainWorker pid=15332)\u001b[0m Got rmse 1.036710262298584\n",
      "\u001b[36m(RayTrainWorker pid=15332)\u001b[0m \n",
      "\u001b[36m(RayTrainWorker pid=15332)\u001b[0m Epoch 25, Iteration 39494, loss = 0.0126\n",
      "\u001b[36m(RayTrainWorker pid=15332)\u001b[0m Got rmse 1.0699799060821533\n"
     ]
    },
    {
     "name": "stderr",
     "output_type": "stream",
     "text": [
      "2024-04-17 11:35:43,890\tWARNING util.py:202 -- The `callbacks.on_trial_result` operation took 2.991 s, which may be a performance bottleneck.\n",
      "2024-04-17 11:35:43,893\tWARNING util.py:202 -- The `process_trial_result` operation took 2.994 s, which may be a performance bottleneck.\n",
      "2024-04-17 11:35:43,894\tWARNING util.py:202 -- Processing trial results took 2.995 s, which may be a performance bottleneck. Please consider reporting results less frequently to Ray Tune.\n",
      "2024-04-17 11:35:43,894\tWARNING util.py:202 -- The `process_trial_result` operation took 2.995 s, which may be a performance bottleneck.\n"
     ]
    },
    {
     "name": "stdout",
     "output_type": "stream",
     "text": [
      "\u001b[36m(RayTrainWorker pid=15332)\u001b[0m Got rmse 1.0515087842941284\n",
      "\u001b[36m(RayTrainWorker pid=15332)\u001b[0m \n",
      "\u001b[36m(RayTrainWorker pid=15332)\u001b[0m Epoch 26, Iteration 41013, loss = 0.0117\n",
      "\u001b[36m(RayTrainWorker pid=15332)\u001b[0m Got rmse 1.043792963027954\n"
     ]
    },
    {
     "name": "stderr",
     "output_type": "stream",
     "text": [
      "2024-04-17 11:35:47,885\tWARNING util.py:202 -- The `callbacks.on_trial_result` operation took 2.979 s, which may be a performance bottleneck.\n",
      "2024-04-17 11:35:47,888\tWARNING util.py:202 -- The `process_trial_result` operation took 2.982 s, which may be a performance bottleneck.\n",
      "2024-04-17 11:35:47,889\tWARNING util.py:202 -- Processing trial results took 2.983 s, which may be a performance bottleneck. Please consider reporting results less frequently to Ray Tune.\n",
      "2024-04-17 11:35:47,889\tWARNING util.py:202 -- The `process_trial_result` operation took 2.984 s, which may be a performance bottleneck.\n"
     ]
    },
    {
     "name": "stdout",
     "output_type": "stream",
     "text": [
      "\u001b[36m(RayTrainWorker pid=15332)\u001b[0m Got rmse 1.02777099609375\n",
      "\u001b[36m(RayTrainWorker pid=15332)\u001b[0m \n",
      "\u001b[36m(RayTrainWorker pid=15332)\u001b[0m Epoch 27, Iteration 42532, loss = 0.0124\n",
      "\u001b[36m(RayTrainWorker pid=15332)\u001b[0m Got rmse 1.0613492727279663\n"
     ]
    },
    {
     "name": "stderr",
     "output_type": "stream",
     "text": [
      "2024-04-17 11:35:52,470\tWARNING util.py:202 -- The `callbacks.on_trial_result` operation took 2.675 s, which may be a performance bottleneck.\n",
      "2024-04-17 11:35:52,473\tWARNING util.py:202 -- The `process_trial_result` operation took 2.678 s, which may be a performance bottleneck.\n",
      "2024-04-17 11:35:52,474\tWARNING util.py:202 -- Processing trial results took 2.679 s, which may be a performance bottleneck. Please consider reporting results less frequently to Ray Tune.\n",
      "2024-04-17 11:35:52,475\tWARNING util.py:202 -- The `process_trial_result` operation took 2.680 s, which may be a performance bottleneck.\n"
     ]
    },
    {
     "name": "stdout",
     "output_type": "stream",
     "text": [
      "\u001b[36m(RayTrainWorker pid=15332)\u001b[0m Got rmse 1.043070912361145\n",
      "\u001b[36m(RayTrainWorker pid=15332)\u001b[0m \n",
      "\u001b[36m(RayTrainWorker pid=15332)\u001b[0m Epoch 28, Iteration 44051, loss = 0.0123\n",
      "\u001b[36m(RayTrainWorker pid=15332)\u001b[0m Got rmse 1.0032485723495483\n"
     ]
    },
    {
     "name": "stderr",
     "output_type": "stream",
     "text": [
      "2024-04-17 11:35:56,163\tWARNING util.py:202 -- The `callbacks.on_trial_result` operation took 2.690 s, which may be a performance bottleneck.\n",
      "2024-04-17 11:35:56,166\tWARNING util.py:202 -- The `process_trial_result` operation took 2.693 s, which may be a performance bottleneck.\n",
      "2024-04-17 11:35:56,167\tWARNING util.py:202 -- Processing trial results took 2.694 s, which may be a performance bottleneck. Please consider reporting results less frequently to Ray Tune.\n",
      "2024-04-17 11:35:56,167\tWARNING util.py:202 -- The `process_trial_result` operation took 2.695 s, which may be a performance bottleneck.\n"
     ]
    },
    {
     "name": "stdout",
     "output_type": "stream",
     "text": [
      "\u001b[36m(RayTrainWorker pid=15332)\u001b[0m Got rmse 0.9829908609390259\n",
      "\u001b[36m(RayTrainWorker pid=15332)\u001b[0m \n",
      "\u001b[36m(RayTrainWorker pid=15332)\u001b[0m Epoch 29, Iteration 45570, loss = 0.0111\n",
      "\u001b[36m(RayTrainWorker pid=15332)\u001b[0m Got rmse 1.0406103134155273\n"
     ]
    },
    {
     "name": "stderr",
     "output_type": "stream",
     "text": [
      "2024-04-17 11:36:00,902\tWARNING util.py:202 -- The `callbacks.on_trial_result` operation took 2.871 s, which may be a performance bottleneck.\n",
      "2024-04-17 11:36:00,906\tWARNING util.py:202 -- The `process_trial_result` operation took 2.876 s, which may be a performance bottleneck.\n",
      "2024-04-17 11:36:00,907\tWARNING util.py:202 -- Processing trial results took 2.876 s, which may be a performance bottleneck. Please consider reporting results less frequently to Ray Tune.\n",
      "2024-04-17 11:36:00,907\tWARNING util.py:202 -- The `process_trial_result` operation took 2.877 s, which may be a performance bottleneck.\n"
     ]
    },
    {
     "name": "stdout",
     "output_type": "stream",
     "text": [
      "\u001b[36m(RayTrainWorker pid=15332)\u001b[0m Got rmse 1.0213311910629272\n",
      "\u001b[36m(RayTrainWorker pid=15332)\u001b[0m \n",
      "\u001b[36m(RayTrainWorker pid=15332)\u001b[0m Epoch 30, Iteration 47089, loss = 0.0102\n",
      "\u001b[36m(RayTrainWorker pid=15332)\u001b[0m Got rmse 0.9775266051292419\n"
     ]
    },
    {
     "name": "stderr",
     "output_type": "stream",
     "text": [
      "2024-04-17 11:36:05,011\tWARNING util.py:202 -- The `callbacks.on_trial_result` operation took 3.012 s, which may be a performance bottleneck.\n",
      "2024-04-17 11:36:05,014\tWARNING util.py:202 -- The `process_trial_result` operation took 3.015 s, which may be a performance bottleneck.\n",
      "2024-04-17 11:36:05,015\tWARNING util.py:202 -- Processing trial results took 3.016 s, which may be a performance bottleneck. Please consider reporting results less frequently to Ray Tune.\n",
      "2024-04-17 11:36:05,015\tWARNING util.py:202 -- The `process_trial_result` operation took 3.017 s, which may be a performance bottleneck.\n"
     ]
    },
    {
     "name": "stdout",
     "output_type": "stream",
     "text": [
      "\u001b[36m(RayTrainWorker pid=15332)\u001b[0m Got rmse 0.9588600397109985\n",
      "\u001b[36m(RayTrainWorker pid=15332)\u001b[0m \n",
      "\u001b[36m(RayTrainWorker pid=15332)\u001b[0m Epoch 31, Iteration 48608, loss = 0.0111\n",
      "\u001b[36m(RayTrainWorker pid=15332)\u001b[0m Got rmse 0.982718825340271\n"
     ]
    },
    {
     "name": "stderr",
     "output_type": "stream",
     "text": [
      "2024-04-17 11:36:09,862\tWARNING util.py:202 -- The `callbacks.on_trial_result` operation took 2.985 s, which may be a performance bottleneck.\n",
      "2024-04-17 11:36:09,866\tWARNING util.py:202 -- The `process_trial_result` operation took 2.989 s, which may be a performance bottleneck.\n",
      "2024-04-17 11:36:09,867\tWARNING util.py:202 -- Processing trial results took 2.990 s, which may be a performance bottleneck. Please consider reporting results less frequently to Ray Tune.\n",
      "2024-04-17 11:36:09,868\tWARNING util.py:202 -- The `process_trial_result` operation took 2.991 s, which may be a performance bottleneck.\n"
     ]
    },
    {
     "name": "stdout",
     "output_type": "stream",
     "text": [
      "\u001b[36m(RayTrainWorker pid=15332)\u001b[0m Got rmse 0.9642465114593506\n",
      "\u001b[36m(RayTrainWorker pid=15332)\u001b[0m \n",
      "\u001b[36m(RayTrainWorker pid=15332)\u001b[0m Epoch 32, Iteration 50127, loss = 0.0120\n",
      "\u001b[36m(RayTrainWorker pid=15332)\u001b[0m Got rmse 0.9656224846839905\n"
     ]
    },
    {
     "name": "stderr",
     "output_type": "stream",
     "text": [
      "2024-04-17 11:36:13,886\tWARNING util.py:202 -- The `callbacks.on_trial_result` operation took 2.981 s, which may be a performance bottleneck.\n",
      "2024-04-17 11:36:13,888\tWARNING util.py:202 -- The `process_trial_result` operation took 2.983 s, which may be a performance bottleneck.\n",
      "2024-04-17 11:36:13,889\tWARNING util.py:202 -- Processing trial results took 2.984 s, which may be a performance bottleneck. Please consider reporting results less frequently to Ray Tune.\n",
      "2024-04-17 11:36:13,891\tWARNING util.py:202 -- The `process_trial_result` operation took 2.986 s, which may be a performance bottleneck.\n"
     ]
    },
    {
     "name": "stdout",
     "output_type": "stream",
     "text": [
      "\u001b[36m(RayTrainWorker pid=15332)\u001b[0m Got rmse 0.9471217393875122\n",
      "\u001b[36m(RayTrainWorker pid=15332)\u001b[0m \n",
      "\u001b[36m(RayTrainWorker pid=15332)\u001b[0m Epoch 33, Iteration 51646, loss = 0.0112\n",
      "\u001b[36m(RayTrainWorker pid=15332)\u001b[0m Got rmse 0.9551247954368591\n"
     ]
    },
    {
     "name": "stderr",
     "output_type": "stream",
     "text": [
      "2024-04-17 11:36:18,295\tWARNING util.py:202 -- The `callbacks.on_trial_result` operation took 2.630 s, which may be a performance bottleneck.\n",
      "2024-04-17 11:36:18,299\tWARNING util.py:202 -- The `process_trial_result` operation took 2.634 s, which may be a performance bottleneck.\n",
      "2024-04-17 11:36:18,300\tWARNING util.py:202 -- Processing trial results took 2.635 s, which may be a performance bottleneck. Please consider reporting results less frequently to Ray Tune.\n",
      "2024-04-17 11:36:18,301\tWARNING util.py:202 -- The `process_trial_result` operation took 2.636 s, which may be a performance bottleneck.\n"
     ]
    },
    {
     "name": "stdout",
     "output_type": "stream",
     "text": [
      "\u001b[36m(RayTrainWorker pid=15332)\u001b[0m Got rmse 0.935825765132904\n",
      "\u001b[36m(RayTrainWorker pid=15332)\u001b[0m \n",
      "\u001b[36m(RayTrainWorker pid=15332)\u001b[0m Epoch 34, Iteration 53165, loss = 0.0113\n",
      "\u001b[36m(RayTrainWorker pid=15332)\u001b[0m Got rmse 0.9457870721817017\n"
     ]
    },
    {
     "name": "stderr",
     "output_type": "stream",
     "text": [
      "2024-04-17 11:36:22,352\tWARNING util.py:202 -- The `callbacks.on_trial_result` operation took 3.047 s, which may be a performance bottleneck.\n",
      "2024-04-17 11:36:22,355\tWARNING util.py:202 -- The `process_trial_result` operation took 3.050 s, which may be a performance bottleneck.\n",
      "2024-04-17 11:36:22,356\tWARNING util.py:202 -- Processing trial results took 3.051 s, which may be a performance bottleneck. Please consider reporting results less frequently to Ray Tune.\n",
      "2024-04-17 11:36:22,357\tWARNING util.py:202 -- The `process_trial_result` operation took 3.053 s, which may be a performance bottleneck.\n"
     ]
    },
    {
     "name": "stdout",
     "output_type": "stream",
     "text": [
      "\u001b[36m(RayTrainWorker pid=15332)\u001b[0m Got rmse 0.9269276857376099\n",
      "\u001b[36m(RayTrainWorker pid=15332)\u001b[0m \n",
      "\u001b[36m(RayTrainWorker pid=15332)\u001b[0m Epoch 35, Iteration 54684, loss = 0.0121\n",
      "\u001b[36m(RayTrainWorker pid=15332)\u001b[0m Got rmse 0.949619710445404\n"
     ]
    },
    {
     "name": "stderr",
     "output_type": "stream",
     "text": [
      "2024-04-17 11:36:27,180\tWARNING util.py:202 -- The `callbacks.on_trial_result` operation took 2.912 s, which may be a performance bottleneck.\n",
      "2024-04-17 11:36:27,183\tWARNING util.py:202 -- The `process_trial_result` operation took 2.916 s, which may be a performance bottleneck.\n",
      "2024-04-17 11:36:27,185\tWARNING util.py:202 -- Processing trial results took 2.917 s, which may be a performance bottleneck. Please consider reporting results less frequently to Ray Tune.\n",
      "2024-04-17 11:36:27,185\tWARNING util.py:202 -- The `process_trial_result` operation took 2.918 s, which may be a performance bottleneck.\n"
     ]
    },
    {
     "name": "stdout",
     "output_type": "stream",
     "text": [
      "\u001b[36m(RayTrainWorker pid=15332)\u001b[0m Got rmse 0.9312916994094849\n",
      "\u001b[36m(RayTrainWorker pid=15332)\u001b[0m \n",
      "\u001b[36m(RayTrainWorker pid=15332)\u001b[0m Epoch 36, Iteration 56203, loss = 0.0115\n",
      "\u001b[36m(RayTrainWorker pid=15332)\u001b[0m Got rmse 0.941495418548584\n"
     ]
    },
    {
     "name": "stderr",
     "output_type": "stream",
     "text": [
      "2024-04-17 11:36:31,139\tWARNING util.py:202 -- The `callbacks.on_trial_result` operation took 2.907 s, which may be a performance bottleneck.\n",
      "2024-04-17 11:36:31,140\tWARNING util.py:202 -- The `process_trial_result` operation took 2.908 s, which may be a performance bottleneck.\n",
      "2024-04-17 11:36:31,141\tWARNING util.py:202 -- Processing trial results took 2.909 s, which may be a performance bottleneck. Please consider reporting results less frequently to Ray Tune.\n",
      "2024-04-17 11:36:31,142\tWARNING util.py:202 -- The `process_trial_result` operation took 2.911 s, which may be a performance bottleneck.\n"
     ]
    },
    {
     "name": "stdout",
     "output_type": "stream",
     "text": [
      "\u001b[36m(RayTrainWorker pid=15332)\u001b[0m Got rmse 0.9223248958587646\n",
      "\u001b[36m(RayTrainWorker pid=15332)\u001b[0m \n",
      "\u001b[36m(RayTrainWorker pid=15332)\u001b[0m Epoch 37, Iteration 57722, loss = 0.0109\n",
      "\u001b[36m(RayTrainWorker pid=15332)\u001b[0m Got rmse 0.9379193782806396\n"
     ]
    },
    {
     "name": "stderr",
     "output_type": "stream",
     "text": [
      "2024-04-17 11:36:35,945\tWARNING util.py:202 -- The `callbacks.on_trial_result` operation took 2.907 s, which may be a performance bottleneck.\n",
      "2024-04-17 11:36:35,948\tWARNING util.py:202 -- The `process_trial_result` operation took 2.910 s, which may be a performance bottleneck.\n",
      "2024-04-17 11:36:35,949\tWARNING util.py:202 -- Processing trial results took 2.911 s, which may be a performance bottleneck. Please consider reporting results less frequently to Ray Tune.\n",
      "2024-04-17 11:36:35,950\tWARNING util.py:202 -- The `process_trial_result` operation took 2.912 s, which may be a performance bottleneck.\n"
     ]
    },
    {
     "name": "stdout",
     "output_type": "stream",
     "text": [
      "\u001b[36m(RayTrainWorker pid=15332)\u001b[0m Got rmse 0.9193174242973328\n",
      "\u001b[36m(RayTrainWorker pid=15332)\u001b[0m \n",
      "\u001b[36m(RayTrainWorker pid=15332)\u001b[0m Epoch 38, Iteration 59241, loss = 0.0111\n",
      "\u001b[36m(RayTrainWorker pid=15332)\u001b[0m Got rmse 0.9328643679618835\n"
     ]
    },
    {
     "name": "stderr",
     "output_type": "stream",
     "text": [
      "2024-04-17 11:36:39,665\tWARNING util.py:202 -- The `callbacks.on_trial_result` operation took 2.685 s, which may be a performance bottleneck.\n",
      "2024-04-17 11:36:39,667\tWARNING util.py:202 -- The `process_trial_result` operation took 2.687 s, which may be a performance bottleneck.\n",
      "2024-04-17 11:36:39,668\tWARNING util.py:202 -- Processing trial results took 2.687 s, which may be a performance bottleneck. Please consider reporting results less frequently to Ray Tune.\n",
      "2024-04-17 11:36:39,668\tWARNING util.py:202 -- The `process_trial_result` operation took 2.688 s, which may be a performance bottleneck.\n"
     ]
    },
    {
     "name": "stdout",
     "output_type": "stream",
     "text": [
      "\u001b[36m(RayTrainWorker pid=15332)\u001b[0m Got rmse 0.9141668677330017\n",
      "\u001b[36m(RayTrainWorker pid=15332)\u001b[0m \n",
      "\u001b[36m(RayTrainWorker pid=15332)\u001b[0m Epoch 39, Iteration 60760, loss = 0.0114\n",
      "\u001b[36m(RayTrainWorker pid=15332)\u001b[0m Got rmse 0.943706214427948\n"
     ]
    },
    {
     "name": "stderr",
     "output_type": "stream",
     "text": [
      "2024-04-17 11:36:44,365\tWARNING util.py:202 -- The `callbacks.on_trial_result` operation took 2.862 s, which may be a performance bottleneck.\n",
      "2024-04-17 11:36:44,369\tWARNING util.py:202 -- The `process_trial_result` operation took 2.866 s, which may be a performance bottleneck.\n",
      "2024-04-17 11:36:44,370\tWARNING util.py:202 -- Processing trial results took 2.867 s, which may be a performance bottleneck. Please consider reporting results less frequently to Ray Tune.\n",
      "2024-04-17 11:36:44,371\tWARNING util.py:202 -- The `process_trial_result` operation took 2.868 s, which may be a performance bottleneck.\n"
     ]
    },
    {
     "name": "stdout",
     "output_type": "stream",
     "text": [
      "\u001b[36m(RayTrainWorker pid=15332)\u001b[0m Got rmse 0.9235339760780334\n",
      "\u001b[36m(RayTrainWorker pid=15332)\u001b[0m \n",
      "\u001b[36m(RayTrainWorker pid=15332)\u001b[0m Epoch 40, Iteration 62279, loss = 0.0112\n",
      "\u001b[36m(RayTrainWorker pid=15332)\u001b[0m Got rmse 0.9219721555709839\n"
     ]
    },
    {
     "name": "stderr",
     "output_type": "stream",
     "text": [
      "2024-04-17 11:36:48,275\tWARNING util.py:202 -- The `callbacks.on_trial_result` operation took 2.793 s, which may be a performance bottleneck.\n",
      "2024-04-17 11:36:48,277\tWARNING util.py:202 -- The `process_trial_result` operation took 2.795 s, which may be a performance bottleneck.\n",
      "2024-04-17 11:36:48,278\tWARNING util.py:202 -- Processing trial results took 2.796 s, which may be a performance bottleneck. Please consider reporting results less frequently to Ray Tune.\n",
      "2024-04-17 11:36:48,279\tWARNING util.py:202 -- The `process_trial_result` operation took 2.797 s, which may be a performance bottleneck.\n"
     ]
    },
    {
     "name": "stdout",
     "output_type": "stream",
     "text": [
      "\u001b[36m(RayTrainWorker pid=15332)\u001b[0m Got rmse 0.902381420135498\n",
      "\u001b[36m(RayTrainWorker pid=15332)\u001b[0m \n",
      "\u001b[36m(RayTrainWorker pid=15332)\u001b[0m Epoch 41, Iteration 63798, loss = 0.0113\n",
      "\u001b[36m(RayTrainWorker pid=15332)\u001b[0m Got rmse 0.9311883449554443\n"
     ]
    },
    {
     "name": "stderr",
     "output_type": "stream",
     "text": [
      "2024-04-17 11:36:53,084\tWARNING util.py:202 -- The `callbacks.on_trial_result` operation took 3.037 s, which may be a performance bottleneck.\n",
      "2024-04-17 11:36:53,088\tWARNING util.py:202 -- The `process_trial_result` operation took 3.041 s, which may be a performance bottleneck.\n",
      "2024-04-17 11:36:53,088\tWARNING util.py:202 -- Processing trial results took 3.042 s, which may be a performance bottleneck. Please consider reporting results less frequently to Ray Tune.\n",
      "2024-04-17 11:36:53,089\tWARNING util.py:202 -- The `process_trial_result` operation took 3.043 s, which may be a performance bottleneck.\n"
     ]
    },
    {
     "name": "stdout",
     "output_type": "stream",
     "text": [
      "\u001b[36m(RayTrainWorker pid=15332)\u001b[0m Got rmse 0.9125766754150391\n",
      "\u001b[36m(RayTrainWorker pid=15332)\u001b[0m \n",
      "\u001b[36m(RayTrainWorker pid=15332)\u001b[0m Epoch 42, Iteration 65317, loss = 0.0111\n",
      "\u001b[36m(RayTrainWorker pid=15332)\u001b[0m Got rmse 0.9180000424385071\n"
     ]
    },
    {
     "name": "stderr",
     "output_type": "stream",
     "text": [
      "2024-04-17 11:36:56,991\tWARNING util.py:202 -- The `callbacks.on_trial_result` operation took 2.828 s, which may be a performance bottleneck.\n",
      "2024-04-17 11:36:56,993\tWARNING util.py:202 -- The `process_trial_result` operation took 2.830 s, which may be a performance bottleneck.\n",
      "2024-04-17 11:36:56,994\tWARNING util.py:202 -- Processing trial results took 2.831 s, which may be a performance bottleneck. Please consider reporting results less frequently to Ray Tune.\n",
      "2024-04-17 11:36:56,995\tWARNING util.py:202 -- The `process_trial_result` operation took 2.832 s, which may be a performance bottleneck.\n"
     ]
    },
    {
     "name": "stdout",
     "output_type": "stream",
     "text": [
      "\u001b[36m(RayTrainWorker pid=15332)\u001b[0m Got rmse 0.898106038570404\n",
      "\u001b[36m(RayTrainWorker pid=15332)\u001b[0m \n",
      "\u001b[36m(RayTrainWorker pid=15332)\u001b[0m Epoch 43, Iteration 66836, loss = 0.0105\n",
      "\u001b[36m(RayTrainWorker pid=15332)\u001b[0m Got rmse 0.9230377078056335\n"
     ]
    },
    {
     "name": "stderr",
     "output_type": "stream",
     "text": [
      "2024-04-17 11:37:01,640\tWARNING util.py:202 -- The `callbacks.on_trial_result` operation took 2.860 s, which may be a performance bottleneck.\n",
      "2024-04-17 11:37:01,644\tWARNING util.py:202 -- The `process_trial_result` operation took 2.865 s, which may be a performance bottleneck.\n",
      "2024-04-17 11:37:01,645\tWARNING util.py:202 -- Processing trial results took 2.865 s, which may be a performance bottleneck. Please consider reporting results less frequently to Ray Tune.\n",
      "2024-04-17 11:37:01,645\tWARNING util.py:202 -- The `process_trial_result` operation took 2.866 s, which may be a performance bottleneck.\n"
     ]
    },
    {
     "name": "stdout",
     "output_type": "stream",
     "text": [
      "\u001b[36m(RayTrainWorker pid=15332)\u001b[0m Got rmse 0.9039608836174011\n",
      "\u001b[36m(RayTrainWorker pid=15332)\u001b[0m \n",
      "\u001b[36m(RayTrainWorker pid=15332)\u001b[0m Epoch 44, Iteration 68355, loss = 0.0109\n",
      "\u001b[36m(RayTrainWorker pid=15332)\u001b[0m Got rmse 0.9174401164054871\n"
     ]
    },
    {
     "name": "stderr",
     "output_type": "stream",
     "text": [
      "2024-04-17 11:37:05,708\tWARNING util.py:202 -- The `callbacks.on_trial_result` operation took 2.960 s, which may be a performance bottleneck.\n",
      "2024-04-17 11:37:05,711\tWARNING util.py:202 -- The `process_trial_result` operation took 2.963 s, which may be a performance bottleneck.\n",
      "2024-04-17 11:37:05,712\tWARNING util.py:202 -- Processing trial results took 2.964 s, which may be a performance bottleneck. Please consider reporting results less frequently to Ray Tune.\n",
      "2024-04-17 11:37:05,712\tWARNING util.py:202 -- The `process_trial_result` operation took 2.964 s, which may be a performance bottleneck.\n"
     ]
    },
    {
     "name": "stdout",
     "output_type": "stream",
     "text": [
      "\u001b[36m(RayTrainWorker pid=15332)\u001b[0m Got rmse 0.8962982296943665\n",
      "\u001b[36m(RayTrainWorker pid=15332)\u001b[0m \n",
      "\u001b[36m(RayTrainWorker pid=15332)\u001b[0m Epoch 45, Iteration 69874, loss = 0.0112\n",
      "\u001b[36m(RayTrainWorker pid=15332)\u001b[0m Got rmse 0.9102985262870789\n"
     ]
    },
    {
     "name": "stderr",
     "output_type": "stream",
     "text": [
      "2024-04-17 11:37:10,644\tWARNING util.py:202 -- The `callbacks.on_trial_result` operation took 3.047 s, which may be a performance bottleneck.\n",
      "2024-04-17 11:37:10,647\tWARNING util.py:202 -- The `process_trial_result` operation took 3.050 s, which may be a performance bottleneck.\n",
      "2024-04-17 11:37:10,648\tWARNING util.py:202 -- Processing trial results took 3.051 s, which may be a performance bottleneck. Please consider reporting results less frequently to Ray Tune.\n",
      "2024-04-17 11:37:10,648\tWARNING util.py:202 -- The `process_trial_result` operation took 3.052 s, which may be a performance bottleneck.\n"
     ]
    },
    {
     "name": "stdout",
     "output_type": "stream",
     "text": [
      "\u001b[36m(RayTrainWorker pid=15332)\u001b[0m Got rmse 0.8900208473205566\n",
      "\u001b[36m(RayTrainWorker pid=15332)\u001b[0m \n",
      "\u001b[36m(RayTrainWorker pid=15332)\u001b[0m Epoch 46, Iteration 71393, loss = 0.0113\n",
      "\u001b[36m(RayTrainWorker pid=15332)\u001b[0m Got rmse 0.9148511290550232\n"
     ]
    },
    {
     "name": "stderr",
     "output_type": "stream",
     "text": [
      "2024-04-17 11:37:14,990\tWARNING util.py:202 -- The `callbacks.on_trial_result` operation took 3.163 s, which may be a performance bottleneck.\n",
      "2024-04-17 11:37:14,991\tWARNING util.py:202 -- The `process_trial_result` operation took 3.165 s, which may be a performance bottleneck.\n",
      "2024-04-17 11:37:14,992\tWARNING util.py:202 -- Processing trial results took 3.166 s, which may be a performance bottleneck. Please consider reporting results less frequently to Ray Tune.\n",
      "2024-04-17 11:37:14,993\tWARNING util.py:202 -- The `process_trial_result` operation took 3.167 s, which may be a performance bottleneck.\n"
     ]
    },
    {
     "name": "stdout",
     "output_type": "stream",
     "text": [
      "\u001b[36m(RayTrainWorker pid=15332)\u001b[0m Got rmse 0.8943133354187012\n",
      "\u001b[36m(RayTrainWorker pid=15332)\u001b[0m \n",
      "\u001b[36m(RayTrainWorker pid=15332)\u001b[0m Epoch 47, Iteration 72912, loss = 0.0112\n",
      "\u001b[36m(RayTrainWorker pid=15332)\u001b[0m Got rmse 0.9087406396865845\n"
     ]
    },
    {
     "name": "stderr",
     "output_type": "stream",
     "text": [
      "2024-04-17 11:37:18,956\tWARNING util.py:202 -- The `callbacks.on_trial_result` operation took 2.882 s, which may be a performance bottleneck.\n",
      "2024-04-17 11:37:18,960\tWARNING util.py:202 -- The `process_trial_result` operation took 2.887 s, which may be a performance bottleneck.\n",
      "2024-04-17 11:37:18,961\tWARNING util.py:202 -- Processing trial results took 2.887 s, which may be a performance bottleneck. Please consider reporting results less frequently to Ray Tune.\n",
      "2024-04-17 11:37:18,961\tWARNING util.py:202 -- The `process_trial_result` operation took 2.888 s, which may be a performance bottleneck.\n"
     ]
    },
    {
     "name": "stdout",
     "output_type": "stream",
     "text": [
      "\u001b[36m(RayTrainWorker pid=15332)\u001b[0m Got rmse 0.8885893225669861\n",
      "\u001b[36m(RayTrainWorker pid=15332)\u001b[0m \n",
      "\u001b[36m(RayTrainWorker pid=15332)\u001b[0m Epoch 48, Iteration 74431, loss = 0.0099\n",
      "\u001b[36m(RayTrainWorker pid=15332)\u001b[0m Got rmse 0.9082396626472473\n"
     ]
    },
    {
     "name": "stderr",
     "output_type": "stream",
     "text": [
      "2024-04-17 11:37:23,626\tWARNING util.py:202 -- The `callbacks.on_trial_result` operation took 2.773 s, which may be a performance bottleneck.\n",
      "2024-04-17 11:37:23,628\tWARNING util.py:202 -- The `process_trial_result` operation took 2.775 s, which may be a performance bottleneck.\n",
      "2024-04-17 11:37:23,629\tWARNING util.py:202 -- Processing trial results took 2.776 s, which may be a performance bottleneck. Please consider reporting results less frequently to Ray Tune.\n",
      "2024-04-17 11:37:23,630\tWARNING util.py:202 -- The `process_trial_result` operation took 2.777 s, which may be a performance bottleneck.\n"
     ]
    },
    {
     "name": "stdout",
     "output_type": "stream",
     "text": [
      "\u001b[36m(RayTrainWorker pid=15332)\u001b[0m Got rmse 0.8874841928482056\n",
      "\u001b[36m(RayTrainWorker pid=15332)\u001b[0m \n",
      "\u001b[36m(RayTrainWorker pid=15332)\u001b[0m Epoch 49, Iteration 75950, loss = 0.0110\n",
      "\u001b[36m(RayTrainWorker pid=15332)\u001b[0m Got rmse 0.9079856872558594\n"
     ]
    },
    {
     "name": "stderr",
     "output_type": "stream",
     "text": [
      "2024-04-17 11:37:28,477\tWARNING util.py:202 -- The `callbacks.on_trial_result` operation took 2.925 s, which may be a performance bottleneck.\n",
      "2024-04-17 11:37:28,480\tWARNING util.py:202 -- The `process_trial_result` operation took 2.929 s, which may be a performance bottleneck.\n",
      "2024-04-17 11:37:28,482\tWARNING util.py:202 -- Processing trial results took 2.930 s, which may be a performance bottleneck. Please consider reporting results less frequently to Ray Tune.\n",
      "2024-04-17 11:37:28,482\tWARNING util.py:202 -- The `process_trial_result` operation took 2.931 s, which may be a performance bottleneck.\n"
     ]
    },
    {
     "name": "stdout",
     "output_type": "stream",
     "text": [
      "\u001b[36m(RayTrainWorker pid=15332)\u001b[0m Got rmse 0.887552797794342\n",
      "\u001b[36m(RayTrainWorker pid=15332)\u001b[0m \n"
     ]
    },
    {
     "name": "stderr",
     "output_type": "stream",
     "text": [
      "\u001b[36m(RayTrainWorker pid=15332)\u001b[0m Checkpoint successfully created at: Checkpoint(filesystem=local, path=/home/qubot/ray_results/EMS_ANN_v2/TorchTrainer_4cabe_00000_0_2024-04-17_11-33-47/checkpoint_000001)\n",
      "2024-04-17 11:37:31,770\tWARNING util.py:202 -- The `callbacks.on_trial_result` operation took 2.237 s, which may be a performance bottleneck.\n",
      "2024-04-17 11:37:31,772\tWARNING util.py:202 -- The `process_trial_result` operation took 2.239 s, which may be a performance bottleneck.\n",
      "2024-04-17 11:37:31,773\tWARNING util.py:202 -- Processing trial results took 2.240 s, which may be a performance bottleneck. Please consider reporting results less frequently to Ray Tune.\n",
      "2024-04-17 11:37:31,773\tWARNING util.py:202 -- The `process_trial_result` operation took 2.241 s, which may be a performance bottleneck.\n",
      "2024-04-17 11:37:35,152\tINFO tune.py:1042 -- Total run time: 227.91 seconds (227.28 seconds for the tuning loop).\n"
     ]
    }
   ],
   "source": [
    "from Neural_network import NN_net, Plain_fc_block, weight_init, eMNS_Dataset\n",
    "from Training_loop_v2 import train_ANN\n",
    "from ray.train import RunConfig, ScalingConfig, CheckpointConfig\n",
    "from ray.train.torch import TorchTrainer\n",
    "from ray.tune.tuner import Tuner\n",
    "from ray import tune\n",
    "from ray.tune.schedulers import ASHAScheduler\n",
    "import ray, os\n",
    "import torch.nn.functional as F\n",
    "\n",
    "# construct dataset\n",
    "dataset = eMNS_Dataset(\n",
    "    x=Current_position,\n",
    "    y=Bfield\n",
    ")\n",
    "\n",
    "# split the dataset to train, validation, test\n",
    "train_set, valid_set = torch.utils.data.random_split(dataset, [0.9,0.1])\n",
    "\n",
    "# normailzation\n",
    "extremes = dataset.train_norm_ANN(train_indices = train_set.indices, boundary_index=12)\n",
    "\n",
    "###############################################\n",
    "# Config the neural network\n",
    "###############################################\n",
    "num_input = 15\n",
    "num_output = 3\n",
    "fc_stages = [(num_input,100,1),(100,50,1),(50,25,1)]\n",
    "fc_network = NN_net(None,fc_stages,None,Plain_fc_block, num_output=num_output)\n",
    "\n",
    "loss_func = lambda preds, y: F.l1_loss(preds, y)\n",
    "\n",
    "\n",
    "################################################\n",
    "# Train the neural network\n",
    "################################################\n",
    "\n",
    "train_loop_config = {\n",
    "                'epochs': 50,\n",
    "                'lr_max': 1e-3,\n",
    "                'lr_min': 2.5e-5,\n",
    "                'batch_size': 128,\n",
    "                'L2_norm'   : 0,\n",
    "                'verbose': False,\n",
    "                'schedule': [],\n",
    "                'learning_rate_decay': 0.5,\n",
    "                'num_input'   : num_input,\n",
    "                'num_output'  : num_output,\n",
    "                'fc_stages'   : fc_stages,\n",
    "                'backward'    : False,\n",
    "                'maxB'        : extremes[4],\n",
    "                'minB'        : extremes[5],\n",
    "                'device'      : device,\n",
    "                'train_set'   : train_set,\n",
    "                'valid_set'   : valid_set,\n",
    "                'loss_func'   : loss_func\n",
    "                # You can even grid search various datasets in Tune.\n",
    "                # \"datasets\": tune.grid_search(\n",
    "                #         [ds1, ds2]\n",
    "                #     ),\n",
    "}\n",
    "\n",
    "scaling_config = ScalingConfig(\n",
    "    num_workers = 1,\n",
    "    use_gpu = use_gpu,\n",
    "    #resource_per_worker = {\"CPU\":1, \"GPU\":1}\n",
    ")\n",
    "\n",
    "run_config = RunConfig(name=\"EMS_ANN_v2\", storage_path= \"~/ray_results\",checkpoint_config=CheckpointConfig(num_to_keep=1))\n",
    "\n",
    "# def train_loop_per_worker(params):\n",
    "#     train_GM(train_set=train_set, valid_set=valid_set,  device=device, config=params)\n",
    "\n",
    "trainer = TorchTrainer(\n",
    "    train_loop_per_worker = train_ANN,\n",
    "    train_loop_config = train_loop_config,\n",
    "    scaling_config = scaling_config,\n",
    "    run_config = run_config,\n",
    "\n",
    ")\n",
    "result = trainer.fit()\n",
    "\n"
   ]
  },
  {
   "cell_type": "code",
   "execution_count": 32,
   "metadata": {},
   "outputs": [
    {
     "name": "stdout",
     "output_type": "stream",
     "text": [
      "==========================================================================================\n",
      "Layer (type:depth-idx)                   Output Shape              Param #\n",
      "==========================================================================================\n",
      "├─Sequential: 1-1                        [-1, 3]                   --\n",
      "|    └─NN_stages: 2-1                    [-1, 100]                 --\n",
      "|    |    └─Sequential: 3-1              [-1, 100]                 1,600\n",
      "|    └─NN_stages: 2-2                    [-1, 50]                  --\n",
      "|    |    └─Sequential: 3-2              [-1, 50]                  5,050\n",
      "|    └─NN_stages: 2-3                    [-1, 25]                  --\n",
      "|    |    └─Sequential: 3-3              [-1, 25]                  1,275\n",
      "|    └─Linear: 2-4                       [-1, 3]                   78\n",
      "==========================================================================================\n",
      "Total params: 8,003\n",
      "Trainable params: 8,003\n",
      "Non-trainable params: 0\n",
      "Total mult-adds (M): 0.03\n",
      "==========================================================================================\n",
      "Input size (MB): 0.00\n",
      "Forward/backward pass size (MB): 0.00\n",
      "Params size (MB): 0.03\n",
      "Estimated Total Size (MB): 0.03\n",
      "==========================================================================================\n",
      "total_net.0.net.0.fc.weight \t torch.Size([100, 15])\n",
      "total_net.0.net.0.fc.bias \t torch.Size([100])\n",
      "total_net.1.net.0.fc.weight \t torch.Size([50, 100])\n",
      "total_net.1.net.0.fc.bias \t torch.Size([50])\n",
      "total_net.2.net.0.fc.weight \t torch.Size([25, 50])\n",
      "total_net.2.net.0.fc.bias \t torch.Size([25])\n",
      "total_net.3.weight \t torch.Size([3, 25])\n",
      "total_net.3.bias \t torch.Size([3])\n"
     ]
    }
   ],
   "source": [
    "from torchsummary import summary\n",
    "summary(fc_network, (1,15))\n",
    "for param_tensor in fc_network.state_dict():\n",
    "    print(param_tensor, '\\t', fc_network.state_dict()[param_tensor].size())"
   ]
  },
  {
   "cell_type": "code",
   "execution_count": 33,
   "metadata": {},
   "outputs": [
    {
     "data": {
      "image/png": "[encoded data removed]",
      "text/plain": [
       "<Figure size 640x480 with 1 Axes>"
      ]
     },
     "metadata": {},
     "output_type": "display_data"
    }
   ],
   "source": [
    "from utils import plot_ray_results\n",
    "plot_ray_results(results=result, metrics_names = ['rmse_val','rmse_train'])"
   ]
  },
  {
   "cell_type": "code",
   "execution_count": 34,
   "metadata": {},
   "outputs": [],
   "source": [
    "checkpoint_data = torch.load(os.path.join(result.checkpoint.path,\"model.pt\"))\n",
    "\n",
    "model_path = r\"./Trained_model/EMS_ANN_v2.pt\"\n",
    "torch.save(checkpoint_data, model_path)"
   ]
  },
  {
   "cell_type": "markdown",
   "metadata": {},
   "source": [
    "## Test dataset performance"
   ]
  },
  {
   "cell_type": "code",
   "execution_count": 39,
   "metadata": {},
   "outputs": [
    {
     "name": "stdout",
     "output_type": "stream",
     "text": [
      "position shape torch.Size([4260060, 15])\n",
      "Bfield shape torch.Size([4260060, 3])\n"
     ]
    }
   ],
   "source": [
    "# position unit mm, current unit Ampere\n",
    "sparsity = 1\n",
    "Current_position_test =data[train_file_num:, ::sparsity, ::sparsity, ::sparsity, :15].reshape(-1,15) \n",
    "# B field unit mT\n",
    "Bfield_test = data[train_file_num:, ::sparsity, ::sparsity, ::sparsity,15:].reshape(-1,3)\n",
    "\n",
    "num_sample = Current_position_test.shape[0]\n",
    "print('position shape', Current_position_test.shape)\n",
    "print('Bfield shape', Bfield_test.shape)\n",
    "\n",
    "# construct dataset\n",
    "test_set = eMNS_Dataset(\n",
    "    x=Current_position_test,\n",
    "    y=Bfield_test\n",
    ")\n",
    "test_set.test_norm_ANN(extremes=extremes, boundary_index=12)\n",
    "\n",
    "test_loader = torch.utils.data.DataLoader(\n",
    "    dataset=test_set,\n",
    "    batch_size=train_loop_config['batch_size'],\n",
    "    shuffle=False)\n"
   ]
  },
  {
   "cell_type": "code",
   "execution_count": 40,
   "metadata": {},
   "outputs": [
    {
     "name": "stdout",
     "output_type": "stream",
     "text": [
      "Got rmse 0.9179601669311523\n"
     ]
    }
   ],
   "source": [
    "from utils import predict_check_rmse_ANN, check_rmse_ANN\n",
    "from Training_loop_v2 import construct_model_ANN \n",
    "\n",
    "model_path = r\"./Trained_model/EMS_ANN_v2.pt\"\n",
    "model = torch.load(model_path)['model']\n",
    "\n",
    "prediction, rmse, mse, Rsquare = predict_check_rmse_ANN(test_loader, model, device, extremes[4], extremes[5])\n",
    "# check_rmse_ANN(test_loader, model, device, extremes[4], extremes[5])"
   ]
  },
  {
   "cell_type": "code",
   "execution_count": 42,
   "metadata": {},
   "outputs": [
    {
     "data": {
      "image/png": "[encoded data removed]",
      "text/plain": [
       "<Figure size 640x480 with 12 Axes>"
      ]
     },
     "metadata": {},
     "output_type": "display_data"
    }
   ],
   "source": [
    "import matplotlib.pyplot as plt\n",
    "import numpy as np\n",
    "B_est = prediction.reshape(-1, grid_size, grid_size, grid_size, 3)\n",
    "Bfield_test = Bfield_test.reshape(-1, grid_size, grid_size, grid_size, 3)\n",
    "\n",
    "# B_est = prediction.reshape(-1, 6, 6, 6, 3)\n",
    "# Bfield_test = Bfield_test.reshape(-1, 6, 6, 6, 3)\n",
    "\n",
    "current_index=3\n",
    "z_plane_index= 5\n",
    "# fig, ax = plt.subplots(3, 2)\n",
    "# fig.tight_layout(h_pad=2)\n",
    "fig = plt.figure()\n",
    "ylables=['Bx\\mT','By\\mT','Bz\\mT']\n",
    "# fig.tight_layout(pad=0.4, w_pad=0, h_pad=0)\n",
    "for i in range(1,4):\n",
    "    plt.subplot(3,2,2*i-1)\n",
    "    plt.imshow(B_est[current_index,:,:,z_plane_index,i-1])    \n",
    "    plt.colorbar()\n",
    "    plt.ylabel(ylables[i-1])\n",
    "    plt.subplot(3,2,2*i)\n",
    "    plt.imshow(Bfield_test[current_index,:,:,z_plane_index,i-1])\n",
    "    plt.colorbar()\n",
    "plt.show()"
   ]
  },
  {
   "cell_type": "code",
   "execution_count": null,
   "metadata": {},
   "outputs": [],
   "source": []
  }
 ],
 "metadata": {
  "kernelspec": {
   "display_name": "Python 3",
   "language": "python",
   "name": "python3"
  },
  "language_info": {
   "codemirror_mode": {
    "name": "ipython",
    "version": 3
   },
   "file_extension": ".py",
   "mimetype": "text/x-python",
   "name": "python",
   "nbconvert_exporter": "python",
   "pygments_lexer": "ipython3",
   "version": "3.10.13"
  }
 },
 "nbformat": 4,
 "nbformat_minor": 2
}

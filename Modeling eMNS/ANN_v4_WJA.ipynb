{
 "cells": [
  {
   "cell_type": "markdown",
   "metadata": {},
   "source": [
    "### This jupyter notebook employs a fully connective neural network(FC) or its alias artificial neural network (ANN) to learn the mapping between input current configuration between output magnetic field "
   ]
  },
  {
   "cell_type": "code",
   "execution_count": 1,
   "metadata": {},
   "outputs": [
    {
     "name": "stdout",
     "output_type": "stream",
     "text": [
      "Using cpu\n"
     ]
    },
    {
     "name": "stderr",
     "output_type": "stream",
     "text": [
      "/home/qubot/.pyenv/versions/3.10.13/lib/python3.10/site-packages/torch/cuda/__init__.py:628: UserWarning: Can't initialize NVML\n",
      "  warnings.warn(\"Can't initialize NVML\")\n"
     ]
    }
   ],
   "source": [
    "%reload_ext autoreload\n",
    "%autoreload 2\n",
    "import numpy as np\n",
    "import torch\n",
    "from early_stopping import EarlyStopping\n",
    "\n",
    "if torch.cuda.device_count():\n",
    "    device = 'cuda'\n",
    "    use_gpu = True\n",
    "    print('Good to go')\n",
    "else:\n",
    "    device = 'cpu'\n",
    "    use_gpu = False\n",
    "    print('Using cpu')"
   ]
  },
  {
   "cell_type": "code",
   "execution_count": 2,
   "metadata": {},
   "outputs": [
    {
     "name": "stdout",
     "output_type": "stream",
     "text": [
      "torch.Size([1460, 21, 21, 21, 18])\n",
      "torch.Size([1000, 6, 6, 6, 15])\n",
      "position shape torch.Size([216000, 15])\n",
      "Bfield shape torch.Size([216000, 3])\n"
     ]
    }
   ],
   "source": [
    "from ReadData import ReadCurrentAndField \n",
    "import glob\n",
    "import os \n",
    "\n",
    "# print(os.getcwd())\n",
    "foldername=\"./Data/\"\n",
    "filepattern = \"MagneticField[0-9]*.txt\"\n",
    "#data = ReadFolder(foldername,filepattern)\n",
    "load_file_num = 1460\n",
    "train_file_num = 1000\n",
    "grid_size = 21\n",
    "data = ReadCurrentAndField (foldername,filepattern, load_file_num)\n",
    "\n",
    "\n",
    "data=data.reshape(load_file_num,grid_size,grid_size,grid_size,18)\n",
    "mask = torch.cat((torch.ones(1,1,1,1,12),1e3*torch.ones(1,1,1,1,6)), dim=4)\n",
    "# position unit mm, B field unit mT, Current unit Ampere\n",
    "data = mask*data\n",
    "\n",
    "sparsity = 4\n",
    "\n",
    "Current_position =data[:train_file_num,0::sparsity,0::sparsity,0::sparsity,:15].reshape(-1,15) # position unit mm\n",
    "Bfield = data[:train_file_num,0::sparsity,0::sparsity,0::sparsity,15:].reshape(-1,3) # B field unit mT\n",
    "\n",
    "print(data.shape)\n",
    "print(data[:train_file_num,0::sparsity,0::sparsity,0::sparsity,:15].shape)\n",
    "print('position shape', Current_position.shape)\n",
    "print('Bfield shape', Bfield.shape)\n"
   ]
  },
  {
   "cell_type": "code",
   "execution_count": 6,
   "metadata": {},
   "outputs": [
    {
     "data": {
      "text/html": [
       "<div class=\"tuneStatus\">\n",
       "  <div style=\"display: flex;flex-direction: row\">\n",
       "    <div style=\"display: flex;flex-direction: column;\">\n",
       "      <h3>Tune Status</h3>\n",
       "      <table>\n",
       "<tbody>\n",
       "<tr><td>Current time:</td><td>2024-04-18 18:09:32</td></tr>\n",
       "<tr><td>Running for: </td><td>00:04:00.30        </td></tr>\n",
       "<tr><td>Memory:      </td><td>16.1/31.0 GiB      </td></tr>\n",
       "</tbody>\n",
       "</table>\n",
       "    </div>\n",
       "    <div class=\"vDivider\"></div>\n",
       "    <div class=\"systemInfo\">\n",
       "      <h3>System Info</h3>\n",
       "      Using FIFO scheduling algorithm.<br>Logical resource usage: 2.0/16 CPUs, 0/0 GPUs\n",
       "    </div>\n",
       "    \n",
       "  </div>\n",
       "  <div class=\"hDivider\"></div>\n",
       "  <div class=\"trialStatus\">\n",
       "    <h3>Trial Status</h3>\n",
       "    <table>\n",
       "<thead>\n",
       "<tr><th>Trial name              </th><th>status    </th><th>loc                </th><th style=\"text-align: right;\">  iter</th><th style=\"text-align: right;\">  total time (s)</th><th style=\"text-align: right;\">  rmse_val</th><th style=\"text-align: right;\">  rmse_train</th><th style=\"text-align: right;\">     loss</th></tr>\n",
       "</thead>\n",
       "<tbody>\n",
       "<tr><td>TorchTrainer_31192_00000</td><td>TERMINATED</td><td>192.168.8.117:61919</td><td style=\"text-align: right;\">    50</td><td style=\"text-align: right;\">          70.271</td><td style=\"text-align: right;\">  0.800876</td><td style=\"text-align: right;\">    0.781273</td><td style=\"text-align: right;\">0.0102639</td></tr>\n",
       "</tbody>\n",
       "</table>\n",
       "  </div>\n",
       "</div>\n",
       "<style>\n",
       ".tuneStatus {\n",
       "  color: var(--jp-ui-font-color1);\n",
       "}\n",
       ".tuneStatus .systemInfo {\n",
       "  display: flex;\n",
       "  flex-direction: column;\n",
       "}\n",
       ".tuneStatus td {\n",
       "  white-space: nowrap;\n",
       "}\n",
       ".tuneStatus .trialStatus {\n",
       "  display: flex;\n",
       "  flex-direction: column;\n",
       "}\n",
       ".tuneStatus h3 {\n",
       "  font-weight: bold;\n",
       "}\n",
       ".tuneStatus .hDivider {\n",
       "  border-bottom-width: var(--jp-border-width);\n",
       "  border-bottom-color: var(--jp-border-color0);\n",
       "  border-bottom-style: solid;\n",
       "}\n",
       ".tuneStatus .vDivider {\n",
       "  border-left-width: var(--jp-border-width);\n",
       "  border-left-color: var(--jp-border-color0);\n",
       "  border-left-style: solid;\n",
       "  margin: 0.5em 1em 0.5em 1em;\n",
       "}\n",
       "</style>\n"
      ],
      "text/plain": [
       "<IPython.core.display.HTML object>"
      ]
     },
     "metadata": {},
     "output_type": "display_data"
    },
    {
     "name": "stderr",
     "output_type": "stream",
     "text": [
      "\u001b[36m(TorchTrainer pid=61919)\u001b[0m Started distributed worker processes: \n",
      "\u001b[36m(TorchTrainer pid=61919)\u001b[0m - (ip=192.168.8.117, pid=61971) world_rank=0, local_rank=0, node_rank=0\n",
      "\u001b[36m(RayTrainWorker pid=61971)\u001b[0m Setting up process group for: env:// [rank=0, world_size=1]\n"
     ]
    },
    {
     "name": "stdout",
     "output_type": "stream",
     "text": [
      "\u001b[36m(RayTrainWorker pid=61971)\u001b[0m Epoch 0, Iteration 1519, loss = 0.0287\n",
      "\u001b[36m(RayTrainWorker pid=61971)\u001b[0m Got rmse 2.382715940475464\n"
     ]
    },
    {
     "name": "stderr",
     "output_type": "stream",
     "text": [
      "\u001b[36m(RayTrainWorker pid=61971)\u001b[0m Checkpoint successfully created at: Checkpoint(filesystem=local, path=/home/qubot/ray_results/EMS_ANN_v2/TorchTrainer_31192_00000_0_2024-04-18_18-05-32/checkpoint_000000)\n"
     ]
    },
    {
     "name": "stdout",
     "output_type": "stream",
     "text": [
      "\u001b[36m(RayTrainWorker pid=61971)\u001b[0m Got rmse 2.374053716659546\n",
      "\u001b[36m(RayTrainWorker pid=61971)\u001b[0m \n",
      "\u001b[36m(RayTrainWorker pid=61971)\u001b[0m Epoch 1, Iteration 3038, loss = 0.0242\n",
      "\u001b[36m(RayTrainWorker pid=61971)\u001b[0m Got rmse 1.9738125801086426\n"
     ]
    },
    {
     "name": "stderr",
     "output_type": "stream",
     "text": [
      "2024-04-18 18:05:50,995\tWARNING util.py:202 -- The `callbacks.on_trial_result` operation took 2.203 s, which may be a performance bottleneck.\n",
      "2024-04-18 18:05:50,996\tWARNING util.py:202 -- The `process_trial_result` operation took 2.204 s, which may be a performance bottleneck.\n",
      "2024-04-18 18:05:50,998\tWARNING util.py:202 -- Processing trial results took 2.206 s, which may be a performance bottleneck. Please consider reporting results less frequently to Ray Tune.\n",
      "2024-04-18 18:05:50,998\tWARNING util.py:202 -- The `process_trial_result` operation took 2.207 s, which may be a performance bottleneck.\n"
     ]
    },
    {
     "name": "stdout",
     "output_type": "stream",
     "text": [
      "\u001b[36m(RayTrainWorker pid=61971)\u001b[0m Got rmse 1.9707759618759155\n",
      "\u001b[36m(RayTrainWorker pid=61971)\u001b[0m \n",
      "\u001b[36m(RayTrainWorker pid=61971)\u001b[0m Epoch 2, Iteration 4557, loss = 0.0220\n",
      "\u001b[36m(RayTrainWorker pid=61971)\u001b[0m Got rmse 1.7926974296569824\n"
     ]
    },
    {
     "name": "stderr",
     "output_type": "stream",
     "text": [
      "2024-04-18 18:05:55,376\tWARNING util.py:202 -- The `callbacks.on_trial_result` operation took 3.011 s, which may be a performance bottleneck.\n",
      "2024-04-18 18:05:55,377\tWARNING util.py:202 -- The `process_trial_result` operation took 3.012 s, which may be a performance bottleneck.\n",
      "2024-04-18 18:05:55,379\tWARNING util.py:202 -- Processing trial results took 3.014 s, which may be a performance bottleneck. Please consider reporting results less frequently to Ray Tune.\n",
      "2024-04-18 18:05:55,379\tWARNING util.py:202 -- The `process_trial_result` operation took 3.015 s, which may be a performance bottleneck.\n"
     ]
    },
    {
     "name": "stdout",
     "output_type": "stream",
     "text": [
      "\u001b[36m(RayTrainWorker pid=61971)\u001b[0m Got rmse 1.7822023630142212\n",
      "\u001b[36m(RayTrainWorker pid=61971)\u001b[0m \n",
      "\u001b[36m(RayTrainWorker pid=61971)\u001b[0m Epoch 3, Iteration 6076, loss = 0.0196\n",
      "\u001b[36m(RayTrainWorker pid=61971)\u001b[0m Got rmse 1.6796296834945679\n"
     ]
    },
    {
     "name": "stderr",
     "output_type": "stream",
     "text": [
      "2024-04-18 18:06:00,121\tWARNING util.py:202 -- The `callbacks.on_trial_result` operation took 2.902 s, which may be a performance bottleneck.\n",
      "2024-04-18 18:06:00,124\tWARNING util.py:202 -- The `process_trial_result` operation took 2.905 s, which may be a performance bottleneck.\n",
      "2024-04-18 18:06:00,125\tWARNING util.py:202 -- Processing trial results took 2.906 s, which may be a performance bottleneck. Please consider reporting results less frequently to Ray Tune.\n",
      "2024-04-18 18:06:00,125\tWARNING util.py:202 -- The `process_trial_result` operation took 2.907 s, which may be a performance bottleneck.\n"
     ]
    },
    {
     "name": "stdout",
     "output_type": "stream",
     "text": [
      "\u001b[36m(RayTrainWorker pid=61971)\u001b[0m Got rmse 1.6662540435791016\n",
      "\u001b[36m(RayTrainWorker pid=61971)\u001b[0m \n",
      "\u001b[36m(RayTrainWorker pid=61971)\u001b[0m Epoch 4, Iteration 7595, loss = 0.0166\n"
     ]
    },
    {
     "name": "stderr",
     "output_type": "stream",
     "text": [
      "2024-04-18 18:06:04,092\tWARNING util.py:202 -- The `callbacks.on_trial_result` operation took 2.931 s, which may be a performance bottleneck.\n",
      "2024-04-18 18:06:04,094\tWARNING util.py:202 -- The `process_trial_result` operation took 2.933 s, which may be a performance bottleneck.\n",
      "2024-04-18 18:06:04,095\tWARNING util.py:202 -- Processing trial results took 2.934 s, which may be a performance bottleneck. Please consider reporting results less frequently to Ray Tune.\n",
      "2024-04-18 18:06:04,096\tWARNING util.py:202 -- The `process_trial_result` operation took 2.935 s, which may be a performance bottleneck.\n"
     ]
    },
    {
     "name": "stdout",
     "output_type": "stream",
     "text": [
      "\u001b[36m(RayTrainWorker pid=61971)\u001b[0m Got rmse 1.519358515739441\n",
      "\u001b[36m(RayTrainWorker pid=61971)\u001b[0m Got rmse 1.5031729936599731\n",
      "\u001b[36m(RayTrainWorker pid=61971)\u001b[0m \n",
      "\u001b[36m(RayTrainWorker pid=61971)\u001b[0m Epoch 5, Iteration 9114, loss = 0.0162\n",
      "\u001b[36m(RayTrainWorker pid=61971)\u001b[0m Got rmse 1.5207393169403076\n"
     ]
    },
    {
     "name": "stderr",
     "output_type": "stream",
     "text": [
      "2024-04-18 18:06:08,899\tWARNING util.py:202 -- The `callbacks.on_trial_result` operation took 2.929 s, which may be a performance bottleneck.\n",
      "2024-04-18 18:06:08,903\tWARNING util.py:202 -- The `process_trial_result` operation took 2.933 s, which may be a performance bottleneck.\n",
      "2024-04-18 18:06:08,904\tWARNING util.py:202 -- Processing trial results took 2.934 s, which may be a performance bottleneck. Please consider reporting results less frequently to Ray Tune.\n",
      "2024-04-18 18:06:08,904\tWARNING util.py:202 -- The `process_trial_result` operation took 2.934 s, which may be a performance bottleneck.\n"
     ]
    },
    {
     "name": "stdout",
     "output_type": "stream",
     "text": [
      "\u001b[36m(RayTrainWorker pid=61971)\u001b[0m Got rmse 1.5067219734191895\n",
      "\u001b[36m(RayTrainWorker pid=61971)\u001b[0m \n",
      "\u001b[36m(RayTrainWorker pid=61971)\u001b[0m Epoch 6, Iteration 10633, loss = 0.0171\n",
      "\u001b[36m(RayTrainWorker pid=61971)\u001b[0m Got rmse 1.4295545816421509\n"
     ]
    },
    {
     "name": "stderr",
     "output_type": "stream",
     "text": [
      "2024-04-18 18:06:13,655\tWARNING util.py:202 -- The `callbacks.on_trial_result` operation took 2.949 s, which may be a performance bottleneck.\n",
      "2024-04-18 18:06:13,656\tWARNING util.py:202 -- The `process_trial_result` operation took 2.951 s, which may be a performance bottleneck.\n",
      "2024-04-18 18:06:13,658\tWARNING util.py:202 -- Processing trial results took 2.952 s, which may be a performance bottleneck. Please consider reporting results less frequently to Ray Tune.\n",
      "2024-04-18 18:06:13,658\tWARNING util.py:202 -- The `process_trial_result` operation took 2.953 s, which may be a performance bottleneck.\n"
     ]
    },
    {
     "name": "stdout",
     "output_type": "stream",
     "text": [
      "\u001b[36m(RayTrainWorker pid=61971)\u001b[0m Got rmse 1.4119478464126587\n",
      "\u001b[36m(RayTrainWorker pid=61971)\u001b[0m \n",
      "\u001b[36m(RayTrainWorker pid=61971)\u001b[0m Epoch 7, Iteration 12152, loss = 0.0156\n",
      "\u001b[36m(RayTrainWorker pid=61971)\u001b[0m Got rmse 1.3645905256271362\n"
     ]
    },
    {
     "name": "stderr",
     "output_type": "stream",
     "text": [
      "2024-04-18 18:06:17,513\tWARNING util.py:202 -- The `callbacks.on_trial_result` operation took 2.842 s, which may be a performance bottleneck.\n",
      "2024-04-18 18:06:17,517\tWARNING util.py:202 -- The `process_trial_result` operation took 2.846 s, which may be a performance bottleneck.\n",
      "2024-04-18 18:06:17,518\tWARNING util.py:202 -- Processing trial results took 2.847 s, which may be a performance bottleneck. Please consider reporting results less frequently to Ray Tune.\n",
      "2024-04-18 18:06:17,518\tWARNING util.py:202 -- The `process_trial_result` operation took 2.848 s, which may be a performance bottleneck.\n"
     ]
    },
    {
     "name": "stdout",
     "output_type": "stream",
     "text": [
      "\u001b[36m(RayTrainWorker pid=61971)\u001b[0m Got rmse 1.3483092784881592\n",
      "\u001b[36m(RayTrainWorker pid=61971)\u001b[0m \n",
      "\u001b[36m(RayTrainWorker pid=61971)\u001b[0m Epoch 8, Iteration 13671, loss = 0.0150\n",
      "\u001b[36m(RayTrainWorker pid=61971)\u001b[0m Got rmse 1.3102192878723145\n"
     ]
    },
    {
     "name": "stderr",
     "output_type": "stream",
     "text": [
      "2024-04-18 18:06:22,247\tWARNING util.py:202 -- The `callbacks.on_trial_result` operation took 2.757 s, which may be a performance bottleneck.\n",
      "2024-04-18 18:06:22,249\tWARNING util.py:202 -- The `process_trial_result` operation took 2.760 s, which may be a performance bottleneck.\n",
      "2024-04-18 18:06:22,250\tWARNING util.py:202 -- Processing trial results took 2.761 s, which may be a performance bottleneck. Please consider reporting results less frequently to Ray Tune.\n",
      "2024-04-18 18:06:22,251\tWARNING util.py:202 -- The `process_trial_result` operation took 2.762 s, which may be a performance bottleneck.\n"
     ]
    },
    {
     "name": "stdout",
     "output_type": "stream",
     "text": [
      "\u001b[36m(RayTrainWorker pid=61971)\u001b[0m Got rmse 1.2950741052627563\n",
      "\u001b[36m(RayTrainWorker pid=61971)\u001b[0m \n",
      "\u001b[36m(RayTrainWorker pid=61971)\u001b[0m Epoch 9, Iteration 15190, loss = 0.0148\n",
      "\u001b[36m(RayTrainWorker pid=61971)\u001b[0m Got rmse 1.2495125532150269\n"
     ]
    },
    {
     "name": "stderr",
     "output_type": "stream",
     "text": [
      "2024-04-18 18:06:26,185\tWARNING util.py:202 -- The `callbacks.on_trial_result` operation took 2.829 s, which may be a performance bottleneck.\n",
      "2024-04-18 18:06:26,189\tWARNING util.py:202 -- The `process_trial_result` operation took 2.833 s, which may be a performance bottleneck.\n",
      "2024-04-18 18:06:26,189\tWARNING util.py:202 -- Processing trial results took 2.834 s, which may be a performance bottleneck. Please consider reporting results less frequently to Ray Tune.\n",
      "2024-04-18 18:06:26,190\tWARNING util.py:202 -- The `process_trial_result` operation took 2.835 s, which may be a performance bottleneck.\n"
     ]
    },
    {
     "name": "stdout",
     "output_type": "stream",
     "text": [
      "\u001b[36m(RayTrainWorker pid=61971)\u001b[0m Got rmse 1.2332062721252441\n",
      "\u001b[36m(RayTrainWorker pid=61971)\u001b[0m \n",
      "\u001b[36m(RayTrainWorker pid=61971)\u001b[0m Epoch 10, Iteration 16709, loss = 0.0164\n",
      "\u001b[36m(RayTrainWorker pid=61971)\u001b[0m Got rmse 1.2134751081466675\n"
     ]
    },
    {
     "name": "stderr",
     "output_type": "stream",
     "text": [
      "2024-04-18 18:06:31,054\tWARNING util.py:202 -- The `callbacks.on_trial_result` operation took 2.929 s, which may be a performance bottleneck.\n",
      "2024-04-18 18:06:31,055\tWARNING util.py:202 -- The `process_trial_result` operation took 2.930 s, which may be a performance bottleneck.\n",
      "2024-04-18 18:06:31,057\tWARNING util.py:202 -- Processing trial results took 2.932 s, which may be a performance bottleneck. Please consider reporting results less frequently to Ray Tune.\n",
      "2024-04-18 18:06:31,058\tWARNING util.py:202 -- The `process_trial_result` operation took 2.933 s, which may be a performance bottleneck.\n"
     ]
    },
    {
     "name": "stdout",
     "output_type": "stream",
     "text": [
      "\u001b[36m(RayTrainWorker pid=61971)\u001b[0m Got rmse 1.2009752988815308\n",
      "\u001b[36m(RayTrainWorker pid=61971)\u001b[0m \n",
      "\u001b[36m(RayTrainWorker pid=61971)\u001b[0m Epoch 11, Iteration 18228, loss = 0.0151\n",
      "\u001b[36m(RayTrainWorker pid=61971)\u001b[0m Got rmse 1.1846833229064941\n"
     ]
    },
    {
     "name": "stderr",
     "output_type": "stream",
     "text": [
      "2024-04-18 18:06:35,209\tWARNING util.py:202 -- The `callbacks.on_trial_result` operation took 2.972 s, which may be a performance bottleneck.\n",
      "2024-04-18 18:06:35,214\tWARNING util.py:202 -- The `process_trial_result` operation took 2.977 s, which may be a performance bottleneck.\n",
      "2024-04-18 18:06:35,215\tWARNING util.py:202 -- Processing trial results took 2.978 s, which may be a performance bottleneck. Please consider reporting results less frequently to Ray Tune.\n",
      "2024-04-18 18:06:35,215\tWARNING util.py:202 -- The `process_trial_result` operation took 2.979 s, which may be a performance bottleneck.\n"
     ]
    },
    {
     "name": "stdout",
     "output_type": "stream",
     "text": [
      "\u001b[36m(RayTrainWorker pid=61971)\u001b[0m Got rmse 1.1639429330825806\n",
      "\u001b[36m(RayTrainWorker pid=61971)\u001b[0m \n",
      "\u001b[36m(RayTrainWorker pid=61971)\u001b[0m Epoch 12, Iteration 19747, loss = 0.0135\n",
      "\u001b[36m(RayTrainWorker pid=61971)\u001b[0m Got rmse 1.1696298122406006\n"
     ]
    },
    {
     "name": "stderr",
     "output_type": "stream",
     "text": [
      "2024-04-18 18:06:39,771\tWARNING util.py:202 -- The `callbacks.on_trial_result` operation took 2.733 s, which may be a performance bottleneck.\n",
      "2024-04-18 18:06:39,773\tWARNING util.py:202 -- The `process_trial_result` operation took 2.735 s, which may be a performance bottleneck.\n",
      "2024-04-18 18:06:39,774\tWARNING util.py:202 -- Processing trial results took 2.736 s, which may be a performance bottleneck. Please consider reporting results less frequently to Ray Tune.\n",
      "2024-04-18 18:06:39,774\tWARNING util.py:202 -- The `process_trial_result` operation took 2.737 s, which may be a performance bottleneck.\n"
     ]
    },
    {
     "name": "stdout",
     "output_type": "stream",
     "text": [
      "\u001b[36m(RayTrainWorker pid=61971)\u001b[0m Got rmse 1.1515977382659912\n",
      "\u001b[36m(RayTrainWorker pid=61971)\u001b[0m \n",
      "\u001b[36m(RayTrainWorker pid=61971)\u001b[0m Epoch 13, Iteration 21266, loss = 0.0126\n",
      "\u001b[36m(RayTrainWorker pid=61971)\u001b[0m Got rmse 1.1936362981796265\n"
     ]
    },
    {
     "name": "stderr",
     "output_type": "stream",
     "text": [
      "2024-04-18 18:06:44,356\tWARNING util.py:202 -- The `callbacks.on_trial_result` operation took 2.694 s, which may be a performance bottleneck.\n",
      "2024-04-18 18:06:44,359\tWARNING util.py:202 -- The `process_trial_result` operation took 2.697 s, which may be a performance bottleneck.\n",
      "2024-04-18 18:06:44,359\tWARNING util.py:202 -- Processing trial results took 2.698 s, which may be a performance bottleneck. Please consider reporting results less frequently to Ray Tune.\n",
      "2024-04-18 18:06:44,360\tWARNING util.py:202 -- The `process_trial_result` operation took 2.698 s, which may be a performance bottleneck.\n"
     ]
    },
    {
     "name": "stdout",
     "output_type": "stream",
     "text": [
      "\u001b[36m(RayTrainWorker pid=61971)\u001b[0m Got rmse 1.1728519201278687\n",
      "\u001b[36m(RayTrainWorker pid=61971)\u001b[0m \n",
      "\u001b[36m(RayTrainWorker pid=61971)\u001b[0m Epoch 14, Iteration 22785, loss = 0.0156\n",
      "\u001b[36m(RayTrainWorker pid=61971)\u001b[0m Got rmse 1.0963914394378662\n"
     ]
    },
    {
     "name": "stderr",
     "output_type": "stream",
     "text": [
      "2024-04-18 18:06:48,261\tWARNING util.py:202 -- The `callbacks.on_trial_result` operation took 2.827 s, which may be a performance bottleneck.\n",
      "2024-04-18 18:06:48,263\tWARNING util.py:202 -- The `process_trial_result` operation took 2.829 s, which may be a performance bottleneck.\n",
      "2024-04-18 18:06:48,264\tWARNING util.py:202 -- Processing trial results took 2.830 s, which may be a performance bottleneck. Please consider reporting results less frequently to Ray Tune.\n",
      "2024-04-18 18:06:48,265\tWARNING util.py:202 -- The `process_trial_result` operation took 2.831 s, which may be a performance bottleneck.\n"
     ]
    },
    {
     "name": "stdout",
     "output_type": "stream",
     "text": [
      "\u001b[36m(RayTrainWorker pid=61971)\u001b[0m Got rmse 1.0796599388122559\n",
      "\u001b[36m(RayTrainWorker pid=61971)\u001b[0m \n",
      "\u001b[36m(RayTrainWorker pid=61971)\u001b[0m Epoch 15, Iteration 24304, loss = 0.0132\n",
      "\u001b[36m(RayTrainWorker pid=61971)\u001b[0m Got rmse 1.0912686586380005\n"
     ]
    },
    {
     "name": "stderr",
     "output_type": "stream",
     "text": [
      "2024-04-18 18:06:53,034\tWARNING util.py:202 -- The `callbacks.on_trial_result` operation took 2.865 s, which may be a performance bottleneck.\n",
      "2024-04-18 18:06:53,037\tWARNING util.py:202 -- The `process_trial_result` operation took 2.868 s, which may be a performance bottleneck.\n",
      "2024-04-18 18:06:53,038\tWARNING util.py:202 -- Processing trial results took 2.869 s, which may be a performance bottleneck. Please consider reporting results less frequently to Ray Tune.\n",
      "2024-04-18 18:06:53,038\tWARNING util.py:202 -- The `process_trial_result` operation took 2.870 s, which may be a performance bottleneck.\n"
     ]
    },
    {
     "name": "stdout",
     "output_type": "stream",
     "text": [
      "\u001b[36m(RayTrainWorker pid=61971)\u001b[0m Got rmse 1.0744061470031738\n",
      "\u001b[36m(RayTrainWorker pid=61971)\u001b[0m \n",
      "\u001b[36m(RayTrainWorker pid=61971)\u001b[0m Epoch 16, Iteration 25823, loss = 0.0129\n",
      "\u001b[36m(RayTrainWorker pid=61971)\u001b[0m Got rmse 1.1041923761367798\n"
     ]
    },
    {
     "name": "stderr",
     "output_type": "stream",
     "text": [
      "2024-04-18 18:06:57,099\tWARNING util.py:202 -- The `callbacks.on_trial_result` operation took 3.051 s, which may be a performance bottleneck.\n",
      "2024-04-18 18:06:57,100\tWARNING util.py:202 -- The `process_trial_result` operation took 3.053 s, which may be a performance bottleneck.\n",
      "2024-04-18 18:06:57,102\tWARNING util.py:202 -- Processing trial results took 3.054 s, which may be a performance bottleneck. Please consider reporting results less frequently to Ray Tune.\n",
      "2024-04-18 18:06:57,103\tWARNING util.py:202 -- The `process_trial_result` operation took 3.056 s, which may be a performance bottleneck.\n"
     ]
    },
    {
     "name": "stdout",
     "output_type": "stream",
     "text": [
      "\u001b[36m(RayTrainWorker pid=61971)\u001b[0m Got rmse 1.0896834135055542\n",
      "\u001b[36m(RayTrainWorker pid=61971)\u001b[0m \n",
      "\u001b[36m(RayTrainWorker pid=61971)\u001b[0m Epoch 17, Iteration 27342, loss = 0.0141\n"
     ]
    },
    {
     "name": "stderr",
     "output_type": "stream",
     "text": [
      "2024-04-18 18:07:01,171\tWARNING util.py:202 -- The `callbacks.on_trial_result` operation took 2.895 s, which may be a performance bottleneck.\n",
      "2024-04-18 18:07:01,175\tWARNING util.py:202 -- The `process_trial_result` operation took 2.898 s, which may be a performance bottleneck.\n",
      "2024-04-18 18:07:01,175\tWARNING util.py:202 -- Processing trial results took 2.899 s, which may be a performance bottleneck. Please consider reporting results less frequently to Ray Tune.\n",
      "2024-04-18 18:07:01,176\tWARNING util.py:202 -- The `process_trial_result` operation took 2.899 s, which may be a performance bottleneck.\n"
     ]
    },
    {
     "name": "stdout",
     "output_type": "stream",
     "text": [
      "\u001b[36m(RayTrainWorker pid=61971)\u001b[0m Got rmse 1.106942057609558\n",
      "\u001b[36m(RayTrainWorker pid=61971)\u001b[0m Got rmse 1.0930153131484985\n",
      "\u001b[36m(RayTrainWorker pid=61971)\u001b[0m \n",
      "\u001b[36m(RayTrainWorker pid=61971)\u001b[0m Epoch 18, Iteration 28861, loss = 0.0126\n",
      "\u001b[36m(RayTrainWorker pid=61971)\u001b[0m Got rmse 1.0802974700927734\n"
     ]
    },
    {
     "name": "stderr",
     "output_type": "stream",
     "text": [
      "2024-04-18 18:07:05,855\tWARNING util.py:202 -- The `callbacks.on_trial_result` operation took 2.832 s, which may be a performance bottleneck.\n",
      "2024-04-18 18:07:05,858\tWARNING util.py:202 -- The `process_trial_result` operation took 2.835 s, which may be a performance bottleneck.\n",
      "2024-04-18 18:07:05,859\tWARNING util.py:202 -- Processing trial results took 2.836 s, which may be a performance bottleneck. Please consider reporting results less frequently to Ray Tune.\n",
      "2024-04-18 18:07:05,859\tWARNING util.py:202 -- The `process_trial_result` operation took 2.836 s, which may be a performance bottleneck.\n"
     ]
    },
    {
     "name": "stdout",
     "output_type": "stream",
     "text": [
      "\u001b[36m(RayTrainWorker pid=61971)\u001b[0m Got rmse 1.064919352531433\n",
      "\u001b[36m(RayTrainWorker pid=61971)\u001b[0m \n",
      "\u001b[36m(RayTrainWorker pid=61971)\u001b[0m Epoch 19, Iteration 30380, loss = 0.0123\n",
      "\u001b[36m(RayTrainWorker pid=61971)\u001b[0m Got rmse 1.014500617980957\n"
     ]
    },
    {
     "name": "stderr",
     "output_type": "stream",
     "text": [
      "2024-04-18 18:07:10,629\tWARNING util.py:202 -- The `callbacks.on_trial_result` operation took 2.819 s, which may be a performance bottleneck.\n",
      "2024-04-18 18:07:10,633\tWARNING util.py:202 -- The `process_trial_result` operation took 2.823 s, which may be a performance bottleneck.\n",
      "2024-04-18 18:07:10,633\tWARNING util.py:202 -- Processing trial results took 2.824 s, which may be a performance bottleneck. Please consider reporting results less frequently to Ray Tune.\n",
      "2024-04-18 18:07:10,634\tWARNING util.py:202 -- The `process_trial_result` operation took 2.825 s, which may be a performance bottleneck.\n"
     ]
    },
    {
     "name": "stdout",
     "output_type": "stream",
     "text": [
      "\u001b[36m(RayTrainWorker pid=61971)\u001b[0m Got rmse 0.9965993165969849\n",
      "\u001b[36m(RayTrainWorker pid=61971)\u001b[0m \n",
      "\u001b[36m(RayTrainWorker pid=61971)\u001b[0m Epoch 20, Iteration 31899, loss = 0.0122\n",
      "\u001b[36m(RayTrainWorker pid=61971)\u001b[0m Got rmse 0.9641188383102417\n"
     ]
    },
    {
     "name": "stderr",
     "output_type": "stream",
     "text": [
      "2024-04-18 18:07:14,592\tWARNING util.py:202 -- The `callbacks.on_trial_result` operation took 2.884 s, which may be a performance bottleneck.\n",
      "2024-04-18 18:07:14,594\tWARNING util.py:202 -- The `process_trial_result` operation took 2.886 s, which may be a performance bottleneck.\n",
      "2024-04-18 18:07:14,595\tWARNING util.py:202 -- Processing trial results took 2.887 s, which may be a performance bottleneck. Please consider reporting results less frequently to Ray Tune.\n",
      "2024-04-18 18:07:14,595\tWARNING util.py:202 -- The `process_trial_result` operation took 2.888 s, which may be a performance bottleneck.\n"
     ]
    },
    {
     "name": "stdout",
     "output_type": "stream",
     "text": [
      "\u001b[36m(RayTrainWorker pid=61971)\u001b[0m Got rmse 0.9477632641792297\n",
      "\u001b[36m(RayTrainWorker pid=61971)\u001b[0m \n",
      "\u001b[36m(RayTrainWorker pid=61971)\u001b[0m Epoch 21, Iteration 33418, loss = 0.0118\n",
      "\u001b[36m(RayTrainWorker pid=61971)\u001b[0m Got rmse 1.0083017349243164\n"
     ]
    },
    {
     "name": "stderr",
     "output_type": "stream",
     "text": [
      "2024-04-18 18:07:19,340\tWARNING util.py:202 -- The `callbacks.on_trial_result` operation took 2.839 s, which may be a performance bottleneck.\n",
      "2024-04-18 18:07:19,343\tWARNING util.py:202 -- The `process_trial_result` operation took 2.842 s, which may be a performance bottleneck.\n",
      "2024-04-18 18:07:19,344\tWARNING util.py:202 -- Processing trial results took 2.843 s, which may be a performance bottleneck. Please consider reporting results less frequently to Ray Tune.\n",
      "2024-04-18 18:07:19,345\tWARNING util.py:202 -- The `process_trial_result` operation took 2.844 s, which may be a performance bottleneck.\n"
     ]
    },
    {
     "name": "stdout",
     "output_type": "stream",
     "text": [
      "\u001b[36m(RayTrainWorker pid=61971)\u001b[0m Got rmse 0.9901968836784363\n",
      "\u001b[36m(RayTrainWorker pid=61971)\u001b[0m \n",
      "\u001b[36m(RayTrainWorker pid=61971)\u001b[0m Epoch 22, Iteration 34937, loss = 0.0116\n",
      "\u001b[36m(RayTrainWorker pid=61971)\u001b[0m Got rmse 0.9616219401359558\n"
     ]
    },
    {
     "name": "stderr",
     "output_type": "stream",
     "text": [
      "2024-04-18 18:07:23,279\tWARNING util.py:202 -- The `callbacks.on_trial_result` operation took 2.785 s, which may be a performance bottleneck.\n",
      "2024-04-18 18:07:23,281\tWARNING util.py:202 -- The `process_trial_result` operation took 2.787 s, which may be a performance bottleneck.\n",
      "2024-04-18 18:07:23,282\tWARNING util.py:202 -- Processing trial results took 2.788 s, which may be a performance bottleneck. Please consider reporting results less frequently to Ray Tune.\n",
      "2024-04-18 18:07:23,283\tWARNING util.py:202 -- The `process_trial_result` operation took 2.789 s, which may be a performance bottleneck.\n"
     ]
    },
    {
     "name": "stdout",
     "output_type": "stream",
     "text": [
      "\u001b[36m(RayTrainWorker pid=61971)\u001b[0m Got rmse 0.9452205896377563\n",
      "\u001b[36m(RayTrainWorker pid=61971)\u001b[0m \n",
      "\u001b[36m(RayTrainWorker pid=61971)\u001b[0m Epoch 23, Iteration 36456, loss = 0.0127\n",
      "\u001b[36m(RayTrainWorker pid=61971)\u001b[0m Got rmse 0.952924907207489\n"
     ]
    },
    {
     "name": "stderr",
     "output_type": "stream",
     "text": [
      "2024-04-18 18:07:28,268\tWARNING util.py:202 -- The `callbacks.on_trial_result` operation took 3.173 s, which may be a performance bottleneck.\n",
      "2024-04-18 18:07:28,272\tWARNING util.py:202 -- The `process_trial_result` operation took 3.177 s, which may be a performance bottleneck.\n",
      "2024-04-18 18:07:28,274\tWARNING util.py:202 -- Processing trial results took 3.179 s, which may be a performance bottleneck. Please consider reporting results less frequently to Ray Tune.\n",
      "2024-04-18 18:07:28,275\tWARNING util.py:202 -- The `process_trial_result` operation took 3.181 s, which may be a performance bottleneck.\n"
     ]
    },
    {
     "name": "stdout",
     "output_type": "stream",
     "text": [
      "\u001b[36m(RayTrainWorker pid=61971)\u001b[0m Got rmse 0.9349945187568665\n",
      "\u001b[36m(RayTrainWorker pid=61971)\u001b[0m \n",
      "\u001b[36m(RayTrainWorker pid=61971)\u001b[0m Epoch 24, Iteration 37975, loss = 0.0121\n",
      "\u001b[36m(RayTrainWorker pid=61971)\u001b[0m Got rmse 0.939875602722168\n"
     ]
    },
    {
     "name": "stderr",
     "output_type": "stream",
     "text": [
      "2024-04-18 18:07:33,126\tWARNING util.py:202 -- The `callbacks.on_trial_result` operation took 2.857 s, which may be a performance bottleneck.\n",
      "2024-04-18 18:07:33,129\tWARNING util.py:202 -- The `process_trial_result` operation took 2.860 s, which may be a performance bottleneck.\n",
      "2024-04-18 18:07:33,130\tWARNING util.py:202 -- Processing trial results took 2.861 s, which may be a performance bottleneck. Please consider reporting results less frequently to Ray Tune.\n",
      "2024-04-18 18:07:33,130\tWARNING util.py:202 -- The `process_trial_result` operation took 2.862 s, which may be a performance bottleneck.\n"
     ]
    },
    {
     "name": "stdout",
     "output_type": "stream",
     "text": [
      "\u001b[36m(RayTrainWorker pid=61971)\u001b[0m Got rmse 0.9218537211418152\n",
      "\u001b[36m(RayTrainWorker pid=61971)\u001b[0m \n",
      "\u001b[36m(RayTrainWorker pid=61971)\u001b[0m Epoch 25, Iteration 39494, loss = 0.0114\n",
      "\u001b[36m(RayTrainWorker pid=61971)\u001b[0m Got rmse 0.9046911001205444\n"
     ]
    },
    {
     "name": "stderr",
     "output_type": "stream",
     "text": [
      "2024-04-18 18:07:37,362\tWARNING util.py:202 -- The `callbacks.on_trial_result` operation took 3.109 s, which may be a performance bottleneck.\n",
      "2024-04-18 18:07:37,365\tWARNING util.py:202 -- The `process_trial_result` operation took 3.112 s, which may be a performance bottleneck.\n",
      "2024-04-18 18:07:37,365\tWARNING util.py:202 -- Processing trial results took 3.112 s, which may be a performance bottleneck. Please consider reporting results less frequently to Ray Tune.\n",
      "2024-04-18 18:07:37,366\tWARNING util.py:202 -- The `process_trial_result` operation took 3.113 s, which may be a performance bottleneck.\n"
     ]
    },
    {
     "name": "stdout",
     "output_type": "stream",
     "text": [
      "\u001b[36m(RayTrainWorker pid=61971)\u001b[0m Got rmse 0.8859959840774536\n",
      "\u001b[36m(RayTrainWorker pid=61971)\u001b[0m \n",
      "\u001b[36m(RayTrainWorker pid=61971)\u001b[0m Epoch 26, Iteration 41013, loss = 0.0107\n",
      "\u001b[36m(RayTrainWorker pid=61971)\u001b[0m Got rmse 0.930763304233551\n"
     ]
    },
    {
     "name": "stderr",
     "output_type": "stream",
     "text": [
      "2024-04-18 18:07:42,464\tWARNING util.py:202 -- The `callbacks.on_trial_result` operation took 3.077 s, which may be a performance bottleneck.\n",
      "2024-04-18 18:07:42,467\tWARNING util.py:202 -- The `process_trial_result` operation took 3.080 s, which may be a performance bottleneck.\n",
      "2024-04-18 18:07:42,468\tWARNING util.py:202 -- Processing trial results took 3.081 s, which may be a performance bottleneck. Please consider reporting results less frequently to Ray Tune.\n",
      "2024-04-18 18:07:42,469\tWARNING util.py:202 -- The `process_trial_result` operation took 3.083 s, which may be a performance bottleneck.\n"
     ]
    },
    {
     "name": "stdout",
     "output_type": "stream",
     "text": [
      "\u001b[36m(RayTrainWorker pid=61971)\u001b[0m Got rmse 0.9146919846534729\n",
      "\u001b[36m(RayTrainWorker pid=61971)\u001b[0m \n",
      "\u001b[36m(RayTrainWorker pid=61971)\u001b[0m Epoch 27, Iteration 42532, loss = 0.0124\n",
      "\u001b[36m(RayTrainWorker pid=61971)\u001b[0m Got rmse 0.8980095386505127\n"
     ]
    },
    {
     "name": "stderr",
     "output_type": "stream",
     "text": [
      "2024-04-18 18:07:46,358\tWARNING util.py:202 -- The `callbacks.on_trial_result` operation took 2.793 s, which may be a performance bottleneck.\n",
      "2024-04-18 18:07:46,359\tWARNING util.py:202 -- The `process_trial_result` operation took 2.794 s, which may be a performance bottleneck.\n",
      "2024-04-18 18:07:46,360\tWARNING util.py:202 -- Processing trial results took 2.795 s, which may be a performance bottleneck. Please consider reporting results less frequently to Ray Tune.\n",
      "2024-04-18 18:07:46,362\tWARNING util.py:202 -- The `process_trial_result` operation took 2.798 s, which may be a performance bottleneck.\n"
     ]
    },
    {
     "name": "stdout",
     "output_type": "stream",
     "text": [
      "\u001b[36m(RayTrainWorker pid=61971)\u001b[0m Got rmse 0.8822212219238281\n",
      "\u001b[36m(RayTrainWorker pid=61971)\u001b[0m \n",
      "\u001b[36m(RayTrainWorker pid=61971)\u001b[0m Epoch 28, Iteration 44051, loss = 0.0105\n",
      "\u001b[36m(RayTrainWorker pid=61971)\u001b[0m Got rmse 0.9466785192489624\n"
     ]
    },
    {
     "name": "stderr",
     "output_type": "stream",
     "text": [
      "2024-04-18 18:07:51,078\tWARNING util.py:202 -- The `callbacks.on_trial_result` operation took 2.899 s, which may be a performance bottleneck.\n",
      "2024-04-18 18:07:51,081\tWARNING util.py:202 -- The `process_trial_result` operation took 2.902 s, which may be a performance bottleneck.\n",
      "2024-04-18 18:07:51,083\tWARNING util.py:202 -- Processing trial results took 2.904 s, which may be a performance bottleneck. Please consider reporting results less frequently to Ray Tune.\n",
      "2024-04-18 18:07:51,083\tWARNING util.py:202 -- The `process_trial_result` operation took 2.904 s, which may be a performance bottleneck.\n"
     ]
    },
    {
     "name": "stdout",
     "output_type": "stream",
     "text": [
      "\u001b[36m(RayTrainWorker pid=61971)\u001b[0m Got rmse 0.9292188286781311\n",
      "\u001b[36m(RayTrainWorker pid=61971)\u001b[0m \n",
      "\u001b[36m(RayTrainWorker pid=61971)\u001b[0m Epoch 29, Iteration 45570, loss = 0.0113\n",
      "\u001b[36m(RayTrainWorker pid=61971)\u001b[0m Got rmse 0.9076753854751587\n"
     ]
    },
    {
     "name": "stderr",
     "output_type": "stream",
     "text": [
      "2024-04-18 18:07:55,599\tWARNING util.py:202 -- The `callbacks.on_trial_result` operation took 2.714 s, which may be a performance bottleneck.\n",
      "2024-04-18 18:07:55,601\tWARNING util.py:202 -- The `process_trial_result` operation took 2.715 s, which may be a performance bottleneck.\n",
      "2024-04-18 18:07:55,602\tWARNING util.py:202 -- Processing trial results took 2.717 s, which may be a performance bottleneck. Please consider reporting results less frequently to Ray Tune.\n",
      "2024-04-18 18:07:55,603\tWARNING util.py:202 -- The `process_trial_result` operation took 2.717 s, which may be a performance bottleneck.\n"
     ]
    },
    {
     "name": "stdout",
     "output_type": "stream",
     "text": [
      "\u001b[36m(RayTrainWorker pid=61971)\u001b[0m Got rmse 0.8922272324562073\n",
      "\u001b[36m(RayTrainWorker pid=61971)\u001b[0m \n",
      "\u001b[36m(RayTrainWorker pid=61971)\u001b[0m Epoch 30, Iteration 47089, loss = 0.0112\n",
      "\u001b[36m(RayTrainWorker pid=61971)\u001b[0m Got rmse 0.8982083201408386\n"
     ]
    },
    {
     "name": "stderr",
     "output_type": "stream",
     "text": [
      "2024-04-18 18:07:59,487\tWARNING util.py:202 -- The `callbacks.on_trial_result` operation took 2.876 s, which may be a performance bottleneck.\n",
      "2024-04-18 18:07:59,493\tWARNING util.py:202 -- The `process_trial_result` operation took 2.881 s, which may be a performance bottleneck.\n",
      "2024-04-18 18:07:59,493\tWARNING util.py:202 -- Processing trial results took 2.882 s, which may be a performance bottleneck. Please consider reporting results less frequently to Ray Tune.\n",
      "2024-04-18 18:07:59,494\tWARNING util.py:202 -- The `process_trial_result` operation took 2.883 s, which may be a performance bottleneck.\n"
     ]
    },
    {
     "name": "stdout",
     "output_type": "stream",
     "text": [
      "\u001b[36m(RayTrainWorker pid=61971)\u001b[0m Got rmse 0.8807992935180664\n",
      "\u001b[36m(RayTrainWorker pid=61971)\u001b[0m \n",
      "\u001b[36m(RayTrainWorker pid=61971)\u001b[0m Epoch 31, Iteration 48608, loss = 0.0106\n",
      "\u001b[36m(RayTrainWorker pid=61971)\u001b[0m Got rmse 0.8645088076591492\n"
     ]
    },
    {
     "name": "stderr",
     "output_type": "stream",
     "text": [
      "2024-04-18 18:08:04,472\tWARNING util.py:202 -- The `callbacks.on_trial_result` operation took 3.184 s, which may be a performance bottleneck.\n",
      "2024-04-18 18:08:04,474\tWARNING util.py:202 -- The `process_trial_result` operation took 3.186 s, which may be a performance bottleneck.\n",
      "2024-04-18 18:08:04,475\tWARNING util.py:202 -- Processing trial results took 3.187 s, which may be a performance bottleneck. Please consider reporting results less frequently to Ray Tune.\n",
      "2024-04-18 18:08:04,476\tWARNING util.py:202 -- The `process_trial_result` operation took 3.188 s, which may be a performance bottleneck.\n"
     ]
    },
    {
     "name": "stdout",
     "output_type": "stream",
     "text": [
      "\u001b[36m(RayTrainWorker pid=61971)\u001b[0m Got rmse 0.8461523652076721\n",
      "\u001b[36m(RayTrainWorker pid=61971)\u001b[0m \n",
      "\u001b[36m(RayTrainWorker pid=61971)\u001b[0m Epoch 32, Iteration 50127, loss = 0.0092\n",
      "\u001b[36m(RayTrainWorker pid=61971)\u001b[0m Got rmse 0.8492953181266785\n"
     ]
    },
    {
     "name": "stderr",
     "output_type": "stream",
     "text": [
      "2024-04-18 18:08:08,402\tWARNING util.py:202 -- The `callbacks.on_trial_result` operation took 2.844 s, which may be a performance bottleneck.\n",
      "2024-04-18 18:08:08,406\tWARNING util.py:202 -- The `process_trial_result` operation took 2.848 s, which may be a performance bottleneck.\n",
      "2024-04-18 18:08:08,407\tWARNING util.py:202 -- Processing trial results took 2.848 s, which may be a performance bottleneck. Please consider reporting results less frequently to Ray Tune.\n",
      "2024-04-18 18:08:08,407\tWARNING util.py:202 -- The `process_trial_result` operation took 2.849 s, which may be a performance bottleneck.\n"
     ]
    },
    {
     "name": "stdout",
     "output_type": "stream",
     "text": [
      "\u001b[36m(RayTrainWorker pid=61971)\u001b[0m Got rmse 0.8292809724807739\n",
      "\u001b[36m(RayTrainWorker pid=61971)\u001b[0m \n",
      "\u001b[36m(RayTrainWorker pid=61971)\u001b[0m Epoch 33, Iteration 51646, loss = 0.0110\n",
      "\u001b[36m(RayTrainWorker pid=61971)\u001b[0m Got rmse 0.8528164029121399\n"
     ]
    },
    {
     "name": "stderr",
     "output_type": "stream",
     "text": [
      "2024-04-18 18:08:13,209\tWARNING util.py:202 -- The `callbacks.on_trial_result` operation took 3.049 s, which may be a performance bottleneck.\n",
      "2024-04-18 18:08:13,210\tWARNING util.py:202 -- The `process_trial_result` operation took 3.050 s, which may be a performance bottleneck.\n",
      "2024-04-18 18:08:13,211\tWARNING util.py:202 -- Processing trial results took 3.051 s, which may be a performance bottleneck. Please consider reporting results less frequently to Ray Tune.\n",
      "2024-04-18 18:08:13,212\tWARNING util.py:202 -- The `process_trial_result` operation took 3.052 s, which may be a performance bottleneck.\n"
     ]
    },
    {
     "name": "stdout",
     "output_type": "stream",
     "text": [
      "\u001b[36m(RayTrainWorker pid=61971)\u001b[0m Got rmse 0.8351749181747437\n",
      "\u001b[36m(RayTrainWorker pid=61971)\u001b[0m \n",
      "\u001b[36m(RayTrainWorker pid=61971)\u001b[0m Epoch 34, Iteration 53165, loss = 0.0103\n",
      "\u001b[36m(RayTrainWorker pid=61971)\u001b[0m Got rmse 0.8371161818504333\n"
     ]
    },
    {
     "name": "stderr",
     "output_type": "stream",
     "text": [
      "2024-04-18 18:08:17,935\tWARNING util.py:202 -- The `callbacks.on_trial_result` operation took 2.875 s, which may be a performance bottleneck.\n",
      "2024-04-18 18:08:17,939\tWARNING util.py:202 -- The `process_trial_result` operation took 2.878 s, which may be a performance bottleneck.\n",
      "2024-04-18 18:08:17,939\tWARNING util.py:202 -- Processing trial results took 2.879 s, which may be a performance bottleneck. Please consider reporting results less frequently to Ray Tune.\n",
      "2024-04-18 18:08:17,940\tWARNING util.py:202 -- The `process_trial_result` operation took 2.880 s, which may be a performance bottleneck.\n"
     ]
    },
    {
     "name": "stdout",
     "output_type": "stream",
     "text": [
      "\u001b[36m(RayTrainWorker pid=61971)\u001b[0m Got rmse 0.8180078268051147\n",
      "\u001b[36m(RayTrainWorker pid=61971)\u001b[0m \n",
      "\u001b[36m(RayTrainWorker pid=61971)\u001b[0m Epoch 35, Iteration 54684, loss = 0.0102\n",
      "\u001b[36m(RayTrainWorker pid=61971)\u001b[0m Got rmse 0.8327178359031677\n"
     ]
    },
    {
     "name": "stderr",
     "output_type": "stream",
     "text": [
      "2024-04-18 18:08:21,705\tWARNING util.py:202 -- The `callbacks.on_trial_result` operation took 2.721 s, which may be a performance bottleneck.\n",
      "2024-04-18 18:08:21,707\tWARNING util.py:202 -- The `process_trial_result` operation took 2.723 s, which may be a performance bottleneck.\n",
      "2024-04-18 18:08:21,708\tWARNING util.py:202 -- Processing trial results took 2.724 s, which may be a performance bottleneck. Please consider reporting results less frequently to Ray Tune.\n",
      "2024-04-18 18:08:21,708\tWARNING util.py:202 -- The `process_trial_result` operation took 2.725 s, which may be a performance bottleneck.\n"
     ]
    },
    {
     "name": "stdout",
     "output_type": "stream",
     "text": [
      "\u001b[36m(RayTrainWorker pid=61971)\u001b[0m Got rmse 0.8153815865516663\n",
      "\u001b[36m(RayTrainWorker pid=61971)\u001b[0m \n",
      "\u001b[36m(RayTrainWorker pid=61971)\u001b[0m Epoch 36, Iteration 56203, loss = 0.0096\n",
      "\u001b[36m(RayTrainWorker pid=61971)\u001b[0m Got rmse 0.8378396034240723\n"
     ]
    },
    {
     "name": "stderr",
     "output_type": "stream",
     "text": [
      "2024-04-18 18:08:26,270\tWARNING util.py:202 -- The `callbacks.on_trial_result` operation took 2.764 s, which may be a performance bottleneck.\n",
      "2024-04-18 18:08:26,275\tWARNING util.py:202 -- The `process_trial_result` operation took 2.768 s, which may be a performance bottleneck.\n",
      "2024-04-18 18:08:26,275\tWARNING util.py:202 -- Processing trial results took 2.769 s, which may be a performance bottleneck. Please consider reporting results less frequently to Ray Tune.\n",
      "2024-04-18 18:08:26,276\tWARNING util.py:202 -- The `process_trial_result` operation took 2.770 s, which may be a performance bottleneck.\n"
     ]
    },
    {
     "name": "stdout",
     "output_type": "stream",
     "text": [
      "\u001b[36m(RayTrainWorker pid=61971)\u001b[0m Got rmse 0.8188886642456055\n",
      "\u001b[36m(RayTrainWorker pid=61971)\u001b[0m \n",
      "\u001b[36m(RayTrainWorker pid=61971)\u001b[0m Epoch 37, Iteration 57722, loss = 0.0102\n",
      "\u001b[36m(RayTrainWorker pid=61971)\u001b[0m Got rmse 0.8304155468940735\n"
     ]
    },
    {
     "name": "stderr",
     "output_type": "stream",
     "text": [
      "2024-04-18 18:08:30,896\tWARNING util.py:202 -- The `callbacks.on_trial_result` operation took 2.831 s, which may be a performance bottleneck.\n",
      "2024-04-18 18:08:30,898\tWARNING util.py:202 -- The `process_trial_result` operation took 2.834 s, which may be a performance bottleneck.\n",
      "2024-04-18 18:08:30,899\tWARNING util.py:202 -- Processing trial results took 2.834 s, which may be a performance bottleneck. Please consider reporting results less frequently to Ray Tune.\n",
      "2024-04-18 18:08:30,899\tWARNING util.py:202 -- The `process_trial_result` operation took 2.835 s, which may be a performance bottleneck.\n"
     ]
    },
    {
     "name": "stdout",
     "output_type": "stream",
     "text": [
      "\u001b[36m(RayTrainWorker pid=61971)\u001b[0m Got rmse 0.8107483386993408\n",
      "\u001b[36m(RayTrainWorker pid=61971)\u001b[0m \n",
      "\u001b[36m(RayTrainWorker pid=61971)\u001b[0m Epoch 38, Iteration 59241, loss = 0.0102\n",
      "\u001b[36m(RayTrainWorker pid=61971)\u001b[0m Got rmse 0.820490300655365\n"
     ]
    },
    {
     "name": "stderr",
     "output_type": "stream",
     "text": [
      "2024-04-18 18:08:35,610\tWARNING util.py:202 -- The `callbacks.on_trial_result` operation took 2.845 s, which may be a performance bottleneck.\n",
      "2024-04-18 18:08:35,613\tWARNING util.py:202 -- The `process_trial_result` operation took 2.848 s, which may be a performance bottleneck.\n",
      "2024-04-18 18:08:35,614\tWARNING util.py:202 -- Processing trial results took 2.849 s, which may be a performance bottleneck. Please consider reporting results less frequently to Ray Tune.\n",
      "2024-04-18 18:08:35,614\tWARNING util.py:202 -- The `process_trial_result` operation took 2.850 s, which may be a performance bottleneck.\n"
     ]
    },
    {
     "name": "stdout",
     "output_type": "stream",
     "text": [
      "\u001b[36m(RayTrainWorker pid=61971)\u001b[0m Got rmse 0.8025023937225342\n",
      "\u001b[36m(RayTrainWorker pid=61971)\u001b[0m \n",
      "\u001b[36m(RayTrainWorker pid=61971)\u001b[0m Epoch 39, Iteration 60760, loss = 0.0089\n",
      "\u001b[36m(RayTrainWorker pid=61971)\u001b[0m Got rmse 0.8299486041069031\n"
     ]
    },
    {
     "name": "stderr",
     "output_type": "stream",
     "text": [
      "2024-04-18 18:08:39,637\tWARNING util.py:202 -- The `callbacks.on_trial_result` operation took 3.001 s, which may be a performance bottleneck.\n",
      "2024-04-18 18:08:39,639\tWARNING util.py:202 -- The `process_trial_result` operation took 3.003 s, which may be a performance bottleneck.\n",
      "2024-04-18 18:08:39,640\tWARNING util.py:202 -- Processing trial results took 3.004 s, which may be a performance bottleneck. Please consider reporting results less frequently to Ray Tune.\n",
      "2024-04-18 18:08:39,641\tWARNING util.py:202 -- The `process_trial_result` operation took 3.005 s, which may be a performance bottleneck.\n"
     ]
    },
    {
     "name": "stdout",
     "output_type": "stream",
     "text": [
      "\u001b[36m(RayTrainWorker pid=61971)\u001b[0m Got rmse 0.8110488057136536\n",
      "\u001b[36m(RayTrainWorker pid=61971)\u001b[0m \n",
      "\u001b[36m(RayTrainWorker pid=61971)\u001b[0m Epoch 40, Iteration 62279, loss = 0.0103\n",
      "\u001b[36m(RayTrainWorker pid=61971)\u001b[0m Got rmse 0.8190895915031433\n"
     ]
    },
    {
     "name": "stderr",
     "output_type": "stream",
     "text": [
      "2024-04-18 18:08:44,175\tWARNING util.py:202 -- The `callbacks.on_trial_result` operation took 2.744 s, which may be a performance bottleneck.\n",
      "2024-04-18 18:08:44,179\tWARNING util.py:202 -- The `process_trial_result` operation took 2.749 s, which may be a performance bottleneck.\n",
      "2024-04-18 18:08:44,180\tWARNING util.py:202 -- Processing trial results took 2.750 s, which may be a performance bottleneck. Please consider reporting results less frequently to Ray Tune.\n",
      "2024-04-18 18:08:44,181\tWARNING util.py:202 -- The `process_trial_result` operation took 2.751 s, which may be a performance bottleneck.\n"
     ]
    },
    {
     "name": "stdout",
     "output_type": "stream",
     "text": [
      "\u001b[36m(RayTrainWorker pid=61971)\u001b[0m Got rmse 0.8003777861595154\n",
      "\u001b[36m(RayTrainWorker pid=61971)\u001b[0m \n",
      "\u001b[36m(RayTrainWorker pid=61971)\u001b[0m Epoch 41, Iteration 63798, loss = 0.0093\n",
      "\u001b[36m(RayTrainWorker pid=61971)\u001b[0m Got rmse 0.816334068775177\n"
     ]
    },
    {
     "name": "stderr",
     "output_type": "stream",
     "text": [
      "2024-04-18 18:08:48,699\tWARNING util.py:202 -- The `callbacks.on_trial_result` operation took 2.747 s, which may be a performance bottleneck.\n",
      "2024-04-18 18:08:48,701\tWARNING util.py:202 -- The `process_trial_result` operation took 2.748 s, which may be a performance bottleneck.\n",
      "2024-04-18 18:08:48,703\tWARNING util.py:202 -- Processing trial results took 2.750 s, which may be a performance bottleneck. Please consider reporting results less frequently to Ray Tune.\n",
      "2024-04-18 18:08:48,704\tWARNING util.py:202 -- The `process_trial_result` operation took 2.751 s, which may be a performance bottleneck.\n"
     ]
    },
    {
     "name": "stdout",
     "output_type": "stream",
     "text": [
      "\u001b[36m(RayTrainWorker pid=61971)\u001b[0m Got rmse 0.7959768772125244\n",
      "\u001b[36m(RayTrainWorker pid=61971)\u001b[0m \n",
      "\u001b[36m(RayTrainWorker pid=61971)\u001b[0m Epoch 42, Iteration 65317, loss = 0.0093\n",
      "\u001b[36m(RayTrainWorker pid=61971)\u001b[0m Got rmse 0.8073732256889343\n"
     ]
    },
    {
     "name": "stderr",
     "output_type": "stream",
     "text": [
      "2024-04-18 18:08:52,578\tWARNING util.py:202 -- The `callbacks.on_trial_result` operation took 2.837 s, which may be a performance bottleneck.\n",
      "2024-04-18 18:08:52,583\tWARNING util.py:202 -- The `process_trial_result` operation took 2.841 s, which may be a performance bottleneck.\n",
      "2024-04-18 18:08:52,584\tWARNING util.py:202 -- Processing trial results took 2.842 s, which may be a performance bottleneck. Please consider reporting results less frequently to Ray Tune.\n",
      "2024-04-18 18:08:52,584\tWARNING util.py:202 -- The `process_trial_result` operation took 2.843 s, which may be a performance bottleneck.\n"
     ]
    },
    {
     "name": "stdout",
     "output_type": "stream",
     "text": [
      "\u001b[36m(RayTrainWorker pid=61971)\u001b[0m Got rmse 0.7874436974525452\n",
      "\u001b[36m(RayTrainWorker pid=61971)\u001b[0m \n",
      "\u001b[36m(RayTrainWorker pid=61971)\u001b[0m Epoch 43, Iteration 66836, loss = 0.0096\n",
      "\u001b[36m(RayTrainWorker pid=61971)\u001b[0m Got rmse 0.8098289966583252\n"
     ]
    },
    {
     "name": "stderr",
     "output_type": "stream",
     "text": [
      "2024-04-18 18:08:57,341\tWARNING util.py:202 -- The `callbacks.on_trial_result` operation took 2.894 s, which may be a performance bottleneck.\n",
      "2024-04-18 18:08:57,342\tWARNING util.py:202 -- The `process_trial_result` operation took 2.896 s, which may be a performance bottleneck.\n",
      "2024-04-18 18:08:57,343\tWARNING util.py:202 -- Processing trial results took 2.897 s, which may be a performance bottleneck. Please consider reporting results less frequently to Ray Tune.\n",
      "2024-04-18 18:08:57,345\tWARNING util.py:202 -- The `process_trial_result` operation took 2.899 s, which may be a performance bottleneck.\n"
     ]
    },
    {
     "name": "stdout",
     "output_type": "stream",
     "text": [
      "\u001b[36m(RayTrainWorker pid=61971)\u001b[0m Got rmse 0.7904264330863953\n",
      "\u001b[36m(RayTrainWorker pid=61971)\u001b[0m \n",
      "\u001b[36m(RayTrainWorker pid=61971)\u001b[0m Epoch 44, Iteration 68355, loss = 0.0091\n",
      "\u001b[36m(RayTrainWorker pid=61971)\u001b[0m Got rmse 0.8065503239631653\n"
     ]
    },
    {
     "name": "stderr",
     "output_type": "stream",
     "text": [
      "2024-04-18 18:09:02,375\tWARNING util.py:202 -- The `callbacks.on_trial_result` operation took 3.117 s, which may be a performance bottleneck.\n",
      "2024-04-18 18:09:02,379\tWARNING util.py:202 -- The `process_trial_result` operation took 3.121 s, which may be a performance bottleneck.\n",
      "2024-04-18 18:09:02,380\tWARNING util.py:202 -- Processing trial results took 3.123 s, which may be a performance bottleneck. Please consider reporting results less frequently to Ray Tune.\n",
      "2024-04-18 18:09:02,381\tWARNING util.py:202 -- The `process_trial_result` operation took 3.124 s, which may be a performance bottleneck.\n"
     ]
    },
    {
     "name": "stdout",
     "output_type": "stream",
     "text": [
      "\u001b[36m(RayTrainWorker pid=61971)\u001b[0m Got rmse 0.7872228622436523\n",
      "\u001b[36m(RayTrainWorker pid=61971)\u001b[0m \n",
      "\u001b[36m(RayTrainWorker pid=61971)\u001b[0m Epoch 45, Iteration 69874, loss = 0.0089\n"
     ]
    },
    {
     "name": "stderr",
     "output_type": "stream",
     "text": [
      "2024-04-18 18:09:06,231\tWARNING util.py:202 -- The `callbacks.on_trial_result` operation took 2.858 s, which may be a performance bottleneck.\n",
      "2024-04-18 18:09:06,234\tWARNING util.py:202 -- The `process_trial_result` operation took 2.861 s, which may be a performance bottleneck.\n",
      "2024-04-18 18:09:06,235\tWARNING util.py:202 -- Processing trial results took 2.862 s, which may be a performance bottleneck. Please consider reporting results less frequently to Ray Tune.\n",
      "2024-04-18 18:09:06,236\tWARNING util.py:202 -- The `process_trial_result` operation took 2.863 s, which may be a performance bottleneck.\n"
     ]
    },
    {
     "name": "stdout",
     "output_type": "stream",
     "text": [
      "\u001b[36m(RayTrainWorker pid=61971)\u001b[0m Got rmse 0.8040025234222412\n",
      "\u001b[36m(RayTrainWorker pid=61971)\u001b[0m Got rmse 0.7843303680419922\n",
      "\u001b[36m(RayTrainWorker pid=61971)\u001b[0m \n",
      "\u001b[36m(RayTrainWorker pid=61971)\u001b[0m Epoch 46, Iteration 71393, loss = 0.0097\n",
      "\u001b[36m(RayTrainWorker pid=61971)\u001b[0m Got rmse 0.8027783036231995\n"
     ]
    },
    {
     "name": "stderr",
     "output_type": "stream",
     "text": [
      "2024-04-18 18:09:11,182\tWARNING util.py:202 -- The `callbacks.on_trial_result` operation took 2.904 s, which may be a performance bottleneck.\n",
      "2024-04-18 18:09:11,185\tWARNING util.py:202 -- The `process_trial_result` operation took 2.907 s, which may be a performance bottleneck.\n",
      "2024-04-18 18:09:11,186\tWARNING util.py:202 -- Processing trial results took 2.908 s, which may be a performance bottleneck. Please consider reporting results less frequently to Ray Tune.\n",
      "2024-04-18 18:09:11,187\tWARNING util.py:202 -- The `process_trial_result` operation took 2.909 s, which may be a performance bottleneck.\n"
     ]
    },
    {
     "name": "stdout",
     "output_type": "stream",
     "text": [
      "\u001b[36m(RayTrainWorker pid=61971)\u001b[0m Got rmse 0.7834187150001526\n",
      "\u001b[36m(RayTrainWorker pid=61971)\u001b[0m \n",
      "\u001b[36m(RayTrainWorker pid=61971)\u001b[0m Epoch 47, Iteration 72912, loss = 0.0091\n",
      "\u001b[36m(RayTrainWorker pid=61971)\u001b[0m Got rmse 0.8011460900306702\n"
     ]
    },
    {
     "name": "stderr",
     "output_type": "stream",
     "text": [
      "2024-04-18 18:09:16,136\tWARNING util.py:202 -- The `callbacks.on_trial_result` operation took 3.054 s, which may be a performance bottleneck.\n",
      "2024-04-18 18:09:16,138\tWARNING util.py:202 -- The `process_trial_result` operation took 3.056 s, which may be a performance bottleneck.\n",
      "2024-04-18 18:09:16,138\tWARNING util.py:202 -- Processing trial results took 3.056 s, which may be a performance bottleneck. Please consider reporting results less frequently to Ray Tune.\n",
      "2024-04-18 18:09:16,139\tWARNING util.py:202 -- The `process_trial_result` operation took 3.057 s, which may be a performance bottleneck.\n"
     ]
    },
    {
     "name": "stdout",
     "output_type": "stream",
     "text": [
      "\u001b[36m(RayTrainWorker pid=61971)\u001b[0m Got rmse 0.7819411158561707\n",
      "\u001b[36m(RayTrainWorker pid=61971)\u001b[0m \n",
      "\u001b[36m(RayTrainWorker pid=61971)\u001b[0m Epoch 48, Iteration 74431, loss = 0.0091\n",
      "\u001b[36m(RayTrainWorker pid=61971)\u001b[0m Got rmse 0.8009610772132874\n"
     ]
    },
    {
     "name": "stderr",
     "output_type": "stream",
     "text": [
      "2024-04-18 18:09:21,042\tWARNING util.py:202 -- The `callbacks.on_trial_result` operation took 3.019 s, which may be a performance bottleneck.\n",
      "2024-04-18 18:09:21,046\tWARNING util.py:202 -- The `process_trial_result` operation took 3.024 s, which may be a performance bottleneck.\n",
      "2024-04-18 18:09:21,047\tWARNING util.py:202 -- Processing trial results took 3.024 s, which may be a performance bottleneck. Please consider reporting results less frequently to Ray Tune.\n",
      "2024-04-18 18:09:21,048\tWARNING util.py:202 -- The `process_trial_result` operation took 3.025 s, which may be a performance bottleneck.\n"
     ]
    },
    {
     "name": "stdout",
     "output_type": "stream",
     "text": [
      "\u001b[36m(RayTrainWorker pid=61971)\u001b[0m Got rmse 0.7814922332763672\n",
      "\u001b[36m(RayTrainWorker pid=61971)\u001b[0m \n",
      "\u001b[36m(RayTrainWorker pid=61971)\u001b[0m Epoch 49, Iteration 75950, loss = 0.0103\n",
      "\u001b[36m(RayTrainWorker pid=61971)\u001b[0m Got rmse 0.800876259803772\n"
     ]
    },
    {
     "name": "stderr",
     "output_type": "stream",
     "text": [
      "2024-04-18 18:09:25,850\tWARNING util.py:202 -- The `callbacks.on_trial_result` operation took 2.952 s, which may be a performance bottleneck.\n",
      "2024-04-18 18:09:25,852\tWARNING util.py:202 -- The `process_trial_result` operation took 2.954 s, which may be a performance bottleneck.\n",
      "2024-04-18 18:09:25,853\tWARNING util.py:202 -- Processing trial results took 2.955 s, which may be a performance bottleneck. Please consider reporting results less frequently to Ray Tune.\n",
      "2024-04-18 18:09:25,854\tWARNING util.py:202 -- The `process_trial_result` operation took 2.956 s, which may be a performance bottleneck.\n",
      "\u001b[36m(RayTrainWorker pid=61971)\u001b[0m Checkpoint successfully created at: Checkpoint(filesystem=local, path=/home/qubot/ray_results/EMS_ANN_v2/TorchTrainer_31192_00000_0_2024-04-18_18-05-32/checkpoint_000001)\n"
     ]
    },
    {
     "name": "stdout",
     "output_type": "stream",
     "text": [
      "\u001b[36m(RayTrainWorker pid=61971)\u001b[0m Got rmse 0.7812734842300415\n",
      "\u001b[36m(RayTrainWorker pid=61971)\u001b[0m \n"
     ]
    },
    {
     "name": "stderr",
     "output_type": "stream",
     "text": [
      "2024-04-18 18:09:29,377\tWARNING util.py:202 -- The `callbacks.on_trial_result` operation took 2.447 s, which may be a performance bottleneck.\n",
      "2024-04-18 18:09:29,380\tWARNING util.py:202 -- The `process_trial_result` operation took 2.450 s, which may be a performance bottleneck.\n",
      "2024-04-18 18:09:29,381\tWARNING util.py:202 -- Processing trial results took 2.451 s, which may be a performance bottleneck. Please consider reporting results less frequently to Ray Tune.\n",
      "2024-04-18 18:09:29,381\tWARNING util.py:202 -- The `process_trial_result` operation took 2.451 s, which may be a performance bottleneck.\n",
      "2024-04-18 18:09:32,519\tINFO tune.py:1042 -- Total run time: 240.38 seconds (239.77 seconds for the tuning loop).\n"
     ]
    }
   ],
   "source": [
    "from Neural_network import NN_net, Plain_fc_block, weight_init, eMNS_Dataset\n",
    "from Training_loop_v2 import train_ANN\n",
    "from ray.train import RunConfig, ScalingConfig, CheckpointConfig\n",
    "from ray.train.torch import TorchTrainer\n",
    "from ray.tune.tuner import Tuner\n",
    "from ray import tune\n",
    "from ray.tune.schedulers import ASHAScheduler\n",
    "import ray, os\n",
    "import torch.nn.functional as F\n",
    "\n",
    "# construct dataset\n",
    "\n",
    "Current_position =data[:train_file_num,0::sparsity,0::sparsity,0::sparsity,:15].reshape(-1,15) # position unit mm\n",
    "\n",
    "Bfield = data[:train_file_num,0::sparsity,0::sparsity,0::sparsity,15:].reshape(-1,3) # B field unit mT\n",
    "\n",
    "dataset = eMNS_Dataset(\n",
    "    x=Current_position,\n",
    "    y=Bfield\n",
    ")\n",
    "\n",
    "# split the dataset to train, validation, test\n",
    "train_set, valid_set = torch.utils.data.random_split(dataset, [0.9,0.1])\n",
    "\n",
    "# normailzation\n",
    "extremes = dataset.train_norm_ANN(train_indices = train_set.indices, boundary_index=12)\n",
    "\n",
    "###############################################\n",
    "# Config the neural network\n",
    "###############################################\n",
    "num_input = 15\n",
    "num_output = 3\n",
    "fc_stages = [(num_input,128,1),(128,64,1),(64,32,1)]\n",
    "fc_network = NN_net(None,fc_stages,None,Plain_fc_block, num_output=num_output)\n",
    "\n",
    "loss_func = lambda preds, y: F.l1_loss(preds, y)\n",
    "\n",
    "\n",
    "################################################\n",
    "# Train the neural network\n",
    "################################################\n",
    "\n",
    "train_loop_config = {\n",
    "                'epochs': 50,\n",
    "                'lr_max': 1e-3,\n",
    "                'lr_min': 2.5e-6,\n",
    "                'batch_size': 128,\n",
    "                'L2_norm'   : 0,\n",
    "                'verbose': False,\n",
    "                'schedule': [],\n",
    "                'learning_rate_decay': 0.5,\n",
    "                'num_input'   : num_input,\n",
    "                'num_output'  : num_output,\n",
    "                'fc_stages'   : fc_stages,\n",
    "                'backward'    : False,\n",
    "                'maxB'        : extremes[4],\n",
    "                'minB'        : extremes[5],\n",
    "                'device'      : device,\n",
    "                'train_set'   : train_set,\n",
    "                'valid_set'   : valid_set,\n",
    "                'loss_func'   : loss_func\n",
    "                # You can even grid search various datasets in Tune.\n",
    "                # \"datasets\": tune.grid_search(\n",
    "                #         [ds1, ds2]\n",
    "                #     ),\n",
    "}\n",
    "\n",
    "scaling_config = ScalingConfig(\n",
    "    num_workers = 1,\n",
    "    use_gpu = use_gpu,\n",
    "    #resource_per_worker = {\"CPU\":1, \"GPU\":1}\n",
    ")\n",
    "\n",
    "run_config = RunConfig(name=\"EMS_ANN_v2\", storage_path= \"~/ray_results\",checkpoint_config=CheckpointConfig(num_to_keep=1))\n",
    "\n",
    "# def train_loop_per_worker(params):\n",
    "#     train_GM(train_set=train_set, valid_set=valid_set,  device=device, config=params)\n",
    "\n",
    "trainer = TorchTrainer(\n",
    "    train_loop_per_worker = train_ANN,\n",
    "    train_loop_config = train_loop_config,\n",
    "    scaling_config = scaling_config,\n",
    "    run_config = run_config,\n",
    "\n",
    ")\n",
    "result = trainer.fit()\n",
    "\n"
   ]
  },
  {
   "cell_type": "code",
   "execution_count": 32,
   "metadata": {},
   "outputs": [
    {
     "name": "stdout",
     "output_type": "stream",
     "text": [
      "==========================================================================================\n",
      "Layer (type:depth-idx)                   Output Shape              Param #\n",
      "==========================================================================================\n",
      "├─Sequential: 1-1                        [-1, 3]                   --\n",
      "|    └─NN_stages: 2-1                    [-1, 100]                 --\n",
      "|    |    └─Sequential: 3-1              [-1, 100]                 1,600\n",
      "|    └─NN_stages: 2-2                    [-1, 50]                  --\n",
      "|    |    └─Sequential: 3-2              [-1, 50]                  5,050\n",
      "|    └─NN_stages: 2-3                    [-1, 25]                  --\n",
      "|    |    └─Sequential: 3-3              [-1, 25]                  1,275\n",
      "|    └─Linear: 2-4                       [-1, 3]                   78\n",
      "==========================================================================================\n",
      "Total params: 8,003\n",
      "Trainable params: 8,003\n",
      "Non-trainable params: 0\n",
      "Total mult-adds (M): 0.03\n",
      "==========================================================================================\n",
      "Input size (MB): 0.00\n",
      "Forward/backward pass size (MB): 0.00\n",
      "Params size (MB): 0.03\n",
      "Estimated Total Size (MB): 0.03\n",
      "==========================================================================================\n",
      "total_net.0.net.0.fc.weight \t torch.Size([100, 15])\n",
      "total_net.0.net.0.fc.bias \t torch.Size([100])\n",
      "total_net.1.net.0.fc.weight \t torch.Size([50, 100])\n",
      "total_net.1.net.0.fc.bias \t torch.Size([50])\n",
      "total_net.2.net.0.fc.weight \t torch.Size([25, 50])\n",
      "total_net.2.net.0.fc.bias \t torch.Size([25])\n",
      "total_net.3.weight \t torch.Size([3, 25])\n",
      "total_net.3.bias \t torch.Size([3])\n"
     ]
    }
   ],
   "source": [
    "from torchsummary import summary\n",
    "summary(fc_network, (1,15))\n",
    "for param_tensor in fc_network.state_dict():\n",
    "    print(param_tensor, '\\t', fc_network.state_dict()[param_tensor].size())"
   ]
  },
  {
   "cell_type": "code",
   "execution_count": 7,
   "metadata": {},
   "outputs": [
    {
     "data": {
      "image/png": "[encoded data removed]",
      "text/plain": [
       "<Figure size 640x480 with 1 Axes>"
      ]
     },
     "metadata": {},
     "output_type": "display_data"
    }
   ],
   "source": [
    "from utils import plot_ray_results\n",
    "plot_ray_results(results=result, metrics_names = ['rmse_val','rmse_train'])"
   ]
  },
  {
   "cell_type": "code",
   "execution_count": 13,
   "metadata": {},
   "outputs": [],
   "source": [
    "checkpoint_data = torch.load(os.path.join(result.checkpoint.path,\"model.pt\"))\n",
    "\n",
    "model_path = r\"./Trained_model/EMS_ANN_v2.pt\"\n",
    "torch.save(checkpoint_data, model_path)"
   ]
  },
  {
   "cell_type": "markdown",
   "metadata": {},
   "source": [
    "## Test dataset performance"
   ]
  },
  {
   "cell_type": "code",
   "execution_count": 8,
   "metadata": {},
   "outputs": [
    {
     "name": "stdout",
     "output_type": "stream",
     "text": [
      "position shape torch.Size([4260060, 15])\n",
      "Bfield shape torch.Size([4260060, 3])\n"
     ]
    }
   ],
   "source": [
    "# position unit mm, current unit Ampere\n",
    "sparsity = 1\n",
    "Current_position_test =data[train_file_num:, ::sparsity, ::sparsity, ::sparsity, :15].reshape(-1,15) \n",
    "# B field unit mT\n",
    "Bfield_test = data[train_file_num:, ::sparsity, ::sparsity, ::sparsity,15:].reshape(-1,3)\n",
    "\n",
    "num_sample = Current_position_test.shape[0]\n",
    "print('position shape', Current_position_test.shape)\n",
    "print('Bfield shape', Bfield_test.shape)\n",
    "\n",
    "# construct dataset\n",
    "test_set = eMNS_Dataset(\n",
    "    x=Current_position_test,\n",
    "    y=Bfield_test\n",
    ")\n",
    "test_set.test_norm_ANN(extremes=extremes, boundary_index=12)\n",
    "\n",
    "test_loader = torch.utils.data.DataLoader(\n",
    "    dataset=test_set,\n",
    "    batch_size=train_loop_config['batch_size'],\n",
    "    shuffle=False)\n"
   ]
  },
  {
   "cell_type": "code",
   "execution_count": 14,
   "metadata": {},
   "outputs": [
    {
     "name": "stdout",
     "output_type": "stream",
     "text": [
      "Got rmse 0.8505653142929077, num_samples 4260060\n"
     ]
    }
   ],
   "source": [
    "from utils import predict_check_rmse_ANN, check_rmse_ANN\n",
    "from Training_loop_v2 import construct_model_ANN \n",
    "\n",
    "model_path = r\"./Trained_model/EMS_ANN_v2.pt\"\n",
    "model = torch.load(model_path)['model']\n",
    "\n",
    "prediction, rmse, mse, Rsquare = predict_check_rmse_ANN(test_loader, model,config=train_loop_config)\n",
    "# check_rmse_ANN(test_loader, model, device, extremes[4], extremes[5])"
   ]
  },
  {
   "cell_type": "code",
   "execution_count": 12,
   "metadata": {},
   "outputs": [
    {
     "data": {
      "image/png": "[encoded data removed]",
      "text/plain": [
       "<Figure size 640x480 with 12 Axes>"
      ]
     },
     "metadata": {},
     "output_type": "display_data"
    }
   ],
   "source": [
    "import matplotlib.pyplot as plt\n",
    "import numpy as np\n",
    "B_est = prediction.reshape(-1, grid_size, grid_size, grid_size, 3)\n",
    "Bfield_test = Bfield_test.reshape(-1, grid_size, grid_size, grid_size, 3)\n",
    "\n",
    "# B_est = prediction.reshape(-1, 6, 6, 6, 3)\n",
    "# Bfield_test = Bfield_test.reshape(-1, 6, 6, 6, 3)\n",
    "\n",
    "current_index=3\n",
    "z_plane_index= 5\n",
    "# fig, ax = plt.subplots(3, 2)\n",
    "# fig.tight_layout(h_pad=2)\n",
    "fig = plt.figure()\n",
    "ylables=['Bx\\mT','By\\mT','Bz\\mT']\n",
    "# fig.tight_layout(pad=0.4, w_pad=0, h_pad=0)\n",
    "for i in range(1,4):\n",
    "    plt.subplot(3,2,2*i-1)\n",
    "    plt.imshow(B_est[current_index,:,:,z_plane_index,i-1])    \n",
    "    plt.colorbar()\n",
    "    plt.ylabel(ylables[i-1])\n",
    "    plt.subplot(3,2,2*i)\n",
    "    plt.imshow(Bfield_test[current_index,:,:,z_plane_index,i-1])\n",
    "    plt.colorbar()\n",
    "plt.show()"
   ]
  },
  {
   "cell_type": "code",
   "execution_count": null,
   "metadata": {},
   "outputs": [],
   "source": []
  }
 ],
 "metadata": {
  "kernelspec": {
   "display_name": "Python 3",
   "language": "python",
   "name": "python3"
  },
  "language_info": {
   "codemirror_mode": {
    "name": "ipython",
    "version": 3
   },
   "file_extension": ".py",
   "mimetype": "text/x-python",
   "name": "python",
   "nbconvert_exporter": "python",
   "pygments_lexer": "ipython3",
   "version": "3.10.13"
  }
 },
 "nbformat": 4,
 "nbformat_minor": 2
}

{
 "cells": [
  {
   "cell_type": "markdown",
   "metadata": {},
   "source": [
    "Statistical errors of ANN models"
   ]
  },
  {
   "cell_type": "code",
   "execution_count": 1,
   "metadata": {},
   "outputs": [
    {
     "name": "stdout",
     "output_type": "stream",
     "text": [
      "Good to go\n"
     ]
    }
   ],
   "source": [
    "import numpy as np\n",
    "import torch\n",
    "if torch.cuda.device_count():\n",
    "    device = 'cuda'\n",
    "    print('Good to go')\n",
    "else:\n",
    "    device = 'cpu'\n",
    "    print('Using cpu')"
   ]
  },
  {
   "cell_type": "code",
   "execution_count": 2,
   "metadata": {},
   "outputs": [
    {
     "data": {
      "text/plain": [
       "NN_net(\n",
       "  (total_net): Sequential(\n",
       "    (0): NN_stages(\n",
       "      (net): Sequential(\n",
       "        (0): Plain_fc_block(\n",
       "          (fc): Linear(in_features=15, out_features=100, bias=True)\n",
       "          (relu): ReLU()\n",
       "        )\n",
       "      )\n",
       "    )\n",
       "    (1): NN_stages(\n",
       "      (net): Sequential(\n",
       "        (0): Plain_fc_block(\n",
       "          (fc): Linear(in_features=100, out_features=50, bias=True)\n",
       "          (relu): ReLU()\n",
       "        )\n",
       "      )\n",
       "    )\n",
       "    (2): NN_stages(\n",
       "      (net): Sequential(\n",
       "        (0): Plain_fc_block(\n",
       "          (fc): Linear(in_features=50, out_features=25, bias=True)\n",
       "          (relu): ReLU()\n",
       "        )\n",
       "      )\n",
       "    )\n",
       "    (3): Linear(in_features=25, out_features=3, bias=True)\n",
       "  )\n",
       ")"
      ]
     },
     "execution_count": 2,
     "metadata": {},
     "output_type": "execute_result"
    }
   ],
   "source": [
    "#load saved model\n",
    "from Neural_network import NN_net, Plain_fc_block, weight_init, eMNS_Dataset\n",
    "num_input = 15\n",
    "num_output = 3\n",
    "fc_stages = [(num_input,100,1),(100,50,1),(50,25,1)]\n",
    "fc_network = NN_net(None,fc_stages,None,Plain_fc_block, num_output=num_output)\n",
    "\n",
    "fc_network = torch.load('EMS_ANN.pt', map_location=\"cuda:0\")\n",
    "fc_network.eval()\n",
    "fc_network.to(device)"
   ]
  },
  {
   "cell_type": "code",
   "execution_count": 26,
   "metadata": {},
   "outputs": [
    {
     "name": "stdout",
     "output_type": "stream",
     "text": [
      "tensor([[14.9943, 14.9997, 14.9988, 14.9575, 14.9915, 14.9808, 14.9884, 14.9878,\n",
      "         14.9549, 14.9957, 14.9494, 14.9705,  0.0400,  0.0400,  0.0400]])\n",
      "tensor([[-14.9800, -14.9944, -14.9962, -14.9903, -14.9597, -14.9911, -14.9693,\n",
      "         -14.9875, -14.9992, -14.9837, -14.9949, -14.9139,  -0.0500,  -0.0500,\n",
      "          -0.0500]])\n",
      "tensor([[0.0525, 0.0638, 0.0608]])\n",
      "tensor([[-0.0557, -0.0575, -0.0639]])\n",
      "torch.Size([1460, 10, 10, 10, 15])\n",
      "torch.Size([1460, 10, 10, 10, 3])\n"
     ]
    }
   ],
   "source": [
    "from ReadData import ReadCurrentAndField \n",
    "import glob\n",
    "import os \n",
    "\n",
    "# print(os.getcwd())\n",
    "foldername=\"./Data/\"\n",
    "filepattern = \"MagneticField[0-9]*.txt\"\n",
    "#data = ReadFolder(foldername,filepattern)\n",
    "train_file_num = 50\n",
    "data = ReadCurrentAndField (foldername,filepattern)\n",
    "\n",
    "fileList = glob.glob(foldername+filepattern)\n",
    "\n",
    "data=data.reshape(1460,21,21,21,18)\n",
    "position = data[:,0:20:2,0:20:2,0:20:2,:15]\n",
    "Bfield = data[:,0:20:2,0:20:2,0:20:2,15:]\n",
    "\n",
    "#find min and max value of input position and Bfield\n",
    "max_position, max_position_index = torch.max(position.reshape(-1,15), dim=0, keepdim=True)\n",
    "print(max_position)\n",
    "min_position, min_position_index = torch.min(position.reshape(-1,15), dim=0, keepdim=True)\n",
    "print(min_position)\n",
    "\n",
    "max_Bfield, max_Bfield_index = torch.max(Bfield.reshape(-1,3), dim=0, keepdim=True)\n",
    "print(max_Bfield)\n",
    "min_Bfield, min_Bfield_index = torch.min(Bfield.reshape(-1,3), dim=0, keepdim=True)\n",
    "print(min_Bfield)\n",
    "\n",
    "print(position.shape)\n",
    "print(Bfield.shape)\n",
    "\n",
    "\n",
    "dimp=position.shape\n",
    "dimB=Bfield.shape\n",
    "\n",
    "position_norm = (position-min_position.expand(dimp[0],dimp[1],dimp[2],dimp[3],dimp[4]))/(max_position.expand(dimp[0],dimp[1],dimp[2],dimp[3],dimp[4])-min_position.expand(dimp[0],dimp[1],dimp[2],dimp[3],dimp[4]))\n",
    "Bfield_norm = (Bfield-min_Bfield.expand(dimB[0],dimB[1],dimB[2],dimB[3],dimB[4]))/(max_Bfield.expand(dimB[0],dimB[1],dimB[2],dimB[3],dimB[4])-min_Bfield.expand(dimB[0],dimB[1],dimB[2],dimB[3],dimB[4]))\n",
    "\n"
   ]
  },
  {
   "cell_type": "code",
   "execution_count": 27,
   "metadata": {},
   "outputs": [
    {
     "name": "stdout",
     "output_type": "stream",
     "text": [
      "0\n",
      "1\n",
      "2\n",
      "3\n",
      "4\n",
      "5\n",
      "6\n",
      "7\n",
      "8\n",
      "9\n",
      "10\n",
      "11\n",
      "12\n",
      "13\n",
      "14\n",
      "15\n",
      "16\n",
      "17\n",
      "18\n",
      "19\n",
      "20\n",
      "21\n",
      "22\n",
      "23\n",
      "24\n",
      "25\n",
      "26\n",
      "27\n",
      "28\n",
      "29\n",
      "30\n",
      "31\n",
      "32\n",
      "33\n",
      "34\n",
      "35\n",
      "36\n",
      "37\n",
      "38\n",
      "39\n",
      "40\n",
      "41\n",
      "42\n",
      "43\n",
      "44\n",
      "45\n",
      "46\n",
      "47\n",
      "48\n",
      "49\n",
      "50\n",
      "51\n",
      "52\n",
      "53\n",
      "54\n",
      "55\n",
      "56\n",
      "57\n",
      "58\n",
      "59\n",
      "60\n",
      "61\n",
      "62\n",
      "63\n",
      "64\n",
      "65\n",
      "66\n",
      "67\n",
      "68\n",
      "69\n",
      "70\n",
      "71\n",
      "72\n",
      "73\n",
      "74\n",
      "75\n",
      "76\n",
      "77\n",
      "78\n",
      "79\n",
      "80\n",
      "81\n",
      "82\n",
      "83\n",
      "84\n",
      "85\n",
      "86\n",
      "87\n",
      "88\n",
      "89\n",
      "90\n",
      "91\n",
      "92\n",
      "93\n",
      "94\n",
      "95\n",
      "96\n",
      "97\n",
      "98\n",
      "99\n"
     ]
    }
   ],
   "source": [
    "#calculate estimated Bfield value of ANN \n",
    "\n",
    "B_est_norm=torch.zeros(100,10,10,10,3)\n",
    "for i in range (0,100):\n",
    "    print(i)\n",
    "    for j in range (0,position.shape[1]):\n",
    "        for k in range(0,position.shape[2]):\n",
    "            for l in range(0,position.shape[3]):\n",
    "                input=position_norm[i,j,k,l,:].cuda(0)\n",
    "                b = input.float().reshape(1,15)\n",
    "                B_est_norm[i,j,k,l,:]=fc_network(b)"
   ]
  },
  {
   "cell_type": "code",
   "execution_count": 28,
   "metadata": {},
   "outputs": [
    {
     "name": "stdout",
     "output_type": "stream",
     "text": [
      "torch.Size([100, 10, 10, 10, 3])\n",
      "torch.Size([1460, 10, 10, 10, 3])\n"
     ]
    }
   ],
   "source": [
    "print(B_est_norm.shape)\n",
    "maxB=max_Bfield.expand(100,10,10,10,3)\n",
    "minB=min_Bfield.expand(100,10,10,10,3)\n",
    "print(Bfield.shape)"
   ]
  },
  {
   "cell_type": "code",
   "execution_count": 32,
   "metadata": {},
   "outputs": [
    {
     "name": "stdout",
     "output_type": "stream",
     "text": [
      "(100, 10, 10, 10, 3)\n",
      "torch.Size([100, 10, 10, 10, 3])\n",
      "tensor(1.0844)\n"
     ]
    },
    {
     "name": "stderr",
     "output_type": "stream",
     "text": [
      "C:\\Users\\14032\\AppData\\Local\\Temp\\ipykernel_39292\\555286664.py:12: UserWarning: To copy construct from a tensor, it is recommended to use sourceTensor.clone().detach() or sourceTensor.clone().detach().requires_grad_(True), rather than torch.tensor(sourceTensor).\n",
      "  mse = F.mse_loss(torch.tensor(B_est),torch.tensor(B_real),reduction='sum')\n"
     ]
    }
   ],
   "source": [
    "\n",
    "B_est_norm=B_est_norm.cpu().detach().numpy()\n",
    "Bfield_norm=Bfield_norm.detach().numpy()\n",
    "maxB=maxB.detach().numpy()\n",
    "minB=minB.detach().numpy()\n",
    "B_est=B_est_norm*(maxB-minB)+minB\n",
    "B_real=Bfield[0:100,:,:,:,:]\n",
    "num_samples=B_est.shape[0]\n",
    "\n",
    "print(B_est.shape)\n",
    "print(B_real.shape)\n",
    "import torch.nn.functional as F\n",
    "mse = F.mse_loss(torch.tensor(B_est),torch.tensor(B_real),reduction='sum')\n",
    "rmse = torch.sqrt(mse/num_samples/10*10*10)\n",
    "print(rmse)\n"
   ]
  },
  {
   "cell_type": "code",
   "execution_count": 34,
   "metadata": {},
   "outputs": [
    {
     "name": "stderr",
     "output_type": "stream",
     "text": [
      "<>:10: SyntaxWarning: invalid escape sequence '\\m'\n",
      "<>:10: SyntaxWarning: invalid escape sequence '\\m'\n",
      "<>:10: SyntaxWarning: invalid escape sequence '\\m'\n",
      "<>:10: SyntaxWarning: invalid escape sequence '\\m'\n",
      "<>:10: SyntaxWarning: invalid escape sequence '\\m'\n",
      "<>:10: SyntaxWarning: invalid escape sequence '\\m'\n",
      "C:\\Users\\14032\\AppData\\Local\\Temp\\ipykernel_39292\\3784000866.py:10: SyntaxWarning: invalid escape sequence '\\m'\n",
      "  ylables=['Bx\\mT','By\\mT','Bz\\mT']\n",
      "C:\\Users\\14032\\AppData\\Local\\Temp\\ipykernel_39292\\3784000866.py:10: SyntaxWarning: invalid escape sequence '\\m'\n",
      "  ylables=['Bx\\mT','By\\mT','Bz\\mT']\n",
      "C:\\Users\\14032\\AppData\\Local\\Temp\\ipykernel_39292\\3784000866.py:10: SyntaxWarning: invalid escape sequence '\\m'\n",
      "  ylables=['Bx\\mT','By\\mT','Bz\\mT']\n"
     ]
    },
    {
     "data": {
      "image/png": "[encoded data removed]",
      "text/plain": [
       "<Figure size 640x480 with 12 Axes>"
      ]
     },
     "metadata": {},
     "output_type": "display_data"
    }
   ],
   "source": [
    "import matplotlib.pyplot as plt\n",
    "import numpy as np\n",
    "current_index=3\n",
    "z_plane_index= 5\n",
    "# fig, ax = plt.subplots(3, 2)\n",
    "# fig.tight_layout(h_pad=2)\n",
    "fig = plt.figure()\n",
    "vmin=[0.5,  0.4,  0.6]\n",
    "vmax=[0.65 , 0.55,  0.75]\n",
    "ylables=['Bx\\mT','By\\mT','Bz\\mT']\n",
    "# fig.tight_layout(pad=0.4, w_pad=0, h_pad=0)\n",
    "for i in range(1,4):\n",
    "    plt.subplot(3,2,2*i-1)\n",
    "    plt.imshow(B_est[current_index,:,:,z_plane_index,i-1]*1000)    #,vmin=vmin[i-1],vmax=vmax[i-1]\n",
    "    plt.colorbar()\n",
    "    plt.ylabel(ylables[i-1])\n",
    "    plt.subplot(3,2,2*i)\n",
    "    plt.imshow(B_real[current_index,:,:,z_plane_index,i-1]*1000)\n",
    "    plt.colorbar()\n",
    "plt.show()"
   ]
  },
  {
   "cell_type": "code",
   "execution_count": null,
   "metadata": {},
   "outputs": [],
   "source": [
    "# from pylab import *\n",
    "# subplots_adjust(left=0.0,bottom=0.0,top=1,right=1)\n",
    "# fig, ax = plt.subplots(1, 3)\n",
    "# fig.tight_layout()\n",
    "\n",
    "# for i in range(1,4):\n",
    "#     plt.subplot(1,3,i)\n",
    "#     plt.imshow(Error_CNN[current_index,i-1,:,:,z_plane_index])    \n",
    "#     plt.colorbar(fraction=0.04)    \n",
    "# plt.show()"
   ]
  }
 ],
 "metadata": {
  "kernelspec": {
   "display_name": "Python 3",
   "language": "python",
   "name": "python3"
  },
  "language_info": {
   "codemirror_mode": {
    "name": "ipython",
    "version": 3
   },
   "file_extension": ".py",
   "mimetype": "text/x-python",
   "name": "python",
   "nbconvert_exporter": "python",
   "pygments_lexer": "ipython3",
   "version": "3.12.1"
  }
 },
 "nbformat": 4,
 "nbformat_minor": 2
}

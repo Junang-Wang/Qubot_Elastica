{
 "cells": [
  {
   "cell_type": "markdown",
   "metadata": {},
   "source": [
    "Statistical errors of ANN models"
   ]
  },
  {
   "cell_type": "code",
   "execution_count": 1,
   "metadata": {},
   "outputs": [
    {
     "name": "stdout",
     "output_type": "stream",
     "text": [
      "Using cpu\n"
     ]
    },
    {
     "name": "stderr",
     "output_type": "stream",
     "text": [
      "/home/qubot/.pyenv/versions/3.10.13/lib/python3.10/site-packages/torch/cuda/__init__.py:628: UserWarning: Can't initialize NVML\n",
      "  warnings.warn(\"Can't initialize NVML\")\n"
     ]
    }
   ],
   "source": [
    "import numpy as np\n",
    "import torch\n",
    "if torch.cuda.device_count():\n",
    "    device = 'cuda'\n",
    "    print('Good to go')\n",
    "else:\n",
    "    device = 'cpu'\n",
    "    print('Using cpu')"
   ]
  },
  {
   "cell_type": "code",
   "execution_count": 2,
   "metadata": {},
   "outputs": [
    {
     "data": {
      "text/plain": [
       "NN_net(\n",
       "  (total_net): Sequential(\n",
       "    (0): NN_stages(\n",
       "      (net): Sequential(\n",
       "        (0): Plain_fc_block(\n",
       "          (fc): Linear(in_features=15, out_features=100, bias=True)\n",
       "          (relu): ReLU()\n",
       "        )\n",
       "      )\n",
       "    )\n",
       "    (1): NN_stages(\n",
       "      (net): Sequential(\n",
       "        (0): Plain_fc_block(\n",
       "          (fc): Linear(in_features=100, out_features=50, bias=True)\n",
       "          (relu): ReLU()\n",
       "        )\n",
       "      )\n",
       "    )\n",
       "    (2): NN_stages(\n",
       "      (net): Sequential(\n",
       "        (0): Plain_fc_block(\n",
       "          (fc): Linear(in_features=50, out_features=25, bias=True)\n",
       "          (relu): ReLU()\n",
       "        )\n",
       "      )\n",
       "    )\n",
       "    (3): Linear(in_features=25, out_features=3, bias=True)\n",
       "  )\n",
       ")"
      ]
     },
     "execution_count": 2,
     "metadata": {},
     "output_type": "execute_result"
    }
   ],
   "source": [
    "#load saved model\n",
    "from Neural_network import NN_net, Plain_fc_block, weight_init, eMNS_Dataset\n",
    "num_input = 15\n",
    "num_output = 3\n",
    "fc_stages = [(num_input,100,1),(100,50,1),(50,25,1)]\n",
    "fc_network = NN_net(None,fc_stages,None,Plain_fc_block, num_output=num_output)\n",
    "\n",
    "fc_network = torch.load('EMS_ANN.pt', map_location=device)\n",
    "fc_network.eval()\n",
    "fc_network.to(device)"
   ]
  },
  {
   "cell_type": "code",
   "execution_count": 5,
   "metadata": {},
   "outputs": [
    {
     "name": "stdout",
     "output_type": "stream",
     "text": [
      "./Data/MagneticField0.txt\n",
      "./Data/MagneticField1.txt\n",
      "./Data/MagneticField2.txt\n",
      "./Data/MagneticField3.txt\n",
      "./Data/MagneticField4.txt\n",
      "./Data/MagneticField5.txt\n",
      "./Data/MagneticField6.txt\n",
      "./Data/MagneticField7.txt\n",
      "./Data/MagneticField8.txt\n",
      "./Data/MagneticField9.txt\n",
      "./Data/MagneticField10.txt\n",
      "./Data/MagneticField11.txt\n",
      "./Data/MagneticField12.txt\n",
      "./Data/MagneticField13.txt\n",
      "./Data/MagneticField14.txt\n",
      "./Data/MagneticField15.txt\n",
      "./Data/MagneticField16.txt\n",
      "./Data/MagneticField17.txt\n",
      "./Data/MagneticField18.txt\n",
      "./Data/MagneticField19.txt\n",
      "./Data/MagneticField20.txt\n",
      "./Data/MagneticField21.txt\n",
      "./Data/MagneticField22.txt\n",
      "./Data/MagneticField23.txt\n",
      "./Data/MagneticField24.txt\n",
      "./Data/MagneticField25.txt\n",
      "./Data/MagneticField26.txt\n",
      "./Data/MagneticField27.txt\n",
      "./Data/MagneticField28.txt\n",
      "./Data/MagneticField29.txt\n",
      "./Data/MagneticField30.txt\n",
      "./Data/MagneticField31.txt\n",
      "./Data/MagneticField32.txt\n",
      "./Data/MagneticField33.txt\n",
      "./Data/MagneticField34.txt\n",
      "./Data/MagneticField35.txt\n",
      "./Data/MagneticField36.txt\n",
      "./Data/MagneticField37.txt\n",
      "./Data/MagneticField38.txt\n",
      "./Data/MagneticField39.txt\n",
      "./Data/MagneticField40.txt\n",
      "./Data/MagneticField41.txt\n",
      "./Data/MagneticField42.txt\n",
      "./Data/MagneticField43.txt\n",
      "./Data/MagneticField44.txt\n",
      "./Data/MagneticField45.txt\n",
      "./Data/MagneticField46.txt\n",
      "./Data/MagneticField47.txt\n",
      "./Data/MagneticField48.txt\n",
      "./Data/MagneticField49.txt\n",
      "tensor([[14.7052, 14.4482, 14.9344, 13.7458, 14.1650, 13.2006, 13.3289, 14.7264,\n",
      "         14.5976, 14.9142, 14.9494, 14.6675,  0.0400,  0.0400,  0.0400]])\n",
      "tensor([[-14.2894, -14.9404, -14.9602, -14.9842, -14.4572, -14.3721, -14.7337,\n",
      "         -14.1629, -14.4925, -14.4975, -14.8293, -14.9139,  -0.0500,  -0.0500,\n",
      "          -0.0500]])\n",
      "tensor([[0.0401, 0.0638, 0.0436]])\n",
      "tensor([[-0.0445, -0.0544, -0.0521]])\n",
      "torch.Size([50, 10, 10, 10, 15])\n",
      "torch.Size([50, 10, 10, 10, 3])\n"
     ]
    }
   ],
   "source": [
    "from ReadData import ReadCurrentAndField \n",
    "import glob\n",
    "import os \n",
    "\n",
    "# print(os.getcwd())\n",
    "foldername=\"./Data/\"\n",
    "filepattern = \"MagneticField[0-9]*.txt\"\n",
    "#data = ReadFolder(foldername,filepattern)\n",
    "train_file_num = 50\n",
    "data = ReadCurrentAndField (foldername,filepattern, train_file_num)\n",
    "\n",
    "fileList = glob.glob(foldername+filepattern)\n",
    "\n",
    "data=data.reshape(train_file_num,21,21,21,18)\n",
    "position = data[:,0:20:2,0:20:2,0:20:2,:15]\n",
    "Bfield = data[:,0:20:2,0:20:2,0:20:2,15:]\n",
    "\n",
    "#find min and max value of input position and Bfield\n",
    "max_position, max_position_index = torch.max(position.reshape(-1,15), dim=0, keepdim=True)\n",
    "print(max_position)\n",
    "min_position, min_position_index = torch.min(position.reshape(-1,15), dim=0, keepdim=True)\n",
    "print(min_position)\n",
    "\n",
    "max_Bfield, max_Bfield_index = torch.max(Bfield.reshape(-1,3), dim=0, keepdim=True)\n",
    "print(max_Bfield)\n",
    "min_Bfield, min_Bfield_index = torch.min(Bfield.reshape(-1,3), dim=0, keepdim=True)\n",
    "print(min_Bfield)\n",
    "\n",
    "print(position.shape)\n",
    "print(Bfield.shape)\n",
    "\n",
    "\n",
    "dimp=position.shape\n",
    "dimB=Bfield.shape\n",
    "\n",
    "position_norm = (position-min_position.expand(dimp[0],dimp[1],dimp[2],dimp[3],dimp[4]))/(max_position.expand(dimp[0],dimp[1],dimp[2],dimp[3],dimp[4])-min_position.expand(dimp[0],dimp[1],dimp[2],dimp[3],dimp[4]))\n",
    "Bfield_norm = (Bfield-min_Bfield.expand(dimB[0],dimB[1],dimB[2],dimB[3],dimB[4]))/(max_Bfield.expand(dimB[0],dimB[1],dimB[2],dimB[3],dimB[4])-min_Bfield.expand(dimB[0],dimB[1],dimB[2],dimB[3],dimB[4]))\n",
    "\n"
   ]
  },
  {
   "cell_type": "code",
   "execution_count": 9,
   "metadata": {},
   "outputs": [],
   "source": [
    "#calculate estimated Bfield value of ANN \n",
    "\n",
    "B_est_norm=torch.zeros(train_file_num,10,10,10,3)\n",
    "for i in range (0,train_file_num):\n",
    "    for j in range (0,position.shape[1]):\n",
    "        for k in range(0,position.shape[2]):\n",
    "            for l in range(0,position.shape[3]):\n",
    "                input=position_norm[i,j,k,l,:].to(device)\n",
    "                b = input.float().reshape(1,15)\n",
    "                B_est_norm[i,j,k,l,:]=fc_network(b)"
   ]
  },
  {
   "cell_type": "code",
   "execution_count": 10,
   "metadata": {},
   "outputs": [
    {
     "name": "stdout",
     "output_type": "stream",
     "text": [
      "torch.Size([50, 10, 10, 10, 3])\n",
      "torch.Size([50, 10, 10, 10, 3])\n"
     ]
    }
   ],
   "source": [
    "print(B_est_norm.shape)\n",
    "maxB=max_Bfield.expand(train_file_num,10,10,10,3)\n",
    "minB=min_Bfield.expand(train_file_num,10,10,10,3)\n",
    "print(Bfield.shape)"
   ]
  },
  {
   "cell_type": "code",
   "execution_count": 16,
   "metadata": {},
   "outputs": [
    {
     "name": "stdout",
     "output_type": "stream",
     "text": [
      "(50, 10, 10, 10, 3)\n",
      "torch.Size([50, 10, 10, 10, 3])\n",
      "tensor(3.4067)\n"
     ]
    },
    {
     "name": "stderr",
     "output_type": "stream",
     "text": [
      "/tmp/ipykernel_12347/2286253547.py:13: UserWarning: To copy construct from a tensor, it is recommended to use sourceTensor.clone().detach() or sourceTensor.clone().detach().requires_grad_(True), rather than torch.tensor(sourceTensor).\n",
      "  mse = F.mse_loss(torch.tensor(B_est),torch.tensor(B_real),reduction='sum')\n"
     ]
    }
   ],
   "source": [
    "if device == 'cuda':\n",
    "    B_est_norm=B_est_norm.cpu().detach().numpy()\n",
    "    Bfield_norm=Bfield_norm.detach().numpy()\n",
    "    maxB=maxB.detach().numpy()\n",
    "    minB=minB.detach().numpy()\n",
    "B_est=B_est_norm*(maxB-minB)+minB\n",
    "B_real=Bfield[:train_file_num,:,:,:,:]\n",
    "num_samples=B_est.shape[0]\n",
    "\n",
    "print(B_est.shape)\n",
    "print(B_real.shape)\n",
    "import torch.nn.functional as F\n",
    "mse = F.mse_loss(torch.tensor(B_est),torch.tensor(B_real),reduction='sum')\n",
    "rmse = torch.sqrt(mse/num_samples/10*10*10)\n",
    "print(rmse)\n"
   ]
  },
  {
   "cell_type": "code",
   "execution_count": 17,
   "metadata": {},
   "outputs": [
    {
     "data": {
      "image/png": "[encoded data removed]",
      "text/plain": [
       "<Figure size 640x480 with 12 Axes>"
      ]
     },
     "metadata": {},
     "output_type": "display_data"
    }
   ],
   "source": [
    "import matplotlib.pyplot as plt\n",
    "import numpy as np\n",
    "current_index=3\n",
    "z_plane_index= 5\n",
    "# fig, ax = plt.subplots(3, 2)\n",
    "# fig.tight_layout(h_pad=2)\n",
    "fig = plt.figure()\n",
    "vmin=[0.5,  0.4,  0.6]\n",
    "vmax=[0.65 , 0.55,  0.75]\n",
    "ylables=['Bx\\mT','By\\mT','Bz\\mT']\n",
    "# fig.tight_layout(pad=0.4, w_pad=0, h_pad=0)\n",
    "for i in range(1,4):\n",
    "    plt.subplot(3,2,2*i-1)\n",
    "    plt.imshow(B_est[current_index,:,:,z_plane_index,i-1]*1000)    #,vmin=vmin[i-1],vmax=vmax[i-1]\n",
    "    plt.colorbar()\n",
    "    plt.ylabel(ylables[i-1])\n",
    "    plt.subplot(3,2,2*i)\n",
    "    plt.imshow(B_real[current_index,:,:,z_plane_index,i-1]*1000)\n",
    "    plt.colorbar()\n",
    "plt.show()"
   ]
  },
  {
   "cell_type": "code",
   "execution_count": null,
   "metadata": {},
   "outputs": [],
   "source": [
    "# from pylab import *\n",
    "# subplots_adjust(left=0.0,bottom=0.0,top=1,right=1)\n",
    "# fig, ax = plt.subplots(1, 3)\n",
    "# fig.tight_layout()\n",
    "\n",
    "# for i in range(1,4):\n",
    "#     plt.subplot(1,3,i)\n",
    "#     plt.imshow(Error_CNN[current_index,i-1,:,:,z_plane_index])    \n",
    "#     plt.colorbar(fraction=0.04)    \n",
    "# plt.show()"
   ]
  }
 ],
 "metadata": {
  "kernelspec": {
   "display_name": "Python 3",
   "language": "python",
   "name": "python3"
  },
  "language_info": {
   "codemirror_mode": {
    "name": "ipython",
    "version": 3
   },
   "file_extension": ".py",
   "mimetype": "text/x-python",
   "name": "python",
   "nbconvert_exporter": "python",
   "pygments_lexer": "ipython3",
   "version": "3.10.13"
  }
 },
 "nbformat": 4,
 "nbformat_minor": 2
}

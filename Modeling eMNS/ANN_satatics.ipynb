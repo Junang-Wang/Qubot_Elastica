{
 "cells": [
  {
   "cell_type": "markdown",
   "metadata": {},
   "source": [
    "Statistical errors of ANN models"
   ]
  },
  {
   "cell_type": "code",
   "execution_count": 74,
   "metadata": {},
   "outputs": [
    {
     "name": "stdout",
     "output_type": "stream",
     "text": [
      "Good to go\n"
     ]
    }
   ],
   "source": [
    "import numpy as np\n",
    "import torch\n",
    "if torch.cuda.device_count():\n",
    "    device = 'cuda'\n",
    "    print('Good to go')\n",
    "else:\n",
    "    device = 'cpu'\n",
    "    print('Using cpu')"
   ]
  },
  {
   "cell_type": "code",
   "execution_count": 75,
   "metadata": {},
   "outputs": [
    {
     "data": {
      "text/plain": [
       "NN_net(\n",
       "  (total_net): Sequential(\n",
       "    (0): NN_stages(\n",
       "      (net): Sequential(\n",
       "        (0): Plain_fc_block(\n",
       "          (fc): Linear(in_features=15, out_features=100, bias=True)\n",
       "          (relu): ReLU()\n",
       "        )\n",
       "      )\n",
       "    )\n",
       "    (1): NN_stages(\n",
       "      (net): Sequential(\n",
       "        (0): Plain_fc_block(\n",
       "          (fc): Linear(in_features=100, out_features=50, bias=True)\n",
       "          (relu): ReLU()\n",
       "        )\n",
       "      )\n",
       "    )\n",
       "    (2): NN_stages(\n",
       "      (net): Sequential(\n",
       "        (0): Plain_fc_block(\n",
       "          (fc): Linear(in_features=50, out_features=25, bias=True)\n",
       "          (relu): ReLU()\n",
       "        )\n",
       "      )\n",
       "    )\n",
       "    (3): Linear(in_features=25, out_features=3, bias=True)\n",
       "  )\n",
       ")"
      ]
     },
     "execution_count": 75,
     "metadata": {},
     "output_type": "execute_result"
    }
   ],
   "source": [
    "#load saved model\n",
    "from Neural_network import NN_net, Plain_fc_block, weight_init, eMNS_Dataset\n",
    "num_input = 15\n",
    "num_output = 3\n",
    "fc_stages = [(num_input,100,1),(100,50,1),(50,25,1)]\n",
    "fc_network = NN_net(None,fc_stages,None,Plain_fc_block, num_output=num_output)\n",
    "\n",
    "fc_network = torch.load('EMS_ANN.pt', map_location=\"cuda:0\")\n",
    "fc_network.eval()\n",
    "fc_network.to(device)"
   ]
  },
  {
   "cell_type": "code",
   "execution_count": 76,
   "metadata": {},
   "outputs": [],
   "source": [
    "from ReadData import ReadCurrentAndField \n",
    "import glob\n",
    "\n",
    "# print(os.getcwd())\n",
    "foldername=\"./Data/\"\n",
    "filepattern = \"MagneticField[0-9]*.txt\"\n",
    "#data = ReadFolder(foldername,filepattern)\n",
    "train_file_num = 50\n",
    "data = ReadCurrentAndField (foldername,filepattern)\n",
    "\n",
    "fileList = glob.glob(foldername+filepattern)\n",
    "\n",
    "data=data.reshape(1000,21,21,21,18)\n",
    "position = data[:,1:20:2,1:20:2,1:20:2,:15]\n",
    "Bfield = data[:,1:20:2,1:20:2,1:20:2,15:]"
   ]
  },
  {
   "cell_type": "code",
   "execution_count": 77,
   "metadata": {},
   "outputs": [
    {
     "name": "stdout",
     "output_type": "stream",
     "text": [
      "torch.Size([1000, 10, 10, 10, 15])\n"
     ]
    }
   ],
   "source": [
    "print(position.shape)"
   ]
  },
  {
   "cell_type": "code",
   "execution_count": 86,
   "metadata": {},
   "outputs": [
    {
     "name": "stdout",
     "output_type": "stream",
     "text": [
      "0\n",
      "1\n",
      "2\n",
      "3\n",
      "4\n",
      "5\n",
      "6\n",
      "7\n",
      "8\n",
      "9\n"
     ]
    }
   ],
   "source": [
    "#calculate estimated Bfield value of ANN \n",
    "\n",
    "B_est=torch.zeros(10,3,10,10,10)\n",
    "for i in range (0,10):\n",
    "    print(i)\n",
    "    for j in range (0,position.shape[1]):\n",
    "        for k in range(0,position.shape[2]):\n",
    "            for l in range(0,position.shape[3]):\n",
    "                input=position[i,j,k,l,:].cuda(0)\n",
    "                b = input.float().reshape(1,15)\n",
    "                # y=fc_network(b)\n",
    "                # print(b.shape)\n",
    "                # print(y.shape)\n",
    "                B_est[i,:,j,k,l]=fc_network(b)"
   ]
  },
  {
   "cell_type": "code",
   "execution_count": 87,
   "metadata": {},
   "outputs": [
    {
     "ename": "AttributeError",
     "evalue": "'numpy.ndarray' object has no attribute 'detach'",
     "output_type": "error",
     "traceback": [
      "\u001b[1;31m---------------------------------------------------------------------------\u001b[0m",
      "\u001b[1;31mAttributeError\u001b[0m                            Traceback (most recent call last)",
      "Cell \u001b[1;32mIn[87], line 2\u001b[0m\n\u001b[0;32m      1\u001b[0m B_est\u001b[38;5;241m=\u001b[39mB_est\u001b[38;5;241m.\u001b[39mcpu()\u001b[38;5;241m.\u001b[39mdetach()\u001b[38;5;241m.\u001b[39mnumpy()\n\u001b[1;32m----> 2\u001b[0m Bfield\u001b[38;5;241m=\u001b[39m\u001b[43mBfield\u001b[49m\u001b[38;5;241;43m.\u001b[39;49m\u001b[43mdetach\u001b[49m()\u001b[38;5;241m.\u001b[39mnumpy()\n",
      "\u001b[1;31mAttributeError\u001b[0m: 'numpy.ndarray' object has no attribute 'detach'"
     ]
    }
   ],
   "source": [
    "B_est=B_est.cpu().detach().numpy()\n",
    "Bfield=Bfield.detach().numpy()\n"
   ]
  },
  {
   "cell_type": "code",
   "execution_count": 97,
   "metadata": {},
   "outputs": [
    {
     "data": {
      "image/png": "[encoded data removed]",
      "text/plain": [
       "<Figure size 640x480 with 12 Axes>"
      ]
     },
     "metadata": {},
     "output_type": "display_data"
    }
   ],
   "source": [
    "import matplotlib.pyplot as plt\n",
    "import numpy as np\n",
    "current_index=9\n",
    "z_plane_index= 5\n",
    "# fig, ax = plt.subplots(3, 2)\n",
    "# fig.tight_layout(h_pad=2)\n",
    "fig = plt.figure()\n",
    "vmin=[-6,-8,  7]\n",
    "vmax=[2 , -1, 12]\n",
    "\n",
    "# fig.tight_layout(pad=0.4, w_pad=0, h_pad=0)\n",
    "for i in range(1,4):\n",
    "    plt.subplot(3,2,2*i-1)\n",
    "    plt.imshow(B_est[current_index,i-1,:,:,z_plane_index]*1000)    \n",
    "    plt.colorbar()\n",
    "  \n",
    "    plt.subplot(3,2,2*i)\n",
    "    plt.imshow(Bfield[current_index,:,:,z_plane_index,i-1]*1000)\n",
    "    plt.colorbar()\n",
    "plt.show()"
   ]
  },
  {
   "cell_type": "code",
   "execution_count": null,
   "metadata": {},
   "outputs": [],
   "source": [
    "# from pylab import *\n",
    "# subplots_adjust(left=0.0,bottom=0.0,top=1,right=1)\n",
    "# fig, ax = plt.subplots(1, 3)\n",
    "# fig.tight_layout()\n",
    "\n",
    "# for i in range(1,4):\n",
    "#     plt.subplot(1,3,i)\n",
    "#     plt.imshow(Error_CNN[current_index,i-1,:,:,z_plane_index])    \n",
    "#     plt.colorbar(fraction=0.04)    \n",
    "# plt.show()"
   ]
  }
 ],
 "metadata": {
  "kernelspec": {
   "display_name": "Python 3",
   "language": "python",
   "name": "python3"
  },
  "language_info": {
   "codemirror_mode": {
    "name": "ipython",
    "version": 3
   },
   "file_extension": ".py",
   "mimetype": "text/x-python",
   "name": "python",
   "nbconvert_exporter": "python",
   "pygments_lexer": "ipython3",
   "version": "3.12.1"
  }
 },
 "nbformat": 4,
 "nbformat_minor": 2
}

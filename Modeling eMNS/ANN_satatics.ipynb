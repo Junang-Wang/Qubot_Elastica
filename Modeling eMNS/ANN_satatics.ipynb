{
 "cells": [
  {
   "cell_type": "markdown",
   "metadata": {},
   "source": [
    "Statistical errors of ANN models"
   ]
  },
  {
   "cell_type": "code",
   "execution_count": 98,
   "metadata": {},
   "outputs": [
    {
     "name": "stdout",
     "output_type": "stream",
     "text": [
      "Good to go\n"
     ]
    }
   ],
   "source": [
    "import numpy as np\n",
    "import torch\n",
    "if torch.cuda.device_count():\n",
    "    device = 'cuda'\n",
    "    print('Good to go')\n",
    "else:\n",
    "    device = 'cpu'\n",
    "    print('Using cpu')"
   ]
  },
  {
   "cell_type": "code",
   "execution_count": 99,
   "metadata": {},
   "outputs": [
    {
     "data": {
      "text/plain": [
       "NN_net(\n",
       "  (total_net): Sequential(\n",
       "    (0): NN_stages(\n",
       "      (net): Sequential(\n",
       "        (0): Plain_fc_block(\n",
       "          (fc): Linear(in_features=15, out_features=100, bias=True)\n",
       "          (relu): ReLU()\n",
       "        )\n",
       "      )\n",
       "    )\n",
       "    (1): NN_stages(\n",
       "      (net): Sequential(\n",
       "        (0): Plain_fc_block(\n",
       "          (fc): Linear(in_features=100, out_features=50, bias=True)\n",
       "          (relu): ReLU()\n",
       "        )\n",
       "      )\n",
       "    )\n",
       "    (2): NN_stages(\n",
       "      (net): Sequential(\n",
       "        (0): Plain_fc_block(\n",
       "          (fc): Linear(in_features=50, out_features=25, bias=True)\n",
       "          (relu): ReLU()\n",
       "        )\n",
       "      )\n",
       "    )\n",
       "    (3): Linear(in_features=25, out_features=3, bias=True)\n",
       "  )\n",
       ")"
      ]
     },
     "execution_count": 99,
     "metadata": {},
     "output_type": "execute_result"
    }
   ],
   "source": [
    "#load saved model\n",
    "from Neural_network import NN_net, Plain_fc_block, weight_init, eMNS_Dataset\n",
    "num_input = 15\n",
    "num_output = 3\n",
    "fc_stages = [(num_input,100,1),(100,50,1),(50,25,1)]\n",
    "fc_network = NN_net(None,fc_stages,None,Plain_fc_block, num_output=num_output)\n",
    "\n",
    "fc_network = torch.load('EMS_ANN.pt', map_location=\"cuda:0\")\n",
    "fc_network.eval()\n",
    "fc_network.to(device)"
   ]
  },
  {
   "cell_type": "code",
   "execution_count": 113,
   "metadata": {},
   "outputs": [
    {
     "name": "stdout",
     "output_type": "stream",
     "text": [
      "tensor([[14.9943, 14.9997, 14.9988, 14.9575, 14.9915, 14.9808, 14.9884, 14.9878,\n",
      "         14.9228, 14.9957, 14.9494, 14.9535,  0.0400,  0.0400,  0.0400]])\n",
      "tensor([[-14.9800, -14.9944, -14.9792, -14.9903, -14.9597, -14.9911, -14.9693,\n",
      "         -14.9875, -14.9675, -14.9837, -14.9757, -14.9139,  -0.0500,  -0.0500,\n",
      "          -0.0500]])\n",
      "tensor([[0.0525, 0.0638, 0.0538]])\n",
      "tensor([[-0.0557, -0.0575, -0.0639]])\n",
      "torch.Size([1000, 10, 10, 10, 15])\n",
      "torch.Size([1000, 10, 10, 10, 3])\n"
     ]
    }
   ],
   "source": [
    "from ReadData import ReadCurrentAndField \n",
    "import glob\n",
    "import os \n",
    "\n",
    "# print(os.getcwd())\n",
    "foldername=\"./Data/\"\n",
    "filepattern = \"MagneticField[0-9]*.txt\"\n",
    "#data = ReadFolder(foldername,filepattern)\n",
    "train_file_num = 50\n",
    "data = ReadCurrentAndField (foldername,filepattern)\n",
    "\n",
    "fileList = glob.glob(foldername+filepattern)\n",
    "\n",
    "data=data.reshape(1000,21,21,21,18)\n",
    "position = data[:,0:20:2,0:20:2,0:20:2,:15]\n",
    "Bfield = data[:,0:20:2,0:20:2,0:20:2,15:]\n",
    "\n",
    "#find min and max value of input position and Bfield\n",
    "max_position, max_position_index = torch.max(position.reshape(-1,15), dim=0, keepdim=True)\n",
    "print(max_position)\n",
    "min_position, min_position_index = torch.min(position.reshape(-1,15), dim=0, keepdim=True)\n",
    "print(min_position)\n",
    "\n",
    "max_Bfield, max_Bfield_index = torch.max(Bfield.reshape(-1,3), dim=0, keepdim=True)\n",
    "print(max_Bfield)\n",
    "min_Bfield, min_Bfield_index = torch.min(Bfield.reshape(-1,3), dim=0, keepdim=True)\n",
    "print(min_Bfield)\n",
    "\n",
    "print(position.shape)\n",
    "print(Bfield.shape)\n",
    "\n",
    "\n",
    "dimp=position.shape\n",
    "dimB=Bfield.shape\n",
    "\n",
    "position_norm = (position-min_position.expand(dimp[0],dimp[1],dimp[2],dimp[3],dimp[4]))/(max_position.expand(dimp[0],dimp[1],dimp[2],dimp[3],dimp[4])-min_position.expand(dimp[0],dimp[1],dimp[2],dimp[3],dimp[4]))\n",
    "Bfield_norm = (Bfield-min_Bfield.expand(dimB[0],dimB[1],dimB[2],dimB[3],dimB[4]))/(max_Bfield.expand(dimB[0],dimB[1],dimB[2],dimB[3],dimB[4])-min_Bfield.expand(dimB[0],dimB[1],dimB[2],dimB[3],dimB[4]))\n",
    "\n"
   ]
  },
  {
   "cell_type": "code",
   "execution_count": 118,
   "metadata": {},
   "outputs": [
    {
     "name": "stdout",
     "output_type": "stream",
     "text": [
      "0\n",
      "1\n",
      "2\n",
      "3\n",
      "4\n",
      "5\n",
      "6\n",
      "7\n",
      "8\n",
      "9\n"
     ]
    }
   ],
   "source": [
    "#calculate estimated Bfield value of ANN \n",
    "\n",
    "B_est_norm=torch.zeros(10,3,10,10,10)\n",
    "for i in range (0,10):\n",
    "    print(i)\n",
    "    for j in range (0,position.shape[1]):\n",
    "        for k in range(0,position.shape[2]):\n",
    "            for l in range(0,position.shape[3]):\n",
    "                input=position_norm[i,j,k,l,:].cuda(0)\n",
    "                b = input.float().reshape(1,15)\n",
    "                B_est_norm[i,:,j,k,l]=fc_network(b)"
   ]
  },
  {
   "cell_type": "code",
   "execution_count": 119,
   "metadata": {},
   "outputs": [],
   "source": [
    "B_est_norm=B_est_norm.cpu().detach().numpy()\n",
    "Bfield_norm=Bfield_norm.detach().numpy()"
   ]
  },
  {
   "cell_type": "code",
   "execution_count": 145,
   "metadata": {},
   "outputs": [
    {
     "data": {
      "image/png": "[encoded data removed]",
      "text/plain": [
       "<Figure size 640x480 with 12 Axes>"
      ]
     },
     "metadata": {},
     "output_type": "display_data"
    }
   ],
   "source": [
    "import matplotlib.pyplot as plt\n",
    "import numpy as np\n",
    "current_index=8\n",
    "z_plane_index= 5\n",
    "# fig, ax = plt.subplots(3, 2)\n",
    "# fig.tight_layout(h_pad=2)\n",
    "fig = plt.figure()\n",
    "vmin=[0.5,  0.4,  0.6]\n",
    "vmax=[0.65 , 0.55,  0.75]\n",
    "\n",
    "# fig.tight_layout(pad=0.4, w_pad=0, h_pad=0)\n",
    "for i in range(1,4):\n",
    "    plt.subplot(3,2,2*i-1)\n",
    "    plt.imshow(B_est_norm[current_index,i-1,:,:,z_plane_index])    #,vmin=vmin[i-1],vmax=vmax[i-1]\n",
    "    plt.colorbar()\n",
    "  \n",
    "    plt.subplot(3,2,2*i)\n",
    "    plt.imshow(Bfield_norm[current_index,:,:,z_plane_index,i-1])\n",
    "    plt.colorbar()\n",
    "plt.show()"
   ]
  },
  {
   "cell_type": "code",
   "execution_count": null,
   "metadata": {},
   "outputs": [],
   "source": [
    "# from pylab import *\n",
    "# subplots_adjust(left=0.0,bottom=0.0,top=1,right=1)\n",
    "# fig, ax = plt.subplots(1, 3)\n",
    "# fig.tight_layout()\n",
    "\n",
    "# for i in range(1,4):\n",
    "#     plt.subplot(1,3,i)\n",
    "#     plt.imshow(Error_CNN[current_index,i-1,:,:,z_plane_index])    \n",
    "#     plt.colorbar(fraction=0.04)    \n",
    "# plt.show()"
   ]
  }
 ],
 "metadata": {
  "kernelspec": {
   "display_name": "Python 3",
   "language": "python",
   "name": "python3"
  },
  "language_info": {
   "codemirror_mode": {
    "name": "ipython",
    "version": 3
   },
   "file_extension": ".py",
   "mimetype": "text/x-python",
   "name": "python",
   "nbconvert_exporter": "python",
   "pygments_lexer": "ipython3",
   "version": "3.12.1"
  }
 },
 "nbformat": 4,
 "nbformat_minor": 2
}

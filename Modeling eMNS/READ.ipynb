{
 "cells": [
  {
   "cell_type": "code",
   "execution_count": 38,
   "metadata": {},
   "outputs": [],
   "source": [
    "#zhoujing read file \n",
    "import pandas as pd\n",
    "import numpy as np\n",
    "import torch"
   ]
  },
  {
   "cell_type": "code",
   "execution_count": 39,
   "metadata": {},
   "outputs": [
    {
     "name": "stdout",
     "output_type": "stream",
     "text": [
      "            0          1          2          3          4          5   \\\n",
      "0    13.377536  -7.211070   0.741187   3.370891 -11.227984  10.886728   \n",
      "1    13.990121  -2.347604 -12.810453  12.602935  -7.506053   5.667563   \n",
      "2    -7.150359 -14.938438 -10.461355 -10.448156  -3.929637 -11.385478   \n",
      "3    -8.407322   0.873758  14.415918   1.850328 -10.669980  -7.484029   \n",
      "4    -7.659824   4.255773   5.158273  -4.331816  11.511097  -6.343674   \n",
      "..         ...        ...        ...        ...        ...        ...   \n",
      "995   6.868029  12.163486  -3.450635   5.535166   0.832927   1.170504   \n",
      "996   9.416658   9.348362  -3.951384   9.788224   4.646395 -14.646981   \n",
      "997  14.337277  12.576514  -2.429953   6.235643  -9.712057  -6.517787   \n",
      "998   9.993018  -4.585545  -8.394262  13.706213   3.590820  -6.131998   \n",
      "999 -12.319459   6.683977 -13.610929  13.977406   2.508146  -9.246351   \n",
      "\n",
      "            6          7          8          9          10         11  \n",
      "0    -5.343411  -0.894705   1.191360   1.474581   4.036663  -3.886099  \n",
      "1    -3.487126 -13.043578   9.150284 -13.419137  -4.708152  -6.130244  \n",
      "2     7.030206  -7.968157  13.671130   2.970187  -8.669371   5.447183  \n",
      "3   -13.615899  14.152840  -2.772153  12.971347   6.003374 -14.913876  \n",
      "4    -5.528238  -5.268535  -7.840283 -14.479989   1.343298  11.669215  \n",
      "..         ...        ...        ...        ...        ...        ...  \n",
      "995 -12.436321  -5.168198  -8.171720  13.377874   4.786092   8.518392  \n",
      "996  -3.550545   9.869690   9.541047  13.893239  11.203986  11.102768  \n",
      "997  -5.704190  14.868988  12.816451 -10.251476   9.814350   7.255544  \n",
      "998 -14.109647  -3.209547  -7.507358   0.930580   4.100114   2.429011  \n",
      "999  -4.595882   2.511418   3.823291  12.857236  -7.937162  -3.565358  \n",
      "\n",
      "[1000 rows x 12 columns]\n",
      "aa\n"
     ]
    },
    {
     "name": "stderr",
     "output_type": "stream",
     "text": [
      "<>:1: SyntaxWarning: invalid escape sequence '\\S'\n",
      "<>:1: SyntaxWarning: invalid escape sequence '\\S'\n",
      "C:\\Users\\14032\\AppData\\Local\\Temp\\ipykernel_5984\\311306771.py:1: SyntaxWarning: invalid escape sequence '\\S'\n",
      "  CurrentData = pd.read_table('Data\\SampleCurrent.txt',\n"
     ]
    }
   ],
   "source": [
    "CurrentData = pd.read_table('Data\\SampleCurrent.txt',\n",
    "skiprows=0,sep='\\\\s+',index_col=None,header=None) \n",
    "print(CurrentData)\n",
    "\n",
    "print('aa')\n"
   ]
  },
  {
   "cell_type": "code",
   "execution_count": null,
   "metadata": {},
   "outputs": [],
   "source": []
  },
  {
   "cell_type": "code",
   "execution_count": 41,
   "metadata": {},
   "outputs": [
    {
     "name": "stderr",
     "output_type": "stream",
     "text": [
      "<>:3: SyntaxWarning: invalid escape sequence '\\M'\n",
      "<>:3: SyntaxWarning: invalid escape sequence '\\M'\n",
      "C:\\Users\\14032\\AppData\\Local\\Temp\\ipykernel_5984\\1803668405.py:3: SyntaxWarning: invalid escape sequence '\\M'\n",
      "  filename = ('Data\\MagneticField%d.txt') % (index)\n"
     ]
    }
   ],
   "source": [
    "#读取单个电流文件,填充电流\n",
    "def ReadSingleFile(index,current):\n",
    "  filename = ('Data\\MagneticField%d.txt') % (index)\n",
    "  data = pd.read_table(filename,skiprows=2,sep='\\\\s+',index_col=None,header=None)\n",
    "  matrix = np.tile(current, (data.shape[0], 1))\n",
    "  fulldata = np.hstack((matrix,data))\n",
    "  return fulldata\n",
    "\n",
    "#合并数据\n",
    "input = np.zeros((1,18), dtype=float, order='C')\n",
    "for index in range(0,1):\n",
    "\n",
    "  input=ReadSingleFile(index,current)"
   ]
  },
  {
   "cell_type": "code",
   "execution_count": 63,
   "metadata": {},
   "outputs": [
    {
     "name": "stdout",
     "output_type": "stream",
     "text": [
      "(9261, 6)\n"
     ]
    },
    {
     "name": "stderr",
     "output_type": "stream",
     "text": [
      "<>:2: SyntaxWarning: invalid escape sequence '\\M'\n",
      "<>:2: SyntaxWarning: invalid escape sequence '\\M'\n",
      "C:\\Users\\14032\\AppData\\Local\\Temp\\ipykernel_5984\\3276466542.py:2: SyntaxWarning: invalid escape sequence '\\M'\n",
      "  data = pd.read_table('Data\\MagneticField0.txt',skiprows=2,sep='\\\\s+',index_col=None,header=None)\n"
     ]
    }
   ],
   "source": [
    "import torch\n",
    "data = pd.read_table('Data\\MagneticField0.txt',skiprows=2,sep='\\\\s+',index_col=None,header=None)\n",
    "my_array = np.array(data)\n",
    "my_tensor = torch.tensor(my_array)\n",
    "\n",
    "print(data.shape)\n",
    "y=my_tensor.reshape(21,21,21,6) \n",
    "# test_data=input[1:-1,12:]\n",
    "# print(test_data)\n",
    "# y=test_data.reshape(21,21,21) "
   ]
  },
  {
   "cell_type": "code",
   "execution_count": 62,
   "metadata": {},
   "outputs": [
    {
     "name": "stdout",
     "output_type": "stream",
     "text": [
      "tensor([[-5.0000e-02, -4.0000e-02, -5.0000e-02, -6.2157e-03, -2.3008e-03,\n",
      "         -3.7955e-03],\n",
      "        [-5.0000e-02, -4.0000e-02, -4.5000e-02, -5.4556e-03, -1.7283e-03,\n",
      "         -3.8262e-03],\n",
      "        [-5.0000e-02, -4.0000e-02, -4.0000e-02, -4.6714e-03, -1.1627e-03,\n",
      "         -3.8615e-03],\n",
      "        [-5.0000e-02, -4.0000e-02, -3.5000e-02, -3.8650e-03, -5.5140e-04,\n",
      "         -3.8976e-03],\n",
      "        [-5.0000e-02, -4.0000e-02, -3.0000e-02, -3.0623e-03,  3.0091e-05,\n",
      "         -3.9467e-03],\n",
      "        [-5.0000e-02, -4.0000e-02, -2.5000e-02, -2.2325e-03,  6.4133e-04,\n",
      "         -3.9838e-03],\n",
      "        [-5.0000e-02, -4.0000e-02, -2.0000e-02, -1.4238e-03,  1.2688e-03,\n",
      "         -4.0381e-03],\n",
      "        [-5.0000e-02, -4.0000e-02, -1.5000e-02, -6.1362e-04,  1.9046e-03,\n",
      "         -4.0963e-03],\n",
      "        [-5.0000e-02, -4.0000e-02, -1.0000e-02,  2.0591e-04,  2.5890e-03,\n",
      "         -4.1674e-03],\n",
      "        [-5.0000e-02, -4.0000e-02, -5.0000e-03,  1.0198e-03,  3.2628e-03,\n",
      "         -4.2513e-03],\n",
      "        [-5.0000e-02, -4.0000e-02,  0.0000e+00,  1.8638e-03,  3.9821e-03,\n",
      "         -4.3360e-03],\n",
      "        [-5.0000e-02, -4.0000e-02,  5.0000e-03,  2.6772e-03,  4.7324e-03,\n",
      "         -4.4428e-03],\n",
      "        [-5.0000e-02, -4.0000e-02,  1.0000e-02,  3.4825e-03,  5.4965e-03,\n",
      "         -4.5491e-03],\n",
      "        [-5.0000e-02, -4.0000e-02,  1.5000e-02,  4.2951e-03,  6.3468e-03,\n",
      "         -4.6664e-03],\n",
      "        [-5.0000e-02, -4.0000e-02,  2.0000e-02,  5.1090e-03,  7.1756e-03,\n",
      "         -4.8113e-03],\n",
      "        [-5.0000e-02, -4.0000e-02,  2.5000e-02,  5.9446e-03,  8.0729e-03,\n",
      "         -4.9590e-03],\n",
      "        [-5.0000e-02, -4.0000e-02,  3.0000e-02,  6.7518e-03,  9.0124e-03,\n",
      "         -5.1025e-03],\n",
      "        [-5.0000e-02, -4.0000e-02,  3.5000e-02,  7.5265e-03,  9.9636e-03,\n",
      "         -5.2319e-03],\n",
      "        [-5.0000e-02, -4.0000e-02,  4.0000e-02,  8.3387e-03,  1.1041e-02,\n",
      "         -5.3860e-03],\n",
      "        [-5.0000e-02, -4.0000e-02,  4.5000e-02,  9.1225e-03,  1.2074e-02,\n",
      "         -5.5362e-03],\n",
      "        [-5.0000e-02, -4.0000e-02,  5.0000e-02,  9.9341e-03,  1.3198e-02,\n",
      "         -5.6794e-03]], dtype=torch.float64)\n",
      "torch.Size([21, 6])\n"
     ]
    }
   ],
   "source": [
    "print(y[0,2,:,:])\n",
    "a=y[0,0,:,:]\n",
    "print(a.shape)"
   ]
  },
  {
   "cell_type": "code",
   "execution_count": 32,
   "metadata": {},
   "outputs": [
    {
     "name": "stdout",
     "output_type": "stream",
     "text": [
      "2.2.1+cpu\n",
      "None\n",
      "False\n"
     ]
    }
   ],
   "source": [
    "import torch\n",
    "\n",
    "print(torch.__version__)  # 查看torch当前版本号\n",
    "\n",
    "print(torch.version.cuda)  # 编译当前版本的torch使用的cuda版本号\n",
    "\n",
    "print(torch.cuda.is_available())  # 查看当前cuda是否可用于当前版本的Torch，如果输出True，则表示可用\n",
    "\n",
    "\n"
   ]
  },
  {
   "cell_type": "code",
   "execution_count": 33,
   "metadata": {},
   "outputs": [
    {
     "name": "stdout",
     "output_type": "stream",
     "text": [
      "Mon Feb 26 20:46:51 2024       \n",
      "+---------------------------------------------------------------------------------------+\n",
      "| NVIDIA-SMI 537.70                 Driver Version: 537.70       CUDA Version: 12.2     |\n",
      "|-----------------------------------------+----------------------+----------------------+\n",
      "| GPU  Name                     TCC/WDDM  | Bus-Id        Disp.A | Volatile Uncorr. ECC |\n",
      "| Fan  Temp   Perf          Pwr:Usage/Cap |         Memory-Usage | GPU-Util  Compute M. |\n",
      "|                                         |                      |               MIG M. |\n",
      "|=========================================+======================+======================|\n",
      "|   0  NVIDIA GeForce RTX 4060 Ti   WDDM  | 00000000:01:00.0  On |                  N/A |\n",
      "| 31%   31C    P5              12W / 160W |   3741MiB /  8188MiB |     29%      Default |\n",
      "|                                         |                      |                  N/A |\n",
      "+-----------------------------------------+----------------------+----------------------+\n",
      "                                                                                         \n",
      "+---------------------------------------------------------------------------------------+\n",
      "| Processes:                                                                            |\n",
      "|  GPU   GI   CI        PID   Type   Process name                            GPU Memory |\n",
      "|        ID   ID                                                             Usage      |\n",
      "|=======================================================================================|\n",
      "|    0   N/A  N/A      2468    C+G   ...crosoft\\Edge\\Application\\msedge.exe    N/A      |\n",
      "|    0   N/A  N/A      8612    C+G   C:\\Windows\\explorer.exe                   N/A      |\n",
      "|    0   N/A  N/A     10372    C+G   ...nt.CBS_cw5n1h2txyewy\\SearchHost.exe    N/A      |\n",
      "|    0   N/A  N/A     10512    C+G   ...2txyewy\\StartMenuExperienceHost.exe    N/A      |\n",
      "|    0   N/A  N/A     11272    C+G   ...oogle\\Chrome\\Application\\chrome.exe    N/A      |\n",
      "|    0   N/A  N/A     14540    C+G   ...x86)\\Lenovo\\SLBrowser\\SLBrowser.exe    N/A      |\n",
      "|    0   N/A  N/A     14944    C+G   ...les\\Microsoft OneDrive\\OneDrive.exe    N/A      |\n",
      "|    0   N/A  N/A     16156    C+G   ...ekyb3d8bbwe\\PhoneExperienceHost.exe    N/A      |\n",
      "|    0   N/A  N/A     16432    C+G   D:\\ToDesk\\ToDesk.exe                      N/A      |\n",
      "|    0   N/A  N/A     16716    C+G   ...CBS_cw5n1h2txyewy\\TextInputHost.exe    N/A      |\n",
      "|    0   N/A  N/A     20004    C+G   ....128\\native\\DesktopAssistantApp.exe    N/A      |\n",
      "|    0   N/A  N/A     20884    C+G   ...5n1h2txyewy\\ShellExperienceHost.exe    N/A      |\n",
      "|    0   N/A  N/A     21552    C+G   ...n\\121.0.2277.128\\msedgewebview2.exe    N/A      |\n",
      "|    0   N/A  N/A     25340    C+G   ...__8wekyb3d8bbwe\\WindowsTerminal.exe    N/A      |\n",
      "|    0   N/A  N/A     26364    C+G   C:\\Windows\\explorer.exe                   N/A      |\n",
      "|    0   N/A  N/A     30064    C+G   ...siveControlPanel\\SystemSettings.exe    N/A      |\n",
      "|    0   N/A  N/A     36392    C+G   ...2.0_x64__w2gh52qy24etm\\Nahimic3.exe    N/A      |\n",
      "|    0   N/A  N/A     38072    C+G   ...wekyb3d8bbwe\\XboxGameBarWidgets.exe    N/A      |\n",
      "|    0   N/A  N/A     40004    C+G   ...Programs\\Microsoft VS Code\\Code.exe    N/A      |\n",
      "|    0   N/A  N/A     43600    C+G   ...ogram Files\\Notepad++\\notepad++.exe    N/A      |\n",
      "+---------------------------------------------------------------------------------------+\n"
     ]
    }
   ],
   "source": [
    "!nvidia-smi"
   ]
  },
  {
   "cell_type": "code",
   "execution_count": 17,
   "metadata": {},
   "outputs": [],
   "source": [
    "class X(object):\n",
    "\tdef __init__(self, a, b, range):\n",
    "\t\tself.a = a\n",
    "\t\tself.b = b\n",
    "\t\tself.range = range\n",
    "\tdef __call__(self, a, b):\n",
    "\t\tself.a = a\n",
    "\t\tself.b = b\n",
    "\t\tprint('__call__ with （{}, {}）'.format(self.a, self.b))\n",
    "\n",
    "\n"
   ]
  },
  {
   "cell_type": "code",
   "execution_count": 19,
   "metadata": {},
   "outputs": [
    {
     "name": "stdout",
     "output_type": "stream",
     "text": [
      "__call__ with （1, 2）\n"
     ]
    }
   ],
   "source": [
    "xInstance = X(1, 2, 3)\n",
    "xInstance(1,2)\n",
    "\n"
   ]
  }
 ],
 "metadata": {
  "kernelspec": {
   "display_name": "Python 3",
   "language": "python",
   "name": "python3"
  },
  "language_info": {
   "codemirror_mode": {
    "name": "ipython",
    "version": 3
   },
   "file_extension": ".py",
   "mimetype": "text/x-python",
   "name": "python",
   "nbconvert_exporter": "python",
   "pygments_lexer": "ipython3",
   "version": "3.12.1"
  }
 },
 "nbformat": 4,
 "nbformat_minor": 2
}

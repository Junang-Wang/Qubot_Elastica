{
 "cells": [
  {
   "cell_type": "markdown",
   "metadata": {},
   "source": [
    "Statistical errors of CNN models"
   ]
  },
  {
   "cell_type": "markdown",
   "metadata": {
    "slideshow": {
     "slide_type": "notes"
    }
   },
   "source": [
    "#read current\n",
    "#load model and calculate out put od model\n",
    "#plot 3d error of Bfield"
   ]
  },
  {
   "cell_type": "code",
   "execution_count": 1,
   "metadata": {},
   "outputs": [
    {
     "name": "stdout",
     "output_type": "stream",
     "text": [
      "Good to go\n"
     ]
    }
   ],
   "source": [
    "import numpy as np\n",
    "import torch\n",
    "if torch.cuda.device_count():\n",
    "    device = 'cuda'\n",
    "    map_location = 'cuda:0'\n",
    "    print('Good to go')\n",
    "else:\n",
    "    device = 'cpu'\n",
    "    map_location = torch.device('cpu')\n",
    "    print('Using cpu')\n",
    "    \n",
    "from Neural_network import Generative_net, ResidualEMNSBlock_3d, BigBlock, weight_init, eMNS_Dataset"
   ]
  },
  {
   "cell_type": "code",
   "execution_count": 2,
   "metadata": {},
   "outputs": [
    {
     "data": {
      "text/plain": [
       "Generative_net(\n",
       "  (proj): Linear(in_features=12, out_features=8000, bias=True)\n",
       "  (conv3d): Conv3d(64, 3, kernel_size=(3, 3, 3), stride=(1, 1, 1), padding=(1, 1, 1))\n",
       "  (total_net): Sequential(\n",
       "    (0): Linear(in_features=12, out_features=8000, bias=True)\n",
       "    (1): Unflatten(dim=1, unflattened_size=(64, 5, 5, 5))\n",
       "    (2): BigBlock(\n",
       "      (block): Sequential(\n",
       "        (0): ResidualEMNSBlock_3d(\n",
       "          (block): Sequential(\n",
       "            (0): BatchNorm3d(64, eps=1e-05, momentum=0.1, affine=True, track_running_stats=True)\n",
       "            (1): Conv3d(64, 64, kernel_size=(3, 3, 3), stride=(1, 1, 1), padding=(1, 1, 1))\n",
       "            (2): LeakyReLU(negative_slope=0.01)\n",
       "          )\n",
       "          (shortcut): Identity()\n",
       "        )\n",
       "        (1): ResidualEMNSBlock_3d(\n",
       "          (block): Sequential(\n",
       "            (0): BatchNorm3d(64, eps=1e-05, momentum=0.1, affine=True, track_running_stats=True)\n",
       "            (1): Conv3d(64, 64, kernel_size=(3, 3, 3), stride=(1, 1, 1), padding=(1, 1, 1))\n",
       "            (2): LeakyReLU(negative_slope=0.01)\n",
       "          )\n",
       "          (shortcut): Identity()\n",
       "        )\n",
       "        (2): ResidualEMNSBlock_3d(\n",
       "          (block): Sequential(\n",
       "            (0): BatchNorm3d(64, eps=1e-05, momentum=0.1, affine=True, track_running_stats=True)\n",
       "            (1): Conv3d(64, 64, kernel_size=(3, 3, 3), stride=(1, 1, 1), padding=(1, 1, 1))\n",
       "            (2): LeakyReLU(negative_slope=0.01)\n",
       "          )\n",
       "          (shortcut): Identity()\n",
       "        )\n",
       "        (3): ResidualEMNSBlock_3d(\n",
       "          (block): Sequential(\n",
       "            (0): BatchNorm3d(64, eps=1e-05, momentum=0.1, affine=True, track_running_stats=True)\n",
       "            (1): Conv3d(64, 64, kernel_size=(3, 3, 3), stride=(1, 1, 1), padding=(1, 1, 1))\n",
       "            (2): LeakyReLU(negative_slope=0.01)\n",
       "          )\n",
       "          (shortcut): Identity()\n",
       "        )\n",
       "        (4): UpsampleBlock(\n",
       "          (block): Sequential(\n",
       "            (0): Upsample(scale_factor=2.0, mode='nearest')\n",
       "          )\n",
       "        )\n",
       "      )\n",
       "    )\n",
       "    (3): BigBlock(\n",
       "      (block): Sequential(\n",
       "        (0): ResidualEMNSBlock_3d(\n",
       "          (block): Sequential(\n",
       "            (0): BatchNorm3d(64, eps=1e-05, momentum=0.1, affine=True, track_running_stats=True)\n",
       "            (1): Conv3d(64, 64, kernel_size=(3, 3, 3), stride=(1, 1, 1), padding=(1, 1, 1))\n",
       "            (2): LeakyReLU(negative_slope=0.01)\n",
       "          )\n",
       "          (shortcut): Identity()\n",
       "        )\n",
       "        (1): ResidualEMNSBlock_3d(\n",
       "          (block): Sequential(\n",
       "            (0): BatchNorm3d(64, eps=1e-05, momentum=0.1, affine=True, track_running_stats=True)\n",
       "            (1): Conv3d(64, 64, kernel_size=(3, 3, 3), stride=(1, 1, 1), padding=(1, 1, 1))\n",
       "            (2): LeakyReLU(negative_slope=0.01)\n",
       "          )\n",
       "          (shortcut): Identity()\n",
       "        )\n",
       "        (2): ResidualEMNSBlock_3d(\n",
       "          (block): Sequential(\n",
       "            (0): BatchNorm3d(64, eps=1e-05, momentum=0.1, affine=True, track_running_stats=True)\n",
       "            (1): Conv3d(64, 64, kernel_size=(3, 3, 3), stride=(1, 1, 1), padding=(1, 1, 1))\n",
       "            (2): LeakyReLU(negative_slope=0.01)\n",
       "          )\n",
       "          (shortcut): Identity()\n",
       "        )\n",
       "        (3): ResidualEMNSBlock_3d(\n",
       "          (block): Sequential(\n",
       "            (0): BatchNorm3d(64, eps=1e-05, momentum=0.1, affine=True, track_running_stats=True)\n",
       "            (1): Conv3d(64, 64, kernel_size=(3, 3, 3), stride=(1, 1, 1), padding=(1, 1, 1))\n",
       "            (2): LeakyReLU(negative_slope=0.01)\n",
       "          )\n",
       "          (shortcut): Identity()\n",
       "        )\n",
       "        (4): UpsampleBlock(\n",
       "          (block): Sequential(\n",
       "            (0): Upsample(scale_factor=2.0, mode='nearest')\n",
       "          )\n",
       "        )\n",
       "      )\n",
       "    )\n",
       "    (4): BatchNorm3d(64, eps=1e-05, momentum=0.1, affine=True, track_running_stats=True)\n",
       "    (5): Conv3d(64, 3, kernel_size=(3, 3, 3), stride=(1, 1, 1), padding=(1, 1, 1))\n",
       "  )\n",
       ")"
      ]
     },
     "execution_count": 2,
     "metadata": {},
     "output_type": "execute_result"
    }
   ],
   "source": [
    "#load saved  model\n",
    "num_input = 12\n",
    "output_shape = (3,20,20,20)\n",
    "SB_args = (64,64,4) # (Cin, Cout, num_block)\n",
    "BB_args = (2,2) # (scale_factor, num_block)\n",
    "SB_block = ResidualEMNSBlock_3d \n",
    "BB_block = BigBlock\n",
    "\n",
    "Generative_network = Generative_net(SB_args, BB_args, SB_block, BB_block, num_input=num_input, output_shape= output_shape)\n",
    "Generative_network = torch.load('EMS_CNN.pt', map_location=map_location)\n",
    "Generative_network.eval()\n",
    "Generative_network.to(device)"
   ]
  },
  {
   "cell_type": "code",
   "execution_count": 3,
   "metadata": {},
   "outputs": [],
   "source": [
    "#load current and real magnetic field data\n",
    "from ReadData import ReadCurrentAndField_CNN\n",
    "foldername=\"./Data/\"\n",
    "filepattern = \"MagneticField[0-9]*.txt\"\n",
    "current,data = ReadCurrentAndField_CNN (foldername,filepattern)\n",
    "position = data[:,0:3,0:20,0:20,0:20]\n",
    "Bfield = data[:,3:,0:20,0:20,0:20]"
   ]
  },
  {
   "cell_type": "code",
   "execution_count": 4,
   "metadata": {},
   "outputs": [
    {
     "name": "stdout",
     "output_type": "stream",
     "text": [
      "current shape: torch.Size([1000, 12]) current device: cpu\n",
      "Bfied;: torch.Size([1000, 3, 20, 20, 20]) current device: cpu\n"
     ]
    }
   ],
   "source": [
    "num_samples, num_current_input = current.shape\n",
    "_, dimension, grid_x, grid_y, grid_z = Bfield.shape\n",
    "grid_space = grid_x*grid_y*grid_z\n",
    "print(\"current shape:\",current.shape,\"current device:\",current.device)\n",
    "print(\"Bfied;:\",Bfield.shape,\"current device:\",Bfield.device)"
   ]
  },
  {
   "cell_type": "code",
   "execution_count": 5,
   "metadata": {},
   "outputs": [],
   "source": [
    "#calculate estimated Bfield value of CNN \n",
    "B_est=torch.zeros(num_samples,dimension,grid_x,grid_y,grid_z)\n",
    "for i in range (0,num_samples):\n",
    "    input=current[i,:].to(device).reshape(1,12)\n",
    "    b = input.float()\n",
    "    B_est[i]=Generative_network(b)\n",
    "\n",
    "B_est=B_est.cpu().detach().numpy()\n",
    "Bfield=Bfield.detach().numpy()\n",
    "current=current.detach().numpy()"
   ]
  },
  {
   "cell_type": "code",
   "execution_count": 6,
   "metadata": {},
   "outputs": [
    {
     "name": "stdout",
     "output_type": "stream",
     "text": [
      "(1000, 3, 20, 20, 20)\n"
     ]
    }
   ],
   "source": [
    "Bdiff=np.absolute(B_est-Bfield*1000)\n",
    "print(Bdiff.shape)\n",
    "Error_CNN = Bdiff/Bfield*100"
   ]
  },
  {
   "cell_type": "code",
   "execution_count": 10,
   "metadata": {},
   "outputs": [
    {
     "name": "stdout",
     "output_type": "stream",
     "text": [
      "tensor(11.8365)\n",
      "tensor(25.9821)\n",
      "(1000, 12)\n"
     ]
    },
    {
     "data": {
      "image/png": "[encoded data removed]",
      "text/plain": [
       "<Figure size 640x480 with 12 Axes>"
      ]
     },
     "metadata": {},
     "output_type": "display_data"
    },
    {
     "name": "stdout",
     "output_type": "stream",
     "text": [
      "example RMSE: tensor(30.7909)\n",
      "my RMSE: 30.79087121606241\n"
     ]
    },
    {
     "data": {
      "text/plain": [
       "<Figure size 640x480 with 0 Axes>"
      ]
     },
     "metadata": {},
     "output_type": "display_data"
    },
    {
     "data": {
      "image/png": "[encoded data removed]",
      "text/plain": [
       "<Figure size 640x480 with 6 Axes>"
      ]
     },
     "metadata": {},
     "output_type": "display_data"
    }
   ],
   "source": [
    "import matplotlib.pyplot as plt\n",
    "import numpy as np\n",
    "import torch.nn.functional as F\n",
    "loss = F.l1_loss(torch.tensor(B_est),torch.tensor(Bfield*1000))\n",
    "\n",
    "mse = F.mse_loss(torch.tensor(B_est),torch.tensor(Bfield*1000),reduction='sum')\n",
    "rmse = torch.sqrt(mse/num_samples/grid_space)\n",
    "\n",
    "print(loss)\n",
    "print(rmse)\n",
    "current_index=1\n",
    "print(current.shape)\n",
    "\n",
    "z_plane_index= 10\n",
    "# fig, ax = plt.subplots(3, 2)\n",
    "# fig.tight_layout(h_pad=2)\n",
    "fig = plt.figure()\n",
    "vmin=[-5,-20,-10]\n",
    "vmax=[5 , 5, 20]\n",
    "MSE_temp = 0\n",
    "my_error = 0\n",
    "# fig.tight_layout(pad=0.4, w_pad=0, h_pad=0)\n",
    "for i in range(1,4):\n",
    "    B_est_temp = B_est[current_index,i-1,:,:,z_plane_index]\n",
    "    # B_est_temp = B_est[current_index,i-1,:,:,:]\n",
    "    plt.subplot(3,2,2*i-1)\n",
    "    plt.imshow(B_est_temp)    #,vmin=vmin[i-1],vmax=vmax[i-1]\n",
    "    plt.colorbar()\n",
    "  \n",
    "    Bfield_temp = Bfield[current_index,i-1,:,:,z_plane_index]*1000\n",
    "    # Bfield_temp = Bfield[current_index,i-1,:,:,:]*1000\n",
    "    plt.subplot(3,2,2*i)\n",
    "    plt.imshow(Bfield_temp)\n",
    "    plt.colorbar()\n",
    "    # print('B_est_temp:',B_est_temp)\n",
    "    # print('Bfield_temp:',Bfield_temp)\n",
    "    MSE_temp += F.mse_loss(torch.tensor(B_est_temp),torch.tensor(Bfield_temp),reduction='sum')\n",
    "    my_error += np.sum((B_est_temp-Bfield_temp)**2)\n",
    "\n",
    "plt.show()\n",
    "RMSE_temp = torch.sqrt(MSE_temp/grid_x/grid_y)\n",
    "RMSE_my = np.sqrt(my_error/grid_x/grid_y)\n",
    "print('example RMSE:',RMSE_temp)\n",
    "print('my RMSE:', RMSE_my)\n",
    "from pylab import *\n",
    "subplots_adjust(left=0.0,bottom=0.0,top=1,right=1)\n",
    "fig, ax = plt.subplots(1, 3)\n",
    "fig.tight_layout()\n",
    "\n",
    "for i in range(1,4):\n",
    "    plt.subplot(1,3,i)\n",
    "    plt.imshow(Error_CNN[current_index,i-1,:,:,z_plane_index])    \n",
    "    plt.colorbar(fraction=0.04)    \n",
    "\n",
    "plt.show()"
   ]
  },
  {
   "cell_type": "code",
   "execution_count": 25,
   "metadata": {},
   "outputs": [
    {
     "ename": "TypeError",
     "evalue": "unsupported operand type(s) for ^: 'float' and 'int'",
     "output_type": "error",
     "traceback": [
      "\u001b[1;31m---------------------------------------------------------------------------\u001b[0m",
      "\u001b[1;31mTypeError\u001b[0m                                 Traceback (most recent call last)",
      "Cell \u001b[1;32mIn[25], line 1\u001b[0m\n\u001b[1;32m----> 1\u001b[0m \u001b[38;5;241m9.5166\u001b[39m\u001b[38;5;241m/\u001b[39m(\u001b[38;5;241;43m20.0\u001b[39;49m\u001b[38;5;241;43m^\u001b[39;49m\u001b[38;5;241;43m3\u001b[39;49m)\n",
      "\u001b[1;31mTypeError\u001b[0m: unsupported operand type(s) for ^: 'float' and 'int'"
     ]
    }
   ],
   "source": [
    "9.5166/(20.0^3)"
   ]
  },
  {
   "cell_type": "code",
   "execution_count": 105,
   "metadata": {},
   "outputs": [
    {
     "data": {
      "image/png": "[encoded data removed]",
      "text/plain": [
       "<Figure size 640x480 with 1 Axes>"
      ]
     },
     "metadata": {},
     "output_type": "display_data"
    }
   ],
   "source": [
    "plt.hist(Error_CNN[:,0,:,:,:].reshape(-1),bins=30,range=[-2.5e3,2.5e3])\n",
    "plt.title(\"histogram\") \n",
    "plt.show()"
   ]
  }
 ],
 "metadata": {
  "kernelspec": {
   "display_name": "Python 3",
   "language": "python",
   "name": "python3"
  },
  "language_info": {
   "codemirror_mode": {
    "name": "ipython",
    "version": 3
   },
   "file_extension": ".py",
   "mimetype": "text/x-python",
   "name": "python",
   "nbconvert_exporter": "python",
   "pygments_lexer": "ipython3",
   "version": "3.12.1"
  }
 },
 "nbformat": 4,
 "nbformat_minor": 2
}

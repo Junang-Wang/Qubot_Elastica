{
 "cells": [
  {
   "cell_type": "markdown",
   "metadata": {},
   "source": [
    "Statistical errors of CNN models"
   ]
  },
  {
   "cell_type": "markdown",
   "metadata": {
    "slideshow": {
     "slide_type": "notes"
    }
   },
   "source": [
    "#read current\n",
    "#load model and calculate out put od model\n",
    "#plot 3d error of Bfield"
   ]
  },
  {
   "cell_type": "code",
   "execution_count": 1,
   "metadata": {},
   "outputs": [
    {
     "name": "stdout",
     "output_type": "stream",
     "text": [
      "Good to go\n"
     ]
    }
   ],
   "source": [
    "import numpy as np\n",
    "import torch\n",
    "import torch.nn.functional as F\n",
    "if torch.cuda.device_count():\n",
    "    device = 'cuda'\n",
    "    map_location = 'cuda:0'\n",
    "    print('Good to go')\n",
    "else:\n",
    "    device = 'cpu'\n",
    "    map_location = torch.device('cpu')\n",
    "    print('Using cpu')\n",
    "    \n",
    "from Neural_network import Generative_net, ResidualEMNSBlock_3d, BigBlock, weight_init, eMNS_Dataset"
   ]
  },
  {
   "cell_type": "code",
   "execution_count": 2,
   "metadata": {},
   "outputs": [
    {
     "data": {
      "text/plain": [
       "Generative_net(\n",
       "  (proj): Linear(in_features=12, out_features=4096, bias=True)\n",
       "  (conv3d): Conv3d(64, 3, kernel_size=(3, 3, 3), stride=(1, 1, 1), padding=(1, 1, 1))\n",
       "  (total_net): Sequential(\n",
       "    (0): Linear(in_features=12, out_features=4096, bias=True)\n",
       "    (1): Unflatten(dim=1, unflattened_size=(64, 4, 4, 4))\n",
       "    (2): BigBlock(\n",
       "      (block): Sequential(\n",
       "        (0): ResidualEMNSBlock_3d(\n",
       "          (block): Sequential(\n",
       "            (0): BatchNorm3d(64, eps=1e-05, momentum=0.1, affine=True, track_running_stats=True)\n",
       "            (1): Conv3d(64, 64, kernel_size=(3, 3, 3), stride=(1, 1, 1), padding=(1, 1, 1))\n",
       "            (2): LeakyReLU(negative_slope=0.01)\n",
       "          )\n",
       "          (shortcut): Identity()\n",
       "        )\n",
       "        (1): ResidualEMNSBlock_3d(\n",
       "          (block): Sequential(\n",
       "            (0): BatchNorm3d(64, eps=1e-05, momentum=0.1, affine=True, track_running_stats=True)\n",
       "            (1): Conv3d(64, 64, kernel_size=(3, 3, 3), stride=(1, 1, 1), padding=(1, 1, 1))\n",
       "            (2): LeakyReLU(negative_slope=0.01)\n",
       "          )\n",
       "          (shortcut): Identity()\n",
       "        )\n",
       "        (2): ResidualEMNSBlock_3d(\n",
       "          (block): Sequential(\n",
       "            (0): BatchNorm3d(64, eps=1e-05, momentum=0.1, affine=True, track_running_stats=True)\n",
       "            (1): Conv3d(64, 64, kernel_size=(3, 3, 3), stride=(1, 1, 1), padding=(1, 1, 1))\n",
       "            (2): LeakyReLU(negative_slope=0.01)\n",
       "          )\n",
       "          (shortcut): Identity()\n",
       "        )\n",
       "        (3): ResidualEMNSBlock_3d(\n",
       "          (block): Sequential(\n",
       "            (0): BatchNorm3d(64, eps=1e-05, momentum=0.1, affine=True, track_running_stats=True)\n",
       "            (1): Conv3d(64, 64, kernel_size=(3, 3, 3), stride=(1, 1, 1), padding=(1, 1, 1))\n",
       "            (2): LeakyReLU(negative_slope=0.01)\n",
       "          )\n",
       "          (shortcut): Identity()\n",
       "        )\n",
       "        (4): UpsampleBlock(\n",
       "          (block): Sequential(\n",
       "            (0): Upsample(scale_factor=2.0, mode='nearest')\n",
       "          )\n",
       "        )\n",
       "      )\n",
       "    )\n",
       "    (3): BigBlock(\n",
       "      (block): Sequential(\n",
       "        (0): ResidualEMNSBlock_3d(\n",
       "          (block): Sequential(\n",
       "            (0): BatchNorm3d(64, eps=1e-05, momentum=0.1, affine=True, track_running_stats=True)\n",
       "            (1): Conv3d(64, 64, kernel_size=(3, 3, 3), stride=(1, 1, 1), padding=(1, 1, 1))\n",
       "            (2): LeakyReLU(negative_slope=0.01)\n",
       "          )\n",
       "          (shortcut): Identity()\n",
       "        )\n",
       "        (1): ResidualEMNSBlock_3d(\n",
       "          (block): Sequential(\n",
       "            (0): BatchNorm3d(64, eps=1e-05, momentum=0.1, affine=True, track_running_stats=True)\n",
       "            (1): Conv3d(64, 64, kernel_size=(3, 3, 3), stride=(1, 1, 1), padding=(1, 1, 1))\n",
       "            (2): LeakyReLU(negative_slope=0.01)\n",
       "          )\n",
       "          (shortcut): Identity()\n",
       "        )\n",
       "        (2): ResidualEMNSBlock_3d(\n",
       "          (block): Sequential(\n",
       "            (0): BatchNorm3d(64, eps=1e-05, momentum=0.1, affine=True, track_running_stats=True)\n",
       "            (1): Conv3d(64, 64, kernel_size=(3, 3, 3), stride=(1, 1, 1), padding=(1, 1, 1))\n",
       "            (2): LeakyReLU(negative_slope=0.01)\n",
       "          )\n",
       "          (shortcut): Identity()\n",
       "        )\n",
       "        (3): ResidualEMNSBlock_3d(\n",
       "          (block): Sequential(\n",
       "            (0): BatchNorm3d(64, eps=1e-05, momentum=0.1, affine=True, track_running_stats=True)\n",
       "            (1): Conv3d(64, 64, kernel_size=(3, 3, 3), stride=(1, 1, 1), padding=(1, 1, 1))\n",
       "            (2): LeakyReLU(negative_slope=0.01)\n",
       "          )\n",
       "          (shortcut): Identity()\n",
       "        )\n",
       "        (4): UpsampleBlock(\n",
       "          (block): Sequential(\n",
       "            (0): Upsample(scale_factor=2.0, mode='nearest')\n",
       "          )\n",
       "        )\n",
       "      )\n",
       "    )\n",
       "    (4): BatchNorm3d(64, eps=1e-05, momentum=0.1, affine=True, track_running_stats=True)\n",
       "    (5): Conv3d(64, 3, kernel_size=(3, 3, 3), stride=(1, 1, 1), padding=(1, 1, 1))\n",
       "  )\n",
       ")"
      ]
     },
     "execution_count": 2,
     "metadata": {},
     "output_type": "execute_result"
    }
   ],
   "source": [
    "#load saved  model\n",
    "num_input = 12\n",
    "output_shape = (3,16,16,16)\n",
    "SB_args = (64,64,4) # (Cin, Cout, num_block)\n",
    "BB_args = (2,2) # (scale_factor, num_block)\n",
    "SB_block = ResidualEMNSBlock_3d \n",
    "BB_block = BigBlock\n",
    "\n",
    "Generative_network = Generative_net(SB_args, BB_args, SB_block, BB_block, num_input=num_input, output_shape= output_shape)\n",
    "Generative_network = torch.load('EMS_CNN.pt', map_location=map_location)\n",
    "Generative_network.eval()\n",
    "Generative_network.to(device)"
   ]
  },
  {
   "cell_type": "code",
   "execution_count": 3,
   "metadata": {},
   "outputs": [],
   "source": [
    "#load current and real magnetic field data\n",
    "from ReadData import ReadCurrentAndField_CNN\n",
    "foldername=\"./Data/\"\n",
    "filepattern = \"MagneticField[0-9]*.txt\"\n",
    "current,data = ReadCurrentAndField_CNN (foldername,filepattern)"
   ]
  },
  {
   "cell_type": "code",
   "execution_count": 4,
   "metadata": {},
   "outputs": [
    {
     "name": "stdout",
     "output_type": "stream",
     "text": [
      "tensor([[0.0505],\n",
      "        [0.0564],\n",
      "        [0.0570]])\n",
      "tensor([[-0.0529],\n",
      "        [-0.0534],\n",
      "        [-0.0612]])\n",
      "torch.Size([1, 12])\n",
      "torch.Size([3, 1])\n",
      "torch.Size([1460, 12])\n",
      "torch.Size([1460, 3, 16, 16, 16])\n"
     ]
    }
   ],
   "source": [
    "position = data[:,0:3,2:18,2:18,2:18]\n",
    "Bfield = data[:,3:,2:18,2:18,2:18]\n",
    "#data normalization\n",
    "#find min and max value of input position and Bfield\n",
    "max_current, max_current_index = torch.max(current, dim=0, keepdim=True)\n",
    "# print(max_current)\n",
    "min_current, min_current_index = torch.min(current, dim=0, keepdim=True)\n",
    "# print(min_current)\n",
    "\n",
    "max_Bfield, max_Bfield_index = torch.max(Bfield.transpose(0,1).reshape(3,-1), dim=1, keepdim=True)\n",
    "print(max_Bfield)\n",
    "min_Bfield, min_Bfield_index = torch.min(Bfield.transpose(0,1).reshape(3,-1), dim=1, keepdim=True)\n",
    "print(min_Bfield)\n",
    "\n",
    "dimB = Bfield.shape\n",
    "dimc = current.shape\n",
    "print(min_current.shape)\n",
    "print(min_Bfield.shape)\n",
    "\n",
    "minB=min_Bfield.expand(3,int(Bfield.numel()/3)).reshape(3,dimB[0],dimB[2],dimB[3],dimB[4]).transpose(0,1)\n",
    "maxB=max_Bfield.expand(3,int(Bfield.numel()/3)).reshape(3,dimB[0],dimB[2],dimB[3],dimB[4]).transpose(0,1)\n",
    "\n",
    "ave_current=0.5*(max_current.expand(dimc[0],dimc[1])+min_current.expand(dimc[0],dimc[1]))\n",
    "diff_current=0.5*(max_current.expand(dimc[0],dimc[1])-min_current.expand(dimc[0],dimc[1]))\n",
    "\n",
    "current_norm = (current-ave_current)/diff_current\n",
    "Bfield_norm = (Bfield-(minB+maxB)*0.5)/(0.5*(maxB-minB))\n",
    "\n",
    "print(current_norm.shape)\n",
    "print(Bfield_norm.shape)\n"
   ]
  },
  {
   "cell_type": "code",
   "execution_count": 5,
   "metadata": {},
   "outputs": [
    {
     "name": "stdout",
     "output_type": "stream",
     "text": [
      "16\n",
      "current shape: torch.Size([1460, 12]) current device: cpu\n",
      "Bfied;: torch.Size([1460, 3, 16, 16, 16]) current device: cpu\n"
     ]
    }
   ],
   "source": [
    "num_samples, num_current_input = current.shape\n",
    "_, dimension, grid_x, grid_y, grid_z = Bfield.shape\n",
    "grid_space = grid_x*grid_y*grid_z\n",
    "print(grid_x)\n",
    "print(\"current shape:\",current.shape,\"current device:\",current.device)\n",
    "print(\"Bfied;:\",Bfield.shape,\"current device:\",Bfield.device)"
   ]
  },
  {
   "cell_type": "code",
   "execution_count": 6,
   "metadata": {},
   "outputs": [],
   "source": [
    "#calculate estimated normalized Bfield value of CNN \n",
    "B_est_norm=torch.zeros(num_samples,dimension,grid_x,grid_y,grid_z)\n",
    "for i in range (0,num_samples):\n",
    "    input=current_norm[i,:].to(device).reshape(1,12)\n",
    "    b = input.float()\n",
    "    B_est_norm[i]=Generative_network(b)\n",
    "\n",
    "B_est=B_est_norm*(0.5*(maxB-minB))+0.5*(maxB+minB)\n",
    "#calculate rmse \n",
    "mse = F.mse_loss(B_est,Bfield,reduction='sum')\n",
    "rmse = torch.sqrt(mse/num_samples/grid_space)\n",
    "B_est=B_est.cpu().detach().numpy()\n",
    "B_est_norm=B_est_norm.cpu().detach().numpy()\n",
    "Bfield_norm=Bfield_norm.detach().numpy()\n",
    "current_norm=current_norm.detach().numpy()\n",
    "Bfield=Bfield.cpu().detach().numpy()\n"
   ]
  },
  {
   "cell_type": "code",
   "execution_count": 7,
   "metadata": {},
   "outputs": [
    {
     "name": "stdout",
     "output_type": "stream",
     "text": [
      "(1460, 3, 16, 16, 16)\n",
      "rmse=18.79mT\n",
      "(1460, 3, 16, 16, 16)\n",
      "(1460, 3, 16, 16, 16)\n",
      "(1460, 3, 16, 16, 16)\n"
     ]
    }
   ],
   "source": [
    "print(B_est_norm.shape)\n",
    "print(f'rmse={rmse*1000:.2f}mT')\n",
    "Bdiff_norm=np.absolute(B_est_norm-Bfield_norm)\n",
    "print(Bdiff_norm.shape)\n",
    "Error_CNN = Bdiff_norm/np.absolute(Bfield_norm+1e-5)*100\n",
    "print(B_est.shape)\n",
    "print(Bfield.shape)"
   ]
  },
  {
   "cell_type": "code",
   "execution_count": 15,
   "metadata": {},
   "outputs": [
    {
     "name": "stderr",
     "output_type": "stream",
     "text": [
      "<>:23: SyntaxWarning: invalid escape sequence '\\m'\n",
      "<>:23: SyntaxWarning: invalid escape sequence '\\m'\n",
      "<>:23: SyntaxWarning: invalid escape sequence '\\m'\n",
      "<>:23: SyntaxWarning: invalid escape sequence '\\m'\n",
      "<>:23: SyntaxWarning: invalid escape sequence '\\m'\n",
      "<>:23: SyntaxWarning: invalid escape sequence '\\m'\n",
      "C:\\Users\\14032\\AppData\\Local\\Temp\\ipykernel_20476\\3116053059.py:23: SyntaxWarning: invalid escape sequence '\\m'\n",
      "  ylables=['Bx\\mT','By\\mT','Bz\\mT']\n",
      "C:\\Users\\14032\\AppData\\Local\\Temp\\ipykernel_20476\\3116053059.py:23: SyntaxWarning: invalid escape sequence '\\m'\n",
      "  ylables=['Bx\\mT','By\\mT','Bz\\mT']\n",
      "C:\\Users\\14032\\AppData\\Local\\Temp\\ipykernel_20476\\3116053059.py:23: SyntaxWarning: invalid escape sequence '\\m'\n",
      "  ylables=['Bx\\mT','By\\mT','Bz\\mT']\n"
     ]
    },
    {
     "name": "stdout",
     "output_type": "stream",
     "text": [
      "tensor(0.0654)\n",
      "tensor(0.3361)\n",
      "torch.Size([1460, 12])\n"
     ]
    },
    {
     "data": {
      "image/png": "[encoded data removed]",
      "text/plain": [
       "<Figure size 640x480 with 12 Axes>"
      ]
     },
     "metadata": {},
     "output_type": "display_data"
    },
    {
     "name": "stdout",
     "output_type": "stream",
     "text": [
      "example RMSE: tensor(0.0039)\n",
      "my RMSE: 0.0038611428460334773\n"
     ]
    },
    {
     "data": {
      "text/plain": [
       "<Figure size 640x480 with 0 Axes>"
      ]
     },
     "metadata": {},
     "output_type": "display_data"
    },
    {
     "data": {
      "image/png": "[encoded data removed]",
      "text/plain": [
       "<Figure size 640x480 with 6 Axes>"
      ]
     },
     "metadata": {},
     "output_type": "display_data"
    },
    {
     "data": {
      "image/png": "[encoded data removed]",
      "text/plain": [
       "<Figure size 640x480 with 1 Axes>"
      ]
     },
     "metadata": {},
     "output_type": "display_data"
    }
   ],
   "source": [
    "import matplotlib.pyplot as plt\n",
    "import numpy as np\n",
    "import torch.nn.functional as F\n",
    "loss_norm = F.l1_loss(torch.tensor(B_est_norm),torch.tensor(Bfield_norm))\n",
    "\n",
    "mse_norm = F.mse_loss(torch.tensor(B_est_norm),torch.tensor(Bfield_norm),reduction='sum')\n",
    "rmse_norm = torch.sqrt(mse_norm/num_samples/grid_space)\n",
    "\n",
    "print(loss_norm)\n",
    "print(rmse_norm)\n",
    "current_index = 25\n",
    "print(current.shape)\n",
    "\n",
    "z_plane_index= 8\n",
    "# fig, ax = plt.subplots(3, 2)\n",
    "# fig.tight_layout(h_pad=2)\n",
    "fig = plt.figure()\n",
    "vmin=[-8,7,-12]\n",
    "vmax=[-1 , 17, -2]\n",
    "MSE_temp = 0\n",
    "my_error = 0\n",
    "\n",
    "ylables=['Bx\\mT','By\\mT','Bz\\mT']\n",
    "# fig.tight_layout(pad=0.4, w_pad=0, h_pad=0)\n",
    "for i in range(1,4):\n",
    "    B_est_temp = B_est[current_index,i-1,:,:,z_plane_index]\n",
    "    # B_est_temp = B_est[current_index,i-1,:,:,:]\n",
    "    plt.subplot(3,2,2*i-1)\n",
    "    plt.imshow(B_est_temp*1000,vmin=vmin[i-1],vmax=vmax[i-1])    #,vmin=vmin[i-1],vmax=vmax[i-1]\n",
    "    plt.colorbar()\n",
    "    plt.ylabel(ylables[i-1])\n",
    "    Bfield_temp = Bfield[current_index,i-1,:,:,z_plane_index]\n",
    "    # Bfield_temp = Bfield[current_index,i-1,:,:,:]*1000\n",
    "    plt.subplot(3,2,2*i)\n",
    "    plt.imshow(Bfield_temp*1000,vmin=vmin[i-1],vmax=vmax[i-1])\n",
    "    plt.colorbar()\n",
    "    # print('B_est_temp:',B_est_temp)\n",
    "    # print('Bfield_temp:',Bfield_temp)\n",
    "    MSE_temp += F.mse_loss(torch.tensor(B_est_temp),torch.tensor(Bfield_temp),reduction='sum')\n",
    "    my_error += np.sum((B_est_temp-Bfield_temp)**2)\n",
    "\n",
    "plt.show()\n",
    "RMSE_temp = torch.sqrt(MSE_temp/grid_x/grid_y)\n",
    "RMSE_my = np.sqrt(my_error/grid_x/grid_y)\n",
    "print('example RMSE:',RMSE_temp)\n",
    "print('my RMSE:', RMSE_my)\n",
    "from pylab import *\n",
    "subplots_adjust(left=0.0,bottom=0.0,top=1,right=1)\n",
    "fig, ax = plt.subplots(3, 1)\n",
    "fig.tight_layout()\n",
    "\n",
    "for i in range(1,4):\n",
    "    plt.subplot(3,1,i)\n",
    "    plt.imshow(Error_CNN[current_index,i-1,:,:,z_plane_index])    \n",
    "    plt.colorbar(fraction=0.04)    \n",
    "\n",
    "plt.show()\n",
    "\n",
    "plt.hist(Error_CNN[current_index,:,:,:,z_plane_index].reshape(-1),bins=30,range=[-1.0e2,1.0e2])\n",
    "plt.title(\"histogram\") \n",
    "plt.show()"
   ]
  }
 ],
 "metadata": {
  "kernelspec": {
   "display_name": "Python 3",
   "language": "python",
   "name": "python3"
  },
  "language_info": {
   "codemirror_mode": {
    "name": "ipython",
    "version": 3
   },
   "file_extension": ".py",
   "mimetype": "text/x-python",
   "name": "python",
   "nbconvert_exporter": "python",
   "pygments_lexer": "ipython3",
   "version": "3.12.1"
  }
 },
 "nbformat": 4,
 "nbformat_minor": 2
}

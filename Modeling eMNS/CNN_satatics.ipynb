{
 "cells": [
  {
   "cell_type": "markdown",
   "metadata": {},
   "source": [
    "Statistical errors of CNN models"
   ]
  },
  {
   "cell_type": "markdown",
   "metadata": {
    "slideshow": {
     "slide_type": "notes"
    }
   },
   "source": [
    "#read current\n",
    "#load model and calculate out put od model\n",
    "#plot 3d error of Bfield"
   ]
  },
  {
   "cell_type": "code",
   "execution_count": 1,
   "metadata": {},
   "outputs": [
    {
     "name": "stdout",
     "output_type": "stream",
     "text": [
      "Good to go\n"
     ]
    }
   ],
   "source": [
    "import numpy as np\n",
    "import torch\n",
    "if torch.cuda.device_count():\n",
    "    device = 'cuda'\n",
    "    print('Good to go')\n",
    "else:\n",
    "    device = 'cpu'\n",
    "    print('Using cpu')\n",
    "    \n",
    "from Neural_network import Generative_net, ResidualEMNSBlock_3d, BigBlock, weight_init, eMNS_Dataset\n",
    "from Training_loop import train_part_GM,get_mean_of_dataloader\n"
   ]
  },
  {
   "cell_type": "code",
   "execution_count": 35,
   "metadata": {},
   "outputs": [
    {
     "data": {
      "text/plain": [
       "Generative_net(\n",
       "  (proj): Linear(in_features=12, out_features=8000, bias=True)\n",
       "  (conv3d): Conv3d(64, 3, kernel_size=(3, 3, 3), stride=(1, 1, 1), padding=(1, 1, 1))\n",
       "  (total_net): Sequential(\n",
       "    (0): Linear(in_features=12, out_features=8000, bias=True)\n",
       "    (1): Unflatten(dim=1, unflattened_size=(64, 5, 5, 5))\n",
       "    (2): BigBlock(\n",
       "      (block): Sequential(\n",
       "        (0): ResidualEMNSBlock_3d(\n",
       "          (block): Sequential(\n",
       "            (0): BatchNorm3d(64, eps=1e-05, momentum=0.1, affine=True, track_running_stats=True)\n",
       "            (1): Conv3d(64, 64, kernel_size=(3, 3, 3), stride=(1, 1, 1), padding=(1, 1, 1))\n",
       "            (2): LeakyReLU(negative_slope=0.01)\n",
       "          )\n",
       "          (shortcut): Identity()\n",
       "        )\n",
       "        (1): ResidualEMNSBlock_3d(\n",
       "          (block): Sequential(\n",
       "            (0): BatchNorm3d(64, eps=1e-05, momentum=0.1, affine=True, track_running_stats=True)\n",
       "            (1): Conv3d(64, 64, kernel_size=(3, 3, 3), stride=(1, 1, 1), padding=(1, 1, 1))\n",
       "            (2): LeakyReLU(negative_slope=0.01)\n",
       "          )\n",
       "          (shortcut): Identity()\n",
       "        )\n",
       "        (2): ResidualEMNSBlock_3d(\n",
       "          (block): Sequential(\n",
       "            (0): BatchNorm3d(64, eps=1e-05, momentum=0.1, affine=True, track_running_stats=True)\n",
       "            (1): Conv3d(64, 64, kernel_size=(3, 3, 3), stride=(1, 1, 1), padding=(1, 1, 1))\n",
       "            (2): LeakyReLU(negative_slope=0.01)\n",
       "          )\n",
       "          (shortcut): Identity()\n",
       "        )\n",
       "        (3): ResidualEMNSBlock_3d(\n",
       "          (block): Sequential(\n",
       "            (0): BatchNorm3d(64, eps=1e-05, momentum=0.1, affine=True, track_running_stats=True)\n",
       "            (1): Conv3d(64, 64, kernel_size=(3, 3, 3), stride=(1, 1, 1), padding=(1, 1, 1))\n",
       "            (2): LeakyReLU(negative_slope=0.01)\n",
       "          )\n",
       "          (shortcut): Identity()\n",
       "        )\n",
       "        (4): UpsampleBlock(\n",
       "          (block): Sequential(\n",
       "            (0): Upsample(scale_factor=2.0, mode='nearest')\n",
       "          )\n",
       "        )\n",
       "      )\n",
       "    )\n",
       "    (3): BigBlock(\n",
       "      (block): Sequential(\n",
       "        (0): ResidualEMNSBlock_3d(\n",
       "          (block): Sequential(\n",
       "            (0): BatchNorm3d(64, eps=1e-05, momentum=0.1, affine=True, track_running_stats=True)\n",
       "            (1): Conv3d(64, 64, kernel_size=(3, 3, 3), stride=(1, 1, 1), padding=(1, 1, 1))\n",
       "            (2): LeakyReLU(negative_slope=0.01)\n",
       "          )\n",
       "          (shortcut): Identity()\n",
       "        )\n",
       "        (1): ResidualEMNSBlock_3d(\n",
       "          (block): Sequential(\n",
       "            (0): BatchNorm3d(64, eps=1e-05, momentum=0.1, affine=True, track_running_stats=True)\n",
       "            (1): Conv3d(64, 64, kernel_size=(3, 3, 3), stride=(1, 1, 1), padding=(1, 1, 1))\n",
       "            (2): LeakyReLU(negative_slope=0.01)\n",
       "          )\n",
       "          (shortcut): Identity()\n",
       "        )\n",
       "        (2): ResidualEMNSBlock_3d(\n",
       "          (block): Sequential(\n",
       "            (0): BatchNorm3d(64, eps=1e-05, momentum=0.1, affine=True, track_running_stats=True)\n",
       "            (1): Conv3d(64, 64, kernel_size=(3, 3, 3), stride=(1, 1, 1), padding=(1, 1, 1))\n",
       "            (2): LeakyReLU(negative_slope=0.01)\n",
       "          )\n",
       "          (shortcut): Identity()\n",
       "        )\n",
       "        (3): ResidualEMNSBlock_3d(\n",
       "          (block): Sequential(\n",
       "            (0): BatchNorm3d(64, eps=1e-05, momentum=0.1, affine=True, track_running_stats=True)\n",
       "            (1): Conv3d(64, 64, kernel_size=(3, 3, 3), stride=(1, 1, 1), padding=(1, 1, 1))\n",
       "            (2): LeakyReLU(negative_slope=0.01)\n",
       "          )\n",
       "          (shortcut): Identity()\n",
       "        )\n",
       "        (4): UpsampleBlock(\n",
       "          (block): Sequential(\n",
       "            (0): Upsample(scale_factor=2.0, mode='nearest')\n",
       "          )\n",
       "        )\n",
       "      )\n",
       "    )\n",
       "    (4): BatchNorm3d(64, eps=1e-05, momentum=0.1, affine=True, track_running_stats=True)\n",
       "    (5): Conv3d(64, 3, kernel_size=(3, 3, 3), stride=(1, 1, 1), padding=(1, 1, 1))\n",
       "  )\n",
       ")"
      ]
     },
     "execution_count": 35,
     "metadata": {},
     "output_type": "execute_result"
    }
   ],
   "source": [
    "num_input = 12\n",
    "output_shape = (3,20,20,20)\n",
    "SB_args = (64,64,4) # (Cin, Cout, num_block)\n",
    "BB_args = (2,2) # (scale_factor, num_block)\n",
    "SB_block = ResidualEMNSBlock_3d \n",
    "BB_block = BigBlock\n",
    "\n",
    "Generative_network = Generative_net(SB_args, BB_args, SB_block, BB_block, num_input=num_input, output_shape= output_shape)\n",
    "Generative_network = torch.load('EMS_CNN.pt', map_location=\"cuda:0\")\n",
    "Generative_network.eval()\n",
    "Generative_network.to(device)\n",
    "\n",
    "\n",
    "\n"
   ]
  },
  {
   "cell_type": "code",
   "execution_count": 37,
   "metadata": {},
   "outputs": [],
   "source": [
    "from ReadData import ReadCurrentAndField_CNN\n",
    "foldername=\"./Data/\"\n",
    "filepattern = \"MagneticField[0-9]*.txt\"\n",
    "current,data = ReadCurrentAndField_CNN (foldername,filepattern)\n",
    "position = data[:,0:3,0:20,0:20,0:20]\n",
    "Bfield = data[:,3:,0:20,0:20,0:20]"
   ]
  },
  {
   "cell_type": "code",
   "execution_count": 44,
   "metadata": {},
   "outputs": [
    {
     "name": "stdout",
     "output_type": "stream",
     "text": [
      "torch.Size([1000, 12])\n",
      "cpu\n",
      "cuda:0\n"
     ]
    },
    {
     "ename": "IndexError",
     "evalue": "tuple index out of range",
     "output_type": "error",
     "traceback": [
      "\u001b[1;31m---------------------------------------------------------------------------\u001b[0m",
      "\u001b[1;31mIndexError\u001b[0m                                Traceback (most recent call last)",
      "Cell \u001b[1;32mIn[44], line 12\u001b[0m\n\u001b[0;32m      9\u001b[0m \u001b[38;5;28mprint\u001b[39m(\u001b[38;5;28minput\u001b[39m\u001b[38;5;241m.\u001b[39mdevice) \n\u001b[0;32m     10\u001b[0m a\u001b[38;5;241m=\u001b[39m\u001b[38;5;28minput\u001b[39m[\u001b[38;5;241m0\u001b[39m,:]\n\u001b[1;32m---> 12\u001b[0m \u001b[38;5;28mprint\u001b[39m(\u001b[43ma\u001b[49m\u001b[38;5;241;43m.\u001b[39;49m\u001b[43mshape\u001b[49m\u001b[43m[\u001b[49m\u001b[38;5;241;43m1\u001b[39;49m\u001b[43m]\u001b[49m)\n\u001b[0;32m     13\u001b[0m \u001b[38;5;66;03m# Generative_network(b)\u001b[39;00m\n",
      "\u001b[1;31mIndexError\u001b[0m: tuple index out of range"
     ]
    }
   ],
   "source": [
    "print(current.shape)\n",
    "\n",
    "test_current=current[0,:]\n",
    "\n",
    "current.to(device)\n",
    "\n",
    "print(current.device) \n",
    "input=current.cuda(0)\n",
    "print(input.device) \n",
    "a=input[0,:]\n",
    "\n",
    "print(a.shape[1])\n",
    "# Generative_network(b)\n",
    "\n",
    "\n",
    "\n"
   ]
  },
  {
   "cell_type": "code",
   "execution_count": null,
   "metadata": {},
   "outputs": [],
   "source": []
  }
 ],
 "metadata": {
  "kernelspec": {
   "display_name": "Python 3",
   "language": "python",
   "name": "python3"
  },
  "language_info": {
   "codemirror_mode": {
    "name": "ipython",
    "version": 3
   },
   "file_extension": ".py",
   "mimetype": "text/x-python",
   "name": "python",
   "nbconvert_exporter": "python",
   "pygments_lexer": "ipython3",
   "version": "3.12.1"
  }
 },
 "nbformat": 4,
 "nbformat_minor": 2
}

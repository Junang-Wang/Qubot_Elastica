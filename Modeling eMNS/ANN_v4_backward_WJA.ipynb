{
 "cells": [
  {
   "cell_type": "markdown",
   "metadata": {},
   "source": [
    "### This jupyter notebook employs a fully connective neural network(FC) or its alias artificial neural network (ANN) to learn the mapping between demanded magnetic field between current configuration"
   ]
  },
  {
   "cell_type": "code",
   "execution_count": 59,
   "metadata": {},
   "outputs": [
    {
     "name": "stdout",
     "output_type": "stream",
     "text": [
      "Using cpu\n"
     ]
    }
   ],
   "source": [
    "%reload_ext autoreload\n",
    "%autoreload 2\n",
    "import numpy as np\n",
    "import torch\n",
    "from early_stopping import EarlyStopping\n",
    "\n",
    "if torch.cuda.device_count():\n",
    "    device = 'cuda'\n",
    "    use_gpu = True\n",
    "    print('Good to go')\n",
    "else:\n",
    "    device = 'cpu'\n",
    "    use_gpu = False\n",
    "    print('Using cpu')"
   ]
  },
  {
   "cell_type": "code",
   "execution_count": 72,
   "metadata": {},
   "outputs": [
    {
     "name": "stdout",
     "output_type": "stream",
     "text": [
      "tensor(12.8117)\n",
      "torch.Size([1460, 21, 21, 21, 18])\n",
      "position Bfield shape torch.Size([216000, 6])\n",
      "Current shape torch.Size([216000, 12])\n"
     ]
    }
   ],
   "source": [
    "from ReadData import ReadCurrentAndField \n",
    "import glob\n",
    "import os \n",
    "\n",
    "# print(os.getcwd())\n",
    "foldername=\"./Data/\"\n",
    "filepattern = \"MagneticField[0-9]*.txt\"\n",
    "#data = ReadFolder(foldername,filepattern)\n",
    "load_file_num = 1460\n",
    "train_file_num = 1000\n",
    "grid_size = 21\n",
    "data = ReadCurrentAndField (foldername,filepattern, load_file_num)\n",
    "\n",
    "\n",
    "data=data.reshape(load_file_num,grid_size,grid_size,grid_size,18)\n",
    "mask = torch.cat((torch.ones(1,1,1,1,12),1e3*torch.ones(1,1,1,1,6)), dim=4)\n",
    "# position unit mm, B field unit mT, Current unit Ampere\n",
    "data = mask*data\n",
    "\n",
    "sparsity = 4\n",
    "\n",
    "Position_Bfield =data[:train_file_num,0::sparsity,0::sparsity,0::sparsity,12:].reshape(-1,6) \n",
    "Current = data[:train_file_num,0::sparsity,0::sparsity,0::sparsity,:12].reshape(-1,12) \n",
    "\n",
    "print(np.abs(Position_Bfield[:,3:]).mean())\n",
    "print(data.shape)\n",
    "print('position Bfield shape', Position_Bfield.shape)\n",
    "print('Current shape', Current.shape)\n"
   ]
  },
  {
   "cell_type": "code",
   "execution_count": 75,
   "metadata": {},
   "outputs": [
    {
     "data": {
      "text/html": [
       "<div class=\"tuneStatus\">\n",
       "  <div style=\"display: flex;flex-direction: row\">\n",
       "    <div style=\"display: flex;flex-direction: column;\">\n",
       "      <h3>Tune Status</h3>\n",
       "      <table>\n",
       "<tbody>\n",
       "<tr><td>Current time:</td><td>2024-04-18 17:59:11</td></tr>\n",
       "<tr><td>Running for: </td><td>00:04:33.63        </td></tr>\n",
       "<tr><td>Memory:      </td><td>11.8/31.0 GiB      </td></tr>\n",
       "</tbody>\n",
       "</table>\n",
       "    </div>\n",
       "    <div class=\"vDivider\"></div>\n",
       "    <div class=\"systemInfo\">\n",
       "      <h3>System Info</h3>\n",
       "      Using FIFO scheduling algorithm.<br>Logical resource usage: 2.0/16 CPUs, 0/0 GPUs\n",
       "    </div>\n",
       "    \n",
       "  </div>\n",
       "  <div class=\"hDivider\"></div>\n",
       "  <div class=\"trialStatus\">\n",
       "    <h3>Trial Status</h3>\n",
       "    <table>\n",
       "<thead>\n",
       "<tr><th>Trial name              </th><th>status    </th><th>loc                </th><th style=\"text-align: right;\">  iter</th><th style=\"text-align: right;\">  total time (s)</th><th style=\"text-align: right;\">  rmse_val</th><th style=\"text-align: right;\">  rmse_train</th><th style=\"text-align: right;\">     loss</th></tr>\n",
       "</thead>\n",
       "<tbody>\n",
       "<tr><td>TorchTrainer_ab4f2_00000</td><td>TERMINATED</td><td>192.168.8.117:60095</td><td style=\"text-align: right;\">    50</td><td style=\"text-align: right;\">         106.963</td><td style=\"text-align: right;\">   2.16231</td><td style=\"text-align: right;\">     2.14051</td><td style=\"text-align: right;\">0.0713317</td></tr>\n",
       "</tbody>\n",
       "</table>\n",
       "  </div>\n",
       "</div>\n",
       "<style>\n",
       ".tuneStatus {\n",
       "  color: var(--jp-ui-font-color1);\n",
       "}\n",
       ".tuneStatus .systemInfo {\n",
       "  display: flex;\n",
       "  flex-direction: column;\n",
       "}\n",
       ".tuneStatus td {\n",
       "  white-space: nowrap;\n",
       "}\n",
       ".tuneStatus .trialStatus {\n",
       "  display: flex;\n",
       "  flex-direction: column;\n",
       "}\n",
       ".tuneStatus h3 {\n",
       "  font-weight: bold;\n",
       "}\n",
       ".tuneStatus .hDivider {\n",
       "  border-bottom-width: var(--jp-border-width);\n",
       "  border-bottom-color: var(--jp-border-color0);\n",
       "  border-bottom-style: solid;\n",
       "}\n",
       ".tuneStatus .vDivider {\n",
       "  border-left-width: var(--jp-border-width);\n",
       "  border-left-color: var(--jp-border-color0);\n",
       "  border-left-style: solid;\n",
       "  margin: 0.5em 1em 0.5em 1em;\n",
       "}\n",
       "</style>\n"
      ],
      "text/plain": [
       "<IPython.core.display.HTML object>"
      ]
     },
     "metadata": {},
     "output_type": "display_data"
    },
    {
     "name": "stderr",
     "output_type": "stream",
     "text": [
      "\u001b[36m(TorchTrainer pid=60095)\u001b[0m Started distributed worker processes: \n",
      "\u001b[36m(TorchTrainer pid=60095)\u001b[0m - (ip=192.168.8.117, pid=60146) world_rank=0, local_rank=0, node_rank=0\n",
      "\u001b[36m(RayTrainWorker pid=60146)\u001b[0m Setting up process group for: env:// [rank=0, world_size=1]\n"
     ]
    },
    {
     "name": "stdout",
     "output_type": "stream",
     "text": [
      "\u001b[36m(RayTrainWorker pid=60146)\u001b[0m Epoch 0, Iteration 1519, loss = 0.0958\n",
      "\u001b[36m(RayTrainWorker pid=60146)\u001b[0m Got rmse 3.695441484451294\n"
     ]
    },
    {
     "name": "stderr",
     "output_type": "stream",
     "text": [
      "\u001b[36m(RayTrainWorker pid=60146)\u001b[0m Checkpoint successfully created at: Checkpoint(filesystem=local, path=/home/qubot/ray_results/EMS_ANN_backward_v2/TorchTrainer_ab4f2_00000_0_2024-04-18_17-54-38/checkpoint_000000)\n"
     ]
    },
    {
     "name": "stdout",
     "output_type": "stream",
     "text": [
      "\u001b[36m(RayTrainWorker pid=60146)\u001b[0m Got rmse 3.686203718185425\n",
      "\u001b[36m(RayTrainWorker pid=60146)\u001b[0m \n"
     ]
    },
    {
     "name": "stderr",
     "output_type": "stream",
     "text": [
      "2024-04-18 17:54:57,456\tWARNING util.py:202 -- The `callbacks.on_trial_result` operation took 2.171 s, which may be a performance bottleneck.\n",
      "2024-04-18 17:54:57,458\tWARNING util.py:202 -- The `process_trial_result` operation took 2.173 s, which may be a performance bottleneck.\n",
      "2024-04-18 17:54:57,459\tWARNING util.py:202 -- Processing trial results took 2.173 s, which may be a performance bottleneck. Please consider reporting results less frequently to Ray Tune.\n",
      "2024-04-18 17:54:57,459\tWARNING util.py:202 -- The `process_trial_result` operation took 2.174 s, which may be a performance bottleneck.\n"
     ]
    },
    {
     "name": "stdout",
     "output_type": "stream",
     "text": [
      "\u001b[36m(RayTrainWorker pid=60146)\u001b[0m Epoch 1, Iteration 3038, loss = 0.0918\n",
      "\u001b[36m(RayTrainWorker pid=60146)\u001b[0m Got rmse 2.98016095161438\n",
      "\u001b[36m(RayTrainWorker pid=60146)\u001b[0m Got rmse 2.9657533168792725\n",
      "\u001b[36m(RayTrainWorker pid=60146)\u001b[0m \n"
     ]
    },
    {
     "name": "stderr",
     "output_type": "stream",
     "text": [
      "2024-04-18 17:55:01,425\tWARNING util.py:202 -- The `callbacks.on_trial_result` operation took 2.257 s, which may be a performance bottleneck.\n",
      "2024-04-18 17:55:01,427\tWARNING util.py:202 -- The `process_trial_result` operation took 2.259 s, which may be a performance bottleneck.\n",
      "2024-04-18 17:55:01,427\tWARNING util.py:202 -- Processing trial results took 2.259 s, which may be a performance bottleneck. Please consider reporting results less frequently to Ray Tune.\n",
      "2024-04-18 17:55:01,428\tWARNING util.py:202 -- The `process_trial_result` operation took 2.260 s, which may be a performance bottleneck.\n"
     ]
    },
    {
     "name": "stdout",
     "output_type": "stream",
     "text": [
      "\u001b[36m(RayTrainWorker pid=60146)\u001b[0m Epoch 2, Iteration 4557, loss = 0.0835\n",
      "\u001b[36m(RayTrainWorker pid=60146)\u001b[0m Got rmse 2.6902709007263184\n",
      "\u001b[36m(RayTrainWorker pid=60146)\u001b[0m Got rmse 2.674171209335327\n",
      "\u001b[36m(RayTrainWorker pid=60146)\u001b[0m \n"
     ]
    },
    {
     "name": "stderr",
     "output_type": "stream",
     "text": [
      "2024-04-18 17:55:05,207\tWARNING util.py:202 -- The `callbacks.on_trial_result` operation took 2.283 s, which may be a performance bottleneck.\n",
      "2024-04-18 17:55:05,210\tWARNING util.py:202 -- The `process_trial_result` operation took 2.286 s, which may be a performance bottleneck.\n",
      "2024-04-18 17:55:05,210\tWARNING util.py:202 -- Processing trial results took 2.286 s, which may be a performance bottleneck. Please consider reporting results less frequently to Ray Tune.\n",
      "2024-04-18 17:55:05,211\tWARNING util.py:202 -- The `process_trial_result` operation took 2.287 s, which may be a performance bottleneck.\n"
     ]
    },
    {
     "name": "stdout",
     "output_type": "stream",
     "text": [
      "\u001b[36m(RayTrainWorker pid=60146)\u001b[0m Epoch 3, Iteration 6076, loss = 0.0775\n",
      "\u001b[36m(RayTrainWorker pid=60146)\u001b[0m Got rmse 2.5311193466186523\n",
      "\u001b[36m(RayTrainWorker pid=60146)\u001b[0m Got rmse 2.5129129886627197\n",
      "\u001b[36m(RayTrainWorker pid=60146)\u001b[0m \n"
     ]
    },
    {
     "name": "stderr",
     "output_type": "stream",
     "text": [
      "2024-04-18 17:55:09,586\tWARNING util.py:202 -- The `callbacks.on_trial_result` operation took 2.810 s, which may be a performance bottleneck.\n",
      "2024-04-18 17:55:09,588\tWARNING util.py:202 -- The `process_trial_result` operation took 2.813 s, which may be a performance bottleneck.\n",
      "2024-04-18 17:55:09,589\tWARNING util.py:202 -- Processing trial results took 2.813 s, which may be a performance bottleneck. Please consider reporting results less frequently to Ray Tune.\n",
      "2024-04-18 17:55:09,589\tWARNING util.py:202 -- The `process_trial_result` operation took 2.814 s, which may be a performance bottleneck.\n"
     ]
    },
    {
     "name": "stdout",
     "output_type": "stream",
     "text": [
      "\u001b[36m(RayTrainWorker pid=60146)\u001b[0m Epoch 4, Iteration 7595, loss = 0.0861\n",
      "\u001b[36m(RayTrainWorker pid=60146)\u001b[0m Got rmse 2.460908889770508\n",
      "\u001b[36m(RayTrainWorker pid=60146)\u001b[0m Got rmse 2.4407458305358887\n",
      "\u001b[36m(RayTrainWorker pid=60146)\u001b[0m \n",
      "\u001b[36m(RayTrainWorker pid=60146)\u001b[0m Epoch 5, Iteration 9114, loss = 0.0806\n",
      "\u001b[36m(RayTrainWorker pid=60146)\u001b[0m Got rmse 2.4033055305480957\n"
     ]
    },
    {
     "name": "stderr",
     "output_type": "stream",
     "text": [
      "2024-04-18 17:55:15,297\tWARNING util.py:202 -- The `callbacks.on_trial_result` operation took 3.003 s, which may be a performance bottleneck.\n",
      "2024-04-18 17:55:15,300\tWARNING util.py:202 -- The `process_trial_result` operation took 3.007 s, which may be a performance bottleneck.\n",
      "2024-04-18 17:55:15,301\tWARNING util.py:202 -- Processing trial results took 3.007 s, which may be a performance bottleneck. Please consider reporting results less frequently to Ray Tune.\n",
      "2024-04-18 17:55:15,301\tWARNING util.py:202 -- The `process_trial_result` operation took 3.008 s, which may be a performance bottleneck.\n"
     ]
    },
    {
     "name": "stdout",
     "output_type": "stream",
     "text": [
      "\u001b[36m(RayTrainWorker pid=60146)\u001b[0m Got rmse 2.380995988845825\n",
      "\u001b[36m(RayTrainWorker pid=60146)\u001b[0m \n"
     ]
    },
    {
     "name": "stderr",
     "output_type": "stream",
     "text": [
      "2024-04-18 17:55:20,102\tWARNING util.py:202 -- The `callbacks.on_trial_result` operation took 2.985 s, which may be a performance bottleneck.\n",
      "2024-04-18 17:55:20,103\tWARNING util.py:202 -- The `process_trial_result` operation took 2.987 s, which may be a performance bottleneck.\n",
      "2024-04-18 17:55:20,104\tWARNING util.py:202 -- Processing trial results took 2.988 s, which may be a performance bottleneck. Please consider reporting results less frequently to Ray Tune.\n",
      "2024-04-18 17:55:20,104\tWARNING util.py:202 -- The `process_trial_result` operation took 2.988 s, which may be a performance bottleneck.\n"
     ]
    },
    {
     "name": "stdout",
     "output_type": "stream",
     "text": [
      "\u001b[36m(RayTrainWorker pid=60146)\u001b[0m Epoch 6, Iteration 10633, loss = 0.0826\n",
      "\u001b[36m(RayTrainWorker pid=60146)\u001b[0m Got rmse 2.351086139678955\n",
      "\u001b[36m(RayTrainWorker pid=60146)\u001b[0m Got rmse 2.3275067806243896\n",
      "\u001b[36m(RayTrainWorker pid=60146)\u001b[0m \n"
     ]
    },
    {
     "name": "stderr",
     "output_type": "stream",
     "text": [
      "2024-04-18 17:55:25,461\tWARNING util.py:202 -- The `callbacks.on_trial_result` operation took 2.801 s, which may be a performance bottleneck.\n",
      "2024-04-18 17:55:25,465\tWARNING util.py:202 -- The `process_trial_result` operation took 2.805 s, which may be a performance bottleneck.\n",
      "2024-04-18 17:55:25,466\tWARNING util.py:202 -- Processing trial results took 2.805 s, which may be a performance bottleneck. Please consider reporting results less frequently to Ray Tune.\n",
      "2024-04-18 17:55:25,466\tWARNING util.py:202 -- The `process_trial_result` operation took 2.807 s, which may be a performance bottleneck.\n"
     ]
    },
    {
     "name": "stdout",
     "output_type": "stream",
     "text": [
      "\u001b[36m(RayTrainWorker pid=60146)\u001b[0m Epoch 7, Iteration 12152, loss = 0.0869\n",
      "\u001b[36m(RayTrainWorker pid=60146)\u001b[0m Got rmse 2.3022637367248535\n",
      "\u001b[36m(RayTrainWorker pid=60146)\u001b[0m Got rmse 2.278052568435669\n",
      "\u001b[36m(RayTrainWorker pid=60146)\u001b[0m \n",
      "\u001b[36m(RayTrainWorker pid=60146)\u001b[0m Epoch 8, Iteration 13671, loss = 0.0720\n",
      "\u001b[36m(RayTrainWorker pid=60146)\u001b[0m Got rmse 2.289518117904663\n"
     ]
    },
    {
     "name": "stderr",
     "output_type": "stream",
     "text": [
      "2024-04-18 17:55:30,986\tWARNING util.py:202 -- The `callbacks.on_trial_result` operation took 2.919 s, which may be a performance bottleneck.\n",
      "2024-04-18 17:55:30,990\tWARNING util.py:202 -- The `process_trial_result` operation took 2.923 s, which may be a performance bottleneck.\n",
      "2024-04-18 17:55:30,990\tWARNING util.py:202 -- Processing trial results took 2.923 s, which may be a performance bottleneck. Please consider reporting results less frequently to Ray Tune.\n",
      "2024-04-18 17:55:30,991\tWARNING util.py:202 -- The `process_trial_result` operation took 2.924 s, which may be a performance bottleneck.\n"
     ]
    },
    {
     "name": "stdout",
     "output_type": "stream",
     "text": [
      "\u001b[36m(RayTrainWorker pid=60146)\u001b[0m Got rmse 2.264834403991699\n",
      "\u001b[36m(RayTrainWorker pid=60146)\u001b[0m \n"
     ]
    },
    {
     "name": "stderr",
     "output_type": "stream",
     "text": [
      "2024-04-18 17:55:35,649\tWARNING util.py:202 -- The `callbacks.on_trial_result` operation took 2.802 s, which may be a performance bottleneck.\n",
      "2024-04-18 17:55:35,650\tWARNING util.py:202 -- The `process_trial_result` operation took 2.804 s, which may be a performance bottleneck.\n",
      "2024-04-18 17:55:35,651\tWARNING util.py:202 -- Processing trial results took 2.805 s, which may be a performance bottleneck. Please consider reporting results less frequently to Ray Tune.\n",
      "2024-04-18 17:55:35,652\tWARNING util.py:202 -- The `process_trial_result` operation took 2.806 s, which may be a performance bottleneck.\n"
     ]
    },
    {
     "name": "stdout",
     "output_type": "stream",
     "text": [
      "\u001b[36m(RayTrainWorker pid=60146)\u001b[0m Epoch 9, Iteration 15190, loss = 0.0825\n",
      "\u001b[36m(RayTrainWorker pid=60146)\u001b[0m Got rmse 2.2774667739868164\n",
      "\u001b[36m(RayTrainWorker pid=60146)\u001b[0m Got rmse 2.2522575855255127\n",
      "\u001b[36m(RayTrainWorker pid=60146)\u001b[0m \n",
      "\u001b[36m(RayTrainWorker pid=60146)\u001b[0m Epoch 10, Iteration 16709, loss = 0.0786\n"
     ]
    },
    {
     "name": "stderr",
     "output_type": "stream",
     "text": [
      "2024-04-18 17:55:41,067\tWARNING util.py:202 -- The `callbacks.on_trial_result` operation took 2.798 s, which may be a performance bottleneck.\n",
      "2024-04-18 17:55:41,070\tWARNING util.py:202 -- The `process_trial_result` operation took 2.802 s, which may be a performance bottleneck.\n",
      "2024-04-18 17:55:41,071\tWARNING util.py:202 -- Processing trial results took 2.803 s, which may be a performance bottleneck. Please consider reporting results less frequently to Ray Tune.\n",
      "2024-04-18 17:55:41,072\tWARNING util.py:202 -- The `process_trial_result` operation took 2.804 s, which may be a performance bottleneck.\n"
     ]
    },
    {
     "name": "stdout",
     "output_type": "stream",
     "text": [
      "\u001b[36m(RayTrainWorker pid=60146)\u001b[0m Got rmse 2.261758804321289\n",
      "\u001b[36m(RayTrainWorker pid=60146)\u001b[0m Got rmse 2.2355802059173584\n",
      "\u001b[36m(RayTrainWorker pid=60146)\u001b[0m \n"
     ]
    },
    {
     "name": "stderr",
     "output_type": "stream",
     "text": [
      "2024-04-18 17:55:46,039\tWARNING util.py:202 -- The `callbacks.on_trial_result` operation took 3.085 s, which may be a performance bottleneck.\n",
      "2024-04-18 17:55:46,041\tWARNING util.py:202 -- The `process_trial_result` operation took 3.087 s, which may be a performance bottleneck.\n",
      "2024-04-18 17:55:46,043\tWARNING util.py:202 -- Processing trial results took 3.089 s, which may be a performance bottleneck. Please consider reporting results less frequently to Ray Tune.\n",
      "2024-04-18 17:55:46,043\tWARNING util.py:202 -- The `process_trial_result` operation took 3.090 s, which may be a performance bottleneck.\n"
     ]
    },
    {
     "name": "stdout",
     "output_type": "stream",
     "text": [
      "\u001b[36m(RayTrainWorker pid=60146)\u001b[0m Epoch 11, Iteration 18228, loss = 0.0744\n",
      "\u001b[36m(RayTrainWorker pid=60146)\u001b[0m Got rmse 2.23686146736145\n",
      "\u001b[36m(RayTrainWorker pid=60146)\u001b[0m Got rmse 2.2116329669952393\n",
      "\u001b[36m(RayTrainWorker pid=60146)\u001b[0m \n",
      "\u001b[36m(RayTrainWorker pid=60146)\u001b[0m Epoch 12, Iteration 19747, loss = 0.0841\n",
      "\u001b[36m(RayTrainWorker pid=60146)\u001b[0m Got rmse 2.213682174682617\n"
     ]
    },
    {
     "name": "stderr",
     "output_type": "stream",
     "text": [
      "2024-04-18 17:55:51,457\tWARNING util.py:202 -- The `callbacks.on_trial_result` operation took 2.787 s, which may be a performance bottleneck.\n",
      "2024-04-18 17:55:51,460\tWARNING util.py:202 -- The `process_trial_result` operation took 2.790 s, which may be a performance bottleneck.\n",
      "2024-04-18 17:55:51,461\tWARNING util.py:202 -- Processing trial results took 2.791 s, which may be a performance bottleneck. Please consider reporting results less frequently to Ray Tune.\n",
      "2024-04-18 17:55:51,461\tWARNING util.py:202 -- The `process_trial_result` operation took 2.792 s, which may be a performance bottleneck.\n"
     ]
    },
    {
     "name": "stdout",
     "output_type": "stream",
     "text": [
      "\u001b[36m(RayTrainWorker pid=60146)\u001b[0m Got rmse 2.1889443397521973\n",
      "\u001b[36m(RayTrainWorker pid=60146)\u001b[0m \n"
     ]
    },
    {
     "name": "stderr",
     "output_type": "stream",
     "text": [
      "2024-04-18 17:55:56,145\tWARNING util.py:202 -- The `callbacks.on_trial_result` operation took 2.864 s, which may be a performance bottleneck.\n",
      "2024-04-18 17:55:56,147\tWARNING util.py:202 -- The `process_trial_result` operation took 2.866 s, which may be a performance bottleneck.\n",
      "2024-04-18 17:55:56,147\tWARNING util.py:202 -- Processing trial results took 2.867 s, which may be a performance bottleneck. Please consider reporting results less frequently to Ray Tune.\n",
      "2024-04-18 17:55:56,148\tWARNING util.py:202 -- The `process_trial_result` operation took 2.867 s, which may be a performance bottleneck.\n"
     ]
    },
    {
     "name": "stdout",
     "output_type": "stream",
     "text": [
      "\u001b[36m(RayTrainWorker pid=60146)\u001b[0m Epoch 13, Iteration 21266, loss = 0.0840\n",
      "\u001b[36m(RayTrainWorker pid=60146)\u001b[0m Got rmse 2.213188409805298\n",
      "\u001b[36m(RayTrainWorker pid=60146)\u001b[0m Got rmse 2.1871707439422607\n",
      "\u001b[36m(RayTrainWorker pid=60146)\u001b[0m \n"
     ]
    },
    {
     "name": "stderr",
     "output_type": "stream",
     "text": [
      "2024-04-18 17:56:01,564\tWARNING util.py:202 -- The `callbacks.on_trial_result` operation took 2.879 s, which may be a performance bottleneck.\n",
      "2024-04-18 17:56:01,567\tWARNING util.py:202 -- The `process_trial_result` operation took 2.882 s, which may be a performance bottleneck.\n",
      "2024-04-18 17:56:01,568\tWARNING util.py:202 -- Processing trial results took 2.883 s, which may be a performance bottleneck. Please consider reporting results less frequently to Ray Tune.\n",
      "2024-04-18 17:56:01,568\tWARNING util.py:202 -- The `process_trial_result` operation took 2.884 s, which may be a performance bottleneck.\n"
     ]
    },
    {
     "name": "stdout",
     "output_type": "stream",
     "text": [
      "\u001b[36m(RayTrainWorker pid=60146)\u001b[0m Epoch 14, Iteration 22785, loss = 0.0877\n",
      "\u001b[36m(RayTrainWorker pid=60146)\u001b[0m Got rmse 2.2031567096710205\n",
      "\u001b[36m(RayTrainWorker pid=60146)\u001b[0m Got rmse 2.1774582862854004\n",
      "\u001b[36m(RayTrainWorker pid=60146)\u001b[0m \n",
      "\u001b[36m(RayTrainWorker pid=60146)\u001b[0m Epoch 15, Iteration 24304, loss = 0.0717\n",
      "\u001b[36m(RayTrainWorker pid=60146)\u001b[0m Got rmse 2.2118406295776367\n"
     ]
    },
    {
     "name": "stderr",
     "output_type": "stream",
     "text": [
      "2024-04-18 17:56:07,552\tWARNING util.py:202 -- The `callbacks.on_trial_result` operation took 3.261 s, which may be a performance bottleneck.\n",
      "2024-04-18 17:56:07,556\tWARNING util.py:202 -- The `process_trial_result` operation took 3.265 s, which may be a performance bottleneck.\n",
      "2024-04-18 17:56:07,556\tWARNING util.py:202 -- Processing trial results took 3.266 s, which may be a performance bottleneck. Please consider reporting results less frequently to Ray Tune.\n",
      "2024-04-18 17:56:07,557\tWARNING util.py:202 -- The `process_trial_result` operation took 3.267 s, which may be a performance bottleneck.\n"
     ]
    },
    {
     "name": "stdout",
     "output_type": "stream",
     "text": [
      "\u001b[36m(RayTrainWorker pid=60146)\u001b[0m Got rmse 2.1870293617248535\n",
      "\u001b[36m(RayTrainWorker pid=60146)\u001b[0m \n"
     ]
    },
    {
     "name": "stderr",
     "output_type": "stream",
     "text": [
      "2024-04-18 17:56:12,244\tWARNING util.py:202 -- The `callbacks.on_trial_result` operation took 2.837 s, which may be a performance bottleneck.\n",
      "2024-04-18 17:56:12,247\tWARNING util.py:202 -- The `process_trial_result` operation took 2.841 s, which may be a performance bottleneck.\n",
      "2024-04-18 17:56:12,248\tWARNING util.py:202 -- Processing trial results took 2.841 s, which may be a performance bottleneck. Please consider reporting results less frequently to Ray Tune.\n",
      "2024-04-18 17:56:12,248\tWARNING util.py:202 -- The `process_trial_result` operation took 2.843 s, which may be a performance bottleneck.\n"
     ]
    },
    {
     "name": "stdout",
     "output_type": "stream",
     "text": [
      "\u001b[36m(RayTrainWorker pid=60146)\u001b[0m Epoch 16, Iteration 25823, loss = 0.0777\n",
      "\u001b[36m(RayTrainWorker pid=60146)\u001b[0m Got rmse 2.1957249641418457\n",
      "\u001b[36m(RayTrainWorker pid=60146)\u001b[0m Got rmse 2.1715352535247803\n",
      "\u001b[36m(RayTrainWorker pid=60146)\u001b[0m \n",
      "\u001b[36m(RayTrainWorker pid=60146)\u001b[0m Epoch 17, Iteration 27342, loss = 0.0868\n",
      "\u001b[36m(RayTrainWorker pid=60146)\u001b[0m Got rmse 2.2209391593933105\n"
     ]
    },
    {
     "name": "stderr",
     "output_type": "stream",
     "text": [
      "2024-04-18 17:56:17,665\tWARNING util.py:202 -- The `callbacks.on_trial_result` operation took 2.859 s, which may be a performance bottleneck.\n",
      "2024-04-18 17:56:17,669\tWARNING util.py:202 -- The `process_trial_result` operation took 2.863 s, which may be a performance bottleneck.\n",
      "2024-04-18 17:56:17,670\tWARNING util.py:202 -- Processing trial results took 2.864 s, which may be a performance bottleneck. Please consider reporting results less frequently to Ray Tune.\n",
      "2024-04-18 17:56:17,671\tWARNING util.py:202 -- The `process_trial_result` operation took 2.865 s, which may be a performance bottleneck.\n"
     ]
    },
    {
     "name": "stdout",
     "output_type": "stream",
     "text": [
      "\u001b[36m(RayTrainWorker pid=60146)\u001b[0m Got rmse 2.195918560028076\n",
      "\u001b[36m(RayTrainWorker pid=60146)\u001b[0m \n"
     ]
    },
    {
     "name": "stderr",
     "output_type": "stream",
     "text": [
      "2024-04-18 17:56:22,373\tWARNING util.py:202 -- The `callbacks.on_trial_result` operation took 2.914 s, which may be a performance bottleneck.\n",
      "2024-04-18 17:56:22,375\tWARNING util.py:202 -- The `process_trial_result` operation took 2.916 s, which may be a performance bottleneck.\n",
      "2024-04-18 17:56:22,376\tWARNING util.py:202 -- Processing trial results took 2.918 s, which may be a performance bottleneck. Please consider reporting results less frequently to Ray Tune.\n",
      "2024-04-18 17:56:22,377\tWARNING util.py:202 -- The `process_trial_result` operation took 2.919 s, which may be a performance bottleneck.\n"
     ]
    },
    {
     "name": "stdout",
     "output_type": "stream",
     "text": [
      "\u001b[36m(RayTrainWorker pid=60146)\u001b[0m Epoch 18, Iteration 28861, loss = 0.0816\n",
      "\u001b[36m(RayTrainWorker pid=60146)\u001b[0m Got rmse 2.184135675430298\n",
      "\u001b[36m(RayTrainWorker pid=60146)\u001b[0m Got rmse 2.1602485179901123\n",
      "\u001b[36m(RayTrainWorker pid=60146)\u001b[0m \n",
      "\u001b[36m(RayTrainWorker pid=60146)\u001b[0m Epoch 19, Iteration 30380, loss = 0.0879\n"
     ]
    },
    {
     "name": "stderr",
     "output_type": "stream",
     "text": [
      "2024-04-18 17:56:27,950\tWARNING util.py:202 -- The `callbacks.on_trial_result` operation took 2.839 s, which may be a performance bottleneck.\n",
      "2024-04-18 17:56:27,953\tWARNING util.py:202 -- The `process_trial_result` operation took 2.842 s, which may be a performance bottleneck.\n",
      "2024-04-18 17:56:27,954\tWARNING util.py:202 -- Processing trial results took 2.843 s, which may be a performance bottleneck. Please consider reporting results less frequently to Ray Tune.\n",
      "2024-04-18 17:56:27,955\tWARNING util.py:202 -- The `process_trial_result` operation took 2.845 s, which may be a performance bottleneck.\n"
     ]
    },
    {
     "name": "stdout",
     "output_type": "stream",
     "text": [
      "\u001b[36m(RayTrainWorker pid=60146)\u001b[0m Got rmse 2.182620048522949\n",
      "\u001b[36m(RayTrainWorker pid=60146)\u001b[0m Got rmse 2.1586995124816895\n",
      "\u001b[36m(RayTrainWorker pid=60146)\u001b[0m \n",
      "\u001b[36m(RayTrainWorker pid=60146)\u001b[0m Epoch 20, Iteration 31899, loss = 0.0768\n",
      "\u001b[36m(RayTrainWorker pid=60146)\u001b[0m Got rmse 2.1878695487976074\n"
     ]
    },
    {
     "name": "stderr",
     "output_type": "stream",
     "text": [
      "2024-04-18 17:56:33,415\tWARNING util.py:202 -- The `callbacks.on_trial_result` operation took 2.893 s, which may be a performance bottleneck.\n",
      "2024-04-18 17:56:33,418\tWARNING util.py:202 -- The `process_trial_result` operation took 2.896 s, which may be a performance bottleneck.\n",
      "2024-04-18 17:56:33,418\tWARNING util.py:202 -- Processing trial results took 2.897 s, which may be a performance bottleneck. Please consider reporting results less frequently to Ray Tune.\n",
      "2024-04-18 17:56:33,419\tWARNING util.py:202 -- The `process_trial_result` operation took 2.898 s, which may be a performance bottleneck.\n"
     ]
    },
    {
     "name": "stdout",
     "output_type": "stream",
     "text": [
      "\u001b[36m(RayTrainWorker pid=60146)\u001b[0m Got rmse 2.163586139678955\n",
      "\u001b[36m(RayTrainWorker pid=60146)\u001b[0m \n"
     ]
    },
    {
     "name": "stderr",
     "output_type": "stream",
     "text": [
      "2024-04-18 17:56:38,051\tWARNING util.py:202 -- The `callbacks.on_trial_result` operation took 2.817 s, which may be a performance bottleneck.\n",
      "2024-04-18 17:56:38,054\tWARNING util.py:202 -- The `process_trial_result` operation took 2.820 s, which may be a performance bottleneck.\n",
      "2024-04-18 17:56:38,055\tWARNING util.py:202 -- Processing trial results took 2.821 s, which may be a performance bottleneck. Please consider reporting results less frequently to Ray Tune.\n",
      "2024-04-18 17:56:38,055\tWARNING util.py:202 -- The `process_trial_result` operation took 2.822 s, which may be a performance bottleneck.\n"
     ]
    },
    {
     "name": "stdout",
     "output_type": "stream",
     "text": [
      "\u001b[36m(RayTrainWorker pid=60146)\u001b[0m Epoch 21, Iteration 33418, loss = 0.0771\n",
      "\u001b[36m(RayTrainWorker pid=60146)\u001b[0m Got rmse 2.1747570037841797\n",
      "\u001b[36m(RayTrainWorker pid=60146)\u001b[0m Got rmse 2.1508774757385254\n",
      "\u001b[36m(RayTrainWorker pid=60146)\u001b[0m \n"
     ]
    },
    {
     "name": "stderr",
     "output_type": "stream",
     "text": [
      "2024-04-18 17:56:43,592\tWARNING util.py:202 -- The `callbacks.on_trial_result` operation took 2.952 s, which may be a performance bottleneck.\n",
      "2024-04-18 17:56:43,595\tWARNING util.py:202 -- The `process_trial_result` operation took 2.955 s, which may be a performance bottleneck.\n",
      "2024-04-18 17:56:43,596\tWARNING util.py:202 -- Processing trial results took 2.956 s, which may be a performance bottleneck. Please consider reporting results less frequently to Ray Tune.\n",
      "2024-04-18 17:56:43,596\tWARNING util.py:202 -- The `process_trial_result` operation took 2.957 s, which may be a performance bottleneck.\n"
     ]
    },
    {
     "name": "stdout",
     "output_type": "stream",
     "text": [
      "\u001b[36m(RayTrainWorker pid=60146)\u001b[0m Epoch 22, Iteration 34937, loss = 0.0824\n",
      "\u001b[36m(RayTrainWorker pid=60146)\u001b[0m Got rmse 2.188861131668091\n",
      "\u001b[36m(RayTrainWorker pid=60146)\u001b[0m Got rmse 2.16521954536438\n",
      "\u001b[36m(RayTrainWorker pid=60146)\u001b[0m \n"
     ]
    },
    {
     "name": "stderr",
     "output_type": "stream",
     "text": [
      "2024-04-18 17:56:48,323\tWARNING util.py:202 -- The `callbacks.on_trial_result` operation took 2.846 s, which may be a performance bottleneck.\n",
      "2024-04-18 17:56:48,325\tWARNING util.py:202 -- The `process_trial_result` operation took 2.848 s, which may be a performance bottleneck.\n",
      "2024-04-18 17:56:48,326\tWARNING util.py:202 -- Processing trial results took 2.849 s, which may be a performance bottleneck. Please consider reporting results less frequently to Ray Tune.\n",
      "2024-04-18 17:56:48,327\tWARNING util.py:202 -- The `process_trial_result` operation took 2.850 s, which may be a performance bottleneck.\n"
     ]
    },
    {
     "name": "stdout",
     "output_type": "stream",
     "text": [
      "\u001b[36m(RayTrainWorker pid=60146)\u001b[0m Epoch 23, Iteration 36456, loss = 0.0838\n",
      "\u001b[36m(RayTrainWorker pid=60146)\u001b[0m Got rmse 2.1744883060455322\n",
      "\u001b[36m(RayTrainWorker pid=60146)\u001b[0m Got rmse 2.1510212421417236\n",
      "\u001b[36m(RayTrainWorker pid=60146)\u001b[0m \n"
     ]
    },
    {
     "name": "stderr",
     "output_type": "stream",
     "text": [
      "2024-04-18 17:56:53,687\tWARNING util.py:202 -- The `callbacks.on_trial_result` operation took 2.796 s, which may be a performance bottleneck.\n",
      "2024-04-18 17:56:53,690\tWARNING util.py:202 -- The `process_trial_result` operation took 2.799 s, which may be a performance bottleneck.\n",
      "2024-04-18 17:56:53,691\tWARNING util.py:202 -- Processing trial results took 2.800 s, which may be a performance bottleneck. Please consider reporting results less frequently to Ray Tune.\n",
      "2024-04-18 17:56:53,692\tWARNING util.py:202 -- The `process_trial_result` operation took 2.802 s, which may be a performance bottleneck.\n"
     ]
    },
    {
     "name": "stdout",
     "output_type": "stream",
     "text": [
      "\u001b[36m(RayTrainWorker pid=60146)\u001b[0m Epoch 24, Iteration 37975, loss = 0.0767\n",
      "\u001b[36m(RayTrainWorker pid=60146)\u001b[0m Got rmse 2.189133405685425\n",
      "\u001b[36m(RayTrainWorker pid=60146)\u001b[0m Got rmse 2.166337728500366\n",
      "\u001b[36m(RayTrainWorker pid=60146)\u001b[0m \n",
      "\u001b[36m(RayTrainWorker pid=60146)\u001b[0m Epoch 25, Iteration 39494, loss = 0.0719\n"
     ]
    },
    {
     "name": "stderr",
     "output_type": "stream",
     "text": [
      "2024-04-18 17:56:59,286\tWARNING util.py:202 -- The `callbacks.on_trial_result` operation took 2.960 s, which may be a performance bottleneck.\n",
      "2024-04-18 17:56:59,290\tWARNING util.py:202 -- The `process_trial_result` operation took 2.964 s, which may be a performance bottleneck.\n",
      "2024-04-18 17:56:59,290\tWARNING util.py:202 -- Processing trial results took 2.965 s, which may be a performance bottleneck. Please consider reporting results less frequently to Ray Tune.\n",
      "2024-04-18 17:56:59,291\tWARNING util.py:202 -- The `process_trial_result` operation took 2.966 s, which may be a performance bottleneck.\n"
     ]
    },
    {
     "name": "stdout",
     "output_type": "stream",
     "text": [
      "\u001b[36m(RayTrainWorker pid=60146)\u001b[0m Got rmse 2.1719305515289307\n",
      "\u001b[36m(RayTrainWorker pid=60146)\u001b[0m Got rmse 2.149822473526001\n",
      "\u001b[36m(RayTrainWorker pid=60146)\u001b[0m \n",
      "\u001b[36m(RayTrainWorker pid=60146)\u001b[0m Epoch 26, Iteration 41013, loss = 0.0876\n",
      "\u001b[36m(RayTrainWorker pid=60146)\u001b[0m Got rmse 2.16776442527771\n"
     ]
    },
    {
     "name": "stderr",
     "output_type": "stream",
     "text": [
      "2024-04-18 17:57:04,669\tWARNING util.py:202 -- The `callbacks.on_trial_result` operation took 2.799 s, which may be a performance bottleneck.\n",
      "2024-04-18 17:57:04,673\tWARNING util.py:202 -- The `process_trial_result` operation took 2.803 s, which may be a performance bottleneck.\n",
      "2024-04-18 17:57:04,674\tWARNING util.py:202 -- Processing trial results took 2.804 s, which may be a performance bottleneck. Please consider reporting results less frequently to Ray Tune.\n",
      "2024-04-18 17:57:04,675\tWARNING util.py:202 -- The `process_trial_result` operation took 2.805 s, which may be a performance bottleneck.\n"
     ]
    },
    {
     "name": "stdout",
     "output_type": "stream",
     "text": [
      "\u001b[36m(RayTrainWorker pid=60146)\u001b[0m Got rmse 2.1452715396881104\n",
      "\u001b[36m(RayTrainWorker pid=60146)\u001b[0m \n"
     ]
    },
    {
     "name": "stderr",
     "output_type": "stream",
     "text": [
      "2024-04-18 17:57:09,297\tWARNING util.py:202 -- The `callbacks.on_trial_result` operation took 2.766 s, which may be a performance bottleneck.\n",
      "2024-04-18 17:57:09,299\tWARNING util.py:202 -- The `process_trial_result` operation took 2.768 s, which may be a performance bottleneck.\n",
      "2024-04-18 17:57:09,299\tWARNING util.py:202 -- Processing trial results took 2.769 s, which may be a performance bottleneck. Please consider reporting results less frequently to Ray Tune.\n",
      "2024-04-18 17:57:09,300\tWARNING util.py:202 -- The `process_trial_result` operation took 2.770 s, which may be a performance bottleneck.\n"
     ]
    },
    {
     "name": "stdout",
     "output_type": "stream",
     "text": [
      "\u001b[36m(RayTrainWorker pid=60146)\u001b[0m Epoch 27, Iteration 42532, loss = 0.0774\n",
      "\u001b[36m(RayTrainWorker pid=60146)\u001b[0m Got rmse 2.176663398742676\n",
      "\u001b[36m(RayTrainWorker pid=60146)\u001b[0m Got rmse 2.1542389392852783\n",
      "\u001b[36m(RayTrainWorker pid=60146)\u001b[0m \n"
     ]
    },
    {
     "name": "stderr",
     "output_type": "stream",
     "text": [
      "2024-04-18 17:57:14,848\tWARNING util.py:202 -- The `callbacks.on_trial_result` operation took 2.938 s, which may be a performance bottleneck.\n",
      "2024-04-18 17:57:14,851\tWARNING util.py:202 -- The `process_trial_result` operation took 2.941 s, which may be a performance bottleneck.\n",
      "2024-04-18 17:57:14,852\tWARNING util.py:202 -- Processing trial results took 2.942 s, which may be a performance bottleneck. Please consider reporting results less frequently to Ray Tune.\n",
      "2024-04-18 17:57:14,853\tWARNING util.py:202 -- The `process_trial_result` operation took 2.944 s, which may be a performance bottleneck.\n"
     ]
    },
    {
     "name": "stdout",
     "output_type": "stream",
     "text": [
      "\u001b[36m(RayTrainWorker pid=60146)\u001b[0m Epoch 28, Iteration 44051, loss = 0.0755\n",
      "\u001b[36m(RayTrainWorker pid=60146)\u001b[0m Got rmse 2.167637348175049\n",
      "\u001b[36m(RayTrainWorker pid=60146)\u001b[0m Got rmse 2.1451687812805176\n",
      "\u001b[36m(RayTrainWorker pid=60146)\u001b[0m \n"
     ]
    },
    {
     "name": "stderr",
     "output_type": "stream",
     "text": [
      "2024-04-18 17:57:19,581\tWARNING util.py:202 -- The `callbacks.on_trial_result` operation took 2.804 s, which may be a performance bottleneck.\n",
      "2024-04-18 17:57:19,582\tWARNING util.py:202 -- The `process_trial_result` operation took 2.806 s, which may be a performance bottleneck.\n",
      "2024-04-18 17:57:19,583\tWARNING util.py:202 -- Processing trial results took 2.807 s, which may be a performance bottleneck. Please consider reporting results less frequently to Ray Tune.\n",
      "2024-04-18 17:57:19,584\tWARNING util.py:202 -- The `process_trial_result` operation took 2.808 s, which may be a performance bottleneck.\n"
     ]
    },
    {
     "name": "stdout",
     "output_type": "stream",
     "text": [
      "\u001b[36m(RayTrainWorker pid=60146)\u001b[0m Epoch 29, Iteration 45570, loss = 0.0777\n",
      "\u001b[36m(RayTrainWorker pid=60146)\u001b[0m Got rmse 2.165848970413208\n",
      "\u001b[36m(RayTrainWorker pid=60146)\u001b[0m Got rmse 2.143064498901367\n",
      "\u001b[36m(RayTrainWorker pid=60146)\u001b[0m \n"
     ]
    },
    {
     "name": "stderr",
     "output_type": "stream",
     "text": [
      "2024-04-18 17:57:24,951\tWARNING util.py:202 -- The `callbacks.on_trial_result` operation took 2.798 s, which may be a performance bottleneck.\n",
      "2024-04-18 17:57:24,955\tWARNING util.py:202 -- The `process_trial_result` operation took 2.803 s, which may be a performance bottleneck.\n",
      "2024-04-18 17:57:24,956\tWARNING util.py:202 -- Processing trial results took 2.804 s, which may be a performance bottleneck. Please consider reporting results less frequently to Ray Tune.\n",
      "2024-04-18 17:57:24,957\tWARNING util.py:202 -- The `process_trial_result` operation took 2.805 s, which may be a performance bottleneck.\n"
     ]
    },
    {
     "name": "stdout",
     "output_type": "stream",
     "text": [
      "\u001b[36m(RayTrainWorker pid=60146)\u001b[0m Epoch 30, Iteration 47089, loss = 0.0716\n",
      "\u001b[36m(RayTrainWorker pid=60146)\u001b[0m Got rmse 2.171369791030884\n",
      "\u001b[36m(RayTrainWorker pid=60146)\u001b[0m Got rmse 2.148609161376953\n",
      "\u001b[36m(RayTrainWorker pid=60146)\u001b[0m \n",
      "\u001b[36m(RayTrainWorker pid=60146)\u001b[0m Epoch 31, Iteration 48608, loss = 0.0764\n"
     ]
    },
    {
     "name": "stderr",
     "output_type": "stream",
     "text": [
      "2024-04-18 17:57:30,497\tWARNING util.py:202 -- The `callbacks.on_trial_result` operation took 2.930 s, which may be a performance bottleneck.\n",
      "2024-04-18 17:57:30,501\tWARNING util.py:202 -- The `process_trial_result` operation took 2.934 s, which may be a performance bottleneck.\n",
      "2024-04-18 17:57:30,502\tWARNING util.py:202 -- Processing trial results took 2.935 s, which may be a performance bottleneck. Please consider reporting results less frequently to Ray Tune.\n",
      "2024-04-18 17:57:30,502\tWARNING util.py:202 -- The `process_trial_result` operation took 2.936 s, which may be a performance bottleneck.\n"
     ]
    },
    {
     "name": "stdout",
     "output_type": "stream",
     "text": [
      "\u001b[36m(RayTrainWorker pid=60146)\u001b[0m Got rmse 2.172097682952881\n",
      "\u001b[36m(RayTrainWorker pid=60146)\u001b[0m Got rmse 2.1495797634124756\n",
      "\u001b[36m(RayTrainWorker pid=60146)\u001b[0m \n"
     ]
    },
    {
     "name": "stderr",
     "output_type": "stream",
     "text": [
      "2024-04-18 17:57:35,149\tWARNING util.py:202 -- The `callbacks.on_trial_result` operation took 2.856 s, which may be a performance bottleneck.\n",
      "2024-04-18 17:57:35,151\tWARNING util.py:202 -- The `process_trial_result` operation took 2.859 s, which may be a performance bottleneck.\n",
      "2024-04-18 17:57:35,152\tWARNING util.py:202 -- Processing trial results took 2.859 s, which may be a performance bottleneck. Please consider reporting results less frequently to Ray Tune.\n",
      "2024-04-18 17:57:35,153\tWARNING util.py:202 -- The `process_trial_result` operation took 2.860 s, which may be a performance bottleneck.\n"
     ]
    },
    {
     "name": "stdout",
     "output_type": "stream",
     "text": [
      "\u001b[36m(RayTrainWorker pid=60146)\u001b[0m Epoch 32, Iteration 50127, loss = 0.0811\n",
      "\u001b[36m(RayTrainWorker pid=60146)\u001b[0m Got rmse 2.170032262802124\n",
      "\u001b[36m(RayTrainWorker pid=60146)\u001b[0m Got rmse 2.1478099822998047\n",
      "\u001b[36m(RayTrainWorker pid=60146)\u001b[0m \n",
      "\u001b[36m(RayTrainWorker pid=60146)\u001b[0m Epoch 33, Iteration 51646, loss = 0.0822\n"
     ]
    },
    {
     "name": "stderr",
     "output_type": "stream",
     "text": [
      "2024-04-18 17:57:40,788\tWARNING util.py:202 -- The `callbacks.on_trial_result` operation took 2.907 s, which may be a performance bottleneck.\n",
      "2024-04-18 17:57:40,792\tWARNING util.py:202 -- The `process_trial_result` operation took 2.911 s, which may be a performance bottleneck.\n",
      "2024-04-18 17:57:40,793\tWARNING util.py:202 -- Processing trial results took 2.912 s, which may be a performance bottleneck. Please consider reporting results less frequently to Ray Tune.\n",
      "2024-04-18 17:57:40,794\tWARNING util.py:202 -- The `process_trial_result` operation took 2.913 s, which may be a performance bottleneck.\n"
     ]
    },
    {
     "name": "stdout",
     "output_type": "stream",
     "text": [
      "\u001b[36m(RayTrainWorker pid=60146)\u001b[0m Got rmse 2.1589174270629883\n",
      "\u001b[36m(RayTrainWorker pid=60146)\u001b[0m Got rmse 2.1366055011749268\n",
      "\u001b[36m(RayTrainWorker pid=60146)\u001b[0m \n",
      "\u001b[36m(RayTrainWorker pid=60146)\u001b[0m Epoch 34, Iteration 53165, loss = 0.0759\n",
      "\u001b[36m(RayTrainWorker pid=60146)\u001b[0m Got rmse 2.170968532562256\n"
     ]
    },
    {
     "name": "stderr",
     "output_type": "stream",
     "text": [
      "2024-04-18 17:57:46,247\tWARNING util.py:202 -- The `callbacks.on_trial_result` operation took 2.834 s, which may be a performance bottleneck.\n",
      "2024-04-18 17:57:46,250\tWARNING util.py:202 -- The `process_trial_result` operation took 2.838 s, which may be a performance bottleneck.\n",
      "2024-04-18 17:57:46,251\tWARNING util.py:202 -- Processing trial results took 2.838 s, which may be a performance bottleneck. Please consider reporting results less frequently to Ray Tune.\n",
      "2024-04-18 17:57:46,251\tWARNING util.py:202 -- The `process_trial_result` operation took 2.839 s, which may be a performance bottleneck.\n"
     ]
    },
    {
     "name": "stdout",
     "output_type": "stream",
     "text": [
      "\u001b[36m(RayTrainWorker pid=60146)\u001b[0m Got rmse 2.1486849784851074\n",
      "\u001b[36m(RayTrainWorker pid=60146)\u001b[0m \n"
     ]
    },
    {
     "name": "stderr",
     "output_type": "stream",
     "text": [
      "2024-04-18 17:57:51,014\tWARNING util.py:202 -- The `callbacks.on_trial_result` operation took 2.885 s, which may be a performance bottleneck.\n",
      "2024-04-18 17:57:51,016\tWARNING util.py:202 -- The `process_trial_result` operation took 2.887 s, which may be a performance bottleneck.\n",
      "2024-04-18 17:57:51,017\tWARNING util.py:202 -- Processing trial results took 2.888 s, which may be a performance bottleneck. Please consider reporting results less frequently to Ray Tune.\n",
      "2024-04-18 17:57:51,017\tWARNING util.py:202 -- The `process_trial_result` operation took 2.889 s, which may be a performance bottleneck.\n"
     ]
    },
    {
     "name": "stdout",
     "output_type": "stream",
     "text": [
      "\u001b[36m(RayTrainWorker pid=60146)\u001b[0m Epoch 35, Iteration 54684, loss = 0.0744\n",
      "\u001b[36m(RayTrainWorker pid=60146)\u001b[0m Got rmse 2.163430690765381\n",
      "\u001b[36m(RayTrainWorker pid=60146)\u001b[0m Got rmse 2.1411588191986084\n",
      "\u001b[36m(RayTrainWorker pid=60146)\u001b[0m \n"
     ]
    },
    {
     "name": "stderr",
     "output_type": "stream",
     "text": [
      "2024-04-18 17:57:56,443\tWARNING util.py:202 -- The `callbacks.on_trial_result` operation took 2.821 s, which may be a performance bottleneck.\n",
      "2024-04-18 17:57:56,446\tWARNING util.py:202 -- The `process_trial_result` operation took 2.825 s, which may be a performance bottleneck.\n",
      "2024-04-18 17:57:56,447\tWARNING util.py:202 -- Processing trial results took 2.826 s, which may be a performance bottleneck. Please consider reporting results less frequently to Ray Tune.\n",
      "2024-04-18 17:57:56,448\tWARNING util.py:202 -- The `process_trial_result` operation took 2.827 s, which may be a performance bottleneck.\n"
     ]
    },
    {
     "name": "stdout",
     "output_type": "stream",
     "text": [
      "\u001b[36m(RayTrainWorker pid=60146)\u001b[0m Epoch 36, Iteration 56203, loss = 0.0827\n",
      "\u001b[36m(RayTrainWorker pid=60146)\u001b[0m Got rmse 2.1717562675476074\n",
      "\u001b[36m(RayTrainWorker pid=60146)\u001b[0m Got rmse 2.1497068405151367\n",
      "\u001b[36m(RayTrainWorker pid=60146)\u001b[0m \n",
      "\u001b[36m(RayTrainWorker pid=60146)\u001b[0m Epoch 37, Iteration 57722, loss = 0.0750\n",
      "\u001b[36m(RayTrainWorker pid=60146)\u001b[0m Got rmse 2.162935256958008\n"
     ]
    },
    {
     "name": "stderr",
     "output_type": "stream",
     "text": [
      "2024-04-18 17:58:01,891\tWARNING util.py:202 -- The `callbacks.on_trial_result` operation took 2.861 s, which may be a performance bottleneck.\n",
      "2024-04-18 17:58:01,894\tWARNING util.py:202 -- The `process_trial_result` operation took 2.864 s, which may be a performance bottleneck.\n",
      "2024-04-18 17:58:01,895\tWARNING util.py:202 -- Processing trial results took 2.865 s, which may be a performance bottleneck. Please consider reporting results less frequently to Ray Tune.\n",
      "2024-04-18 17:58:01,896\tWARNING util.py:202 -- The `process_trial_result` operation took 2.866 s, which may be a performance bottleneck.\n"
     ]
    },
    {
     "name": "stdout",
     "output_type": "stream",
     "text": [
      "\u001b[36m(RayTrainWorker pid=60146)\u001b[0m Got rmse 2.1412508487701416\n",
      "\u001b[36m(RayTrainWorker pid=60146)\u001b[0m \n"
     ]
    },
    {
     "name": "stderr",
     "output_type": "stream",
     "text": [
      "2024-04-18 17:58:06,689\tWARNING util.py:202 -- The `callbacks.on_trial_result` operation took 2.956 s, which may be a performance bottleneck.\n",
      "2024-04-18 17:58:06,691\tWARNING util.py:202 -- The `process_trial_result` operation took 2.958 s, which may be a performance bottleneck.\n",
      "2024-04-18 17:58:06,692\tWARNING util.py:202 -- Processing trial results took 2.959 s, which may be a performance bottleneck. Please consider reporting results less frequently to Ray Tune.\n",
      "2024-04-18 17:58:06,692\tWARNING util.py:202 -- The `process_trial_result` operation took 2.960 s, which may be a performance bottleneck.\n"
     ]
    },
    {
     "name": "stdout",
     "output_type": "stream",
     "text": [
      "\u001b[36m(RayTrainWorker pid=60146)\u001b[0m Epoch 38, Iteration 59241, loss = 0.0718\n",
      "\u001b[36m(RayTrainWorker pid=60146)\u001b[0m Got rmse 2.1734797954559326\n",
      "\u001b[36m(RayTrainWorker pid=60146)\u001b[0m Got rmse 2.1511778831481934\n",
      "\u001b[36m(RayTrainWorker pid=60146)\u001b[0m \n",
      "\u001b[36m(RayTrainWorker pid=60146)\u001b[0m Epoch 39, Iteration 60760, loss = 0.0668\n"
     ]
    },
    {
     "name": "stderr",
     "output_type": "stream",
     "text": [
      "2024-04-18 17:58:12,114\tWARNING util.py:202 -- The `callbacks.on_trial_result` operation took 2.904 s, which may be a performance bottleneck.\n",
      "2024-04-18 17:58:12,117\tWARNING util.py:202 -- The `process_trial_result` operation took 2.908 s, which may be a performance bottleneck.\n",
      "2024-04-18 17:58:12,117\tWARNING util.py:202 -- Processing trial results took 2.908 s, which may be a performance bottleneck. Please consider reporting results less frequently to Ray Tune.\n",
      "2024-04-18 17:58:12,118\tWARNING util.py:202 -- The `process_trial_result` operation took 2.909 s, which may be a performance bottleneck.\n"
     ]
    },
    {
     "name": "stdout",
     "output_type": "stream",
     "text": [
      "\u001b[36m(RayTrainWorker pid=60146)\u001b[0m Got rmse 2.1650030612945557\n",
      "\u001b[36m(RayTrainWorker pid=60146)\u001b[0m Got rmse 2.1431427001953125\n",
      "\u001b[36m(RayTrainWorker pid=60146)\u001b[0m \n"
     ]
    },
    {
     "name": "stderr",
     "output_type": "stream",
     "text": [
      "2024-04-18 17:58:16,806\tWARNING util.py:202 -- The `callbacks.on_trial_result` operation took 2.848 s, which may be a performance bottleneck.\n",
      "2024-04-18 17:58:16,807\tWARNING util.py:202 -- The `process_trial_result` operation took 2.849 s, which may be a performance bottleneck.\n",
      "2024-04-18 17:58:16,807\tWARNING util.py:202 -- Processing trial results took 2.850 s, which may be a performance bottleneck. Please consider reporting results less frequently to Ray Tune.\n",
      "2024-04-18 17:58:16,809\tWARNING util.py:202 -- The `process_trial_result` operation took 2.852 s, which may be a performance bottleneck.\n"
     ]
    },
    {
     "name": "stdout",
     "output_type": "stream",
     "text": [
      "\u001b[36m(RayTrainWorker pid=60146)\u001b[0m Epoch 40, Iteration 62279, loss = 0.0790\n",
      "\u001b[36m(RayTrainWorker pid=60146)\u001b[0m Got rmse 2.167266845703125\n",
      "\u001b[36m(RayTrainWorker pid=60146)\u001b[0m Got rmse 2.145524263381958\n",
      "\u001b[36m(RayTrainWorker pid=60146)\u001b[0m \n"
     ]
    },
    {
     "name": "stderr",
     "output_type": "stream",
     "text": [
      "2024-04-18 17:58:22,243\tWARNING util.py:202 -- The `callbacks.on_trial_result` operation took 2.883 s, which may be a performance bottleneck.\n",
      "2024-04-18 17:58:22,248\tWARNING util.py:202 -- The `process_trial_result` operation took 2.888 s, which may be a performance bottleneck.\n",
      "2024-04-18 17:58:22,249\tWARNING util.py:202 -- Processing trial results took 2.889 s, which may be a performance bottleneck. Please consider reporting results less frequently to Ray Tune.\n",
      "2024-04-18 17:58:22,249\tWARNING util.py:202 -- The `process_trial_result` operation took 2.890 s, which may be a performance bottleneck.\n"
     ]
    },
    {
     "name": "stdout",
     "output_type": "stream",
     "text": [
      "\u001b[36m(RayTrainWorker pid=60146)\u001b[0m Epoch 41, Iteration 63798, loss = 0.0724\n",
      "\u001b[36m(RayTrainWorker pid=60146)\u001b[0m Got rmse 2.1662027835845947\n",
      "\u001b[36m(RayTrainWorker pid=60146)\u001b[0m Got rmse 2.1442134380340576\n",
      "\u001b[36m(RayTrainWorker pid=60146)\u001b[0m \n",
      "\u001b[36m(RayTrainWorker pid=60146)\u001b[0m Epoch 42, Iteration 65317, loss = 0.0804\n"
     ]
    },
    {
     "name": "stderr",
     "output_type": "stream",
     "text": [
      "2024-04-18 17:58:27,772\tWARNING util.py:202 -- The `callbacks.on_trial_result` operation took 2.921 s, which may be a performance bottleneck.\n",
      "2024-04-18 17:58:27,776\tWARNING util.py:202 -- The `process_trial_result` operation took 2.925 s, which may be a performance bottleneck.\n",
      "2024-04-18 17:58:27,776\tWARNING util.py:202 -- Processing trial results took 2.926 s, which may be a performance bottleneck. Please consider reporting results less frequently to Ray Tune.\n",
      "2024-04-18 17:58:27,777\tWARNING util.py:202 -- The `process_trial_result` operation took 2.927 s, which may be a performance bottleneck.\n"
     ]
    },
    {
     "name": "stdout",
     "output_type": "stream",
     "text": [
      "\u001b[36m(RayTrainWorker pid=60146)\u001b[0m Got rmse 2.1656646728515625\n",
      "\u001b[36m(RayTrainWorker pid=60146)\u001b[0m Got rmse 2.143786668777466\n",
      "\u001b[36m(RayTrainWorker pid=60146)\u001b[0m \n"
     ]
    },
    {
     "name": "stderr",
     "output_type": "stream",
     "text": [
      "2024-04-18 17:58:32,488\tWARNING util.py:202 -- The `callbacks.on_trial_result` operation took 2.833 s, which may be a performance bottleneck.\n",
      "2024-04-18 17:58:32,489\tWARNING util.py:202 -- The `process_trial_result` operation took 2.835 s, which may be a performance bottleneck.\n",
      "2024-04-18 17:58:32,491\tWARNING util.py:202 -- Processing trial results took 2.837 s, which may be a performance bottleneck. Please consider reporting results less frequently to Ray Tune.\n",
      "2024-04-18 17:58:32,492\tWARNING util.py:202 -- The `process_trial_result` operation took 2.838 s, which may be a performance bottleneck.\n"
     ]
    },
    {
     "name": "stdout",
     "output_type": "stream",
     "text": [
      "\u001b[36m(RayTrainWorker pid=60146)\u001b[0m Epoch 43, Iteration 66836, loss = 0.0696\n",
      "\u001b[36m(RayTrainWorker pid=60146)\u001b[0m Got rmse 2.164680242538452\n",
      "\u001b[36m(RayTrainWorker pid=60146)\u001b[0m Got rmse 2.1428773403167725\n",
      "\u001b[36m(RayTrainWorker pid=60146)\u001b[0m \n"
     ]
    },
    {
     "name": "stderr",
     "output_type": "stream",
     "text": [
      "2024-04-18 17:58:37,896\tWARNING util.py:202 -- The `callbacks.on_trial_result` operation took 2.850 s, which may be a performance bottleneck.\n",
      "2024-04-18 17:58:37,900\tWARNING util.py:202 -- The `process_trial_result` operation took 2.854 s, which may be a performance bottleneck.\n",
      "2024-04-18 17:58:37,901\tWARNING util.py:202 -- Processing trial results took 2.855 s, which may be a performance bottleneck. Please consider reporting results less frequently to Ray Tune.\n",
      "2024-04-18 17:58:37,902\tWARNING util.py:202 -- The `process_trial_result` operation took 2.856 s, which may be a performance bottleneck.\n"
     ]
    },
    {
     "name": "stdout",
     "output_type": "stream",
     "text": [
      "\u001b[36m(RayTrainWorker pid=60146)\u001b[0m Epoch 44, Iteration 68355, loss = 0.0766\n",
      "\u001b[36m(RayTrainWorker pid=60146)\u001b[0m Got rmse 2.1626837253570557\n",
      "\u001b[36m(RayTrainWorker pid=60146)\u001b[0m Got rmse 2.1409201622009277\n",
      "\u001b[36m(RayTrainWorker pid=60146)\u001b[0m \n",
      "\u001b[36m(RayTrainWorker pid=60146)\u001b[0m Epoch 45, Iteration 69874, loss = 0.0703\n"
     ]
    },
    {
     "name": "stderr",
     "output_type": "stream",
     "text": [
      "2024-04-18 17:58:43,367\tWARNING util.py:202 -- The `callbacks.on_trial_result` operation took 2.825 s, which may be a performance bottleneck.\n",
      "2024-04-18 17:58:43,370\tWARNING util.py:202 -- The `process_trial_result` operation took 2.829 s, which may be a performance bottleneck.\n",
      "2024-04-18 17:58:43,371\tWARNING util.py:202 -- Processing trial results took 2.829 s, which may be a performance bottleneck. Please consider reporting results less frequently to Ray Tune.\n",
      "2024-04-18 17:58:43,371\tWARNING util.py:202 -- The `process_trial_result` operation took 2.830 s, which may be a performance bottleneck.\n"
     ]
    },
    {
     "name": "stdout",
     "output_type": "stream",
     "text": [
      "\u001b[36m(RayTrainWorker pid=60146)\u001b[0m Got rmse 2.1612467765808105\n",
      "\u001b[36m(RayTrainWorker pid=60146)\u001b[0m Got rmse 2.139524459838867\n",
      "\u001b[36m(RayTrainWorker pid=60146)\u001b[0m \n"
     ]
    },
    {
     "name": "stderr",
     "output_type": "stream",
     "text": [
      "2024-04-18 17:58:48,037\tWARNING util.py:202 -- The `callbacks.on_trial_result` operation took 2.786 s, which may be a performance bottleneck.\n",
      "2024-04-18 17:58:48,038\tWARNING util.py:202 -- The `process_trial_result` operation took 2.788 s, which may be a performance bottleneck.\n",
      "2024-04-18 17:58:48,040\tWARNING util.py:202 -- Processing trial results took 2.789 s, which may be a performance bottleneck. Please consider reporting results less frequently to Ray Tune.\n",
      "2024-04-18 17:58:48,040\tWARNING util.py:202 -- The `process_trial_result` operation took 2.790 s, which may be a performance bottleneck.\n"
     ]
    },
    {
     "name": "stdout",
     "output_type": "stream",
     "text": [
      "\u001b[36m(RayTrainWorker pid=60146)\u001b[0m Epoch 46, Iteration 71393, loss = 0.0685\n",
      "\u001b[36m(RayTrainWorker pid=60146)\u001b[0m Got rmse 2.162552833557129\n",
      "\u001b[36m(RayTrainWorker pid=60146)\u001b[0m Got rmse 2.140679359436035\n",
      "\u001b[36m(RayTrainWorker pid=60146)\u001b[0m \n",
      "\u001b[36m(RayTrainWorker pid=60146)\u001b[0m Epoch 47, Iteration 72912, loss = 0.0787\n"
     ]
    },
    {
     "name": "stderr",
     "output_type": "stream",
     "text": [
      "2024-04-18 17:58:53,404\tWARNING util.py:202 -- The `callbacks.on_trial_result` operation took 2.783 s, which may be a performance bottleneck.\n",
      "2024-04-18 17:58:53,408\tWARNING util.py:202 -- The `process_trial_result` operation took 2.788 s, which may be a performance bottleneck.\n",
      "2024-04-18 17:58:53,409\tWARNING util.py:202 -- Processing trial results took 2.789 s, which may be a performance bottleneck. Please consider reporting results less frequently to Ray Tune.\n",
      "2024-04-18 17:58:53,410\tWARNING util.py:202 -- The `process_trial_result` operation took 2.790 s, which may be a performance bottleneck.\n"
     ]
    },
    {
     "name": "stdout",
     "output_type": "stream",
     "text": [
      "\u001b[36m(RayTrainWorker pid=60146)\u001b[0m Got rmse 2.1624436378479004\n",
      "\u001b[36m(RayTrainWorker pid=60146)\u001b[0m Got rmse 2.1406190395355225\n",
      "\u001b[36m(RayTrainWorker pid=60146)\u001b[0m \n",
      "\u001b[36m(RayTrainWorker pid=60146)\u001b[0m Epoch 48, Iteration 74431, loss = 0.0799\n",
      "\u001b[36m(RayTrainWorker pid=60146)\u001b[0m Got rmse 2.1622605323791504\n"
     ]
    },
    {
     "name": "stderr",
     "output_type": "stream",
     "text": [
      "2024-04-18 17:58:59,080\tWARNING util.py:202 -- The `callbacks.on_trial_result` operation took 3.050 s, which may be a performance bottleneck.\n",
      "2024-04-18 17:58:59,084\tWARNING util.py:202 -- The `process_trial_result` operation took 3.054 s, which may be a performance bottleneck.\n",
      "2024-04-18 17:58:59,085\tWARNING util.py:202 -- Processing trial results took 3.055 s, which may be a performance bottleneck. Please consider reporting results less frequently to Ray Tune.\n",
      "2024-04-18 17:58:59,086\tWARNING util.py:202 -- The `process_trial_result` operation took 3.056 s, which may be a performance bottleneck.\n"
     ]
    },
    {
     "name": "stdout",
     "output_type": "stream",
     "text": [
      "\u001b[36m(RayTrainWorker pid=60146)\u001b[0m Got rmse 2.1404712200164795\n",
      "\u001b[36m(RayTrainWorker pid=60146)\u001b[0m \n"
     ]
    },
    {
     "name": "stderr",
     "output_type": "stream",
     "text": [
      "2024-04-18 17:59:03,831\tWARNING util.py:202 -- The `callbacks.on_trial_result` operation took 2.860 s, which may be a performance bottleneck.\n",
      "2024-04-18 17:59:03,833\tWARNING util.py:202 -- The `process_trial_result` operation took 2.861 s, which may be a performance bottleneck.\n",
      "2024-04-18 17:59:03,833\tWARNING util.py:202 -- Processing trial results took 2.862 s, which may be a performance bottleneck. Please consider reporting results less frequently to Ray Tune.\n",
      "2024-04-18 17:59:03,834\tWARNING util.py:202 -- The `process_trial_result` operation took 2.864 s, which may be a performance bottleneck.\n"
     ]
    },
    {
     "name": "stdout",
     "output_type": "stream",
     "text": [
      "\u001b[36m(RayTrainWorker pid=60146)\u001b[0m Epoch 49, Iteration 75950, loss = 0.0713\n",
      "\u001b[36m(RayTrainWorker pid=60146)\u001b[0m Got rmse 2.162307024002075\n"
     ]
    },
    {
     "name": "stderr",
     "output_type": "stream",
     "text": [
      "\u001b[36m(RayTrainWorker pid=60146)\u001b[0m Checkpoint successfully created at: Checkpoint(filesystem=local, path=/home/qubot/ray_results/EMS_ANN_backward_v2/TorchTrainer_ab4f2_00000_0_2024-04-18_17-54-38/checkpoint_000001)\n"
     ]
    },
    {
     "name": "stdout",
     "output_type": "stream",
     "text": [
      "\u001b[36m(RayTrainWorker pid=60146)\u001b[0m Got rmse 2.140507221221924\n",
      "\u001b[36m(RayTrainWorker pid=60146)\u001b[0m \n"
     ]
    },
    {
     "name": "stderr",
     "output_type": "stream",
     "text": [
      "2024-04-18 17:59:08,719\tWARNING util.py:202 -- The `callbacks.on_trial_result` operation took 2.331 s, which may be a performance bottleneck.\n",
      "2024-04-18 17:59:08,722\tWARNING util.py:202 -- The `process_trial_result` operation took 2.335 s, which may be a performance bottleneck.\n",
      "2024-04-18 17:59:08,723\tWARNING util.py:202 -- Processing trial results took 2.335 s, which may be a performance bottleneck. Please consider reporting results less frequently to Ray Tune.\n",
      "2024-04-18 17:59:08,723\tWARNING util.py:202 -- The `process_trial_result` operation took 2.336 s, which may be a performance bottleneck.\n",
      "2024-04-18 17:59:11,898\tINFO tune.py:1042 -- Total run time: 273.72 seconds (273.11 seconds for the tuning loop).\n"
     ]
    }
   ],
   "source": [
    "from Neural_network import NN_net, Plain_fc_block, weight_init, eMNS_Dataset\n",
    "from Training_loop_v2 import train_ANN\n",
    "from ray.train import RunConfig, ScalingConfig, CheckpointConfig\n",
    "from ray.train.torch import TorchTrainer, TorchConfig\n",
    "from ray.tune.tuner import Tuner\n",
    "from ray import tune\n",
    "from ray.tune.schedulers import ASHAScheduler\n",
    "import ray, os\n",
    "import torch.nn.functional as F\n",
    "\n",
    "# construct dataset\n",
    "\n",
    "Position_Bfield =data[:train_file_num,0::sparsity,0::sparsity,0::sparsity,12:].reshape(-1,6) \n",
    "\n",
    "Current = data[:train_file_num,0::sparsity,0::sparsity,0::sparsity,:12].reshape(-1,12)\n",
    "\n",
    "dataset = eMNS_Dataset(\n",
    "    x=Position_Bfield,\n",
    "    y=Current\n",
    ")\n",
    "\n",
    "# split the dataset to train, validation, test\n",
    "train_set, valid_set = torch.utils.data.random_split(dataset, [0.9,0.1])\n",
    "\n",
    "# normailzation\n",
    "extremes = dataset.train_norm_ANN(train_indices = train_set.indices, boundary_index=3)\n",
    "\n",
    "###############################################\n",
    "# Config the neural network\n",
    "###############################################\n",
    "num_input = 6\n",
    "num_output = 12\n",
    "fc_stages = [(num_input,100,1),(100,50,1),(50,25,1)]\n",
    "fc_network = NN_net(None,fc_stages,None,Plain_fc_block, num_output=num_output)\n",
    "\n",
    "\n",
    "model_path = r\"./Trained_model/EMS_ANN_v2.pt\"\n",
    "forward_model = torch.load(model_path)['model'].to(device)\n",
    "forward_model.eval()\n",
    "\n",
    "loss_func = lambda current, Bfield, position: F.mse_loss(current, torch.zeros_like(current)) + F.l1_loss(Bfield, forward_model(torch.cat((current, position), axis =1)))\n",
    "\n",
    "\n",
    "################################################\n",
    "# Train the neural network\n",
    "################################################\n",
    "\n",
    "train_loop_config = {\n",
    "                'epochs': 50,\n",
    "                'lr_max': 1e-4,\n",
    "                'lr_min': 2.5e-7,\n",
    "                'batch_size': 128,\n",
    "                'L2_norm'   : 0,\n",
    "                'verbose': False,\n",
    "                'schedule': [],\n",
    "                'learning_rate_decay': 0.5,\n",
    "                'num_input'   : num_input,\n",
    "                'num_output'  : num_output,\n",
    "                'fc_stages'   : fc_stages,\n",
    "                'backward'    : True,\n",
    "                'maxB'        : extremes[2],\n",
    "                'minB'        : extremes[3],\n",
    "                'maxC'        : extremes[4],\n",
    "                'minC'        : extremes[5],\n",
    "                'device'      : device,\n",
    "                'train_set'   : train_set,\n",
    "                'valid_set'   : valid_set,\n",
    "                'loss_func'   : loss_func,\n",
    "                'forward_model': forward_model\n",
    "                # You can even grid search various datasets in Tune.\n",
    "                # \"datasets\": tune.grid_search(\n",
    "                #         [ds1, ds2]\n",
    "                #     ),\n",
    "}\n",
    "\n",
    "scaling_config = ScalingConfig(\n",
    "    num_workers = 1,\n",
    "    use_gpu = use_gpu,\n",
    "    # resources_per_worker={\"CPU\":1, \"GPU\":1}\n",
    ")\n",
    "\n",
    "run_config = RunConfig(name=\"EMS_ANN_backward_v2\",checkpoint_config=CheckpointConfig(num_to_keep=1))\n",
    "\n",
    "\n",
    "# for windows\n",
    "# torch_config = TorchConfig(backend=\"nccl\")\n",
    "trainer = TorchTrainer(\n",
    "    train_loop_per_worker = train_ANN,\n",
    "    train_loop_config = train_loop_config,\n",
    "    scaling_config = scaling_config,\n",
    "    run_config = run_config,\n",
    "    # torch_config= torch_config # for windows\n",
    "\n",
    ")\n",
    "result = trainer.fit()\n",
    "\n"
   ]
  },
  {
   "cell_type": "code",
   "execution_count": null,
   "metadata": {},
   "outputs": [],
   "source": [
    "from torchsummary import summary\n",
    "summary(fc_network, (1,6))\n",
    "for param_tensor in fc_network.state_dict():\n",
    "    print(param_tensor, '\\t', fc_network.state_dict()[param_tensor].size())"
   ]
  },
  {
   "cell_type": "code",
   "execution_count": 61,
   "metadata": {},
   "outputs": [
    {
     "data": {
      "image/png": "[encoded data removed]",
      "text/plain": [
       "<Figure size 640x480 with 1 Axes>"
      ]
     },
     "metadata": {},
     "output_type": "display_data"
    }
   ],
   "source": [
    "from utils import plot_ray_results\n",
    "plot_ray_results(results=result, metrics_names = ['rmse_val','rmse_train'])"
   ]
  },
  {
   "cell_type": "code",
   "execution_count": 62,
   "metadata": {},
   "outputs": [],
   "source": [
    "checkpoint_data = torch.load(os.path.join(result.checkpoint.path,\"model.pt\"))\n",
    "\n",
    "model_path = r\"./Trained_model/EMS_ANN_backward_v2.pt\"\n",
    "torch.save(checkpoint_data, model_path)"
   ]
  },
  {
   "cell_type": "markdown",
   "metadata": {},
   "source": [
    "## Test dataset performance"
   ]
  },
  {
   "cell_type": "code",
   "execution_count": 63,
   "metadata": {},
   "outputs": [
    {
     "data": {
      "text/plain": [
       "(tensor(50.),\n",
       " tensor(-50.),\n",
       " tensor(63.7902),\n",
       " tensor(-65.4425),\n",
       " tensor(14.9997),\n",
       " tensor(-14.9944))"
      ]
     },
     "execution_count": 63,
     "metadata": {},
     "output_type": "execute_result"
    }
   ],
   "source": [
    "extremes"
   ]
  },
  {
   "cell_type": "code",
   "execution_count": 64,
   "metadata": {},
   "outputs": [
    {
     "name": "stdout",
     "output_type": "stream",
     "text": [
      "position Bfield shape torch.Size([9261000, 6])\n",
      "Current shape torch.Size([9261000, 12])\n",
      "tensor(19.3242)\n",
      "tensor(19.3242)\n",
      "tensor(0.3585)\n",
      "tensor(19.3242)\n"
     ]
    }
   ],
   "source": [
    "# position unit mm, current unit Ampere, B field unit mT\n",
    "sparsity = 1\n",
    "# Position_Bfield_test =data[train_file_num:, ::sparsity, ::sparsity, ::sparsity, :6].reshape(-1,6) \n",
    "\n",
    "# Current_test = data[train_file_num:, ::sparsity, ::sparsity, ::sparsity,:12].reshape(-1,12)\n",
    "\n",
    "Position_Bfield_test =data[:train_file_num, ::sparsity, ::sparsity, ::sparsity, 12:].reshape(-1,6) \n",
    "\n",
    "Current_test = data[:train_file_num, ::sparsity, ::sparsity, ::sparsity,:12].reshape(-1,12)\n",
    "\n",
    "num_sample = Position_Bfield_test.shape[0]\n",
    "print('position Bfield shape', Position_Bfield_test.shape)\n",
    "print('Current shape', Current_test.shape)\n",
    "\n",
    "# construct dataset\n",
    "test_set = eMNS_Dataset(\n",
    "    x=Position_Bfield_test.clone(),\n",
    "    y=Current_test\n",
    ")\n",
    "print(test_set.x.abs().mean())\n",
    "print(Position_Bfield_test.abs().mean())\n",
    "test_set.test_norm_ANN(extremes=extremes, boundary_index=3)\n",
    "\n",
    "test_loader = torch.utils.data.DataLoader(\n",
    "    dataset=test_set,\n",
    "    batch_size=train_loop_config['batch_size'],\n",
    "    shuffle=False)\n",
    "\n",
    "print(test_set.x.abs().mean())\n",
    "print(Position_Bfield_test.abs().mean())"
   ]
  },
  {
   "cell_type": "code",
   "execution_count": 33,
   "metadata": {},
   "outputs": [
    {
     "data": {
      "text/plain": [
       "(tensor(50.),\n",
       " tensor(-50.),\n",
       " tensor(63.7902),\n",
       " tensor(-65.4425),\n",
       " tensor(14.9997),\n",
       " tensor(-14.9944))"
      ]
     },
     "execution_count": 33,
     "metadata": {},
     "output_type": "execute_result"
    }
   ],
   "source": [
    "extremes"
   ]
  },
  {
   "cell_type": "code",
   "execution_count": 68,
   "metadata": {},
   "outputs": [
    {
     "name": "stdout",
     "output_type": "stream",
     "text": [
      " current rmse: 7.632105827331543, L2 before: 909.8939819335938, L2 after backward model: 150.0493621826172\n",
      "Got rmse 2.280806541442871, num_samples 9261000\n"
     ]
    }
   ],
   "source": [
    "from utils import predict_check_rmse_ANN, check_rmse_ANN\n",
    "from Training_loop_v2 import construct_model_ANN \n",
    "\n",
    "model_path = r\"./Trained_model/EMS_ANN_backward_v2.pt\"\n",
    "backward_model = torch.load(model_path)['model']\n",
    "\n",
    "prediction, rmse, mse, Rsquare = predict_check_rmse_ANN(test_loader, backward_model, config=train_loop_config)\n",
    "# check_rmse_ANN(test_loader, backward_model, config=train_loop_config)"
   ]
  },
  {
   "cell_type": "code",
   "execution_count": 57,
   "metadata": {},
   "outputs": [
    {
     "data": {
      "image/png": "[encoded data removed]",
      "text/plain": [
       "<Figure size 640x480 with 9 Axes>"
      ]
     },
     "metadata": {},
     "output_type": "display_data"
    }
   ],
   "source": [
    "import matplotlib.pyplot as plt\n",
    "from matplotlib import colors\n",
    "import numpy as np\n",
    "grid_test = int(np.ceil(grid_size/sparsity))\n",
    "B_est = prediction.reshape(-1, grid_test, grid_test, grid_test, 3)\n",
    "\n",
    "Bfield_test = Position_Bfield_test[:,3:].reshape(-1, grid_test, grid_test, grid_test, 3)\n",
    "# Bfield_test = data[train_file_num:,:,:,:,15:]\n",
    "\n",
    "current_index=50\n",
    "z_plane_index= 4\n",
    "# fig, ax = plt.subplots(3, 2)\n",
    "# fig.tight_layout(h_pad=2)\n",
    "fig = plt.figure()\n",
    "ylables=['Bx\\mT','By\\mT','Bz\\mT']\n",
    "# fig.tight_layout(pad=0.4, w_pad=0, h_pad=0)\n",
    "for i in range(1,4):\n",
    "    B_est_sample = B_est[current_index,:,:,z_plane_index,i-1]\n",
    "    B_desired_sample = Bfield_test[current_index,:,:,z_plane_index,i-1]\n",
    "    vmin = min(B_est_sample.min(), B_desired_sample.min())\n",
    "    vmax = max(B_est_sample.max(), B_desired_sample.max())\n",
    "    norm = colors.Normalize(vmin=vmin, vmax=vmax) \n",
    "    ax = plt.subplot(3,2,2*i-1)\n",
    "    img = plt.imshow(B_est_sample, norm=norm)    \n",
    "    plt.ylabel(ylables[i-1])\n",
    "    ax2 = plt.subplot(3,2,2*i)\n",
    "    img2 = plt.imshow(B_desired_sample, norm=norm)\n",
    "    plt.colorbar(img,ax=[ax,ax2])\n",
    "\n",
    "plt.show()"
   ]
  },
  {
   "cell_type": "code",
   "execution_count": null,
   "metadata": {},
   "outputs": [],
   "source": [
    "import numpy as np \n",
    "A = np.arange(21)\n",
    "print(A[::4])\n",
    "print(A[::1])"
   ]
  },
  {
   "cell_type": "code",
   "execution_count": null,
   "metadata": {},
   "outputs": [],
   "source": [
    "A = torch.arange(3) + 0.0\n",
    "B = A.reshape(1,3)\n",
    "print(F.mse_loss(B, torch.zeros_like(B)))\n",
    "print(torch.linalg.norm(B))"
   ]
  },
  {
   "cell_type": "code",
   "execution_count": null,
   "metadata": {},
   "outputs": [],
   "source": [
    "np.sqrt(5)"
   ]
  },
  {
   "cell_type": "code",
   "execution_count": null,
   "metadata": {},
   "outputs": [],
   "source": []
  }
 ],
 "metadata": {
  "kernelspec": {
   "display_name": "Python 3",
   "language": "python",
   "name": "python3"
  },
  "language_info": {
   "codemirror_mode": {
    "name": "ipython",
    "version": 3
   },
   "file_extension": ".py",
   "mimetype": "text/x-python",
   "name": "python",
   "nbconvert_exporter": "python",
   "pygments_lexer": "ipython3",
   "version": "3.10.13"
  }
 },
 "nbformat": 4,
 "nbformat_minor": 2
}

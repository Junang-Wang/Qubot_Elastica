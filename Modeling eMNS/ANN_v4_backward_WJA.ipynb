{
 "cells": [
  {
   "cell_type": "markdown",
   "metadata": {},
   "source": [
    "### This jupyter notebook employs a fully connective neural network(FC) or its alias artificial neural network (ANN) to learn the mapping between demanded magnetic field between current configuration"
   ]
  },
  {
   "cell_type": "code",
   "execution_count": null,
   "metadata": {},
   "outputs": [],
   "source": [
    "!pip install -U \"ray[data,train,tune,serve]\""
   ]
  },
  {
   "cell_type": "code",
   "execution_count": 1,
   "metadata": {},
   "outputs": [
    {
     "name": "stdout",
     "output_type": "stream",
     "text": [
      "Good to go\n"
     ]
    }
   ],
   "source": [
    "%reload_ext autoreload\n",
    "%autoreload 2\n",
    "import numpy as np\n",
    "import torch\n",
    "from early_stopping import EarlyStopping\n",
    "\n",
    "if torch.cuda.device_count():\n",
    "    device = 'cuda'\n",
    "    use_gpu = True\n",
    "    print('Good to go')\n",
    "else:\n",
    "    device = 'cpu'\n",
    "    use_gpu = False\n",
    "    print('Using cpu')"
   ]
  },
  {
   "cell_type": "code",
   "execution_count": 2,
   "metadata": {},
   "outputs": [
    {
     "name": "stdout",
     "output_type": "stream",
     "text": [
      "tensor(12.8117)\n",
      "torch.Size([1460, 21, 21, 21, 18])\n",
      "position Bfield shape torch.Size([216000, 6])\n",
      "Current shape torch.Size([216000, 12])\n"
     ]
    }
   ],
   "source": [
    "from ReadData import ReadCurrentAndField \n",
    "import glob\n",
    "import os \n",
    "\n",
    "# print(os.getcwd())\n",
    "foldername=\"./Data/\"\n",
    "filepattern = \"MagneticField[0-9]*.txt\"\n",
    "#data = ReadFolder(foldername,filepattern)\n",
    "load_file_num = 1460\n",
    "train_file_num = 1000\n",
    "grid_size = 21\n",
    "data = ReadCurrentAndField (foldername,filepattern, load_file_num)\n",
    "\n",
    "\n",
    "data=data.reshape(load_file_num,grid_size,grid_size,grid_size,18)\n",
    "mask = torch.cat((torch.ones(1,1,1,1,12),1e3*torch.ones(1,1,1,1,6)), dim=4)\n",
    "# position unit mm, B field unit mT, Current unit Ampere\n",
    "data = mask*data\n",
    "\n",
    "sparsity = 4\n",
    "\n",
    "Position_Bfield =data[:train_file_num,0::sparsity,0::sparsity,0::sparsity,12:].reshape(-1,6) \n",
    "Current = data[:train_file_num,0::sparsity,0::sparsity,0::sparsity,:12].reshape(-1,12) \n",
    "\n",
    "print(np.abs(Position_Bfield[:,3:]).mean())\n",
    "print(data.shape)\n",
    "print('position Bfield shape', Position_Bfield.shape)\n",
    "print('Current shape', Current.shape)\n"
   ]
  },
  {
   "cell_type": "code",
   "execution_count": 19,
   "metadata": {},
   "outputs": [
    {
     "name": "stdout",
     "output_type": "stream",
     "text": [
      "/root/Qubot_Elastica/Modeling eMNS\n"
     ]
    }
   ],
   "source": [
    "print(os.getcwd())"
   ]
  },
  {
   "cell_type": "code",
   "execution_count": 22,
   "metadata": {},
   "outputs": [
    {
     "data": {
      "text/html": [
       "<div class=\"tuneStatus\">\n",
       "  <div style=\"display: flex;flex-direction: row\">\n",
       "    <div style=\"display: flex;flex-direction: column;\">\n",
       "      <h3>Tune Status</h3>\n",
       "      <table>\n",
       "<tbody>\n",
       "<tr><td>Current time:</td><td>2024-04-19 03:53:22</td></tr>\n",
       "<tr><td>Running for: </td><td>00:23:09.04        </td></tr>\n",
       "<tr><td>Memory:      </td><td>6.9/13.4 GiB       </td></tr>\n",
       "</tbody>\n",
       "</table>\n",
       "    </div>\n",
       "    <div class=\"vDivider\"></div>\n",
       "    <div class=\"systemInfo\">\n",
       "      <h3>System Info</h3>\n",
       "      Using FIFO scheduling algorithm.<br>Logical resource usage: 8.0/8 CPUs, 1.0/1 GPUs (0.0/1.0 accelerator_type:G)\n",
       "    </div>\n",
       "    \n",
       "  </div>\n",
       "  <div class=\"hDivider\"></div>\n",
       "  <div class=\"trialStatus\">\n",
       "    <h3>Trial Status</h3>\n",
       "    <table>\n",
       "<thead>\n",
       "<tr><th>Trial name              </th><th>status    </th><th>loc                </th><th style=\"text-align: right;\">  iter</th><th style=\"text-align: right;\">  total time (s)</th><th style=\"text-align: right;\">  rmse_val</th><th style=\"text-align: right;\">  rmse_train</th><th style=\"text-align: right;\">     loss</th></tr>\n",
       "</thead>\n",
       "<tbody>\n",
       "<tr><td>TorchTrainer_2221e_00000</td><td>TERMINATED</td><td>192.168.122.3:12552</td><td style=\"text-align: right;\">    50</td><td style=\"text-align: right;\">         1378.74</td><td style=\"text-align: right;\">    2.0731</td><td style=\"text-align: right;\">     2.07586</td><td style=\"text-align: right;\">0.0733197</td></tr>\n",
       "</tbody>\n",
       "</table>\n",
       "  </div>\n",
       "</div>\n",
       "<style>\n",
       ".tuneStatus {\n",
       "  color: var(--jp-ui-font-color1);\n",
       "}\n",
       ".tuneStatus .systemInfo {\n",
       "  display: flex;\n",
       "  flex-direction: column;\n",
       "}\n",
       ".tuneStatus td {\n",
       "  white-space: nowrap;\n",
       "}\n",
       ".tuneStatus .trialStatus {\n",
       "  display: flex;\n",
       "  flex-direction: column;\n",
       "}\n",
       ".tuneStatus h3 {\n",
       "  font-weight: bold;\n",
       "}\n",
       ".tuneStatus .hDivider {\n",
       "  border-bottom-width: var(--jp-border-width);\n",
       "  border-bottom-color: var(--jp-border-color0);\n",
       "  border-bottom-style: solid;\n",
       "}\n",
       ".tuneStatus .vDivider {\n",
       "  border-left-width: var(--jp-border-width);\n",
       "  border-left-color: var(--jp-border-color0);\n",
       "  border-left-style: solid;\n",
       "  margin: 0.5em 1em 0.5em 1em;\n",
       "}\n",
       "</style>\n"
      ],
      "text/plain": [
       "<IPython.core.display.HTML object>"
      ]
     },
     "metadata": {},
     "output_type": "display_data"
    },
    {
     "name": "stderr",
     "output_type": "stream",
     "text": [
      "\u001b[36m(TorchTrainer pid=12552)\u001b[0m Started distributed worker processes: \n",
      "\u001b[36m(TorchTrainer pid=12552)\u001b[0m - (ip=192.168.122.3, pid=12591) world_rank=0, local_rank=0, node_rank=0\n",
      "\u001b[36m(RayTrainWorker pid=12591)\u001b[0m Setting up process group for: env:// [rank=0, world_size=1]\n"
     ]
    },
    {
     "name": "stdout",
     "output_type": "stream",
     "text": [
      "\u001b[36m(RayTrainWorker pid=12591)\u001b[0m Epoch 0, Iteration 1519, loss = 0.0773\n",
      "\u001b[36m(RayTrainWorker pid=12591)\u001b[0m Got rmse 2.977475643157959\n",
      "\u001b[36m(RayTrainWorker pid=12591)\u001b[0m Got rmse 2.97784161567688\n",
      "\u001b[36m(RayTrainWorker pid=12591)\u001b[0m \n"
     ]
    },
    {
     "name": "stderr",
     "output_type": "stream",
     "text": [
      "\u001b[36m(RayTrainWorker pid=12591)\u001b[0m Checkpoint successfully created at: Checkpoint(filesystem=local, path=/root/ray_results/EMS_ANN_backward_v2/TorchTrainer_2221e_00000_0_2024-04-19_03-30-13/checkpoint_000000)\n"
     ]
    },
    {
     "name": "stdout",
     "output_type": "stream",
     "text": [
      "\u001b[36m(RayTrainWorker pid=12591)\u001b[0m Epoch 1, Iteration 3038, loss = 0.0876\n",
      "\u001b[36m(RayTrainWorker pid=12591)\u001b[0m Got rmse 2.4518778324127197\n",
      "\u001b[36m(RayTrainWorker pid=12591)\u001b[0m Got rmse 2.457702159881592\n",
      "\u001b[36m(RayTrainWorker pid=12591)\u001b[0m \n",
      "\u001b[36m(RayTrainWorker pid=12591)\u001b[0m Epoch 2, Iteration 4557, loss = 0.0809\n",
      "\u001b[36m(RayTrainWorker pid=12591)\u001b[0m Got rmse 2.226017713546753\n",
      "\u001b[36m(RayTrainWorker pid=12591)\u001b[0m Got rmse 2.232442617416382\n",
      "\u001b[36m(RayTrainWorker pid=12591)\u001b[0m \n",
      "\u001b[36m(RayTrainWorker pid=12591)\u001b[0m Epoch 3, Iteration 6076, loss = 0.0799\n",
      "\u001b[36m(RayTrainWorker pid=12591)\u001b[0m Got rmse 2.18505859375\n",
      "\u001b[36m(RayTrainWorker pid=12591)\u001b[0m Got rmse 2.191995859146118\n",
      "\u001b[36m(RayTrainWorker pid=12591)\u001b[0m \n",
      "\u001b[36m(RayTrainWorker pid=12591)\u001b[0m Epoch 4, Iteration 7595, loss = 0.0761\n",
      "\u001b[36m(RayTrainWorker pid=12591)\u001b[0m Got rmse 2.1160218715667725\n",
      "\u001b[36m(RayTrainWorker pid=12591)\u001b[0m Got rmse 2.121037483215332\n",
      "\u001b[36m(RayTrainWorker pid=12591)\u001b[0m \n",
      "\u001b[36m(RayTrainWorker pid=12591)\u001b[0m Epoch 5, Iteration 9114, loss = 0.0708\n",
      "\u001b[36m(RayTrainWorker pid=12591)\u001b[0m Got rmse 2.0871901512145996\n",
      "\u001b[36m(RayTrainWorker pid=12591)\u001b[0m Got rmse 2.091614246368408\n",
      "\u001b[36m(RayTrainWorker pid=12591)\u001b[0m \n",
      "\u001b[36m(RayTrainWorker pid=12591)\u001b[0m Epoch 6, Iteration 10633, loss = 0.0832\n",
      "\u001b[36m(RayTrainWorker pid=12591)\u001b[0m Got rmse 2.072962999343872\n",
      "\u001b[36m(RayTrainWorker pid=12591)\u001b[0m Got rmse 2.0767054557800293\n",
      "\u001b[36m(RayTrainWorker pid=12591)\u001b[0m \n",
      "\u001b[36m(RayTrainWorker pid=12591)\u001b[0m Epoch 7, Iteration 12152, loss = 0.0732\n",
      "\u001b[36m(RayTrainWorker pid=12591)\u001b[0m Got rmse 2.0346784591674805\n",
      "\u001b[36m(RayTrainWorker pid=12591)\u001b[0m Got rmse 2.0374631881713867\n",
      "\u001b[36m(RayTrainWorker pid=12591)\u001b[0m \n",
      "\u001b[36m(RayTrainWorker pid=12591)\u001b[0m Epoch 8, Iteration 13671, loss = 0.0767\n",
      "\u001b[36m(RayTrainWorker pid=12591)\u001b[0m Got rmse 2.0312535762786865\n",
      "\u001b[36m(RayTrainWorker pid=12591)\u001b[0m Got rmse 2.0337517261505127\n",
      "\u001b[36m(RayTrainWorker pid=12591)\u001b[0m \n",
      "\u001b[36m(RayTrainWorker pid=12591)\u001b[0m Epoch 9, Iteration 15190, loss = 0.0733\n",
      "\u001b[36m(RayTrainWorker pid=12591)\u001b[0m Got rmse 2.0541741847991943\n",
      "\u001b[36m(RayTrainWorker pid=12591)\u001b[0m Got rmse 2.0548465251922607\n",
      "\u001b[36m(RayTrainWorker pid=12591)\u001b[0m \n",
      "\u001b[36m(RayTrainWorker pid=12591)\u001b[0m Epoch 10, Iteration 16709, loss = 0.0720\n",
      "\u001b[36m(RayTrainWorker pid=12591)\u001b[0m Got rmse 2.0343332290649414\n",
      "\u001b[36m(RayTrainWorker pid=12591)\u001b[0m Got rmse 2.0364651679992676\n",
      "\u001b[36m(RayTrainWorker pid=12591)\u001b[0m \n",
      "\u001b[36m(RayTrainWorker pid=12591)\u001b[0m Epoch 11, Iteration 18228, loss = 0.0798\n",
      "\u001b[36m(RayTrainWorker pid=12591)\u001b[0m Got rmse 2.0240886211395264\n",
      "\u001b[36m(RayTrainWorker pid=12591)\u001b[0m Got rmse 2.0257601737976074\n",
      "\u001b[36m(RayTrainWorker pid=12591)\u001b[0m \n",
      "\u001b[36m(RayTrainWorker pid=12591)\u001b[0m Epoch 12, Iteration 19747, loss = 0.0734\n",
      "\u001b[36m(RayTrainWorker pid=12591)\u001b[0m Got rmse 2.0248196125030518\n",
      "\u001b[36m(RayTrainWorker pid=12591)\u001b[0m Got rmse 2.027742862701416\n",
      "\u001b[36m(RayTrainWorker pid=12591)\u001b[0m \n",
      "\u001b[36m(RayTrainWorker pid=12591)\u001b[0m Epoch 13, Iteration 21266, loss = 0.0725\n",
      "\u001b[36m(RayTrainWorker pid=12591)\u001b[0m Got rmse 2.050295352935791\n",
      "\u001b[36m(RayTrainWorker pid=12591)\u001b[0m Got rmse 2.0530033111572266\n",
      "\u001b[36m(RayTrainWorker pid=12591)\u001b[0m \n",
      "\u001b[36m(RayTrainWorker pid=12591)\u001b[0m Epoch 14, Iteration 22785, loss = 0.0837\n",
      "\u001b[36m(RayTrainWorker pid=12591)\u001b[0m Got rmse 2.047954797744751\n",
      "\u001b[36m(RayTrainWorker pid=12591)\u001b[0m Got rmse 2.050748348236084\n",
      "\u001b[36m(RayTrainWorker pid=12591)\u001b[0m \n",
      "\u001b[36m(RayTrainWorker pid=12591)\u001b[0m Epoch 15, Iteration 24304, loss = 0.0664\n",
      "\u001b[36m(RayTrainWorker pid=12591)\u001b[0m Got rmse 2.0461270809173584\n",
      "\u001b[36m(RayTrainWorker pid=12591)\u001b[0m Got rmse 2.0505120754241943\n",
      "\u001b[36m(RayTrainWorker pid=12591)\u001b[0m \n",
      "\u001b[36m(RayTrainWorker pid=12591)\u001b[0m Epoch 16, Iteration 25823, loss = 0.0766\n",
      "\u001b[36m(RayTrainWorker pid=12591)\u001b[0m Got rmse 2.0522799491882324\n",
      "\u001b[36m(RayTrainWorker pid=12591)\u001b[0m Got rmse 2.056601047515869\n",
      "\u001b[36m(RayTrainWorker pid=12591)\u001b[0m \n",
      "\u001b[36m(RayTrainWorker pid=12591)\u001b[0m Epoch 17, Iteration 27342, loss = 0.0734\n",
      "\u001b[36m(RayTrainWorker pid=12591)\u001b[0m Got rmse 2.059803009033203\n",
      "\u001b[36m(RayTrainWorker pid=12591)\u001b[0m Got rmse 2.0647590160369873\n",
      "\u001b[36m(RayTrainWorker pid=12591)\u001b[0m \n",
      "\u001b[36m(RayTrainWorker pid=12591)\u001b[0m Epoch 18, Iteration 28861, loss = 0.0751\n",
      "\u001b[36m(RayTrainWorker pid=12591)\u001b[0m Got rmse 2.063436985015869\n",
      "\u001b[36m(RayTrainWorker pid=12591)\u001b[0m Got rmse 2.068082332611084\n",
      "\u001b[36m(RayTrainWorker pid=12591)\u001b[0m \n",
      "\u001b[36m(RayTrainWorker pid=12591)\u001b[0m Epoch 19, Iteration 30380, loss = 0.0717\n",
      "\u001b[36m(RayTrainWorker pid=12591)\u001b[0m Got rmse 2.050480842590332\n",
      "\u001b[36m(RayTrainWorker pid=12591)\u001b[0m Got rmse 2.0541765689849854\n",
      "\u001b[36m(RayTrainWorker pid=12591)\u001b[0m \n",
      "\u001b[36m(RayTrainWorker pid=12591)\u001b[0m Epoch 20, Iteration 31899, loss = 0.0742\n",
      "\u001b[36m(RayTrainWorker pid=12591)\u001b[0m Got rmse 2.0879037380218506\n",
      "\u001b[36m(RayTrainWorker pid=12591)\u001b[0m Got rmse 2.0912153720855713\n",
      "\u001b[36m(RayTrainWorker pid=12591)\u001b[0m \n",
      "\u001b[36m(RayTrainWorker pid=12591)\u001b[0m Epoch 21, Iteration 33418, loss = 0.0678\n",
      "\u001b[36m(RayTrainWorker pid=12591)\u001b[0m Got rmse 2.0425071716308594\n",
      "\u001b[36m(RayTrainWorker pid=12591)\u001b[0m Got rmse 2.0466365814208984\n",
      "\u001b[36m(RayTrainWorker pid=12591)\u001b[0m \n",
      "\u001b[36m(RayTrainWorker pid=12591)\u001b[0m Epoch 22, Iteration 34937, loss = 0.0738\n",
      "\u001b[36m(RayTrainWorker pid=12591)\u001b[0m Got rmse 2.0577614307403564\n",
      "\u001b[36m(RayTrainWorker pid=12591)\u001b[0m Got rmse 2.0616860389709473\n",
      "\u001b[36m(RayTrainWorker pid=12591)\u001b[0m \n",
      "\u001b[36m(RayTrainWorker pid=12591)\u001b[0m Epoch 23, Iteration 36456, loss = 0.0850\n",
      "\u001b[36m(RayTrainWorker pid=12591)\u001b[0m Got rmse 2.0642542839050293\n",
      "\u001b[36m(RayTrainWorker pid=12591)\u001b[0m Got rmse 2.0675086975097656\n",
      "\u001b[36m(RayTrainWorker pid=12591)\u001b[0m \n",
      "\u001b[36m(RayTrainWorker pid=12591)\u001b[0m Epoch 24, Iteration 37975, loss = 0.0709\n",
      "\u001b[36m(RayTrainWorker pid=12591)\u001b[0m Got rmse 2.057964563369751\n",
      "\u001b[36m(RayTrainWorker pid=12591)\u001b[0m Got rmse 2.0613553524017334\n",
      "\u001b[36m(RayTrainWorker pid=12591)\u001b[0m \n",
      "\u001b[36m(RayTrainWorker pid=12591)\u001b[0m Epoch 25, Iteration 39494, loss = 0.0710\n",
      "\u001b[36m(RayTrainWorker pid=12591)\u001b[0m Got rmse 2.060868263244629\n",
      "\u001b[36m(RayTrainWorker pid=12591)\u001b[0m Got rmse 2.0646514892578125\n",
      "\u001b[36m(RayTrainWorker pid=12591)\u001b[0m \n",
      "\u001b[36m(RayTrainWorker pid=12591)\u001b[0m Epoch 26, Iteration 41013, loss = 0.0650\n",
      "\u001b[36m(RayTrainWorker pid=12591)\u001b[0m Got rmse 2.063297748565674\n",
      "\u001b[36m(RayTrainWorker pid=12591)\u001b[0m Got rmse 2.0668435096740723\n",
      "\u001b[36m(RayTrainWorker pid=12591)\u001b[0m \n",
      "\u001b[36m(RayTrainWorker pid=12591)\u001b[0m Epoch 27, Iteration 42532, loss = 0.0754\n",
      "\u001b[36m(RayTrainWorker pid=12591)\u001b[0m Got rmse 2.0671401023864746\n",
      "\u001b[36m(RayTrainWorker pid=12591)\u001b[0m Got rmse 2.0707805156707764\n",
      "\u001b[36m(RayTrainWorker pid=12591)\u001b[0m \n",
      "\u001b[36m(RayTrainWorker pid=12591)\u001b[0m Epoch 28, Iteration 44051, loss = 0.0630\n",
      "\u001b[36m(RayTrainWorker pid=12591)\u001b[0m Got rmse 2.0633111000061035\n",
      "\u001b[36m(RayTrainWorker pid=12591)\u001b[0m Got rmse 2.0667121410369873\n",
      "\u001b[36m(RayTrainWorker pid=12591)\u001b[0m \n",
      "\u001b[36m(RayTrainWorker pid=12591)\u001b[0m Epoch 29, Iteration 45570, loss = 0.0773\n",
      "\u001b[36m(RayTrainWorker pid=12591)\u001b[0m Got rmse 2.0695137977600098\n",
      "\u001b[36m(RayTrainWorker pid=12591)\u001b[0m Got rmse 2.072610855102539\n",
      "\u001b[36m(RayTrainWorker pid=12591)\u001b[0m \n",
      "\u001b[36m(RayTrainWorker pid=12591)\u001b[0m Epoch 30, Iteration 47089, loss = 0.0758\n",
      "\u001b[36m(RayTrainWorker pid=12591)\u001b[0m Got rmse 2.078385829925537\n",
      "\u001b[36m(RayTrainWorker pid=12591)\u001b[0m Got rmse 2.0813968181610107\n",
      "\u001b[36m(RayTrainWorker pid=12591)\u001b[0m \n",
      "\u001b[36m(RayTrainWorker pid=12591)\u001b[0m Epoch 31, Iteration 48608, loss = 0.0737\n",
      "\u001b[36m(RayTrainWorker pid=12591)\u001b[0m Got rmse 2.0852997303009033\n",
      "\u001b[36m(RayTrainWorker pid=12591)\u001b[0m Got rmse 2.0882039070129395\n",
      "\u001b[36m(RayTrainWorker pid=12591)\u001b[0m \n",
      "\u001b[36m(RayTrainWorker pid=12591)\u001b[0m Epoch 32, Iteration 50127, loss = 0.0754\n",
      "\u001b[36m(RayTrainWorker pid=12591)\u001b[0m Got rmse 2.0691661834716797\n",
      "\u001b[36m(RayTrainWorker pid=12591)\u001b[0m Got rmse 2.072303295135498\n",
      "\u001b[36m(RayTrainWorker pid=12591)\u001b[0m \n",
      "\u001b[36m(RayTrainWorker pid=12591)\u001b[0m Epoch 33, Iteration 51646, loss = 0.0781\n",
      "\u001b[36m(RayTrainWorker pid=12591)\u001b[0m Got rmse 2.0737266540527344\n",
      "\u001b[36m(RayTrainWorker pid=12591)\u001b[0m Got rmse 2.0771830081939697\n",
      "\u001b[36m(RayTrainWorker pid=12591)\u001b[0m \n",
      "\u001b[36m(RayTrainWorker pid=12591)\u001b[0m Epoch 34, Iteration 53165, loss = 0.0769\n",
      "\u001b[36m(RayTrainWorker pid=12591)\u001b[0m Got rmse 2.068493604660034\n",
      "\u001b[36m(RayTrainWorker pid=12591)\u001b[0m Got rmse 2.071302890777588\n",
      "\u001b[36m(RayTrainWorker pid=12591)\u001b[0m \n",
      "\u001b[36m(RayTrainWorker pid=12591)\u001b[0m Epoch 35, Iteration 54684, loss = 0.0738\n",
      "\u001b[36m(RayTrainWorker pid=12591)\u001b[0m Got rmse 2.0694711208343506\n",
      "\u001b[36m(RayTrainWorker pid=12591)\u001b[0m Got rmse 2.0725326538085938\n",
      "\u001b[36m(RayTrainWorker pid=12591)\u001b[0m \n",
      "\u001b[36m(RayTrainWorker pid=12591)\u001b[0m Epoch 36, Iteration 56203, loss = 0.0647\n",
      "\u001b[36m(RayTrainWorker pid=12591)\u001b[0m Got rmse 2.0741846561431885\n",
      "\u001b[36m(RayTrainWorker pid=12591)\u001b[0m Got rmse 2.0773606300354004\n",
      "\u001b[36m(RayTrainWorker pid=12591)\u001b[0m \n",
      "\u001b[36m(RayTrainWorker pid=12591)\u001b[0m Epoch 37, Iteration 57722, loss = 0.0767\n",
      "\u001b[36m(RayTrainWorker pid=12591)\u001b[0m Got rmse 2.065829277038574\n",
      "\u001b[36m(RayTrainWorker pid=12591)\u001b[0m Got rmse 2.0692684650421143\n",
      "\u001b[36m(RayTrainWorker pid=12591)\u001b[0m \n",
      "\u001b[36m(RayTrainWorker pid=12591)\u001b[0m Epoch 38, Iteration 59241, loss = 0.0785\n",
      "\u001b[36m(RayTrainWorker pid=12591)\u001b[0m Got rmse 2.0693557262420654\n",
      "\u001b[36m(RayTrainWorker pid=12591)\u001b[0m Got rmse 2.0723981857299805\n",
      "\u001b[36m(RayTrainWorker pid=12591)\u001b[0m \n",
      "\u001b[36m(RayTrainWorker pid=12591)\u001b[0m Epoch 39, Iteration 60760, loss = 0.0710\n",
      "\u001b[36m(RayTrainWorker pid=12591)\u001b[0m Got rmse 2.075698137283325\n",
      "\u001b[36m(RayTrainWorker pid=12591)\u001b[0m Got rmse 2.078726291656494\n",
      "\u001b[36m(RayTrainWorker pid=12591)\u001b[0m \n",
      "\u001b[36m(RayTrainWorker pid=12591)\u001b[0m Epoch 40, Iteration 62279, loss = 0.0748\n",
      "\u001b[36m(RayTrainWorker pid=12591)\u001b[0m Got rmse 2.074917793273926\n",
      "\u001b[36m(RayTrainWorker pid=12591)\u001b[0m Got rmse 2.07783579826355\n",
      "\u001b[36m(RayTrainWorker pid=12591)\u001b[0m \n",
      "\u001b[36m(RayTrainWorker pid=12591)\u001b[0m Epoch 41, Iteration 63798, loss = 0.0719\n",
      "\u001b[36m(RayTrainWorker pid=12591)\u001b[0m Got rmse 2.0777950286865234\n",
      "\u001b[36m(RayTrainWorker pid=12591)\u001b[0m Got rmse 2.080684185028076\n",
      "\u001b[36m(RayTrainWorker pid=12591)\u001b[0m \n",
      "\u001b[36m(RayTrainWorker pid=12591)\u001b[0m Epoch 42, Iteration 65317, loss = 0.0749\n",
      "\u001b[36m(RayTrainWorker pid=12591)\u001b[0m Got rmse 2.0725576877593994\n",
      "\u001b[36m(RayTrainWorker pid=12591)\u001b[0m Got rmse 2.075161933898926\n",
      "\u001b[36m(RayTrainWorker pid=12591)\u001b[0m \n",
      "\u001b[36m(RayTrainWorker pid=12591)\u001b[0m Epoch 43, Iteration 66836, loss = 0.0790\n",
      "\u001b[36m(RayTrainWorker pid=12591)\u001b[0m Got rmse 2.0733911991119385\n",
      "\u001b[36m(RayTrainWorker pid=12591)\u001b[0m Got rmse 2.076221227645874\n",
      "\u001b[36m(RayTrainWorker pid=12591)\u001b[0m \n",
      "\u001b[36m(RayTrainWorker pid=12591)\u001b[0m Epoch 44, Iteration 68355, loss = 0.0719\n",
      "\u001b[36m(RayTrainWorker pid=12591)\u001b[0m Got rmse 2.0713951587677\n",
      "\u001b[36m(RayTrainWorker pid=12591)\u001b[0m Got rmse 2.074220895767212\n",
      "\u001b[36m(RayTrainWorker pid=12591)\u001b[0m \n",
      "\u001b[36m(RayTrainWorker pid=12591)\u001b[0m Epoch 45, Iteration 69874, loss = 0.0735\n",
      "\u001b[36m(RayTrainWorker pid=12591)\u001b[0m Got rmse 2.074723482131958\n",
      "\u001b[36m(RayTrainWorker pid=12591)\u001b[0m Got rmse 2.077512264251709\n",
      "\u001b[36m(RayTrainWorker pid=12591)\u001b[0m \n",
      "\u001b[36m(RayTrainWorker pid=12591)\u001b[0m Epoch 46, Iteration 71393, loss = 0.0767\n",
      "\u001b[36m(RayTrainWorker pid=12591)\u001b[0m Got rmse 2.072066068649292\n",
      "\u001b[36m(RayTrainWorker pid=12591)\u001b[0m Got rmse 2.0749318599700928\n",
      "\u001b[36m(RayTrainWorker pid=12591)\u001b[0m \n",
      "\u001b[36m(RayTrainWorker pid=12591)\u001b[0m Epoch 47, Iteration 72912, loss = 0.0698\n",
      "\u001b[36m(RayTrainWorker pid=12591)\u001b[0m Got rmse 2.073194742202759\n",
      "\u001b[36m(RayTrainWorker pid=12591)\u001b[0m Got rmse 2.0759925842285156\n",
      "\u001b[36m(RayTrainWorker pid=12591)\u001b[0m \n",
      "\u001b[36m(RayTrainWorker pid=12591)\u001b[0m Epoch 48, Iteration 74431, loss = 0.0694\n",
      "\u001b[36m(RayTrainWorker pid=12591)\u001b[0m Got rmse 2.07293963432312\n",
      "\u001b[36m(RayTrainWorker pid=12591)\u001b[0m Got rmse 2.0757153034210205\n",
      "\u001b[36m(RayTrainWorker pid=12591)\u001b[0m \n",
      "\u001b[36m(RayTrainWorker pid=12591)\u001b[0m Epoch 49, Iteration 75950, loss = 0.0733\n",
      "\u001b[36m(RayTrainWorker pid=12591)\u001b[0m Got rmse 2.0731029510498047\n"
     ]
    },
    {
     "name": "stderr",
     "output_type": "stream",
     "text": [
      "\u001b[36m(RayTrainWorker pid=12591)\u001b[0m Checkpoint successfully created at: Checkpoint(filesystem=local, path=/root/ray_results/EMS_ANN_backward_v2/TorchTrainer_2221e_00000_0_2024-04-19_03-30-13/checkpoint_000001)\n",
      "2024-04-19 03:53:21,563\tWARNING experiment_state.py:205 -- Experiment state snapshotting has been triggered multiple times in the last 5.0 seconds. A snapshot is forced if `CheckpointConfig(num_to_keep)` is set, and a trial has checkpointed >= `num_to_keep` times since the last snapshot.\n",
      "You may want to consider increasing the `CheckpointConfig(num_to_keep)` or decreasing the frequency of saving checkpoints.\n",
      "You can suppress this error by setting the environment variable TUNE_WARN_EXCESSIVE_EXPERIMENT_CHECKPOINT_SYNC_THRESHOLD_S to a smaller value than the current threshold (5.0).\n"
     ]
    },
    {
     "name": "stdout",
     "output_type": "stream",
     "text": [
      "\u001b[36m(RayTrainWorker pid=12591)\u001b[0m Got rmse 2.075857400894165\n",
      "\u001b[36m(RayTrainWorker pid=12591)\u001b[0m \n"
     ]
    },
    {
     "name": "stderr",
     "output_type": "stream",
     "text": [
      "2024-04-19 03:53:22,697\tWARNING experiment_state.py:205 -- Experiment state snapshotting has been triggered multiple times in the last 5.0 seconds. A snapshot is forced if `CheckpointConfig(num_to_keep)` is set, and a trial has checkpointed >= `num_to_keep` times since the last snapshot.\n",
      "You may want to consider increasing the `CheckpointConfig(num_to_keep)` or decreasing the frequency of saving checkpoints.\n",
      "You can suppress this error by setting the environment variable TUNE_WARN_EXCESSIVE_EXPERIMENT_CHECKPOINT_SYNC_THRESHOLD_S to a smaller value than the current threshold (5.0).\n",
      "2024-04-19 03:53:22,705\tINFO tune.py:1021 -- Wrote the latest version of all result files and experiment state to '/root/ray_results/EMS_ANN_backward_v2' in 0.0521s.\n",
      "2024-04-19 03:53:22,720\tINFO tune.py:1053 -- Total run time: 1389.11 seconds (1388.99 seconds for the tuning loop).\n"
     ]
    }
   ],
   "source": [
    "from Neural_network import NN_net, Plain_fc_block, weight_init, eMNS_Dataset\n",
    "from Training_loop_v2 import train_ANN\n",
    "from ray.train import RunConfig, ScalingConfig, CheckpointConfig\n",
    "from ray.train.torch import TorchTrainer, TorchConfig\n",
    "from ray.tune.tuner import Tuner\n",
    "from ray import tune\n",
    "from ray.tune.schedulers import ASHAScheduler\n",
    "import ray, os\n",
    "import torch.nn.functional as F\n",
    "\n",
    "# construct dataset\n",
    "\n",
    "Position_Bfield =data[:train_file_num,0::sparsity,0::sparsity,0::sparsity,12:].reshape(-1,6) \n",
    "\n",
    "Current = data[:train_file_num,0::sparsity,0::sparsity,0::sparsity,:12].reshape(-1,12)\n",
    "\n",
    "dataset = eMNS_Dataset(\n",
    "    x=Position_Bfield,\n",
    "    y=Current\n",
    ")\n",
    "\n",
    "# split the dataset to train, validation, test\n",
    "train_set, valid_set = torch.utils.data.random_split(dataset, [0.9,0.1])\n",
    "\n",
    "# normailzation\n",
    "extremes = dataset.train_norm_ANN(train_indices = train_set.indices, boundary_index=3)\n",
    "\n",
    "###############################################\n",
    "# Config the neural network\n",
    "###############################################\n",
    "num_input = 6\n",
    "num_output = 12\n",
    "fc_stages = [(num_input,128,1),(128,64,1),(64,32,1)]\n",
    "fc_network = NN_net(None,fc_stages,None,Plain_fc_block, num_output=num_output)\n",
    "\n",
    "loss_func = lambda current, Bfield, position, forward_model: F.mse_loss(current, torch.zeros_like(current)) + F.l1_loss(Bfield, forward_model(torch.cat((current, position), axis =1)))\n",
    "# forward_model_path = r\"./Trained_model/EMS_ANN_v2.pt\"\n",
    "# forward_model = torch.load(model_path)['model']\n",
    "# forward_model.eval()\n",
    "\n",
    "################################################\n",
    "# Train the neural network\n",
    "################################################\n",
    "\n",
    "train_loop_config = {\n",
    "                'epochs': 50,\n",
    "                'lr_max': 1e-4,\n",
    "                'lr_min': 2.5e-7,\n",
    "                'batch_size': 128,\n",
    "                'L2_norm'   : 0,\n",
    "                'verbose': False,\n",
    "                'schedule': [],\n",
    "                'learning_rate_decay': 0.5,\n",
    "                'num_input'   : num_input,\n",
    "                'num_output'  : num_output,\n",
    "                'fc_stages'   : fc_stages,\n",
    "                'backward'    : True,\n",
    "                'maxB'        : extremes[2],\n",
    "                'minB'        : extremes[3],\n",
    "                'maxC'        : extremes[4],\n",
    "                'minC'        : extremes[5],\n",
    "                'device'      : device,\n",
    "                'loss_func'   : loss_func,\n",
    "                'forward_model_path': os.path.abspath(\"./Trained_model/EMS_ANN_v2.pt\")\n",
    "                # You can even grid search various datasets in Tune.\n",
    "                # \"datasets\": tune.grid_search(\n",
    "                #         [ds1, ds2]\n",
    "                #     ),\n",
    "}\n",
    "\n",
    "scaling_config = ScalingConfig(\n",
    "    num_workers = 1,\n",
    "    use_gpu = use_gpu,\n",
    "    resources_per_worker={\"CPU\":7, \"GPU\":1}\n",
    ")\n",
    "\n",
    "run_config = RunConfig(name=\"EMS_ANN_backward_v2\",checkpoint_config=CheckpointConfig(num_to_keep=1))\n",
    "\n",
    "def train_loop_per_worker(params):\n",
    "    train_ANN(train_set=train_set, valid_set=valid_set, config=params)\n",
    "\n",
    "# for windows\n",
    "# torch_config = TorchConfig(backend=\"nccl\")\n",
    "trainer = TorchTrainer(\n",
    "    train_loop_per_worker = train_loop_per_worker,\n",
    "    train_loop_config = train_loop_config,\n",
    "    scaling_config = scaling_config,\n",
    "    run_config = run_config,\n",
    "    # torch_config= torch_config # for windows\n",
    "\n",
    ")\n",
    "result = trainer.fit()\n",
    "\n"
   ]
  },
  {
   "cell_type": "code",
   "execution_count": null,
   "metadata": {},
   "outputs": [],
   "source": [
    "from torchsummary import summary\n",
    "summary(fc_network, (1,6))\n",
    "for param_tensor in fc_network.state_dict():\n",
    "    print(param_tensor, '\\t', fc_network.state_dict()[param_tensor].size())"
   ]
  },
  {
   "cell_type": "code",
   "execution_count": 23,
   "metadata": {},
   "outputs": [
    {
     "data": {
      "image/png": "[encoded data removed]",
      "text/plain": [
       "<Figure size 432x288 with 1 Axes>"
      ]
     },
     "metadata": {
      "needs_background": "light"
     },
     "output_type": "display_data"
    }
   ],
   "source": [
    "from utils import plot_ray_results\n",
    "plot_ray_results(results=result, metrics_names = ['rmse_val','rmse_train'])"
   ]
  },
  {
   "cell_type": "code",
   "execution_count": 24,
   "metadata": {},
   "outputs": [],
   "source": [
    "checkpoint_data = torch.load(os.path.join(result.checkpoint.path,\"model.pt\"))\n",
    "\n",
    "model_path = r\"./Trained_model/EMS_ANN_backward_v2.pt\"\n",
    "torch.save(checkpoint_data, model_path)"
   ]
  },
  {
   "cell_type": "markdown",
   "metadata": {},
   "source": [
    "## Test dataset performance"
   ]
  },
  {
   "cell_type": "code",
   "execution_count": 63,
   "metadata": {},
   "outputs": [
    {
     "data": {
      "text/plain": [
       "(tensor(50.),\n",
       " tensor(-50.),\n",
       " tensor(63.7902),\n",
       " tensor(-65.4425),\n",
       " tensor(14.9997),\n",
       " tensor(-14.9944))"
      ]
     },
     "execution_count": 63,
     "metadata": {},
     "output_type": "execute_result"
    }
   ],
   "source": [
    "extremes"
   ]
  },
  {
   "cell_type": "code",
   "execution_count": 25,
   "metadata": {},
   "outputs": [
    {
     "name": "stdout",
     "output_type": "stream",
     "text": [
      "position Bfield shape torch.Size([9261000, 6])\n",
      "Current shape torch.Size([9261000, 12])\n",
      "tensor(19.3242)\n",
      "tensor(19.3242)\n",
      "tensor(0.3585)\n",
      "tensor(19.3242)\n"
     ]
    }
   ],
   "source": [
    "# position unit mm, current unit Ampere, B field unit mT\n",
    "sparsity = 1\n",
    "# Position_Bfield_test =data[train_file_num:, ::sparsity, ::sparsity, ::sparsity, :6].reshape(-1,6) \n",
    "\n",
    "# Current_test = data[train_file_num:, ::sparsity, ::sparsity, ::sparsity,:12].reshape(-1,12)\n",
    "\n",
    "Position_Bfield_test =data[:train_file_num, ::sparsity, ::sparsity, ::sparsity, 12:].reshape(-1,6) \n",
    "\n",
    "Current_test = data[:train_file_num, ::sparsity, ::sparsity, ::sparsity,:12].reshape(-1,12)\n",
    "\n",
    "num_sample = Position_Bfield_test.shape[0]\n",
    "print('position Bfield shape', Position_Bfield_test.shape)\n",
    "print('Current shape', Current_test.shape)\n",
    "\n",
    "# construct dataset\n",
    "test_set = eMNS_Dataset(\n",
    "    x=Position_Bfield_test.clone(),\n",
    "    y=Current_test\n",
    ")\n",
    "print(test_set.x.abs().mean())\n",
    "print(Position_Bfield_test.abs().mean())\n",
    "test_set.test_norm_ANN(extremes=extremes, boundary_index=3)\n",
    "\n",
    "test_loader = torch.utils.data.DataLoader(\n",
    "    dataset=test_set,\n",
    "    batch_size=train_loop_config['batch_size'],\n",
    "    shuffle=False)\n",
    "\n",
    "print(test_set.x.abs().mean())\n",
    "print(Position_Bfield_test.abs().mean())"
   ]
  },
  {
   "cell_type": "code",
   "execution_count": 27,
   "metadata": {},
   "outputs": [
    {
     "name": "stdout",
     "output_type": "stream",
     "text": [
      " current rmse: 7.640779495239258, L2 before: 909.8939819335938, L2 after backward model: 145.4042510986328\n",
      "Got rmse 2.184913158416748, num_samples 9261000\n"
     ]
    }
   ],
   "source": [
    "from utils import predict_check_rmse_ANN, check_rmse_ANN\n",
    "from Training_loop_v2 import construct_model_ANN \n",
    "\n",
    "model_path = r\"./Trained_model/EMS_ANN_backward_v2.pt\"\n",
    "backward_model = torch.load(model_path)['model']\n",
    "\n",
    "prediction, rmse, mse, Rsquare = predict_check_rmse_ANN(test_loader, backward_model, config=train_loop_config)\n",
    "# check_rmse_ANN(test_loader, backward_model, config=train_loop_config)"
   ]
  },
  {
   "cell_type": "code",
   "execution_count": 28,
   "metadata": {},
   "outputs": [
    {
     "data": {
      "image/png": "[encoded data removed]",
      "text/plain": [
       "<Figure size 432x288 with 9 Axes>"
      ]
     },
     "metadata": {
      "needs_background": "light"
     },
     "output_type": "display_data"
    }
   ],
   "source": [
    "import matplotlib.pyplot as plt\n",
    "from matplotlib import colors\n",
    "import numpy as np\n",
    "grid_test = int(np.ceil(grid_size/sparsity))\n",
    "B_est = prediction.reshape(-1, grid_test, grid_test, grid_test, 3)\n",
    "\n",
    "Bfield_test = Position_Bfield_test[:,3:].reshape(-1, grid_test, grid_test, grid_test, 3)\n",
    "# Bfield_test = data[train_file_num:,:,:,:,15:]\n",
    "\n",
    "current_index=50\n",
    "z_plane_index= 4\n",
    "# fig, ax = plt.subplots(3, 2)\n",
    "# fig.tight_layout(h_pad=2)\n",
    "fig = plt.figure()\n",
    "ylables=['Bx\\mT','By\\mT','Bz\\mT']\n",
    "# fig.tight_layout(pad=0.4, w_pad=0, h_pad=0)\n",
    "for i in range(1,4):\n",
    "    B_est_sample = B_est[current_index,:,:,z_plane_index,i-1]\n",
    "    B_desired_sample = Bfield_test[current_index,:,:,z_plane_index,i-1]\n",
    "    vmin = min(B_est_sample.min(), B_desired_sample.min())\n",
    "    vmax = max(B_est_sample.max(), B_desired_sample.max())\n",
    "    norm = colors.Normalize(vmin=vmin, vmax=vmax) \n",
    "    ax = plt.subplot(3,2,2*i-1)\n",
    "    img = plt.imshow(B_est_sample, norm=norm)    \n",
    "    plt.ylabel(ylables[i-1])\n",
    "    ax2 = plt.subplot(3,2,2*i)\n",
    "    img2 = plt.imshow(B_desired_sample, norm=norm)\n",
    "    plt.colorbar(img,ax=[ax,ax2])\n",
    "\n",
    "plt.show()"
   ]
  },
  {
   "cell_type": "code",
   "execution_count": null,
   "metadata": {},
   "outputs": [],
   "source": [
    "import numpy as np \n",
    "A = np.arange(21)\n",
    "print(A[::4])\n",
    "print(A[::1])"
   ]
  },
  {
   "cell_type": "code",
   "execution_count": null,
   "metadata": {},
   "outputs": [],
   "source": [
    "A = torch.arange(3) + 0.0\n",
    "B = A.reshape(1,3)\n",
    "print(F.mse_loss(B, torch.zeros_like(B)))\n",
    "print(torch.linalg.norm(B))"
   ]
  },
  {
   "cell_type": "code",
   "execution_count": null,
   "metadata": {},
   "outputs": [],
   "source": [
    "np.sqrt(5)"
   ]
  },
  {
   "cell_type": "code",
   "execution_count": null,
   "metadata": {},
   "outputs": [],
   "source": []
  }
 ],
 "metadata": {
  "kernelspec": {
   "display_name": "Python 3",
   "language": "python",
   "name": "python3"
  },
  "language_info": {
   "codemirror_mode": {
    "name": "ipython",
    "version": 3
   },
   "file_extension": ".py",
   "mimetype": "text/x-python",
   "name": "python",
   "nbconvert_exporter": "python",
   "pygments_lexer": "ipython3",
   "version": "3.9.7"
  }
 },
 "nbformat": 4,
 "nbformat_minor": 2
}

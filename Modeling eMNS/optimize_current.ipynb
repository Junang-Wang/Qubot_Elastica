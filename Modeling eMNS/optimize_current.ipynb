{
 "cells": [
  {
   "cell_type": "code",
   "execution_count": 10,
   "metadata": {},
   "outputs": [
    {
     "name": "stdout",
     "output_type": "stream",
     "text": [
      "3.3333333333333335\n"
     ]
    }
   ],
   "source": [
    "from scipy.optimize import minimize\n",
    "import numpy as np\n",
    "\n",
    "\n",
    "\n",
    "def fun(x):\n",
    "    return x+1/x\n",
    "\n",
    "#step 1 : import trainded model as a function\n",
    "\n",
    "\n",
    "\n",
    "\n",
    "\n",
    "#step 2 : using minimize function to optimize current\n",
    "# x0=np.array([2])\n",
    "# res = minimize(fun,x0,method='SLSQP')\n",
    "# print(res.x)\n",
    "\n",
    "\n"
   ]
  }
 ],
 "metadata": {
  "kernelspec": {
   "display_name": "myenv",
   "language": "python",
   "name": "python3"
  },
  "language_info": {
   "codemirror_mode": {
    "name": "ipython",
    "version": 3
   },
   "file_extension": ".py",
   "mimetype": "text/x-python",
   "name": "python",
   "nbconvert_exporter": "python",
   "pygments_lexer": "ipython3",
   "version": "3.10.13"
  }
 },
 "nbformat": 4,
 "nbformat_minor": 2
}
